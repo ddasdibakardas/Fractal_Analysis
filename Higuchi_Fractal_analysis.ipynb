{
  "nbformat": 4,
  "nbformat_minor": 0,
  "metadata": {
    "colab": {
      "name": "Higuchi_Fractal_analysis",
      "provenance": [],
      "authorship_tag": "ABX9TyMSonpKTPbtz2iSD5uQHR4u",
      "include_colab_link": true
    },
    "kernelspec": {
      "name": "python3",
      "display_name": "Python 3"
    },
    "accelerator": "GPU"
  },
  "cells": [
    {
      "cell_type": "markdown",
      "metadata": {
        "id": "view-in-github",
        "colab_type": "text"
      },
      "source": [
        "<a href=\"https://colab.research.google.com/github/sankalpachowdhury/Fractal_Analysis/blob/master/Higuchi_Fractal_analysis.ipynb\" target=\"_parent\"><img src=\"https://colab.research.google.com/assets/colab-badge.svg\" alt=\"Open In Colab\"/></a>"
      ]
    },
    {
      "cell_type": "markdown",
      "metadata": {
        "id": "-RLYfQJMi6pH",
        "colab_type": "text"
      },
      "source": [
        "#C codes"
      ]
    },
    {
      "cell_type": "code",
      "metadata": {
        "id": "GD6DpDn0ss4G",
        "colab_type": "code",
        "colab": {}
      },
      "source": [
        "#include <stdio.h>\n",
        "\n",
        "int main()\n",
        "{\n",
        "   int i, j, k, m, n, s=0, l, x=0;\n",
        "   printf(\"Enter sample size:\");\n",
        "   scanf(\"%d\",&n);\n",
        "   printf(\"Enter largest time delay parameter:\");\n",
        "   scanf(\"%d\",&k);\n",
        "   int a[n];\n",
        "   for(i=2;i<=k;i++)\n",
        "   {\n",
        "       for(m=0;m<i;m++)\n",
        "       {\n",
        "            for(j=m;j<n;j=j+i)\n",
        "                s=s+a[j+i]-a[j];\n",
        "            l=(s*(n-1))/(j*i);\n",
        "            s=0;\n",
        "            x=x+l;\n",
        "       }\n",
        "       printf(\"The average is %d for k= %d\",x/i,i);\n",
        "       x=0;\n",
        "   }\n",
        "}"
      ],
      "execution_count": null,
      "outputs": []
    },
    {
      "cell_type": "code",
      "metadata": {
        "id": "uuOdLXSvun7w",
        "colab_type": "code",
        "colab": {}
      },
      "source": [
        "#include <stdio.h>\n",
        "\n",
        "int main()\n",
        "{\n",
        "      int n, k, i=0, b=0, s=0, l=0, m;\n",
        "    printf(\"Enter sample size:\");\n",
        "    scanf(\"%d\",&n);\n",
        "    printf(\"\\nEnter the time delay parameter:\");\n",
        "    scanf(\"%d\",&b);\n",
        "    int a[n];\n",
        "    while(i<n)\n",
        "        {\n",
        "            scanf(\"%d\",&a[i]);\n",
        "            i++;\n",
        "        }\n",
        "    for(k=2;k<=b;k++)\n",
        "    {\n",
        "        for(m=0;m<k;m++)\n",
        "        {\n",
        "            for(i=m;i<n;i=i+k)\n",
        "                s=s+a[i+k]-a[i];\n",
        "            l=l+((s*(n-1))/((i+k)*k));\n",
        "            s=0;\n",
        "        }\n",
        "        printf(\"\\nAvg length %d for %d\",l/k,k);\n",
        "        l=0;\n",
        "    }\n",
        "\n",
        "}"
      ],
      "execution_count": null,
      "outputs": []
    },
    {
      "cell_type": "code",
      "metadata": {
        "id": "ALMEXNIDjmU8",
        "colab_type": "code",
        "colab": {}
      },
      "source": [
        "#!git clone https://github.com/inuritdino/HiguchiFractalDimension.git"
      ],
      "execution_count": null,
      "outputs": []
    },
    {
      "cell_type": "code",
      "metadata": {
        "id": "6WL9wLbwwO5x",
        "colab_type": "code",
        "colab": {}
      },
      "source": [
        "import pandas as pd\n",
        "import numpy as np\n",
        "import matplotlib.pyplot as plt\n",
        "import time"
      ],
      "execution_count": 1,
      "outputs": []
    },
    {
      "cell_type": "code",
      "metadata": {
        "id": "PHmNbQdmzzfR",
        "colab_type": "code",
        "colab": {}
      },
      "source": [
        "import os\n",
        "import ctypes\n",
        "import numpy as np\n",
        "from numpy.ctypeslib import ndpointer\n",
        "\n",
        "def curve_length(X,opt=False,num_k=50,k_max=None):\n",
        "    \"\"\"\n",
        "    Calculate curve length <Lk> for Higuchi Fractal Dimension (HFD)\n",
        "    \n",
        "    Input:\n",
        "    \n",
        "    X - input (time) series (must be 1D, to be converted into a NumPy array)\n",
        "    opt (=True) - optimized? (if libhfd.so was compiled uses the faster code).\n",
        "    num_k - number of k values to generate.\n",
        "    k_max - the maximum k (the k array is generated uniformly in log space \n",
        "            from 2 to k_max)\n",
        "    Output:\n",
        "    k - interval \"times\", window sizes\n",
        "    Lk - curve length\n",
        "    \"\"\"\n",
        "    ### Make sure X is a NumPy array with the correct dimension\n",
        "    X = np.array(X)\n",
        "    if X.ndim != 1:\n",
        "        raise ValueError(\"Input array must be 1D (time series).\")\n",
        "    N = X.size\n",
        "\n",
        "    ### Get interval \"time\"\n",
        "    k_arr = interval_t(N,num_val=num_k,kmax=k_max)\n",
        "\n",
        "    ### The average length\n",
        "    Lk = np.empty(k_arr.size,dtype=np.float)\n",
        "\n",
        "    ### C library\n",
        "    '''\n",
        "    if opt:\n",
        "        X = np.require(X, float, ('C', 'A'))\n",
        "        k_arr = np.require(k_arr, ctypes.c_size_t, ('C', 'A'))\n",
        "        Lk = np.require(Lk, float, ('C', 'A'))\n",
        "        ## Load library here\n",
        "        libhfd = init_lib()\n",
        "        ## Run the C code here\n",
        "        libhfd.curve_length(k_arr,k_arr.size,X,N,Lk)\n",
        "    '''\n",
        "    #else:\n",
        "        ### Native Python run\n",
        "    for i in range(k_arr.size):# over array of k's\n",
        "            Lmk = 0.0\n",
        "            for j in range(k_arr[i]):# over m's\n",
        "                ## Construct X_k^m, i.e. X_(k_arr[i])^j, as X[j::k_arr[i]]\n",
        "                ## Calculate L_m(k)\n",
        "                Lmk += (\n",
        "                    np.sum(\n",
        "                        np.abs(\n",
        "                            np.diff( X[j::k_arr[i]] )\n",
        "                        )\n",
        "                    )\n",
        "                    * (N - 1) /\n",
        "                    (\n",
        "                        ( (N-j-1)//k_arr[i] )\n",
        "                        *\n",
        "                        k_arr[i]\n",
        "                    )\n",
        "                ) / k_arr[i]\n",
        "\n",
        "            ### Calculate the average Lmk\n",
        "            Lk[i] = Lmk / k_arr[i]\n",
        "\n",
        "    return (k_arr, Lk);\n",
        "\n",
        "def lin_fit_hfd(k,L,log=True):\n",
        "    \"\"\"\n",
        "    Calculate Higuchi Fractal Dimension (HFD) by fitting a line to already computed\n",
        "    interval times k and curve lengths L\n",
        "    Input:\n",
        "    k - interval \"times\", window sizes\n",
        "    L - curve length\n",
        "    log (=True) - k and L values will be transformed to np.log2(k) and np.log2(L),\n",
        "                  respectively\n",
        "    Output:\n",
        "    HFD\n",
        "    \"\"\"\n",
        "    if log:\n",
        "        return (-np.polyfit(np.log2(k),np.log2(L),deg=1)[0]);\n",
        "    else:\n",
        "        return (-np.polyfit(k,L,deg=1)[0]);\n",
        "\n",
        "def hfd(X,**kwargs):\n",
        "    \"\"\"\n",
        "    Calculate Higuchi Fractal Dimension (HFD) for 1D data/series\n",
        "    Input:\n",
        "    X - input (time) series (must be 1D, to be converted into a NumPy array)\n",
        "    Output:\n",
        "    \n",
        "    HFD\n",
        "    \"\"\"\n",
        "    k, L = curve_length(X,**kwargs)\n",
        "    return lin_fit_hfd(k, L);\n",
        "\n",
        "# Generating th interval\n",
        "def interval_t(size,num_val=50,kmax=None):\n",
        "    ### Generate sequence of interval times, k\n",
        "    if kmax is None:\n",
        "        k_stop = size//2\n",
        "    else:\n",
        "        k_stop = kmax\n",
        "    if k_stop > size//2:   ## prohibit going larger than N/2\n",
        "        k_stop = size//2\n",
        "        print(\"Warning: k cannot be longer than N/2\")\n",
        "        \n",
        "    k = np.logspace(start=np.log2(2),stop=np.log2(k_stop),base=2,num=num_val,dtype=np.int)\n",
        "    return np.unique(k);\n",
        "\n",
        "def init_lib():\n",
        "    libdir = os.path.dirname(__file__)\n",
        "    libfile = os.path.join(libdir, \"libhfd.so\")\n",
        "    lib = ctypes.CDLL(libfile)\n",
        "\n",
        "    rwptr = ndpointer(float, flags=('C','A','W'))\n",
        "    rwptr_sizet = ndpointer(ctypes.c_size_t, flags=('C','A','W'))\n",
        "\n",
        "    lib.curve_length.restype = ctypes.c_int\n",
        "    lib.curve_length.argtypes = [rwptr_sizet, ctypes.c_size_t, rwptr, ctypes.c_size_t, rwptr]\n",
        "\n",
        "    return lib;"
      ],
      "execution_count": 3,
      "outputs": []
    },
    {
      "cell_type": "code",
      "metadata": {
        "id": "OHC-kmGRs3Qz",
        "colab_type": "code",
        "colab": {
          "base_uri": "https://localhost:8080/",
          "height": 54
        },
        "outputId": "ebcd8513-dfed-4f33-fd5d-607e18fbad95"
      },
      "source": [
        "# Validation of the algorithm\n",
        "x = np.random.randn(10000)\n",
        "y = np.empty(9900)\n",
        "for i in range(x.size-100):\n",
        "\ty[i] = np.sum(x[:(i+100)])\n",
        "\t\n",
        "## Note x is a Guassian noise, y is the original Brownian data used in Higuchi, Physica D, 1988.\n",
        "\n",
        "print(hfd(x)) # ~ 2.00\n",
        "print(hfd(y)) # ~ 1.50\n",
        "#print(a, b)"
      ],
      "execution_count": 53,
      "outputs": [
        {
          "output_type": "stream",
          "text": [
            "2.000302951620456\n",
            "1.5001540439775907\n"
          ],
          "name": "stdout"
        }
      ]
    },
    {
      "cell_type": "code",
      "metadata": {
        "id": "MuOmp7owT0Si",
        "colab_type": "code",
        "colab": {
          "base_uri": "https://localhost:8080/",
          "height": 290
        },
        "outputId": "61560d00-bbad-4226-cd16-8e887a3cc7a9"
      },
      "source": [
        "k, l = curve_length((x))\n",
        "print(k, l)"
      ],
      "execution_count": 54,
      "outputs": [
        {
          "output_type": "stream",
          "text": [
            "[   2    3    4    5    6    7    8    9   11   13   15   18   21   25\n",
            "   30   35   41   48   57   67   78   92  108  127  149  174  205  240\n",
            "  282  331  388  455  534  627  735  863 1012 1188 1393 1635 1918 2250\n",
            " 2639 3096 3633 4262 4999] [2.75955777e+03 1.24194939e+03 6.90894505e+02 4.45530067e+02\n",
            " 3.08986092e+02 2.26189000e+02 1.72623416e+02 1.37743996e+02\n",
            " 9.14794355e+01 6.60161912e+01 4.94704647e+01 3.45197545e+01\n",
            " 2.51072943e+01 1.77959921e+01 1.23052560e+01 9.15983187e+00\n",
            " 6.64346244e+00 4.77615279e+00 3.40672286e+00 2.46606940e+00\n",
            " 1.80710581e+00 1.31083851e+00 9.49148539e-01 6.91664086e-01\n",
            " 4.94784941e-01 3.67115041e-01 2.64276407e-01 1.93377447e-01\n",
            " 1.40972297e-01 1.01195035e-01 7.41637740e-02 5.30392918e-02\n",
            " 3.90714762e-02 2.80035808e-02 2.04901500e-02 1.48398771e-02\n",
            " 1.08955084e-02 7.85356175e-03 5.75481840e-03 4.15533795e-03\n",
            " 3.01529300e-03 2.17931136e-03 1.58971083e-03 1.15157037e-03\n",
            " 8.35808930e-04 6.09827259e-04 4.47427757e-04]\n"
          ],
          "name": "stdout"
        }
      ]
    },
    {
      "cell_type": "code",
      "metadata": {
        "id": "1wGNxH1gUcBA",
        "colab_type": "code",
        "colab": {
          "base_uri": "https://localhost:8080/",
          "height": 296
        },
        "outputId": "7b6b809b-4348-43fa-a4af-c3d7cb982fa0"
      },
      "source": [
        "import math\n",
        "#x = k_interval_times\n",
        "#x = np.logspace(curve_length[0], curve_length[len(curve_length) - 1], len(curve_length))\n",
        "log_y = []\n",
        "for i in l:\n",
        "  log_y.append(math.log10(i))\n",
        "y = log_y\n",
        "#y = curve_length_list\n",
        "#y = np.logspace(k_interval_times[0], k_interval_times[len(k_interval_times) - 1], len(k_interval_times)) \n",
        "\n",
        "plt.title(\"Test\") \n",
        "plt.xlabel(\"k_interval_times\") \n",
        "plt.ylabel(\"curve_length\") \n",
        "plt.plot(k,y) \n",
        "plt.show()"
      ],
      "execution_count": 6,
      "outputs": [
        {
          "output_type": "display_data",
          "data": {
            "image/png": "[encoded data removed]",
            "text/plain": [
              "<Figure size 432x288 with 1 Axes>"
            ]
          },
          "metadata": {
            "tags": [],
            "needs_background": "light"
          }
        }
      ]
    },
    {
      "cell_type": "code",
      "metadata": {
        "id": "RVkQxqftakTI",
        "colab_type": "code",
        "colab": {
          "base_uri": "https://localhost:8080/",
          "height": 352
        },
        "outputId": "529a05e8-c109-487c-d334-e7775ff500ae"
      },
      "source": [
        "import numpy as np\n",
        "import pylab\n",
        "Polynomial = np.polynomial.Polynomial\n",
        "\n",
        "# The data: conc = [P] and absorbance, A\n",
        "conc = k\n",
        "A = y\n",
        "\n",
        "cmin, cmax = min(conc), max(conc)\n",
        "pfit, stats = Polynomial.fit(conc, A, 1, full=True, window=(cmin, cmax),\n",
        "                                                    domain=(cmin, cmax))\n",
        "\n",
        "print('Raw fit results:', pfit, stats, sep='\\n')\n",
        "\n",
        "A0, m = pfit\n",
        "resid, rank, sing_val, rcond = stats\n",
        "rms = np.sqrt(resid[0]/len(A))\n",
        "\n",
        "print('Fit: A = {:.3f}[P] + {:.3f}'.format(m, A0),\n",
        "      '(rms residual = {:.4f})'.format(rms))\n",
        "\n",
        "pylab.plot(conc, A)\n",
        "pylab.plot(conc, pfit(conc), color='k')\n",
        "pylab.xlabel('k')\n",
        "pylab.ylabel('l')\n",
        "pylab.show()"
      ],
      "execution_count": 7,
      "outputs": [
        {
          "output_type": "stream",
          "text": [
            "Raw fit results:\n",
            "poly([ 0.74880387 -0.00122115])\n",
            "[array([72.8663655]), 2, array([1.23135627, 0.69552983]), 1.0436096431476471e-14]\n",
            "Fit: A = -0.001[P] + 0.749 (rms residual = 1.2451)\n"
          ],
          "name": "stdout"
        },
        {
          "output_type": "display_data",
          "data": {
            "image/png": "[encoded data removed]",
            "text/plain": [
              "<Figure size 432x288 with 1 Axes>"
            ]
          },
          "metadata": {
            "tags": [],
            "needs_background": "light"
          }
        }
      ]
    },
    {
      "cell_type": "code",
      "metadata": {
        "id": "S8ZJ9wy5Bucz",
        "colab_type": "code",
        "colab": {}
      },
      "source": [
        "# Linear Regression\n",
        "\n",
        "import numpy as np\n",
        "from sklearn.linear_model import LinearRegression"
      ],
      "execution_count": 40,
      "outputs": []
    },
    {
      "cell_type": "code",
      "metadata": {
        "id": "_JPYz3QRBy0i",
        "colab_type": "code",
        "colab": {}
      },
      "source": [
        "x = np.array([5, 15, 25, 35, 45, 55]).reshape((-1, 1))\n",
        "y = np.array([5, 20, 14, 32, 22, 38])"
      ],
      "execution_count": 41,
      "outputs": []
    },
    {
      "cell_type": "code",
      "metadata": {
        "id": "_sib08DbCBVe",
        "colab_type": "code",
        "colab": {
          "base_uri": "https://localhost:8080/",
          "height": 35
        },
        "outputId": "47a8757b-5d45-4222-e12f-8e417badebd4"
      },
      "source": [
        "model = LinearRegression()\n",
        "model.fit(x, y)"
      ],
      "execution_count": 42,
      "outputs": [
        {
          "output_type": "execute_result",
          "data": {
            "text/plain": [
              "LinearRegression(copy_X=True, fit_intercept=True, n_jobs=None, normalize=False)"
            ]
          },
          "metadata": {
            "tags": []
          },
          "execution_count": 42
        }
      ]
    },
    {
      "cell_type": "code",
      "metadata": {
        "id": "5d4mTOzuCIgO",
        "colab_type": "code",
        "colab": {}
      },
      "source": [
        "model = LinearRegression().fit(x, y)"
      ],
      "execution_count": 43,
      "outputs": []
    },
    {
      "cell_type": "code",
      "metadata": {
        "id": "i2sAqMv2CYeI",
        "colab_type": "code",
        "colab": {
          "base_uri": "https://localhost:8080/",
          "height": 35
        },
        "outputId": "6fde3b41-b069-4eb1-b2f1-29a191788aa6"
      },
      "source": [
        "r_sq = model.score(x, y)\n",
        "print('coefficient of determination:', r_sq)"
      ],
      "execution_count": 44,
      "outputs": [
        {
          "output_type": "stream",
          "text": [
            "coefficient of determination: 0.7158756137479542\n"
          ],
          "name": "stdout"
        }
      ]
    },
    {
      "cell_type": "code",
      "metadata": {
        "id": "iB1poAotCiUV",
        "colab_type": "code",
        "colab": {
          "base_uri": "https://localhost:8080/",
          "height": 35
        },
        "outputId": "5054de17-2578-41f9-a81c-9fe069b071ed"
      },
      "source": [
        "print('intercept:', model.intercept_)"
      ],
      "execution_count": 45,
      "outputs": [
        {
          "output_type": "stream",
          "text": [
            "intercept: 5.633333333333329\n"
          ],
          "name": "stdout"
        }
      ]
    },
    {
      "cell_type": "code",
      "metadata": {
        "id": "VTad9T0BCmti",
        "colab_type": "code",
        "colab": {
          "base_uri": "https://localhost:8080/",
          "height": 35
        },
        "outputId": "4f40f9a9-d259-4288-c144-2e8521d3dd6c"
      },
      "source": [
        "print('slope:', model.coef_)"
      ],
      "execution_count": 46,
      "outputs": [
        {
          "output_type": "stream",
          "text": [
            "slope: [0.54]\n"
          ],
          "name": "stdout"
        }
      ]
    },
    {
      "cell_type": "code",
      "metadata": {
        "id": "AB97U88bC0MW",
        "colab_type": "code",
        "colab": {
          "base_uri": "https://localhost:8080/",
          "height": 54
        },
        "outputId": "2016c38f-39aa-4046-8350-de8c9e3a5ba5"
      },
      "source": [
        "new_model = LinearRegression().fit(x, y.reshape((-1, 1)))\n",
        "print('intercept:', new_model.intercept_)\n",
        "print('slope:', new_model.coef_)"
      ],
      "execution_count": 47,
      "outputs": [
        {
          "output_type": "stream",
          "text": [
            "intercept: [5.63333333]\n",
            "slope: [[0.54]]\n"
          ],
          "name": "stdout"
        }
      ]
    },
    {
      "cell_type": "code",
      "metadata": {
        "id": "n2FHYRgSC8CC",
        "colab_type": "code",
        "colab": {
          "base_uri": "https://localhost:8080/",
          "height": 54
        },
        "outputId": "7ecf38be-f467-4f63-b3d1-89e7ecab157b"
      },
      "source": [
        "y_pred = model.predict(x)\n",
        "print('predicted response:', y_pred, sep='\\n')"
      ],
      "execution_count": 48,
      "outputs": [
        {
          "output_type": "stream",
          "text": [
            "predicted response:\n",
            "[ 8.33333333 13.73333333 19.13333333 24.53333333 29.93333333 35.33333333]\n"
          ],
          "name": "stdout"
        }
      ]
    },
    {
      "cell_type": "code",
      "metadata": {
        "id": "7PSypPTLDVyj",
        "colab_type": "code",
        "colab": {
          "base_uri": "https://localhost:8080/",
          "height": 145
        },
        "outputId": "a438b1a5-5837-4421-b969-3c2295411326"
      },
      "source": [
        "y_pred = model.intercept_ + model.coef_ * x\n",
        "print('predicted response:', y_pred, sep='\\n')"
      ],
      "execution_count": 49,
      "outputs": [
        {
          "output_type": "stream",
          "text": [
            "predicted response:\n",
            "[[ 8.33333333]\n",
            " [13.73333333]\n",
            " [19.13333333]\n",
            " [24.53333333]\n",
            " [29.93333333]\n",
            " [35.33333333]]\n"
          ],
          "name": "stdout"
        }
      ]
    },
    {
      "cell_type": "code",
      "metadata": {
        "id": "Ul7X1UxfDnlY",
        "colab_type": "code",
        "colab": {
          "base_uri": "https://localhost:8080/",
          "height": 108
        },
        "outputId": "4ed1c5bd-3da2-4013-9336-a08b3bbd3441"
      },
      "source": [
        "x_new = np.arange(5).reshape((-1, 1))\n",
        "print(x_new)"
      ],
      "execution_count": 50,
      "outputs": [
        {
          "output_type": "stream",
          "text": [
            "[[0]\n",
            " [1]\n",
            " [2]\n",
            " [3]\n",
            " [4]]\n"
          ],
          "name": "stdout"
        }
      ]
    },
    {
      "cell_type": "code",
      "metadata": {
        "id": "Hl_5ChCZEikr",
        "colab_type": "code",
        "colab": {
          "base_uri": "https://localhost:8080/",
          "height": 315
        },
        "outputId": "9493eea4-d13e-46e9-bd8a-aee41b4e63cb"
      },
      "source": [
        "import numpy as np \n",
        "import matplotlib.pyplot as plt \n",
        "  \n",
        "def estimate_coef(x, y): \n",
        "    # number of observations/points \n",
        "    n = np.size(x) \n",
        "  \n",
        "    # mean of x and y vector \n",
        "    m_x, m_y = np.mean(x), np.mean(y) \n",
        "  \n",
        "    # calculating cross-deviation and deviation about x \n",
        "    SS_xy = np.sum(y*x) - n*m_y*m_x \n",
        "    SS_xx = np.sum(x*x) - n*m_x*m_x \n",
        "  \n",
        "    # calculating regression coefficients \n",
        "    b_1 = SS_xy / SS_xx \n",
        "    b_0 = m_y - b_1*m_x \n",
        "  \n",
        "    return(b_0, b_1) \n",
        "  \n",
        "def plot_regression_line(x, y, b): \n",
        "    # plotting the actual points as scatter plot \n",
        "    #plt.scatter(x, y, color = \"m\", marker = \"o\", s = 30) \n",
        "    plt.plot(x, y)\n",
        "  \n",
        "    # predicted response vector \n",
        "    y_pred = b[0] + b[1]*x \n",
        "  \n",
        "    # plotting the regression line \n",
        "    #plt.plot(x, y_pred, color = \"g\") \n",
        "    plt.plot(x, y_pred)\n",
        "  \n",
        "    # putting labels \n",
        "    plt.xlabel('x') \n",
        "    plt.ylabel('y') \n",
        "  \n",
        "    # function to show plot \n",
        "    plt.show() \n",
        "  \n",
        "def main(): \n",
        "    # observations \n",
        "    x = k  # np.array([0, 1, 2, 3, 4, 5, 6, 7, 8, 9]) \n",
        "    y = l  # np.array([1, 3, 2, 5, 7, 8, 8, 9, 10, 12]) \n",
        "  \n",
        "    # estimating coefficients \n",
        "    b = estimate_coef(x, y) \n",
        "    print(\"Estimated coefficients:\\nb_0 = {}  nb_1 = {}\".format(b[0], b[1])) \n",
        "  \n",
        "    # plotting regression line \n",
        "    plot_regression_line(x, y, b) \n",
        "  \n",
        "if __name__ == \"__main__\": \n",
        "    main()"
      ],
      "execution_count": 57,
      "outputs": [
        {
          "output_type": "stream",
          "text": [
            "Estimated coefficients:\n",
            "b_0 = 182.8376262481708  nb_1 = -0.06738456743257776\n"
          ],
          "name": "stdout"
        },
        {
          "output_type": "display_data",
          "data": {
            "image/png": "[encoded data removed]",
            "text/plain": [
              "<Figure size 432x288 with 1 Axes>"
            ]
          },
          "metadata": {
            "tags": [],
            "needs_background": "light"
          }
        }
      ]
    },
    {
      "cell_type": "markdown",
      "metadata": {
        "id": "tc4bSgPjwH_C",
        "colab_type": "text"
      },
      "source": [
        "#Data Preprocessing"
      ]
    },
    {
      "cell_type": "code",
      "metadata": {
        "id": "s5wlRg_5wKNF",
        "colab_type": "code",
        "colab": {
          "base_uri": "https://localhost:8080/",
          "height": 235
        },
        "outputId": "1d88ed2b-79e8-47aa-e9b7-6bd3946eea47"
      },
      "source": [
        "data = pd.read_csv('/content/DATA.csv')\n",
        "data.head()"
      ],
      "execution_count": 8,
      "outputs": [
        {
          "output_type": "execute_result",
          "data": {
            "text/html": [
              "<div>\n",
              "<style scoped>\n",
              "    .dataframe tbody tr th:only-of-type {\n",
              "        vertical-align: middle;\n",
              "    }\n",
              "\n",
              "    .dataframe tbody tr th {\n",
              "        vertical-align: top;\n",
              "    }\n",
              "\n",
              "    .dataframe thead th {\n",
              "        text-align: right;\n",
              "    }\n",
              "</style>\n",
              "<table border=\"1\" class=\"dataframe\">\n",
              "  <thead>\n",
              "    <tr style=\"text-align: right;\">\n",
              "      <th></th>\n",
              "      <th>DATE</th>\n",
              "      <th>SNO.</th>\n",
              "      <th>MAHARASHTRA</th>\n",
              "      <th>ANDHRA PRADESH</th>\n",
              "      <th>TAMIL NADU</th>\n",
              "      <th>KARNATAKA</th>\n",
              "      <th>UTTAR PRADESH</th>\n",
              "      <th>DELHI</th>\n",
              "      <th>WEST BENGAL</th>\n",
              "      <th>GUJARAT</th>\n",
              "      <th>KERALA</th>\n",
              "      <th>UTTARAKHAND</th>\n",
              "    </tr>\n",
              "  </thead>\n",
              "  <tbody>\n",
              "    <tr>\n",
              "      <th>0</th>\n",
              "      <td>NaN</td>\n",
              "      <td>NaN</td>\n",
              "      <td>NaN</td>\n",
              "      <td>NaN</td>\n",
              "      <td>NaN</td>\n",
              "      <td>NaN</td>\n",
              "      <td>NaN</td>\n",
              "      <td>NaN</td>\n",
              "      <td>NaN</td>\n",
              "      <td>NaN</td>\n",
              "      <td>NaN</td>\n",
              "      <td>NaN</td>\n",
              "    </tr>\n",
              "    <tr>\n",
              "      <th>1</th>\n",
              "      <td>01/04/2020</td>\n",
              "      <td>1.0</td>\n",
              "      <td>33.0</td>\n",
              "      <td>67.0</td>\n",
              "      <td>110.0</td>\n",
              "      <td>9.0</td>\n",
              "      <td>13.0</td>\n",
              "      <td>32.0</td>\n",
              "      <td>37.0</td>\n",
              "      <td>13.0</td>\n",
              "      <td>24.0</td>\n",
              "      <td>7.0</td>\n",
              "    </tr>\n",
              "    <tr>\n",
              "      <th>2</th>\n",
              "      <td>02/04/2020</td>\n",
              "      <td>2.0</td>\n",
              "      <td>88.0</td>\n",
              "      <td>38.0</td>\n",
              "      <td>75.0</td>\n",
              "      <td>14.0</td>\n",
              "      <td>11.0</td>\n",
              "      <td>141.0</td>\n",
              "      <td>16.0</td>\n",
              "      <td>1.0</td>\n",
              "      <td>21.0</td>\n",
              "      <td>3.0</td>\n",
              "    </tr>\n",
              "    <tr>\n",
              "      <th>3</th>\n",
              "      <td>03/04/2020</td>\n",
              "      <td>3.0</td>\n",
              "      <td>64.0</td>\n",
              "      <td>15.0</td>\n",
              "      <td>102.0</td>\n",
              "      <td>4.0</td>\n",
              "      <td>46.0</td>\n",
              "      <td>93.0</td>\n",
              "      <td>0.0</td>\n",
              "      <td>7.0</td>\n",
              "      <td>9.0</td>\n",
              "      <td>6.0</td>\n",
              "    </tr>\n",
              "    <tr>\n",
              "      <th>4</th>\n",
              "      <td>04/04/2020</td>\n",
              "      <td>4.0</td>\n",
              "      <td>148.0</td>\n",
              "      <td>28.0</td>\n",
              "      <td>74.0</td>\n",
              "      <td>16.0</td>\n",
              "      <td>60.0</td>\n",
              "      <td>59.0</td>\n",
              "      <td>0.0</td>\n",
              "      <td>13.0</td>\n",
              "      <td>11.0</td>\n",
              "      <td>6.0</td>\n",
              "    </tr>\n",
              "  </tbody>\n",
              "</table>\n",
              "</div>"
            ],
            "text/plain": [
              "         DATE  SNO.  MAHARASHTRA  ...  GUJARAT  KERALA  UTTARAKHAND\n",
              "0         NaN   NaN          NaN  ...      NaN     NaN          NaN\n",
              "1  01/04/2020   1.0         33.0  ...     13.0    24.0          7.0\n",
              "2  02/04/2020   2.0         88.0  ...      1.0    21.0          3.0\n",
              "3  03/04/2020   3.0         64.0  ...      7.0     9.0          6.0\n",
              "4  04/04/2020   4.0        148.0  ...     13.0    11.0          6.0\n",
              "\n",
              "[5 rows x 12 columns]"
            ]
          },
          "metadata": {
            "tags": []
          },
          "execution_count": 8
        }
      ]
    },
    {
      "cell_type": "code",
      "metadata": {
        "id": "lyR1hPK3yPVt",
        "colab_type": "code",
        "colab": {
          "base_uri": "https://localhost:8080/",
          "height": 1000
        },
        "outputId": "fa0630ab-6f11-4c0f-b4f3-d1ef5501ba4f"
      },
      "source": [
        "maha = data.MAHARASHTRA\n",
        "print(maha[1:154])\n",
        "\n",
        "andhra = data['ANDHRA PRADESH']\n",
        "print(andhra[1:154])\n",
        "\n",
        "tamil = data['TAMIL NADU']\n",
        "print(tamil[1:154])\n",
        "\n",
        "karna = data.KARNATAKA\n",
        "print(karna[1:154])\n",
        "\n",
        "up = data['UTTAR PRADESH']\n",
        "print(up[1:154])\n",
        "\n",
        "delhi = data['DELHI']\n",
        "print(delhi[1:154])\n",
        "\n",
        "wb = data['WEST BENGAL']\n",
        "print(wb[1:154])"
      ],
      "execution_count": 9,
      "outputs": [
        {
          "output_type": "stream",
          "text": [
            "1         33.0\n",
            "2         88.0\n",
            "3         64.0\n",
            "4        148.0\n",
            "5        112.0\n",
            "        ...   \n",
            "149    14857.0\n",
            "150    14427.0\n",
            "151    16286.0\n",
            "152    16408.0\n",
            "153    11852.0\n",
            "Name: MAHARASHTRA, Length: 153, dtype: float64\n",
            "1         67.0\n",
            "2         38.0\n",
            "3         15.0\n",
            "4         28.0\n",
            "5         64.0\n",
            "        ...   \n",
            "149    10621.0\n",
            "150    10526.0\n",
            "151    10548.0\n",
            "152    10603.0\n",
            "153    10004.0\n",
            "Name: ANDHRA PRADESH, Length: 153, dtype: float64\n",
            "1       110.0\n",
            "2        75.0\n",
            "3       102.0\n",
            "4        74.0\n",
            "5        86.0\n",
            "        ...  \n",
            "149    5981.0\n",
            "150    5996.0\n",
            "151    6352.0\n",
            "152    6495.0\n",
            "153    5956.0\n",
            "Name: TAMIL NADU, Length: 153, dtype: float64\n",
            "1         9.0\n",
            "2        14.0\n",
            "3         4.0\n",
            "4        16.0\n",
            "5         7.0\n",
            "        ...  \n",
            "149    9386.0\n",
            "150    8960.0\n",
            "151    8324.0\n",
            "152    8852.0\n",
            "153    6495.0\n",
            "Name: KARNATAKA, Length: 153, dtype: float64\n",
            "1        13.0\n",
            "2        11.0\n",
            "3        46.0\n",
            "4        60.0\n",
            "5        44.0\n",
            "        ...  \n",
            "149    5391.0\n",
            "150    5405.0\n",
            "151    5633.0\n",
            "152    6175.0\n",
            "153    4782.0\n",
            "Name: UTTAR PRADESH, Length: 153, dtype: float64\n",
            "1        32.0\n",
            "2       141.0\n",
            "3        93.0\n",
            "4        59.0\n",
            "5        58.0\n",
            "        ...  \n",
            "149    1840.0\n",
            "150    1808.0\n",
            "151    1954.0\n",
            "152    2024.0\n",
            "153    1358.0\n",
            "Name: DELHI, Length: 153, dtype: float64\n",
            "1        37.0\n",
            "2        16.0\n",
            "3         0.0\n",
            "4         0.0\n",
            "5        27.0\n",
            "        ...  \n",
            "149    2997.0\n",
            "150    2982.0\n",
            "151    3012.0\n",
            "152    3019.0\n",
            "153    2293.0\n",
            "Name: WEST BENGAL, Length: 153, dtype: float64\n"
          ],
          "name": "stdout"
        }
      ]
    },
    {
      "cell_type": "code",
      "metadata": {
        "id": "LdPlsMqOfVtl",
        "colab_type": "code",
        "colab": {
          "base_uri": "https://localhost:8080/",
          "height": 35
        },
        "outputId": "208789a4-38b6-4c9b-e0e3-a7021242cd13"
      },
      "source": [
        "import pandas\n",
        "print(pandas.__version__)"
      ],
      "execution_count": 10,
      "outputs": [
        {
          "output_type": "stream",
          "text": [
            "1.0.5\n"
          ],
          "name": "stdout"
        }
      ]
    },
    {
      "cell_type": "code",
      "metadata": {
        "id": "3jlBlpea0S2F",
        "colab_type": "code",
        "colab": {
          "base_uri": "https://localhost:8080/",
          "height": 1000
        },
        "outputId": "369b0db3-0dfc-450f-c56a-d5f8a0fe942c"
      },
      "source": [
        "# convert dataframe to np.array\n",
        "import numpy\n",
        "maha_np_array = data['MAHARASHTRA'].to_numpy()\n",
        "#maha_np_array = list(numpy.concatenate().flat)) \n",
        "print(maha_np_array[1:154])\n",
        "\n",
        "andhra_np_array = andhra.to_numpy()\n",
        "print(andhra_np_array[1:154])\n",
        "\n",
        "tamil_np_array = tamil.to_numpy()\n",
        "print(tamil_np_array[1:154])\n",
        "\n",
        "karna_np_array = karna.to_numpy()\n",
        "print(karna_np_array[1:154])\n",
        "\n",
        "up_np_array = up.to_numpy()\n",
        "print(up_np_array[1:154])\n",
        "\n",
        "delhi_np_array = delhi.to_numpy()\n",
        "print(delhi_np_array[1:154])\n",
        "\n",
        "wb_np_array = wb.to_numpy()\n",
        "print(wb_np_array[1:154])"
      ],
      "execution_count": 11,
      "outputs": [
        {
          "output_type": "stream",
          "text": [
            "[   33.    88.    64.   148.   112.   121.   150.   117.   229.   210.\n",
            "   187.   221.   352.   346.   236.   285.   120.   327.   552.   466.\n",
            "   552.   431.   778.   390.   811.   440.   522.   728.   597.   583.\n",
            "  1008.   790.   678.  1567.   984.  1233.  1216.  1089.  1165.  1943.\n",
            "  1230.  1026.  1495.  1602.  1576.  1606.  2347.  2005.  2078.  2161.\n",
            "  2345.  2940.  2608.  3041.  2436.  2091.  2190.  2598.  2682.  2940.\n",
            "  2487.  2358.  2287.  2560.  2933.  2436.  2739.  3007.  2554.  2258.\n",
            "  3254.  3607.  3493.  3427.  3390.  2786.  2701.  3307.  3752.  3827.\n",
            "  3874.  3870.  3721.  3214.  3889.  4842.  5024.  6368.  5493.  5257.\n",
            "  4878.  5537.  6328.  6364.  7074.  6555.  5368.  5134.  6603.  6875.\n",
            "  7862.  8139.  7827.  4697.  6741.  7975.  8641.  8308.  8348.  9518.\n",
            "  8240.  8336. 10576.  9895.  9615.  9251.  9431.  7924.  7717.  9211.\n",
            " 11147. 10320.  9601.  9509.  8968.  7760. 10309. 11514. 10483. 12822.\n",
            " 12248.  9181. 11088. 12712. 11813. 12608. 12020. 11111.  8493. 11119.\n",
            " 13165. 14647. 14161. 14492. 10441. 11015. 10425. 14888. 14857. 14427.\n",
            " 16286. 16408. 11852.]\n",
            "[6.7000e+01 3.8000e+01 1.5000e+01 2.8000e+01 6.4000e+01 4.7000e+01\n",
            " 1.1000e+01 3.4000e+01 1.5000e+01 1.8000e+01 2.4000e+01 1.5000e+01\n",
            " 1.9000e+01 4.5000e+01 4.1000e+01 9.0000e+00 3.8000e+01 3.1000e+01\n",
            " 4.4000e+01 7.5000e+01 3.5000e+01 5.6000e+01 8.0000e+01 6.2000e+01\n",
            " 6.1000e+01 8.1000e+01 8.0000e+01 8.2000e+01 7.3000e+01 7.1000e+01\n",
            " 6.0000e+01 6.2000e+01 5.8000e+01 6.7000e+01 6.7000e+01 6.0000e+01\n",
            " 5.6000e+01 5.4000e+01 4.3000e+01 5.0000e+01 3.8000e+01 7.1000e+01\n",
            " 4.8000e+01 6.8000e+01 1.0200e+02 4.8000e+01 2.5000e+01 5.2000e+01\n",
            " 5.7000e+01 7.1000e+01 4.5000e+01 6.2000e+01 4.7000e+01 6.6000e+01\n",
            " 1.0600e+02 9.7000e+01 1.3400e+02 1.2800e+02 8.5000e+01 1.3100e+02\n",
            " 1.1000e+02 1.0500e+02 1.1500e+02 1.8000e+02 1.4100e+02 1.3800e+02\n",
            " 2.1000e+02 1.9900e+02 1.5400e+02 6.9000e+01 3.6500e+02 1.8200e+02\n",
            " 2.0700e+02 2.2200e+02 2.9400e+02 3.0400e+02 2.6400e+02 3.5100e+02\n",
            " 4.2500e+02 4.6500e+02 4.9100e+02 4.7700e+02 4.4300e+02 4.6200e+02\n",
            " 4.9700e+02 5.5300e+02 6.0500e+02 7.9600e+02 8.1300e+02 7.9300e+02\n",
            " 7.0400e+02 6.5700e+02 8.4500e+02 8.3700e+02 7.6500e+02 9.9800e+02\n",
            " 1.3220e+03 1.1780e+03 1.0620e+03 1.5550e+03 1.6080e+03 1.8130e+03\n",
            " 1.9330e+03 1.9350e+03 1.9160e+03 2.4320e+03 2.5930e+03 2.6020e+03\n",
            " 3.9630e+03 5.0410e+03 4.0740e+03 4.9440e+03 6.0450e+03 7.9980e+03\n",
            " 8.1470e+03 7.8130e+03 7.6270e+03 6.0510e+03 7.9480e+03 1.0093e+04\n",
            " 1.0167e+04 1.0376e+04 9.2760e+03 8.5550e+03 7.8220e+03 9.7470e+03\n",
            " 1.0128e+04 1.0328e+04 1.0171e+04 1.0080e+04 1.0820e+04 7.6650e+03\n",
            " 9.0240e+03 9.5970e+03 9.9960e+03 8.9430e+03 8.7320e+03 8.0120e+03\n",
            " 6.7800e+03 9.6520e+03 9.7420e+03 9.3930e+03 9.5440e+03 1.0276e+04\n",
            " 7.8950e+03 8.6010e+03 9.9270e+03 1.0830e+04 1.0621e+04 1.0526e+04\n",
            " 1.0548e+04 1.0603e+04 1.0004e+04]\n",
            "[ 110.   75.  102.   74.   86.   50.   69.   48.   96.   77.   58.  106.\n",
            "   98.   31.   38.   25.   56.   49.  105.   43.   76.   33.   54.   72.\n",
            "   66.   64.   52.  121.  104.  161.  203.  231.  266.  527.  508.  771.\n",
            "  580.  600.  526.  669.  798.  716.  509.  447.  434.  447.  639.  536.\n",
            "  688.  743.  776.  786.  759.  765.  805.  646.  817.  827.  874.  938.\n",
            " 1149. 1162. 1091. 1286. 1384. 1438. 1458. 1515. 1562. 1685. 1927. 1875.\n",
            " 1982. 1989. 1974. 1843. 1515. 2174. 2141. 2115. 2396. 2532. 2710. 2516.\n",
            " 2565. 3509. 3645. 3713. 3940. 3949. 3943. 3882. 4343. 4329. 4280. 4180.\n",
            " 3827. 3616. 3756. 4231. 3680. 3965. 4244. 4328. 4526. 4496. 4549. 4538.\n",
            " 4807. 4979. 4985. 4965. 5849. 6472. 6785. 6988. 6986. 6993. 6972. 6426.\n",
            " 5864. 5881. 5879. 5875. 5609. 5063. 5175. 5683. 5880. 5883. 5994. 5914.\n",
            " 5834. 5871. 5835. 5890. 5860. 5950. 5890. 5709. 5795. 5986. 5995. 5980.\n",
            " 5975. 5967. 5951. 5958. 5981. 5996. 6352. 6495. 5956.]\n",
            "[9.000e+00 1.400e+01 4.000e+00 1.600e+01 7.000e+00 1.200e+01 1.200e+01\n",
            " 6.000e+00 1.600e+01 1.000e+01 8.000e+00 1.700e+01 1.500e+01 1.300e+01\n",
            " 1.900e+01 3.600e+01 4.400e+01 2.500e+01 6.000e+00 1.800e+01 1.000e+01\n",
            " 9.000e+00 1.800e+01 2.900e+01 2.600e+01 3.000e+00 9.000e+00 1.100e+01\n",
            " 1.200e+01 3.000e+01 2.400e+01 1.200e+01 1.300e+01 3.700e+01 2.200e+01\n",
            " 2.000e+01 1.200e+01 4.800e+01 4.100e+01 5.400e+01 1.400e+01 6.300e+01\n",
            " 3.400e+01 2.800e+01 6.900e+01 3.600e+01 5.500e+01 9.900e+01 1.490e+02\n",
            " 6.700e+01 1.430e+02 1.380e+02 2.160e+02 1.300e+02 9.300e+01 1.010e+02\n",
            " 1.350e+02 1.150e+02 2.480e+02 1.410e+02 2.990e+02 1.870e+02 3.880e+02\n",
            " 2.670e+02 2.570e+02 5.150e+02 3.780e+02 2.390e+02 3.080e+02 1.610e+02\n",
            " 1.200e+02 2.040e+02 2.710e+02 3.080e+02 1.760e+02 2.130e+02 3.170e+02\n",
            " 2.040e+02 2.100e+02 3.370e+02 4.160e+02 4.530e+02 2.490e+02 3.220e+02\n",
            " 3.970e+02 4.420e+02 4.450e+02 9.180e+02 1.267e+03 1.105e+03 9.470e+02\n",
            " 1.272e+03 1.502e+03 1.694e+03 1.834e+03 1.925e+03 1.843e+03 1.498e+03\n",
            " 2.062e+03 2.228e+03 2.313e+03 2.798e+03 2.627e+03 2.738e+03 2.496e+03\n",
            " 3.176e+03 4.169e+03 3.693e+03 4.537e+03 4.120e+03 3.648e+03 3.649e+03\n",
            " 4.764e+03 5.030e+03 5.007e+03 5.072e+03 5.119e+03 5.324e+03 5.536e+03\n",
            " 5.503e+03 6.128e+03 5.483e+03 5.172e+03 5.532e+03 4.752e+03 6.259e+03\n",
            " 5.619e+03 6.805e+03 6.670e+03 7.178e+03 5.985e+03 4.267e+03 6.257e+03\n",
            " 7.883e+03 6.706e+03 7.908e+03 8.818e+03 7.040e+03 6.317e+03 7.665e+03\n",
            " 8.642e+03 7.385e+03 7.571e+03 7.330e+03 5.938e+03 5.851e+03 8.161e+03\n",
            " 8.580e+03 9.386e+03 8.960e+03 8.324e+03 8.852e+03 6.495e+03]\n",
            "[  13.   11.   46.   60.   44.   27.   27.   29.   49.   23.   19.   31.\n",
            "   75.  102.   75.   70.   44.  126.  125.   84.  153.  112.   61.  111.\n",
            "  172.   80.  113.   67.   81.   77.  117.  159.  158.  121.  114.  118.\n",
            "   73.  143.  159.   94.  106.   91.   94.  144.  155.  201.  206.  141.\n",
            "  321.  249.  340.  220.  282.  251.  229.  227.  267.  179.  275.  256.\n",
            "  374.  286.  368.  141.  367.  496.  370.  433.  411.  388.  275.  478.\n",
            "  528.  502.  497.  476.  507.  583.  604.  809.  541.  596.  591.  571.\n",
            "  664.  636.  750.  606.  598.  681.  664.  564.  769.  972.  757. 1153.\n",
            "  929. 1332. 1188. 1206. 1338. 1392. 1384. 1654. 1594. 1659. 2058. 1722.\n",
            " 1873. 2211. 1913. 2128. 2300. 2516. 2667. 2971. 3246. 3505. 3458. 3383.\n",
            " 3705. 4422. 3587. 3873. 4441. 2948. 4078. 4586. 4404. 4660. 4571. 4113.\n",
            " 5041. 4475. 4537. 4512. 4774. 4357. 3798. 4218. 5076. 4824. 4905. 5217.\n",
            " 5325. 4601. 5006. 5640. 5391. 5405. 5633. 6175. 4782.]\n",
            "[  32.  141.   93.   59.   58.   22.   51.   93.   51.  183.  166.   55.\n",
            "  356.   51.   17.   62.   67.  186.  110.   78.   75.   92.  128.  138.\n",
            "  111.  293.  190.  206.  125.   76.  223.  384.  427.  349.  206.  428.\n",
            "  448.  358.  224.  381.  310.  406.  359.  472.  425.  438.  422.  299.\n",
            "  500.  534.  571.  660.  591.  508.  635.  412.  792. 1024. 1105. 1163.\n",
            " 1295.  990. 1298. 1513. 1359. 1330. 1320. 1282. 1007. 1366. 1501. 1877.\n",
            " 2137. 2134. 2224. 1647. 1859. 2414. 2877. 3137. 3630. 3000. 2909. 3947.\n",
            " 3788. 3390. 3460. 2948. 2889. 2084. 2199. 2442. 2373. 2520. 2505. 2244.\n",
            " 1379. 2008. 2033. 2187. 2689. 1781. 1573. 1246. 1606. 1647. 1652. 1462.\n",
            " 1475. 1211.  954. 1349. 1227. 1041. 1025. 1142. 1075.  613. 1056. 1035.\n",
            " 1093. 1195. 1118.  961.  805.  674. 1076. 1299. 1192. 1404. 1300.  707.\n",
            " 1257. 1113.  956. 1192. 1276.  652.  787. 1374. 1398. 1215. 1250. 1412.\n",
            " 1450. 1061. 1544. 1693. 1840. 1808. 1954. 2024. 1358.]\n",
            "[  37.   16.    0.    0.   27.    0.   11.    8.    4.   13.   10.    8.\n",
            "   18.   38.   23.   18.   24.   32.   23.   29.   53.   31.   33.   58.\n",
            "   57.   40.   38.   48.   28.   33.   37.  127.  276.   61.   85.  112.\n",
            "   92.  130.  108.  153.  124.  110.  117.   87.   84.  115.  101.  147.\n",
            "  137.  142.   94.  135.  127.  208.  149.  193.  183.  344.  277.  317.\n",
            "  371.  271.  396.  340.  368.  427.  435.  449.  426.  372.  343.  440.\n",
            "  476.  454.  389.  407.  415.  391.  435.  355.  441.  414.  413.  370.\n",
            "  445.  475.  542.  521.  572.  624.  652.  611.  649.  669.  743.  895.\n",
            "  861.  850.  986. 1088. 1198. 1344. 1560. 1435. 1390. 1589. 1690. 1894.\n",
            " 2198. 2278. 2282. 2261. 2291. 2436. 2216. 2404. 2341. 2112. 2134. 2294.\n",
            " 2434. 2496. 2589. 2739. 2716. 2752. 2816. 2954. 2912. 2949. 2939. 2905.\n",
            " 2931. 2936. 2997. 3035. 3074. 3066. 3080. 3175. 3169. 3137. 3245. 3232.\n",
            " 3274. 2967. 2964. 2674. 2997. 2982. 3012. 3019. 2293.]\n"
          ],
          "name": "stdout"
        }
      ]
    },
    {
      "cell_type": "markdown",
      "metadata": {
        "id": "F7SgkNZyi1s-",
        "colab_type": "text"
      },
      "source": [
        "#MAHARASHTRA\n",
        "\n"
      ]
    },
    {
      "cell_type": "code",
      "metadata": {
        "id": "yYd5_UsaycFx",
        "colab_type": "code",
        "colab": {
          "base_uri": "https://localhost:8080/",
          "height": 145
        },
        "outputId": "6f9a8ace-59c0-48f8-ea41-210ae35465c7"
      },
      "source": [
        "# inputs to Higuchi Algorithm\n",
        "\n",
        "# k_value = int(input(\"Enter the bound og 'k' \"))\n",
        "data_list = maha_np_array[1:154]\n",
        "#data_list = data_list.reshape(-1)\n",
        "print(data_list.shape)\n",
        "num_k =  int(input(\"Number of k values to generate: \"))  #number of k values to generate.\n",
        "k_max =  int(input(\"Max. k value: \"))  #the maximum k the k array is generated uniformly in log space from 2 to k_max\n",
        "\n",
        "k_interval_times, curve_length_list = curve_length(data_list, num_k, k_max)\n",
        "print(k_interval_times, curve_length_list)"
      ],
      "execution_count": 60,
      "outputs": [
        {
          "output_type": "stream",
          "text": [
            "(153,)\n",
            "Number of k values to generate: 4\n",
            "Max. k value: 14\n",
            "[ 2  3  4  6  8 10 14 18 24 32 43 57 75] [33116.56333333 16414.08592593  9743.01182432  3578.24302469\n",
            "  2298.47569444  1909.99001905  1090.81049563   836.62225652\n",
            "   616.07096836   452.75679525   342.09224345   258.47501795\n",
            "   196.05613037]\n"
          ],
          "name": "stdout"
        }
      ]
    },
    {
      "cell_type": "code",
      "metadata": {
        "id": "X3L0lfkiQuIl",
        "colab_type": "code",
        "colab": {
          "base_uri": "https://localhost:8080/",
          "height": 35
        },
        "outputId": "3bf16fd3-3421-49f8-dd46-25afa923a6ba"
      },
      "source": [
        "hfd(data_list)"
      ],
      "execution_count": 61,
      "outputs": [
        {
          "output_type": "execute_result",
          "data": {
            "text/plain": [
              "1.3152317436347447"
            ]
          },
          "metadata": {
            "tags": []
          },
          "execution_count": 61
        }
      ]
    },
    {
      "cell_type": "code",
      "metadata": {
        "id": "Pab_hsovUFuw",
        "colab_type": "code",
        "colab": {
          "base_uri": "https://localhost:8080/",
          "height": 296
        },
        "outputId": "124bfeaa-d20b-4493-948e-28feaf5b9bd1"
      },
      "source": [
        "import math\n",
        "x = k_interval_times\n",
        "#x = np.logspace(curve_length[0], curve_length[len(curve_length) - 1], len(curve_length))\n",
        "log_y = []\n",
        "for i in curve_length_list:\n",
        "  log_y.append(math.log10(i))\n",
        "y = log_y\n",
        "#y = curve_length_list\n",
        "#y = np.logspace(k_interval_times[0], k_interval_times[len(k_interval_times) - 1], len(k_interval_times)) \n",
        "\n",
        "plt.title(\"Maharastra\") \n",
        "plt.xlabel(\"k_interval_times\") \n",
        "plt.ylabel(\"curve_length\") \n",
        "plt.plot(x,y) \n",
        "plt.show()"
      ],
      "execution_count": 62,
      "outputs": [
        {
          "output_type": "display_data",
          "data": {
            "image/png": "[encoded data removed]",
            "text/plain": [
              "<Figure size 432x288 with 1 Axes>"
            ]
          },
          "metadata": {
            "tags": [],
            "needs_background": "light"
          }
        }
      ]
    },
    {
      "cell_type": "code",
      "metadata": {
        "id": "wrKaxsla7yJz",
        "colab_type": "code",
        "colab": {
          "base_uri": "https://localhost:8080/",
          "height": 355
        },
        "outputId": "6c38a2ca-2508-4b94-ebd4-46c66385c879"
      },
      "source": [
        "import numpy as np\n",
        "import pylab\n",
        "Polynomial = np.polynomial.Polynomial\n",
        "\n",
        "# The data: conc = [P] and absorbance, A\n",
        "conc = k_interval_times\n",
        "A = curve_length_list\n",
        "\n",
        "cmin, cmax = min(conc), max(conc)\n",
        "pfit, stats = Polynomial.fit(conc, A, 1, full=True, window=(cmin, cmax),\n",
        "                                                    domain=(cmin, cmax))\n",
        "\n",
        "print('Raw fit results:', pfit, stats, sep='\\n')\n",
        "\n",
        "A0, m = pfit\n",
        "resid, rank, sing_val, rcond = stats\n",
        "rms = np.sqrt(resid[0]/len(A))\n",
        "\n",
        "print('Fit: A = {:.3f}[P] + {:.3f}'.format(m, A0),\n",
        "      '(rms residual = {:.4f})'.format(rms))\n",
        "\n",
        "pylab.plot(conc, A)\n",
        "pylab.plot(conc, pfit(conc), color='k')\n",
        "pylab.xlabel('k')\n",
        "pylab.ylabel('l')\n",
        "pylab.show()"
      ],
      "execution_count": 63,
      "outputs": [
        {
          "output_type": "stream",
          "text": [
            "Raw fit results:\n",
            "poly([10110.73205987  -204.68332111])\n",
            "[array([8.34025094e+08]), 2, array([1.31074049, 0.53099847]), 2.886579864025407e-15]\n",
            "Fit: A = -204.683[P] + 10110.732 (rms residual = 8009.7301)\n"
          ],
          "name": "stdout"
        },
        {
          "output_type": "display_data",
          "data": {
            "image/png": "[encoded data removed]",
            "text/plain": [
              "<Figure size 432x288 with 1 Axes>"
            ]
          },
          "metadata": {
            "tags": [],
            "needs_background": "light"
          }
        }
      ]
    },
    {
      "cell_type": "code",
      "metadata": {
        "id": "PM6F5FVPGlVm",
        "colab_type": "code",
        "colab": {
          "base_uri": "https://localhost:8080/",
          "height": 319
        },
        "outputId": "9d3be9c7-541c-40da-9eb8-484b6cce43b7"
      },
      "source": [
        "import numpy as np \n",
        "import matplotlib.pyplot as plt \n",
        "  \n",
        "def estimate_coef(x, y): \n",
        "    # number of observations/points \n",
        "    n = np.size(x) \n",
        "  \n",
        "    # mean of x and y vector \n",
        "    m_x, m_y = np.mean(x), np.mean(y) \n",
        "  \n",
        "    # calculating cross-deviation and deviation about x \n",
        "    SS_xy = np.sum(y*x) - n*m_y*m_x \n",
        "    SS_xx = np.sum(x*x) - n*m_x*m_x \n",
        "  \n",
        "    # calculating regression coefficients \n",
        "    b_1 = SS_xy / SS_xx \n",
        "    b_0 = m_y - b_1*m_x \n",
        "  \n",
        "    return(b_0, b_1) \n",
        "  \n",
        "def plot_regression_line(x, y, b): \n",
        "    # plotting the actual points as scatter plot \n",
        "    #plt.scatter(x, y, color = \"m\", marker = \"o\", s = 30) \n",
        "    plt.plot(x, y)\n",
        "  \n",
        "    # predicted response vector \n",
        "    y_pred = b[0] + b[1]*x \n",
        "  \n",
        "    # plotting the regression line \n",
        "    #plt.plot(x, y_pred, color = \"g\") \n",
        "    plt.plot(x, y_pred)\n",
        "  \n",
        "    # putting labels \n",
        "    plt.xlabel('x') \n",
        "    plt.ylabel('y') \n",
        "  \n",
        "    # function to show plot \n",
        "    plt.show() \n",
        "  \n",
        "def main(): \n",
        "    # observations \n",
        "    x = k_interval_times #k  # np.array([0, 1, 2, 3, 4, 5, 6, 7, 8, 9]) \n",
        "    y = curve_length_list #l  # np.array([1, 3, 2, 5, 7, 8, 8, 9, 10, 12]) \n",
        "  \n",
        "    # estimating coefficients \n",
        "    b = estimate_coef(x, y) \n",
        "    print(\"Estimated coefficients:\\nb_0 = {}  nb_1 = {}\".format(b[0], b[1])) \n",
        "  \n",
        "    # plotting regression line \n",
        "    plot_regression_line(x, y, b) \n",
        "  \n",
        "if __name__ == \"__main__\": \n",
        "    main()"
      ],
      "execution_count": 64,
      "outputs": [
        {
          "output_type": "stream",
          "text": [
            "Estimated coefficients:\n",
            "b_0 = 10110.732059874974  nb_1 = -204.68332111175204\n"
          ],
          "name": "stdout"
        },
        {
          "output_type": "display_data",
          "data": {
            "image/png": "[encoded data removed]",
            "text/plain": [
              "<Figure size 432x288 with 1 Axes>"
            ]
          },
          "metadata": {
            "tags": [],
            "needs_background": "light"
          }
        }
      ]
    },
    {
      "cell_type": "markdown",
      "metadata": {
        "id": "ZGMTruyfi5hr",
        "colab_type": "text"
      },
      "source": [
        "#ANDHRA PRADESH"
      ]
    },
    {
      "cell_type": "code",
      "metadata": {
        "id": "dBZo9GTwjxde",
        "colab_type": "code",
        "colab": {
          "base_uri": "https://localhost:8080/",
          "height": 145
        },
        "outputId": "358b254c-8aa3-47ab-fe3c-f5d1d1b6ff1b"
      },
      "source": [
        "# k_value = int(input(\"Enter the bound og 'k' \"))\n",
        "data_list = andhra_np_array[1:154]\n",
        "#data_list = data_list.reshape(-1)\n",
        "print(data_list.shape)\n",
        "num_k =  int(input(\"Number of k values to generate: \"))  #number of k values to generate.\n",
        "k_max =  int(input(\"Max. k value: \"))  #the maximum k the k array is generated uniformly in log space from 2 to k_max\n",
        "\n",
        "k_interval_times, curve_length_list = curve_length(data_list, num_k, k_max)\n",
        "print(k_interval_times, curve_length_list)"
      ],
      "execution_count": 16,
      "outputs": [
        {
          "output_type": "stream",
          "text": [
            "(153,)\n",
            "Number of k values to generate: 4\n",
            "Max. k value: 14\n",
            "[ 2  3  4  6  8 10 14 18 24 32 43 57 75] [16382.17666667  8478.78518519  5338.59966216  2503.89975309\n",
            "  1736.4140625   1390.20140952   874.99277616   670.48442093\n",
            "   488.46126543   376.9601237    293.87584322   191.16774392\n",
            "   146.30713837]\n"
          ],
          "name": "stdout"
        }
      ]
    },
    {
      "cell_type": "code",
      "metadata": {
        "id": "G4YEOv5ZkPid",
        "colab_type": "code",
        "colab": {
          "base_uri": "https://localhost:8080/",
          "height": 35
        },
        "outputId": "4548cc3b-7c36-489c-c8ed-c6ae75d4e076"
      },
      "source": [
        "hfd(data_list)"
      ],
      "execution_count": 17,
      "outputs": [
        {
          "output_type": "execute_result",
          "data": {
            "text/plain": [
              "1.2122976121629008"
            ]
          },
          "metadata": {
            "tags": []
          },
          "execution_count": 17
        }
      ]
    },
    {
      "cell_type": "code",
      "metadata": {
        "id": "xYYXi7A6kWyk",
        "colab_type": "code",
        "colab": {
          "base_uri": "https://localhost:8080/",
          "height": 296
        },
        "outputId": "1c897317-b0b7-4000-dd83-e7f9a0d401c8"
      },
      "source": [
        "import math\n",
        "x = k_interval_times\n",
        "#x = np.logspace(curve_length[0], curve_length[len(curve_length) - 1], len(curve_length))\n",
        "log_y = []\n",
        "for i in curve_length_list:\n",
        "  log_y.append(math.log10(i))\n",
        "y = log_y\n",
        "#y = curve_length_list\n",
        "#y = np.logspace(k_interval_times[0], k_interval_times[len(k_interval_times) - 1], len(k_interval_times)) \n",
        "\n",
        "plt.title(\"Andhra Pradesh\") \n",
        "plt.xlabel(\"k_interval_times\") \n",
        "plt.ylabel(\"curve_length\") \n",
        "plt.plot(x,y) \n",
        "plt.show()"
      ],
      "execution_count": 18,
      "outputs": [
        {
          "output_type": "display_data",
          "data": {
            "image/png": "[encoded data removed]",
            "text/plain": [
              "<Figure size 432x288 with 1 Axes>"
            ]
          },
          "metadata": {
            "tags": [],
            "needs_background": "light"
          }
        }
      ]
    },
    {
      "cell_type": "code",
      "metadata": {
        "id": "jBq1xRH1-ICV",
        "colab_type": "code",
        "colab": {
          "base_uri": "https://localhost:8080/",
          "height": 352
        },
        "outputId": "0eb0faa4-80b8-4d09-f766-6224fe70b3b6"
      },
      "source": [
        "import numpy as np\n",
        "import pylab\n",
        "Polynomial = np.polynomial.Polynomial\n",
        "\n",
        "# The data: conc = [P] and absorbance, A\n",
        "conc = k_interval_times\n",
        "A = curve_length_list\n",
        "\n",
        "cmin, cmax = min(conc), max(conc)\n",
        "pfit, stats = Polynomial.fit(conc, A, 1, full=True, window=(cmin, cmax),\n",
        "                                                    domain=(cmin, cmax))\n",
        "\n",
        "print('Raw fit results:', pfit, stats, sep='\\n')\n",
        "\n",
        "A0, m = pfit\n",
        "resid, rank, sing_val, rcond = stats\n",
        "rms = np.sqrt(resid[0]/len(A))\n",
        "\n",
        "print('Fit: A = {:.3f}[P] + {:.3f}'.format(m, A0),\n",
        "      '(rms residual = {:.4f})'.format(rms))\n",
        "\n",
        "pylab.plot(conc, A)\n",
        "pylab.plot(conc, pfit(conc), color='k')\n",
        "pylab.xlabel('k')\n",
        "pylab.ylabel('l')\n",
        "pylab.show()"
      ],
      "execution_count": 19,
      "outputs": [
        {
          "output_type": "stream",
          "text": [
            "Raw fit results:\n",
            "poly([5435.66842944 -107.40325518])\n",
            "[array([1.92442346e+08]), 2, array([1.31074049, 0.53099847]), 2.886579864025407e-15]\n",
            "Fit: A = -107.403[P] + 5435.668 (rms residual = 3847.5001)\n"
          ],
          "name": "stdout"
        },
        {
          "output_type": "display_data",
          "data": {
            "image/png": "[encoded data removed]",
            "text/plain": [
              "<Figure size 432x288 with 1 Axes>"
            ]
          },
          "metadata": {
            "tags": [],
            "needs_background": "light"
          }
        }
      ]
    },
    {
      "cell_type": "markdown",
      "metadata": {
        "id": "IuWx79dKjPBU",
        "colab_type": "text"
      },
      "source": [
        "#TAMIL NADU"
      ]
    },
    {
      "cell_type": "code",
      "metadata": {
        "id": "pKF7x8xCks-7",
        "colab_type": "code",
        "colab": {
          "base_uri": "https://localhost:8080/",
          "height": 146
        },
        "outputId": "ded8a7b8-ec7f-423c-9fca-640fc3402c53"
      },
      "source": [
        "# k_value = int(input(\"Enter the bound og 'k' \"))\n",
        "data_list = tamil_np_array[1:154]\n",
        "#data_list = data_list.reshape(-1)\n",
        "print(data_list.shape)\n",
        "num_k =  int(input(\"Number of k values to generate: \"))  #number of k values to generate.\n",
        "k_max =  int(input(\"Max. k value: \"))  #the maximum k the k array is generated uniformly in log space from 2 to k_max\n",
        "\n",
        "k_interval_times, curve_length_list = curve_length(data_list, num_k, k_max)\n",
        "print(k_interval_times, curve_length_list)"
      ],
      "execution_count": 20,
      "outputs": [
        {
          "output_type": "stream",
          "text": [
            "(153,)\n",
            "Number of k values to generate: 4\n",
            "Max. k value: 14\n",
            "[ 2  3  4  6  8 10 14 18 24 32 43 57 75] [7480.13333333 4309.59407407 2948.45945946 1731.50166667 1175.64236111\n",
            "  862.11794286  549.31849692  419.08208407  319.32351466  241.38952637\n",
            "  192.24427199  151.15666359  116.6682643 ]\n"
          ],
          "name": "stdout"
        }
      ]
    },
    {
      "cell_type": "code",
      "metadata": {
        "id": "Z0A4wLQAk0BK",
        "colab_type": "code",
        "colab": {
          "base_uri": "https://localhost:8080/",
          "height": 35
        },
        "outputId": "7f6ee339-24b9-4b2e-dabf-da94f70ced10"
      },
      "source": [
        "hfd(data_list)"
      ],
      "execution_count": 21,
      "outputs": [
        {
          "output_type": "execute_result",
          "data": {
            "text/plain": [
              "1.113765449516064"
            ]
          },
          "metadata": {
            "tags": []
          },
          "execution_count": 21
        }
      ]
    },
    {
      "cell_type": "code",
      "metadata": {
        "id": "g5vaUyRAk4Bj",
        "colab_type": "code",
        "colab": {
          "base_uri": "https://localhost:8080/",
          "height": 296
        },
        "outputId": "4f6d43d4-6184-4c5b-9d81-f25c366f9ef9"
      },
      "source": [
        "import math\n",
        "x = k_interval_times\n",
        "#x = np.logspace(curve_length[0], curve_length[len(curve_length) - 1], len(curve_length))\n",
        "log_y = []\n",
        "for i in curve_length_list:\n",
        "  log_y.append(math.log10(i))\n",
        "y = log_y\n",
        "#y = curve_length_list\n",
        "#y = np.logspace(k_interval_times[0], k_interval_times[len(k_interval_times) - 1], len(k_interval_times)) \n",
        "\n",
        "plt.title(\"Tamil Nadu\") \n",
        "plt.xlabel(\"k_interval_times\") \n",
        "plt.ylabel(\"curve_length\") \n",
        "plt.plot(x,y) \n",
        "plt.show()"
      ],
      "execution_count": 22,
      "outputs": [
        {
          "output_type": "display_data",
          "data": {
            "image/png": "[encoded data removed]",
            "text/plain": [
              "<Figure size 432x288 with 1 Axes>"
            ]
          },
          "metadata": {
            "tags": [],
            "needs_background": "light"
          }
        }
      ]
    },
    {
      "cell_type": "code",
      "metadata": {
        "id": "hxUKoN2U-eok",
        "colab_type": "code",
        "colab": {
          "base_uri": "https://localhost:8080/",
          "height": 352
        },
        "outputId": "134561d3-43b7-41f4-dd0f-cb48c236ddb8"
      },
      "source": [
        "import numpy as np\n",
        "import pylab\n",
        "Polynomial = np.polynomial.Polynomial\n",
        "\n",
        "# The data: conc = [P] and absorbance, A\n",
        "conc = k_interval_times\n",
        "A = curve_length_list\n",
        "\n",
        "cmin, cmax = min(conc), max(conc)\n",
        "pfit, stats = Polynomial.fit(conc, A, 1, full=True, window=(cmin, cmax),\n",
        "                                                    domain=(cmin, cmax))\n",
        "\n",
        "print('Raw fit results:', pfit, stats, sep='\\n')\n",
        "\n",
        "A0, m = pfit\n",
        "resid, rank, sing_val, rcond = stats\n",
        "rms = np.sqrt(resid[0]/len(A))\n",
        "\n",
        "print('Fit: A = {:.3f}[P] + {:.3f}'.format(m, A0),\n",
        "      '(rms residual = {:.4f})'.format(rms))\n",
        "\n",
        "pylab.plot(conc, A)\n",
        "pylab.plot(conc, pfit(conc), color='k')\n",
        "pylab.xlabel('k')\n",
        "pylab.ylabel('l')\n",
        "pylab.show()"
      ],
      "execution_count": 23,
      "outputs": [
        {
          "output_type": "stream",
          "text": [
            "Raw fit results:\n",
            "poly([2807.62269888  -54.06237644])\n",
            "[array([38228930.81228372]), 2, array([1.31074049, 0.53099847]), 2.886579864025407e-15]\n",
            "Fit: A = -54.062[P] + 2807.623 (rms residual = 1714.8431)\n"
          ],
          "name": "stdout"
        },
        {
          "output_type": "display_data",
          "data": {
            "image/png": "[encoded data removed]",
            "text/plain": [
              "<Figure size 432x288 with 1 Axes>"
            ]
          },
          "metadata": {
            "tags": [],
            "needs_background": "light"
          }
        }
      ]
    },
    {
      "cell_type": "markdown",
      "metadata": {
        "id": "n30k8rPnjTL8",
        "colab_type": "text"
      },
      "source": [
        "#KARNATAKA"
      ]
    },
    {
      "cell_type": "code",
      "metadata": {
        "id": "M1VQDiRrlAX8",
        "colab_type": "code",
        "colab": {
          "base_uri": "https://localhost:8080/",
          "height": 145
        },
        "outputId": "08d50ddd-eb1d-41c1-f194-d286308a066f"
      },
      "source": [
        "# k_value = int(input(\"Enter the bound og 'k' \"))\n",
        "data_list = karna_np_array[1:154]\n",
        "#data_list = data_list.reshape(-1)\n",
        "print(data_list.shape)\n",
        "num_k =  int(input(\"Number of k values to generate: \"))  #number of k values to generate.\n",
        "k_max =  int(input(\"Max. k value: \"))  #the maximum k the k array is generated uniformly in log space from 2 to k_max\n",
        "\n",
        "k_interval_times, curve_length_list = curve_length(data_list, num_k, k_max)\n",
        "print(k_interval_times, curve_length_list)"
      ],
      "execution_count": 24,
      "outputs": [
        {
          "output_type": "stream",
          "text": [
            "(153,)\n",
            "Number of k values to generate: 4\n",
            "Max. k value: 14\n",
            "[ 2  3  4  6  8 10 14 18 24 32 43 57 75] [13904.28666667  7063.83407407  4092.52702703  2078.86623457\n",
            "  1311.95225694  1005.67615238   633.13576288   500.29004997\n",
            "   365.24457948   274.22513835   209.02557008   152.79244896\n",
            "   113.81147496]\n"
          ],
          "name": "stdout"
        }
      ]
    },
    {
      "cell_type": "code",
      "metadata": {
        "id": "5SpsRVlmlGIK",
        "colab_type": "code",
        "colab": {
          "base_uri": "https://localhost:8080/",
          "height": 35
        },
        "outputId": "fa322e34-8add-4732-9034-a6f92dd4d20a"
      },
      "source": [
        "hfd(data_list)"
      ],
      "execution_count": 25,
      "outputs": [
        {
          "output_type": "execute_result",
          "data": {
            "text/plain": [
              "1.23034742019409"
            ]
          },
          "metadata": {
            "tags": []
          },
          "execution_count": 25
        }
      ]
    },
    {
      "cell_type": "code",
      "metadata": {
        "id": "vpmCQbAWlSID",
        "colab_type": "code",
        "colab": {
          "base_uri": "https://localhost:8080/",
          "height": 296
        },
        "outputId": "b6679104-c43e-4a60-b8a9-3f72daa51979"
      },
      "source": [
        "import math\n",
        "x = k_interval_times\n",
        "#x = np.logspace(curve_length[0], curve_length[len(curve_length) - 1], len(curve_length))\n",
        "log_y = []\n",
        "for i in curve_length_list:\n",
        "  log_y.append(math.log10(i))\n",
        "y = log_y\n",
        "#y = curve_length_list\n",
        "#y = np.logspace(k_interval_times[0], k_interval_times[len(k_interval_times) - 1], len(k_interval_times)) \n",
        "\n",
        "plt.title(\"Karnataka\") \n",
        "plt.xlabel(\"k_interval_times\") \n",
        "plt.ylabel(\"curve_length\") \n",
        "plt.plot(x,y) \n",
        "plt.show()"
      ],
      "execution_count": 26,
      "outputs": [
        {
          "output_type": "display_data",
          "data": {
            "image/png": "[encoded data removed]",
            "text/plain": [
              "<Figure size 432x288 with 1 Axes>"
            ]
          },
          "metadata": {
            "tags": [],
            "needs_background": "light"
          }
        }
      ]
    },
    {
      "cell_type": "code",
      "metadata": {
        "id": "tK-AdIBy-ndV",
        "colab_type": "code",
        "colab": {
          "base_uri": "https://localhost:8080/",
          "height": 352
        },
        "outputId": "d4cb6f20-d4d5-4f18-c239-82c208151118"
      },
      "source": [
        "import numpy as np\n",
        "import pylab\n",
        "Polynomial = np.polynomial.Polynomial\n",
        "\n",
        "# The data: conc = [P] and absorbance, A\n",
        "conc = k_interval_times\n",
        "A = curve_length_list\n",
        "\n",
        "cmin, cmax = min(conc), max(conc)\n",
        "pfit, stats = Polynomial.fit(conc, A, 1, full=True, window=(cmin, cmax),\n",
        "                                                    domain=(cmin, cmax))\n",
        "\n",
        "print('Raw fit results:', pfit, stats, sep='\\n')\n",
        "\n",
        "A0, m = pfit\n",
        "resid, rank, sing_val, rcond = stats\n",
        "rms = np.sqrt(resid[0]/len(A))\n",
        "\n",
        "print('Fit: A = {:.3f}[P] + {:.3f}'.format(m, A0),\n",
        "      '(rms residual = {:.4f})'.format(rms))\n",
        "\n",
        "pylab.plot(conc, A)\n",
        "pylab.plot(conc, pfit(conc), color='k')\n",
        "pylab.xlabel('k')\n",
        "pylab.ylabel('l')\n",
        "pylab.show()"
      ],
      "execution_count": 27,
      "outputs": [
        {
          "output_type": "stream",
          "text": [
            "Raw fit results:\n",
            "poly([4459.24338175  -88.73140718])\n",
            "[array([1.40786955e+08]), 2, array([1.31074049, 0.53099847]), 2.886579864025407e-15]\n",
            "Fit: A = -88.731[P] + 4459.243 (rms residual = 3290.8609)\n"
          ],
          "name": "stdout"
        },
        {
          "output_type": "display_data",
          "data": {
            "image/png": "[encoded data removed]",
            "text/plain": [
              "<Figure size 432x288 with 1 Axes>"
            ]
          },
          "metadata": {
            "tags": [],
            "needs_background": "light"
          }
        }
      ]
    },
    {
      "cell_type": "markdown",
      "metadata": {
        "id": "32yO6HjBjZVM",
        "colab_type": "text"
      },
      "source": [
        "#UTTAR PRADESH"
      ]
    },
    {
      "cell_type": "code",
      "metadata": {
        "id": "BxX8LRf7lwJ7",
        "colab_type": "code",
        "colab": {
          "base_uri": "https://localhost:8080/",
          "height": 146
        },
        "outputId": "2f18cf66-7a81-4625-e16d-6072a05c9c3c"
      },
      "source": [
        "# k_value = int(input(\"Enter the bound og 'k' \"))\n",
        "data_list = up_np_array[1:154]\n",
        "#data_list = data_list.reshape(-1)\n",
        "print(data_list.shape)\n",
        "num_k =  int(input(\"Number of k values to generate: \"))  #number of k values to generate.\n",
        "k_max =  int(input(\"Max. k value: \"))  #the maximum k the k array is generated uniformly in log space from 2 to k_max\n",
        "\n",
        "k_interval_times, curve_length_list = curve_length(data_list, num_k, k_max)\n",
        "print(k_interval_times, curve_length_list)"
      ],
      "execution_count": 28,
      "outputs": [
        {
          "output_type": "stream",
          "text": [
            "(153,)\n",
            "Number of k values to generate: 4\n",
            "Max. k value: 14\n",
            "[ 2  3  4  6  8 10 14 18 24 32 43 57 75] [7276.78333333 3243.11703704 2192.49493243 1144.23512346  801.60677083\n",
            "  619.39710476  409.40907029  311.50431119  236.86886574  181.04774984\n",
            "  132.89047086   91.3507746    69.70364207]\n"
          ],
          "name": "stdout"
        }
      ]
    },
    {
      "cell_type": "code",
      "metadata": {
        "id": "6JRPwGGnlqUy",
        "colab_type": "code",
        "colab": {
          "base_uri": "https://localhost:8080/",
          "height": 35
        },
        "outputId": "f8ec0fec-8bcd-4613-d1a4-92becd1d2534"
      },
      "source": [
        "hfd(data_list)"
      ],
      "execution_count": 29,
      "outputs": [
        {
          "output_type": "execute_result",
          "data": {
            "text/plain": [
              "1.1797410459829762"
            ]
          },
          "metadata": {
            "tags": []
          },
          "execution_count": 29
        }
      ]
    },
    {
      "cell_type": "code",
      "metadata": {
        "id": "fHZg9rNnlVJj",
        "colab_type": "code",
        "colab": {
          "base_uri": "https://localhost:8080/",
          "height": 296
        },
        "outputId": "75fad3c2-91f0-4a8b-a868-cee0bbe83bf1"
      },
      "source": [
        "import math\n",
        "x = k_interval_times\n",
        "#x = np.logspace(curve_length[0], curve_length[len(curve_length) - 1], len(curve_length))\n",
        "log_y = []\n",
        "for i in curve_length_list:\n",
        "  log_y.append(math.log10(i))\n",
        "y = log_y\n",
        "#y = curve_length_list\n",
        "#y = np.logspace(k_interval_times[0], k_interval_times[len(k_interval_times) - 1], len(k_interval_times)) \n",
        "\n",
        "plt.title(\"UP\") \n",
        "plt.xlabel(\"k_interval_times\") \n",
        "plt.ylabel(\"curve_length\") \n",
        "plt.plot(x,y) \n",
        "plt.show()"
      ],
      "execution_count": 30,
      "outputs": [
        {
          "output_type": "display_data",
          "data": {
            "image/png": "[encoded data removed]",
            "text/plain": [
              "<Figure size 432x288 with 1 Axes>"
            ]
          },
          "metadata": {
            "tags": [],
            "needs_background": "light"
          }
        }
      ]
    },
    {
      "cell_type": "code",
      "metadata": {
        "id": "9gN39QY2-u0B",
        "colab_type": "code",
        "colab": {
          "base_uri": "https://localhost:8080/",
          "height": 352
        },
        "outputId": "d625f232-1d35-4284-dc76-681ec3528b80"
      },
      "source": [
        "import numpy as np\n",
        "import pylab\n",
        "Polynomial = np.polynomial.Polynomial\n",
        "\n",
        "# The data: conc = [P] and absorbance, A\n",
        "conc = k_interval_times\n",
        "A = curve_length_list\n",
        "\n",
        "cmin, cmax = min(conc), max(conc)\n",
        "pfit, stats = Polynomial.fit(conc, A, 1, full=True, window=(cmin, cmax),\n",
        "                                                    domain=(cmin, cmax))\n",
        "\n",
        "print('Raw fit results:', pfit, stats, sep='\\n')\n",
        "\n",
        "A0, m = pfit\n",
        "resid, rank, sing_val, rcond = stats\n",
        "rms = np.sqrt(resid[0]/len(A))\n",
        "\n",
        "print('Fit: A = {:.3f}[P] + {:.3f}'.format(m, A0),\n",
        "      '(rms residual = {:.4f})'.format(rms))\n",
        "\n",
        "pylab.plot(conc, A)\n",
        "pylab.plot(conc, pfit(conc), color='k')\n",
        "pylab.xlabel('k')\n",
        "pylab.ylabel('l')\n",
        "pylab.show()"
      ],
      "execution_count": 31,
      "outputs": [
        {
          "output_type": "stream",
          "text": [
            "Raw fit results:\n",
            "poly([2324.55079541  -45.63767282])\n",
            "[array([36327575.87472971]), 2, array([1.31074049, 0.53099847]), 2.886579864025407e-15]\n",
            "Fit: A = -45.638[P] + 2324.551 (rms residual = 1671.6545)\n"
          ],
          "name": "stdout"
        },
        {
          "output_type": "display_data",
          "data": {
            "image/png": "[encoded data removed]",
            "text/plain": [
              "<Figure size 432x288 with 1 Axes>"
            ]
          },
          "metadata": {
            "tags": [],
            "needs_background": "light"
          }
        }
      ]
    },
    {
      "cell_type": "markdown",
      "metadata": {
        "id": "AKvAI_RTjdRE",
        "colab_type": "text"
      },
      "source": [
        "# DELHI"
      ]
    },
    {
      "cell_type": "code",
      "metadata": {
        "id": "0Lib-cbmlxQb",
        "colab_type": "code",
        "colab": {
          "base_uri": "https://localhost:8080/",
          "height": 146
        },
        "outputId": "f5d81e28-6ea2-4ec5-94fd-0f56f6917343"
      },
      "source": [
        "# k_value = int(input(\"Enter the bound og 'k' \"))\n",
        "data_list = delhi_np_array[1:154]\n",
        "#data_list = data_list.reshape(-1)\n",
        "print(data_list.shape)\n",
        "num_k =  int(input(\"Number of k values to generate: \"))  #number of k values to generate.\n",
        "k_max =  int(input(\"Max. k value: \"))  #the maximum k the k array is generated uniformly in log space from 2 to k_max\n",
        "\n",
        "k_interval_times, curve_length_list = curve_length(data_list, num_k, k_max)\n",
        "print(k_interval_times, curve_length_list)"
      ],
      "execution_count": 32,
      "outputs": [
        {
          "output_type": "stream",
          "text": [
            "(153,)\n",
            "Number of k values to generate: 4\n",
            "Max. k value: 14\n",
            "[ 2  3  4  6  8 10 14 18 24 32 43 57 75] [9873.94       4670.34074074 2923.4222973  1412.29345679  967.42100694\n",
            "  738.72361905  445.43275024  331.86145405  231.66219136  157.55635579\n",
            "  108.49359176   63.36144455   33.64338726]\n"
          ],
          "name": "stdout"
        }
      ]
    },
    {
      "cell_type": "code",
      "metadata": {
        "id": "sf3yA3kklrbi",
        "colab_type": "code",
        "colab": {
          "base_uri": "https://localhost:8080/",
          "height": 35
        },
        "outputId": "6d575bd0-4ed3-4855-ec59-aba8b819b6fd"
      },
      "source": [
        "hfd(data_list)"
      ],
      "execution_count": 33,
      "outputs": [
        {
          "output_type": "execute_result",
          "data": {
            "text/plain": [
              "1.4440076188542394"
            ]
          },
          "metadata": {
            "tags": []
          },
          "execution_count": 33
        }
      ]
    },
    {
      "cell_type": "code",
      "metadata": {
        "id": "BcmU8IK8lWPk",
        "colab_type": "code",
        "colab": {
          "base_uri": "https://localhost:8080/",
          "height": 296
        },
        "outputId": "0ce5db4b-636e-43a1-8679-cb1ba785cf1d"
      },
      "source": [
        "import math\n",
        "x = k_interval_times\n",
        "#x = np.logspace(curve_length[0], curve_length[len(curve_length) - 1], len(curve_length))\n",
        "log_y = []\n",
        "for i in curve_length_list:\n",
        "  log_y.append(math.log10(i))\n",
        "y = log_y\n",
        "#y = curve_length_list\n",
        "#y = np.logspace(k_interval_times[0], k_interval_times[len(k_interval_times) - 1], len(k_interval_times)) \n",
        "\n",
        "plt.title(\"Delhi\") \n",
        "plt.xlabel(\"k_interval_times\") \n",
        "plt.ylabel(\"curve_length\") \n",
        "plt.plot(x,y) \n",
        "plt.show()"
      ],
      "execution_count": 34,
      "outputs": [
        {
          "output_type": "display_data",
          "data": {
            "image/png": "[encoded data removed]",
            "text/plain": [
              "<Figure size 432x288 with 1 Axes>"
            ]
          },
          "metadata": {
            "tags": [],
            "needs_background": "light"
          }
        }
      ]
    },
    {
      "cell_type": "code",
      "metadata": {
        "id": "Xqxz-haX-16J",
        "colab_type": "code",
        "colab": {
          "base_uri": "https://localhost:8080/",
          "height": 352
        },
        "outputId": "ec3b0b7c-71d0-4ec4-c41a-dbb453cd76cc"
      },
      "source": [
        "import numpy as np\n",
        "import pylab\n",
        "Polynomial = np.polynomial.Polynomial\n",
        "\n",
        "# The data: conc = [P] and absorbance, A\n",
        "conc = k_interval_times\n",
        "A = curve_length_list\n",
        "\n",
        "cmin, cmax = min(conc), max(conc)\n",
        "pfit, stats = Polynomial.fit(conc, A, 1, full=True, window=(cmin, cmax),\n",
        "                                                    domain=(cmin, cmax))\n",
        "\n",
        "print('Raw fit results:', pfit, stats, sep='\\n')\n",
        "\n",
        "A0, m = pfit\n",
        "resid, rank, sing_val, rcond = stats\n",
        "rms = np.sqrt(resid[0]/len(A))\n",
        "\n",
        "print('Fit: A = {:.3f}[P] + {:.3f}'.format(m, A0),\n",
        "      '(rms residual = {:.4f})'.format(rms))\n",
        "\n",
        "pylab.plot(conc, A)\n",
        "pylab.plot(conc, pfit(conc), color='k')\n",
        "pylab.xlabel('k')\n",
        "pylab.ylabel('l')\n",
        "pylab.show()"
      ],
      "execution_count": 35,
      "outputs": [
        {
          "output_type": "stream",
          "text": [
            "Raw fit results:\n",
            "poly([3117.69113992  -62.74267744])\n",
            "[array([69716007.69532676]), 2, array([1.31074049, 0.53099847]), 2.886579864025407e-15]\n",
            "Fit: A = -62.743[P] + 3117.691 (rms residual = 2315.7655)\n"
          ],
          "name": "stdout"
        },
        {
          "output_type": "display_data",
          "data": {
            "image/png": "[encoded data removed]",
            "text/plain": [
              "<Figure size 432x288 with 1 Axes>"
            ]
          },
          "metadata": {
            "tags": [],
            "needs_background": "light"
          }
        }
      ]
    },
    {
      "cell_type": "markdown",
      "metadata": {
        "id": "5n8wHUOxjhHK",
        "colab_type": "text"
      },
      "source": [
        "#WEST BENGAL"
      ]
    },
    {
      "cell_type": "code",
      "metadata": {
        "id": "gYS4Z2zZlySW",
        "colab_type": "code",
        "colab": {
          "base_uri": "https://localhost:8080/",
          "height": 146
        },
        "outputId": "3da84c3d-16b7-4ac7-a124-e38faa3bd02d"
      },
      "source": [
        "# k_value = int(input(\"Enter the bound og 'k' \"))\n",
        "data_list = wb_np_array[1:154]\n",
        "#data_list = data_list.reshape(-1)\n",
        "print(data_list.shape)\n",
        "num_k =  int(input(\"Number of k values to generate: \"))  #number of k values to generate.\n",
        "k_max =  int(input(\"Max. k value: \"))  #the maximum k the k array is generated uniformly in log space from 2 to k_max\n",
        "\n",
        "k_interval_times, curve_length_list = curve_length(data_list, num_k, k_max)\n",
        "print(k_interval_times, curve_length_list)"
      ],
      "execution_count": 36,
      "outputs": [
        {
          "output_type": "stream",
          "text": [
            "(153,)\n",
            "Number of k values to generate: 4\n",
            "Max. k value: 14\n",
            "[ 2  3  4  6  8 10 14 18 24 32 43 57 75] [3177.24666667 1718.50074074 1172.41891892  685.10950617  485.81684028\n",
            "  368.98144762  251.3483965   197.57272683  150.60688657  115.52960205\n",
            "   88.98864251   66.73848364   48.35014163]\n"
          ],
          "name": "stdout"
        }
      ]
    },
    {
      "cell_type": "code",
      "metadata": {
        "id": "c2-C-lDFlsWT",
        "colab_type": "code",
        "colab": {
          "base_uri": "https://localhost:8080/",
          "height": 35
        },
        "outputId": "93c462c5-141c-4030-8e77-4fe11bfa6883"
      },
      "source": [
        "hfd(data_list)"
      ],
      "execution_count": 37,
      "outputs": [
        {
          "output_type": "execute_result",
          "data": {
            "text/plain": [
              "1.0802491601018411"
            ]
          },
          "metadata": {
            "tags": []
          },
          "execution_count": 37
        }
      ]
    },
    {
      "cell_type": "code",
      "metadata": {
        "id": "DxzYwlaflXMa",
        "colab_type": "code",
        "colab": {
          "base_uri": "https://localhost:8080/",
          "height": 296
        },
        "outputId": "aea6cc6f-a917-4d43-ab21-593b34ccc649"
      },
      "source": [
        "import math\n",
        "x = k_interval_times\n",
        "#x = np.logspace(curve_length[0], curve_length[len(curve_length) - 1], len(curve_length))\n",
        "log_y = []\n",
        "for i in curve_length_list:\n",
        "  log_y.append(math.log10(i))\n",
        "y = log_y\n",
        "#y = curve_length_list\n",
        "#y = np.logspace(k_interval_times[0], k_interval_times[len(k_interval_times) - 1], len(k_interval_times)) \n",
        "\n",
        "plt.title(\"West Bengal\") \n",
        "plt.xlabel(\"k_interval_times\") \n",
        "plt.ylabel(\"curve_length\") \n",
        "plt.plot(x,y) \n",
        "plt.show()"
      ],
      "execution_count": 38,
      "outputs": [
        {
          "output_type": "display_data",
          "data": {
            "image/png": "[encoded data removed]",
            "text/plain": [
              "<Figure size 432x288 with 1 Axes>"
            ]
          },
          "metadata": {
            "tags": [],
            "needs_background": "light"
          }
        }
      ]
    },
    {
      "cell_type": "code",
      "metadata": {
        "id": "wxMssWGN--CB",
        "colab_type": "code",
        "colab": {
          "base_uri": "https://localhost:8080/",
          "height": 352
        },
        "outputId": "328b085c-3641-4f84-c71c-f9b5eece5a91"
      },
      "source": [
        "import numpy as np\n",
        "import pylab\n",
        "Polynomial = np.polynomial.Polynomial\n",
        "\n",
        "# The data: conc = [P] and absorbance, A\n",
        "conc = k_interval_times\n",
        "A = curve_length_list\n",
        "\n",
        "cmin, cmax = min(conc), max(conc)\n",
        "pfit, stats = Polynomial.fit(conc, A, 1, full=True, window=(cmin, cmax),\n",
        "                                                    domain=(cmin, cmax))\n",
        "\n",
        "print('Raw fit results:', pfit, stats, sep='\\n')\n",
        "\n",
        "A0, m = pfit\n",
        "resid, rank, sing_val, rcond = stats\n",
        "rms = np.sqrt(resid[0]/len(A))\n",
        "\n",
        "print('Fit: A = {:.3f}[P] + {:.3f}'.format(m, A0),\n",
        "      '(rms residual = {:.4f})'.format(rms))\n",
        "\n",
        "pylab.plot(conc, A)\n",
        "pylab.plot(conc, pfit(conc), color='k')\n",
        "pylab.xlabel('k')\n",
        "pylab.ylabel('l')\n",
        "pylab.show()"
      ],
      "execution_count": 39,
      "outputs": [
        {
          "output_type": "stream",
          "text": [
            "Raw fit results:\n",
            "poly([1161.59771964  -22.20797755])\n",
            "[array([6700810.8000144]), 2, array([1.31074049, 0.53099847]), 2.886579864025407e-15]\n",
            "Fit: A = -22.208[P] + 1161.598 (rms residual = 717.9464)\n"
          ],
          "name": "stdout"
        },
        {
          "output_type": "display_data",
          "data": {
            "image/png": "[encoded data removed]",
            "text/plain": [
              "<Figure size 432x288 with 1 Axes>"
            ]
          },
          "metadata": {
            "tags": [],
            "needs_background": "light"
          }
        }
      ]
    },
    {
      "cell_type": "markdown",
      "metadata": {
        "id": "kZYk4UPfjmQ6",
        "colab_type": "text"
      },
      "source": [
        "#Analysis"
      ]
    },
    {
      "cell_type": "code",
      "metadata": {
        "id": "LnYkBVftm0lV",
        "colab_type": "code",
        "colab": {}
      },
      "source": [
        ""
      ],
      "execution_count": null,
      "outputs": []
    }
  ]
}