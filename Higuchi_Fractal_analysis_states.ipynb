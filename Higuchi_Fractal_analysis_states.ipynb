{
  "nbformat": 4,
  "nbformat_minor": 0,
  "metadata": {
    "colab": {
      "name": "Higuchi_Fractal_analysis_states",
      "provenance": [],
      "toc_visible": true,
      "include_colab_link": true
    },
    "kernelspec": {
      "name": "python3",
      "display_name": "Python 3"
    },
    "accelerator": "GPU"
  },
  "cells": [
    {
      "cell_type": "markdown",
      "metadata": {
        "id": "view-in-github",
        "colab_type": "text"
      },
      "source": [
        "<a href=\"https://colab.research.google.com/github/ddasdibakardas/Fractal_Analysis/blob/master/Higuchi_Fractal_analysis_states.ipynb\" target=\"_parent\"><img src=\"https://colab.research.google.com/assets/colab-badge.svg\" alt=\"Open In Colab\"/></a>"
      ]
    },
    {
      "cell_type": "markdown",
      "metadata": {
        "id": "-RLYfQJMi6pH",
        "colab_type": "text"
      },
      "source": [
        "#C codes"
      ]
    },
    {
      "cell_type": "code",
      "metadata": {
        "id": "ALMEXNIDjmU8",
        "colab_type": "code",
        "colab": {}
      },
      "source": [
        "#!git clone https://github.com/inuritdino/HiguchiFractalDimension.git"
      ],
      "execution_count": null,
      "outputs": []
    },
    {
      "cell_type": "code",
      "metadata": {
        "id": "6WL9wLbwwO5x",
        "colab_type": "code",
        "colab": {}
      },
      "source": [
        "import pandas as pd\n",
        "import numpy as np\n",
        "import matplotlib.pyplot as plt\n",
        "import time"
      ],
      "execution_count": null,
      "outputs": []
    },
    {
      "cell_type": "code",
      "metadata": {
        "id": "PHmNbQdmzzfR",
        "colab_type": "code",
        "colab": {}
      },
      "source": [
        "import os\n",
        "import ctypes\n",
        "import numpy as np\n",
        "from numpy.ctypeslib import ndpointer\n",
        "\n",
        "def curve_length(X,opt=False,num_k=50,k_max=None):\n",
        "    \"\"\"\n",
        "    Calculate curve length <Lk> for Higuchi Fractal Dimension (HFD)\n",
        "    \n",
        "    Input:\n",
        "    \n",
        "    X - input (time) series (must be 1D, to be converted into a NumPy array)\n",
        "    opt (=True) - optimized? (if libhfd.so was compiled uses the faster code).\n",
        "    num_k - number of k values to generate.\n",
        "    k_max - the maximum k (the k array is generated uniformly in log space \n",
        "            from 2 to k_max)\n",
        "    Output:\n",
        "    k - interval \"times\", window sizes\n",
        "    Lk - curve length\n",
        "    \"\"\"\n",
        "    ### Make sure X is a NumPy array with the correct dimension\n",
        "    X = np.array(X)\n",
        "    if X.ndim != 1:\n",
        "        raise ValueError(\"Input array must be 1D (time series).\")\n",
        "    N = X.size\n",
        "\n",
        "    ### Get interval \"time\"\n",
        "    k_arr = interval_t(N,num_val=num_k,kmax=k_max)\n",
        "\n",
        "    ### The average length\n",
        "    Lk = np.empty(k_arr.size,dtype=np.float)\n",
        "\n",
        "    ### C library\n",
        "    '''\n",
        "    if opt:\n",
        "        X = np.require(X, float, ('C', 'A'))\n",
        "        k_arr = np.require(k_arr, ctypes.c_size_t, ('C', 'A'))\n",
        "        Lk = np.require(Lk, float, ('C', 'A'))\n",
        "        ## Load library here\n",
        "        libhfd = init_lib()\n",
        "        ## Run the C code here\n",
        "        libhfd.curve_length(k_arr,k_arr.size,X,N,Lk)\n",
        "    '''\n",
        "    #else:\n",
        "        ### Native Python run\n",
        "    for i in range(k_arr.size):# over array of k's\n",
        "            Lmk = 0.0\n",
        "            for j in range(k_arr[i]):# over m's\n",
        "                ## Construct X_k^m, i.e. X_(k_arr[i])^j, as X[j::k_arr[i]]\n",
        "                ## Calculate L_m(k)\n",
        "                Lmk += (\n",
        "                    np.sum(\n",
        "                        np.abs(\n",
        "                            np.diff( X[j::k_arr[i]] )\n",
        "                        )\n",
        "                    )\n",
        "                    * (N - 1) /\n",
        "                    (\n",
        "                        ( (N-j-1)//k_arr[i] )\n",
        "                        *\n",
        "                        k_arr[i]\n",
        "                    )\n",
        "                ) / k_arr[i]\n",
        "\n",
        "            ### Calculate the average Lmk\n",
        "            Lk[i] = Lmk / k_arr[i]\n",
        "\n",
        "    return (k_arr, Lk);\n",
        "\n",
        "def lin_fit_hfd(k,L,log=True):\n",
        "    \"\"\"\n",
        "    Calculate Higuchi Fractal Dimension (HFD) by fitting a line to already computed\n",
        "    interval times k and curve lengths L\n",
        "    Input:\n",
        "    k - interval \"times\", window sizes\n",
        "    L - curve length\n",
        "    log (=True) - k and L values will be transformed to np.log2(k) and np.log2(L),\n",
        "                  respectively\n",
        "    Output:\n",
        "    HFD\n",
        "    \"\"\"\n",
        "    if log:\n",
        "        return (-np.polyfit(np.log2(k),np.log2(L),deg=1)[0]);\n",
        "    else:\n",
        "        return (-np.polyfit(k,L,deg=1)[0]);\n",
        "\n",
        "def hfd(X,**kwargs):\n",
        "    \"\"\"\n",
        "    Calculate Higuchi Fractal Dimension (HFD) for 1D data/series\n",
        "    Input:\n",
        "    X - input (time) series (must be 1D, to be converted into a NumPy array)\n",
        "    Output:\n",
        "    \n",
        "    HFD\n",
        "    \"\"\"\n",
        "    k, L = curve_length(X,**kwargs)\n",
        "    return lin_fit_hfd(k, L);\n",
        "\n",
        "# Generating th interval\n",
        "def interval_t(size,num_val=50,kmax=None):\n",
        "    list_space = []\n",
        "    ### Generate sequence of interval times, k\n",
        "    if kmax is None:\n",
        "        k_stop = size//2\n",
        "    else:\n",
        "        k_stop = kmax\n",
        "    if k_stop > size//2:   ## prohibit going larger than N/2\n",
        "        k_stop = size//2\n",
        "        print(\"Warning: k cannot be longer than N/2\")\n",
        "    for i in range(2, k_stop):\n",
        "      list_space.append(i)    \n",
        "    #k = np.logspace(start=np.log2(2),stop=np.log2(k_stop),base=2,num=num_val,dtype=np.int)\n",
        "    return np.unique(list_space);\n",
        "\n",
        "def init_lib():\n",
        "    libdir = os.path.dirname(__file__)\n",
        "    libfile = os.path.join(libdir, \"libhfd.so\")\n",
        "    lib = ctypes.CDLL(libfile)\n",
        "\n",
        "    rwptr = ndpointer(float, flags=('C','A','W'))\n",
        "    rwptr_sizet = ndpointer(ctypes.c_size_t, flags=('C','A','W'))\n",
        "\n",
        "    lib.curve_length.restype = ctypes.c_int\n",
        "    lib.curve_length.argtypes = [rwptr_sizet, ctypes.c_size_t, rwptr, ctypes.c_size_t, rwptr]\n",
        "\n",
        "    return lib;"
      ],
      "execution_count": null,
      "outputs": []
    },
    {
      "cell_type": "code",
      "metadata": {
        "id": "Y2wDgnnTBwpC",
        "colab_type": "code",
        "colab": {}
      },
      "source": [
        "x = np.random.randn(1000)\n",
        "y = np.empty(990)\n",
        "for i in range(x.size-10):\n",
        "\ty[i] = np.sum(x[:(i+10)])\n",
        " \n",
        "#for i in x:\n",
        "  #print(i)\n",
        "\n"
      ],
      "execution_count": null,
      "outputs": []
    },
    {
      "cell_type": "code",
      "metadata": {
        "id": "8hO9ultSIlT9",
        "colab_type": "code",
        "colab": {}
      },
      "source": [
        "#for j in y:\n",
        "  #print(i)"
      ],
      "execution_count": null,
      "outputs": []
    },
    {
      "cell_type": "code",
      "metadata": {
        "id": "XdpH0ICnHVuC",
        "colab_type": "code",
        "colab": {}
      },
      "source": [
        ""
      ],
      "execution_count": null,
      "outputs": []
    },
    {
      "cell_type": "code",
      "metadata": {
        "id": "OHC-kmGRs3Qz",
        "colab_type": "code",
        "colab": {
          "base_uri": "https://localhost:8080/",
          "height": 51
        },
        "outputId": "36a22cd4-0284-4216-da18-af331706b153"
      },
      "source": [
        "# Validation of the algorithm\n",
        "x = np.random.randn(1000)\n",
        "y = np.empty(990)\n",
        "for i in range(x.size-10):\n",
        "\ty[i] = np.sum(x[:(i+10)])\n",
        "\t\n",
        "## Note x is a Guassian noise, y is the original Brownian data used in Higuchi, Physica D, 1988.\n",
        "\n",
        "print(hfd(x)) # ~ 2.00\n",
        "print(hfd(y)) # ~ 1.50\n",
        "#print(a, b)"
      ],
      "execution_count": null,
      "outputs": [
        {
          "output_type": "stream",
          "text": [
            "2.000873696077913\n",
            "1.579489996331308\n"
          ],
          "name": "stdout"
        }
      ]
    },
    {
      "cell_type": "code",
      "metadata": {
        "id": "MuOmp7owT0Si",
        "colab_type": "code",
        "colab": {
          "base_uri": "https://localhost:8080/",
          "height": 1000
        },
        "outputId": "82fb8893-2099-493d-8a14-b4d6edc5f1c3"
      },
      "source": [
        "k, l = curve_length((x))\n",
        "print(k, l)"
      ],
      "execution_count": null,
      "outputs": [
        {
          "output_type": "stream",
          "text": [
            "[  2   3   4   5   6   7   8   9  10  11  12  13  14  15  16  17  18  19\n",
            "  20  21  22  23  24  25  26  27  28  29  30  31  32  33  34  35  36  37\n",
            "  38  39  40  41  42  43  44  45  46  47  48  49  50  51  52  53  54  55\n",
            "  56  57  58  59  60  61  62  63  64  65  66  67  68  69  70  71  72  73\n",
            "  74  75  76  77  78  79  80  81  82  83  84  85  86  87  88  89  90  91\n",
            "  92  93  94  95  96  97  98  99 100 101 102 103 104 105 106 107 108 109\n",
            " 110 111 112 113 114 115 116 117 118 119 120 121 122 123 124 125 126 127\n",
            " 128 129 130 131 132 133 134 135 136 137 138 139 140 141 142 143 144 145\n",
            " 146 147 148 149 150 151 152 153 154 155 156 157 158 159 160 161 162 163\n",
            " 164 165 166 167 168 169 170 171 172 173 174 175 176 177 178 179 180 181\n",
            " 182 183 184 185 186 187 188 189 190 191 192 193 194 195 196 197 198 199\n",
            " 200 201 202 203 204 205 206 207 208 209 210 211 212 213 214 215 216 217\n",
            " 218 219 220 221 222 223 224 225 226 227 228 229 230 231 232 233 234 235\n",
            " 236 237 238 239 240 241 242 243 244 245 246 247 248 249 250 251 252 253\n",
            " 254 255 256 257 258 259 260 261 262 263 264 265 266 267 268 269 270 271\n",
            " 272 273 274 275 276 277 278 279 280 281 282 283 284 285 286 287 288 289\n",
            " 290 291 292 293 294 295 296 297 298 299 300 301 302 303 304 305 306 307\n",
            " 308 309 310 311 312 313 314 315 316 317 318 319 320 321 322 323 324 325\n",
            " 326 327 328 329 330 331 332 333 334 335 336 337 338 339 340 341 342 343\n",
            " 344 345 346 347 348 349 350 351 352 353 354 355 356 357 358 359 360 361\n",
            " 362 363 364 365 366 367 368 369 370 371 372 373 374 375 376 377 378 379\n",
            " 380 381 382 383 384 385 386 387 388 389 390 391 392 393 394 395 396 397\n",
            " 398 399 400 401 402 403 404 405 406 407 408 409 410 411 412 413 414 415\n",
            " 416 417 418 419 420 421 422 423 424 425 426 427 428 429 430 431 432 433\n",
            " 434 435 436 437 438 439 440 441 442 443 444 445 446 447 448 449 450 451\n",
            " 452 453 454 455 456 457 458 459 460 461 462 463 464 465 466 467 468 469\n",
            " 470 471 472 473 474 475 476 477 478 479 480 481 482 483 484 485 486 487\n",
            " 488 489 490 491 492 493 494 495 496 497 498 499] [2.84865190e+02 1.25911270e+02 6.99654370e+01 4.42461644e+01\n",
            " 3.02286987e+01 2.29715758e+01 1.76858961e+01 1.34079241e+01\n",
            " 1.09288053e+01 9.14385689e+00 7.79276966e+00 6.56643872e+00\n",
            " 5.52114749e+00 4.88779103e+00 4.21549357e+00 3.83219877e+00\n",
            " 3.39426762e+00 3.05704547e+00 2.79757867e+00 2.49380764e+00\n",
            " 2.27804437e+00 2.09867033e+00 1.88034525e+00 1.80677961e+00\n",
            " 1.63474019e+00 1.46874771e+00 1.40968091e+00 1.33424292e+00\n",
            " 1.20705969e+00 1.15134098e+00 1.07727030e+00 1.00120737e+00\n",
            " 9.36408820e-01 8.98566895e-01 8.16823946e-01 8.00619304e-01\n",
            " 7.69791308e-01 7.21911977e-01 7.01426801e-01 6.71282024e-01\n",
            " 6.15648414e-01 5.72125724e-01 5.79514193e-01 5.53989232e-01\n",
            " 5.20268365e-01 4.88486329e-01 4.83837396e-01 4.62399848e-01\n",
            " 4.46971678e-01 4.29459475e-01 4.06630464e-01 3.81272279e-01\n",
            " 3.76350915e-01 3.53811741e-01 3.49644564e-01 3.31039606e-01\n",
            " 3.28607866e-01 3.12992844e-01 2.97113379e-01 2.90996582e-01\n",
            " 2.87609259e-01 2.72496694e-01 2.74014731e-01 2.57769407e-01\n",
            " 2.43857221e-01 2.40029184e-01 2.40025354e-01 2.27835818e-01\n",
            " 2.19469696e-01 2.24285996e-01 2.10794735e-01 2.02145548e-01\n",
            " 2.00454076e-01 1.99668740e-01 1.98879902e-01 1.81617860e-01\n",
            " 1.86264097e-01 1.75001098e-01 1.69547193e-01 1.67968879e-01\n",
            " 1.66743325e-01 1.60246633e-01 1.51671851e-01 1.47569977e-01\n",
            " 1.46731359e-01 1.48074290e-01 1.43556493e-01 1.41600403e-01\n",
            " 1.36030474e-01 1.31977807e-01 1.31571274e-01 1.23986562e-01\n",
            " 1.25163482e-01 1.24382984e-01 1.23726508e-01 1.15056775e-01\n",
            " 1.12288574e-01 1.09974639e-01 1.09689666e-01 1.09067904e-01\n",
            " 1.04597117e-01 1.04283283e-01 1.01895564e-01 1.02634394e-01\n",
            " 9.76607750e-02 9.61833977e-02 9.63588761e-02 9.39166987e-02\n",
            " 9.06394943e-02 9.11676888e-02 8.88370691e-02 8.88202683e-02\n",
            " 8.56212209e-02 8.30017422e-02 7.94879311e-02 8.21516961e-02\n",
            " 8.04976694e-02 7.86087754e-02 7.50866561e-02 7.36409062e-02\n",
            " 7.33160463e-02 7.24048347e-02 7.24083835e-02 7.21444330e-02\n",
            " 6.96419527e-02 6.61854179e-02 6.86744339e-02 6.86951531e-02\n",
            " 6.72954114e-02 6.43374140e-02 6.37523729e-02 6.18064448e-02\n",
            " 6.11024365e-02 6.11807936e-02 6.22915101e-02 6.04526935e-02\n",
            " 5.97951231e-02 5.65250456e-02 5.52519270e-02 5.50753166e-02\n",
            " 5.48325417e-02 5.50449254e-02 5.37036493e-02 5.39811126e-02\n",
            " 5.04259526e-02 4.89563730e-02 5.23952418e-02 4.97406966e-02\n",
            " 4.86501248e-02 4.75921759e-02 4.64216717e-02 4.75379004e-02\n",
            " 4.68288745e-02 4.57986431e-02 4.64334472e-02 4.54564585e-02\n",
            " 4.54545726e-02 4.47780113e-02 4.35191787e-02 4.26891810e-02\n",
            " 4.17604915e-02 4.22366722e-02 4.15975286e-02 3.95073943e-02\n",
            " 4.14814010e-02 3.90564899e-02 3.93564362e-02 3.81289675e-02\n",
            " 3.85910268e-02 3.86518575e-02 3.83914739e-02 3.75721900e-02\n",
            " 3.69923735e-02 3.63908167e-02 3.47132754e-02 3.51080154e-02\n",
            " 3.43663256e-02 3.49530599e-02 3.45454333e-02 3.43727832e-02\n",
            " 3.24904274e-02 3.18068072e-02 3.22768414e-02 3.22510273e-02\n",
            " 2.99754968e-02 3.07708921e-02 3.08005436e-02 3.12162135e-02\n",
            " 3.04906177e-02 3.07964879e-02 3.02294919e-02 2.99165439e-02\n",
            " 3.05485421e-02 2.95017196e-02 2.88976079e-02 2.86065532e-02\n",
            " 2.79894925e-02 2.84898873e-02 2.76268944e-02 2.72396602e-02\n",
            " 2.77052831e-02 2.71476499e-02 2.57025622e-02 2.68576171e-02\n",
            " 2.69541751e-02 2.60405105e-02 2.54669982e-02 2.48066318e-02\n",
            " 2.61271004e-02 2.55504139e-02 2.42343796e-02 2.42774732e-02\n",
            " 2.46729715e-02 2.50350270e-02 2.38511414e-02 2.32072398e-02\n",
            " 2.28742161e-02 2.26713085e-02 2.33376401e-02 2.26514154e-02\n",
            " 2.20185697e-02 2.25410124e-02 2.24578612e-02 2.15086727e-02\n",
            " 2.08639121e-02 2.17055638e-02 2.11066347e-02 2.20533210e-02\n",
            " 2.05471933e-02 2.05656700e-02 2.06714659e-02 2.02873560e-02\n",
            " 2.01541750e-02 2.00680854e-02 1.96067852e-02 1.89058469e-02\n",
            " 1.88223655e-02 1.88195557e-02 1.96183477e-02 1.93409498e-02\n",
            " 1.92680239e-02 1.83743964e-02 1.87120439e-02 1.82907396e-02\n",
            " 1.79179980e-02 1.82655503e-02 1.86450101e-02 1.81483342e-02\n",
            " 1.73594689e-02 1.79702810e-02 1.74502006e-02 1.72945923e-02\n",
            " 1.66017150e-02 1.67813147e-02 1.64771399e-02 1.69390303e-02\n",
            " 1.69541029e-02 1.64446869e-02 1.60008677e-02 1.60173968e-02\n",
            " 1.65445024e-02 1.55240321e-02 1.61758449e-02 1.59404269e-02\n",
            " 1.54536383e-02 1.50481024e-02 1.56319677e-02 1.54735147e-02\n",
            " 1.50718294e-02 1.46929661e-02 1.50253331e-02 1.44750153e-02\n",
            " 1.46481480e-02 1.52037282e-02 1.45079619e-02 1.42822957e-02\n",
            " 1.46657544e-02 1.41597107e-02 1.44329474e-02 1.37379539e-02\n",
            " 1.33295835e-02 1.35403903e-02 1.42087304e-02 1.35733111e-02\n",
            " 1.31069238e-02 1.33883755e-02 1.29401495e-02 1.33527130e-02\n",
            " 1.35816044e-02 1.31646144e-02 1.28865755e-02 1.25600685e-02\n",
            " 1.28446253e-02 1.25562248e-02 1.29372352e-02 1.24359091e-02\n",
            " 1.21733525e-02 1.21214905e-02 1.22233563e-02 1.26082356e-02\n",
            " 1.14847064e-02 1.18193900e-02 1.17240210e-02 1.22675351e-02\n",
            " 1.16225899e-02 1.16262348e-02 1.17169876e-02 1.13008544e-02\n",
            " 1.13830727e-02 1.10666268e-02 1.16216515e-02 1.12730279e-02\n",
            " 1.10377316e-02 1.15114280e-02 1.06689995e-02 1.08665621e-02\n",
            " 1.08158559e-02 1.03610733e-02 1.12240837e-02 1.07660891e-02\n",
            " 1.05402145e-02 1.02219605e-02 1.02171418e-02 1.04322004e-02\n",
            " 1.04470209e-02 1.00320636e-02 9.88887490e-03 1.00574870e-02\n",
            " 9.50871696e-03 1.01785630e-02 1.01331605e-02 9.70554134e-03\n",
            " 9.94847751e-03 9.83153277e-03 9.58441324e-03 9.41965397e-03\n",
            " 9.51714407e-03 9.47403324e-03 9.31491061e-03 9.60596922e-03\n",
            " 9.37807406e-03 9.27844970e-03 9.45223515e-03 9.40905082e-03\n",
            " 9.63663564e-03 9.42167703e-03 8.70108988e-03 9.11033198e-03\n",
            " 9.33072031e-03 9.07921479e-03 8.69409919e-03 8.61018547e-03\n",
            " 8.58082297e-03 8.60268735e-03 8.79020154e-03 8.56657520e-03\n",
            " 8.61521658e-03 8.22731552e-03 8.44815573e-03 8.45878494e-03\n",
            " 8.58967330e-03 8.53488239e-03 8.48714525e-03 7.94429549e-03\n",
            " 8.41282928e-03 8.36848660e-03 8.38299472e-03 7.90816917e-03\n",
            " 8.08748897e-03 8.23263920e-03 7.86310132e-03 7.78084641e-03\n",
            " 7.99374244e-03 8.02758400e-03 7.68714436e-03 7.73875693e-03\n",
            " 7.95257671e-03 7.55633154e-03 7.85910338e-03 7.68875037e-03\n",
            " 7.37227277e-03 7.54197342e-03 7.42528666e-03 7.50810834e-03\n",
            " 7.36962148e-03 7.45945440e-03 7.07596056e-03 7.08770267e-03\n",
            " 7.33992492e-03 7.08852988e-03 7.23867290e-03 7.26905673e-03\n",
            " 7.41938139e-03 6.88338537e-03 6.98373900e-03 6.80910779e-03\n",
            " 7.01194740e-03 7.00554410e-03 6.90489956e-03 6.80688221e-03\n",
            " 6.75799908e-03 6.96327027e-03 6.77082185e-03 6.97045166e-03\n",
            " 6.90438170e-03 6.48092195e-03 6.33684431e-03 6.77416259e-03\n",
            " 6.71432996e-03 6.71820363e-03 6.21166248e-03 6.29426596e-03\n",
            " 6.23372045e-03 6.27015564e-03 6.46406135e-03 6.58490449e-03\n",
            " 6.47827543e-03 6.60246761e-03 6.12580899e-03 5.96885884e-03\n",
            " 6.10360171e-03 6.17716017e-03 5.93852655e-03 5.84085060e-03\n",
            " 5.88623194e-03 6.24306837e-03 5.88402824e-03 6.07020106e-03\n",
            " 5.88686285e-03 5.79761834e-03 5.81124401e-03 6.24329953e-03\n",
            " 5.66727163e-03 5.84762614e-03 5.97149170e-03 5.80303055e-03\n",
            " 5.77188771e-03 5.69325420e-03 5.95218697e-03 5.73940299e-03\n",
            " 5.71493382e-03 5.72822836e-03 5.51508483e-03 5.62341582e-03\n",
            " 5.42689872e-03 5.61446053e-03 5.68995229e-03 5.30246895e-03\n",
            " 5.30747706e-03 5.64296539e-03 5.55721202e-03 5.38168949e-03\n",
            " 5.21937395e-03 5.15699203e-03 5.37975968e-03 5.22955515e-03\n",
            " 5.06581137e-03 5.26676315e-03 5.23686647e-03 5.29973398e-03\n",
            " 5.31334373e-03 5.10794776e-03 5.07875246e-03 5.13176811e-03\n",
            " 5.21769255e-03 4.98210814e-03 4.61143943e-03 4.89101191e-03\n",
            " 5.24639229e-03 5.13937123e-03 4.96617953e-03 4.88445792e-03\n",
            " 4.70418140e-03 4.86344979e-03 4.93120926e-03 4.89297667e-03\n",
            " 4.80442815e-03 4.78680912e-03 4.77978680e-03 4.64493391e-03\n",
            " 4.60334910e-03 4.72930414e-03 4.78526680e-03 4.72625162e-03\n",
            " 4.67787295e-03 4.66317205e-03 4.45769902e-03 4.40293672e-03\n",
            " 4.57087694e-03 4.46687474e-03 4.54590027e-03 4.70111251e-03\n",
            " 4.39150473e-03 4.56001868e-03 4.54629398e-03 4.53040981e-03\n",
            " 4.38800392e-03 4.26552101e-03]\n"
          ],
          "name": "stdout"
        }
      ]
    },
    {
      "cell_type": "code",
      "metadata": {
        "id": "XbJpa9RI_Xs4",
        "colab_type": "code",
        "colab": {}
      },
      "source": [
        ""
      ],
      "execution_count": null,
      "outputs": []
    },
    {
      "cell_type": "code",
      "metadata": {
        "id": "1wGNxH1gUcBA",
        "colab_type": "code",
        "colab": {
          "base_uri": "https://localhost:8080/",
          "height": 296
        },
        "outputId": "bf4bbd42-c8d7-49c6-81bb-44c30df711ed"
      },
      "source": [
        "import math\n",
        "#x = k_interval_times\n",
        "#x = np.logspace(curve_length[0], curve_length[len(curve_length) - 1], len(curve_length))\n",
        "log_y = []\n",
        "for i in l:\n",
        "  log_y.append(math.log10(i))\n",
        "y = log_y\n",
        "#y = curve_length_list\n",
        "#y = np.logspace(k_interval_times[0], k_interval_times[len(k_interval_times) - 1], len(k_interval_times)) \n",
        "\n",
        "plt.title(\"Test\") \n",
        "plt.xlabel(\"k_interval_times\") \n",
        "plt.ylabel(\"curve_length\") \n",
        "plt.plot(k,y) \n",
        "plt.show()"
      ],
      "execution_count": null,
      "outputs": [
        {
          "output_type": "display_data",
          "data": {
            "image/png": "[encoded data removed]",
            "text/plain": [
              "<Figure size 432x288 with 1 Axes>"
            ]
          },
          "metadata": {
            "tags": [],
            "needs_background": "light"
          }
        }
      ]
    },
    {
      "cell_type": "code",
      "metadata": {
        "id": "RVkQxqftakTI",
        "colab_type": "code",
        "colab": {
          "base_uri": "https://localhost:8080/",
          "height": 347
        },
        "outputId": "3b3f942f-fed8-43d1-867d-9bdf4ac510af"
      },
      "source": [
        "import numpy as np\n",
        "import pylab\n",
        "Polynomial = np.polynomial.Polynomial\n",
        "\n",
        "# The data: conc = [P] and absorbance, A\n",
        "conc = k\n",
        "A = y\n",
        "\n",
        "cmin, cmax = min(conc), max(conc)\n",
        "pfit, stats = Polynomial.fit(conc, A, 1, full=True, window=(cmin, cmax),\n",
        "                                                    domain=(cmin, cmax))\n",
        "\n",
        "print('Raw fit results:', pfit, stats, sep='\\n')\n",
        "\n",
        "A0, m = pfit\n",
        "resid, rank, sing_val, rcond = stats\n",
        "rms = np.sqrt(resid[0]/len(A))\n",
        "\n",
        "print('Fit: A = {:.3f}[P] + {:.3f}'.format(m, A0),\n",
        "      '(rms residual = {:.4f})'.format(rms))\n",
        "\n",
        "pylab.plot(conc, A)\n",
        "pylab.plot(conc, pfit(conc), color='k')\n",
        "pylab.xlabel('k')\n",
        "pylab.ylabel('l')\n",
        "pylab.show()"
      ],
      "execution_count": null,
      "outputs": [
        {
          "output_type": "stream",
          "text": [
            "Raw fit results:\n",
            "poly([-0.22808061 -0.00508289])\n",
            "[array([71.66211696]), 2, array([1.36649965, 0.36425087]), 1.1057821325266559e-13]\n",
            "Fit: A = -0.005[P] + -0.228 (rms residual = 0.3793)\n"
          ],
          "name": "stdout"
        },
        {
          "output_type": "display_data",
          "data": {
            "image/png": "[encoded data removed]",
            "text/plain": [
              "<Figure size 432x288 with 1 Axes>"
            ]
          },
          "metadata": {
            "tags": [],
            "needs_background": "light"
          }
        }
      ]
    },
    {
      "cell_type": "code",
      "metadata": {
        "id": "S8ZJ9wy5Bucz",
        "colab_type": "code",
        "colab": {}
      },
      "source": [
        "# Linear Regression\n",
        "\n",
        "import numpy as np\n",
        "from sklearn.linear_model import LinearRegression"
      ],
      "execution_count": null,
      "outputs": []
    },
    {
      "cell_type": "code",
      "metadata": {
        "id": "_JPYz3QRBy0i",
        "colab_type": "code",
        "colab": {}
      },
      "source": [
        "x = np.array([5, 15, 25, 35, 45, 55]).reshape((-1, 1))\n",
        "y = np.array([5, 20, 14, 32, 22, 38])"
      ],
      "execution_count": null,
      "outputs": []
    },
    {
      "cell_type": "code",
      "metadata": {
        "id": "_sib08DbCBVe",
        "colab_type": "code",
        "colab": {
          "base_uri": "https://localhost:8080/",
          "height": 35
        },
        "outputId": "47a8757b-5d45-4222-e12f-8e417badebd4"
      },
      "source": [
        "model = LinearRegression()\n",
        "model.fit(x, y)"
      ],
      "execution_count": null,
      "outputs": [
        {
          "output_type": "execute_result",
          "data": {
            "text/plain": [
              "LinearRegression(copy_X=True, fit_intercept=True, n_jobs=None, normalize=False)"
            ]
          },
          "metadata": {
            "tags": []
          },
          "execution_count": 42
        }
      ]
    },
    {
      "cell_type": "code",
      "metadata": {
        "id": "5d4mTOzuCIgO",
        "colab_type": "code",
        "colab": {}
      },
      "source": [
        "model = LinearRegression().fit(x, y)"
      ],
      "execution_count": null,
      "outputs": []
    },
    {
      "cell_type": "code",
      "metadata": {
        "id": "i2sAqMv2CYeI",
        "colab_type": "code",
        "colab": {
          "base_uri": "https://localhost:8080/",
          "height": 35
        },
        "outputId": "6fde3b41-b069-4eb1-b2f1-29a191788aa6"
      },
      "source": [
        "r_sq = model.score(x, y)\n",
        "print('coefficient of determination:', r_sq)"
      ],
      "execution_count": null,
      "outputs": [
        {
          "output_type": "stream",
          "text": [
            "coefficient of determination: 0.7158756137479542\n"
          ],
          "name": "stdout"
        }
      ]
    },
    {
      "cell_type": "code",
      "metadata": {
        "id": "iB1poAotCiUV",
        "colab_type": "code",
        "colab": {
          "base_uri": "https://localhost:8080/",
          "height": 35
        },
        "outputId": "5054de17-2578-41f9-a81c-9fe069b071ed"
      },
      "source": [
        "print('intercept:', model.intercept_)"
      ],
      "execution_count": null,
      "outputs": [
        {
          "output_type": "stream",
          "text": [
            "intercept: 5.633333333333329\n"
          ],
          "name": "stdout"
        }
      ]
    },
    {
      "cell_type": "code",
      "metadata": {
        "id": "VTad9T0BCmti",
        "colab_type": "code",
        "colab": {
          "base_uri": "https://localhost:8080/",
          "height": 35
        },
        "outputId": "4f40f9a9-d259-4288-c144-2e8521d3dd6c"
      },
      "source": [
        "print('slope:', model.coef_)"
      ],
      "execution_count": null,
      "outputs": [
        {
          "output_type": "stream",
          "text": [
            "slope: [0.54]\n"
          ],
          "name": "stdout"
        }
      ]
    },
    {
      "cell_type": "code",
      "metadata": {
        "id": "AB97U88bC0MW",
        "colab_type": "code",
        "colab": {}
      },
      "source": [
        "new_model = LinearRegression().fit(x, y.reshape((-1, 1)))\n",
        "print('intercept:', new_model.intercept_)\n",
        "print('slope:', new_model.coef_)"
      ],
      "execution_count": null,
      "outputs": []
    },
    {
      "cell_type": "code",
      "metadata": {
        "id": "n2FHYRgSC8CC",
        "colab_type": "code",
        "colab": {}
      },
      "source": [
        "y_pred = model.predict(x)\n",
        "print('predicted response:', y_pred, sep='\\n')"
      ],
      "execution_count": null,
      "outputs": []
    },
    {
      "cell_type": "code",
      "metadata": {
        "id": "7PSypPTLDVyj",
        "colab_type": "code",
        "colab": {}
      },
      "source": [
        "y_pred = model.intercept_ + model.coef_ * x\n",
        "print('predicted response:', y_pred, sep='\\n')"
      ],
      "execution_count": null,
      "outputs": []
    },
    {
      "cell_type": "code",
      "metadata": {
        "id": "Ul7X1UxfDnlY",
        "colab_type": "code",
        "colab": {
          "base_uri": "https://localhost:8080/",
          "height": 102
        },
        "outputId": "a4c95cc9-d879-4db9-8ce8-6902db43d3ad"
      },
      "source": [
        "x_new = np.arange(5).reshape((-1, 1))\n",
        "print(x_new)"
      ],
      "execution_count": null,
      "outputs": [
        {
          "output_type": "stream",
          "text": [
            "[[0]\n",
            " [1]\n",
            " [2]\n",
            " [3]\n",
            " [4]]\n"
          ],
          "name": "stdout"
        }
      ]
    },
    {
      "cell_type": "code",
      "metadata": {
        "id": "Hl_5ChCZEikr",
        "colab_type": "code",
        "colab": {
          "base_uri": "https://localhost:8080/",
          "height": 313
        },
        "outputId": "ee3bfed2-ac59-4739-c4f1-9072358db5b3"
      },
      "source": [
        "import numpy as np \n",
        "import matplotlib.pyplot as plt \n",
        "  \n",
        "def estimate_coef(x, y): \n",
        "    # number of observations/points \n",
        "    n = np.size(x) \n",
        "  \n",
        "    # mean of x and y vector \n",
        "    m_x, m_y = np.mean(x), np.mean(y) \n",
        "  \n",
        "    # calculating cross-deviation and deviation about x \n",
        "    SS_xy = np.sum(y*x) - n*m_y*m_x \n",
        "    SS_xx = np.sum(x*x) - n*m_x*m_x \n",
        "  \n",
        "    # calculating regression coefficients \n",
        "    b_1 = SS_xy / SS_xx \n",
        "    b_0 = m_y - b_1*m_x \n",
        "  \n",
        "    return(b_0, b_1) \n",
        "  \n",
        "def plot_regression_line(x, y, b): \n",
        "    # plotting the actual points as scatter plot \n",
        "    #plt.scatter(x, y, color = \"m\", marker = \"o\", s = 30) \n",
        "    plt.plot(x, y)\n",
        "  \n",
        "    # predicted response vector \n",
        "    y_pred = b[0] + b[1]*x \n",
        "  \n",
        "    # plotting the regression line \n",
        "    #plt.plot(x, y_pred, color = \"g\") \n",
        "    plt.plot(x, y_pred)\n",
        "  \n",
        "    # putting labels \n",
        "    plt.xlabel('x') \n",
        "    plt.ylabel('y') \n",
        "  \n",
        "    # function to show plot \n",
        "    plt.show() \n",
        "  \n",
        "def main(): \n",
        "    # observations \n",
        "    x = k  # np.array([0, 1, 2, 3, 4, 5, 6, 7, 8, 9]) \n",
        "    y = l  # np.array([1, 3, 2, 5, 7, 8, 8, 9, 10, 12]) \n",
        "  \n",
        "    # estimating coefficients \n",
        "    b = estimate_coef(x, y) \n",
        "    print(\"Estimated coefficients:\\nb_0 = {}  nb_1 = {}\".format(b[0], b[1])) \n",
        "  \n",
        "    # plotting regression line \n",
        "    plot_regression_line(x, y, b) \n",
        "  \n",
        "if __name__ == \"__main__\": \n",
        "    main()"
      ],
      "execution_count": null,
      "outputs": [
        {
          "output_type": "stream",
          "text": [
            "Estimated coefficients:\n",
            "b_0 = 5.702721573632764  nb_1 = -0.01697066160853567\n"
          ],
          "name": "stdout"
        },
        {
          "output_type": "display_data",
          "data": {
            "image/png": "[encoded data removed]",
            "text/plain": [
              "<Figure size 432x288 with 1 Axes>"
            ]
          },
          "metadata": {
            "tags": [],
            "needs_background": "light"
          }
        }
      ]
    },
    {
      "cell_type": "markdown",
      "metadata": {
        "id": "tc4bSgPjwH_C",
        "colab_type": "text"
      },
      "source": [
        "#Data Preprocessing"
      ]
    },
    {
      "cell_type": "code",
      "metadata": {
        "id": "s5wlRg_5wKNF",
        "colab_type": "code",
        "colab": {
          "base_uri": "https://localhost:8080/",
          "height": 204
        },
        "outputId": "251fd0f3-9a06-4f17-fc6f-3a8803966e0a"
      },
      "source": [
        "data = pd.read_csv('/content/sample_data/AVG_DATA.csv')\n",
        "data.head()"
      ],
      "execution_count": null,
      "outputs": [
        {
          "output_type": "execute_result",
          "data": {
            "text/html": [
              "<div>\n",
              "<style scoped>\n",
              "    .dataframe tbody tr th:only-of-type {\n",
              "        vertical-align: middle;\n",
              "    }\n",
              "\n",
              "    .dataframe tbody tr th {\n",
              "        vertical-align: top;\n",
              "    }\n",
              "\n",
              "    .dataframe thead th {\n",
              "        text-align: right;\n",
              "    }\n",
              "</style>\n",
              "<table border=\"1\" class=\"dataframe\">\n",
              "  <thead>\n",
              "    <tr style=\"text-align: right;\">\n",
              "      <th></th>\n",
              "      <th>SNO.</th>\n",
              "      <th>MAHARASHTRA</th>\n",
              "      <th>ANDHRA PRADESH</th>\n",
              "      <th>TAMIL NADU</th>\n",
              "      <th>KARNATAKA</th>\n",
              "      <th>UTTAR PRADESH</th>\n",
              "      <th>DELHI INCREASING</th>\n",
              "      <th>DELHI RECEDING</th>\n",
              "      <th>WEST BENGAL</th>\n",
              "    </tr>\n",
              "  </thead>\n",
              "  <tbody>\n",
              "    <tr>\n",
              "      <th>0</th>\n",
              "      <td>NaN</td>\n",
              "      <td>NaN</td>\n",
              "      <td>NaN</td>\n",
              "      <td>NaN</td>\n",
              "      <td>NaN</td>\n",
              "      <td>NaN</td>\n",
              "      <td>NaN</td>\n",
              "      <td>NaN</td>\n",
              "      <td>NaN</td>\n",
              "    </tr>\n",
              "    <tr>\n",
              "      <th>1</th>\n",
              "      <td>1.0</td>\n",
              "      <td>33.0</td>\n",
              "      <td>67.0</td>\n",
              "      <td>110.0</td>\n",
              "      <td>9.0</td>\n",
              "      <td>13.0</td>\n",
              "      <td>32.00</td>\n",
              "      <td>2954.0</td>\n",
              "      <td>37.0</td>\n",
              "    </tr>\n",
              "    <tr>\n",
              "      <th>2</th>\n",
              "      <td>2.0</td>\n",
              "      <td>62.0</td>\n",
              "      <td>40.0</td>\n",
              "      <td>96.0</td>\n",
              "      <td>9.0</td>\n",
              "      <td>23.0</td>\n",
              "      <td>88.67</td>\n",
              "      <td>2716.0</td>\n",
              "      <td>18.0</td>\n",
              "    </tr>\n",
              "    <tr>\n",
              "      <th>3</th>\n",
              "      <td>3.0</td>\n",
              "      <td>89.0</td>\n",
              "      <td>42.0</td>\n",
              "      <td>89.0</td>\n",
              "      <td>10.0</td>\n",
              "      <td>35.0</td>\n",
              "      <td>76.60</td>\n",
              "      <td>2512.0</td>\n",
              "      <td>16.0</td>\n",
              "    </tr>\n",
              "    <tr>\n",
              "      <th>4</th>\n",
              "      <td>4.0</td>\n",
              "      <td>107.0</td>\n",
              "      <td>38.0</td>\n",
              "      <td>77.0</td>\n",
              "      <td>11.0</td>\n",
              "      <td>38.0</td>\n",
              "      <td>74.60</td>\n",
              "      <td>2397.0</td>\n",
              "      <td>9.0</td>\n",
              "    </tr>\n",
              "  </tbody>\n",
              "</table>\n",
              "</div>"
            ],
            "text/plain": [
              "   SNO.  MAHARASHTRA  ...  DELHI RECEDING  WEST BENGAL\n",
              "0   NaN          NaN  ...             NaN          NaN\n",
              "1   1.0         33.0  ...          2954.0         37.0\n",
              "2   2.0         62.0  ...          2716.0         18.0\n",
              "3   3.0         89.0  ...          2512.0         16.0\n",
              "4   4.0        107.0  ...          2397.0          9.0\n",
              "\n",
              "[5 rows x 9 columns]"
            ]
          },
          "metadata": {
            "tags": []
          },
          "execution_count": 13
        }
      ]
    },
    {
      "cell_type": "code",
      "metadata": {
        "id": "lyR1hPK3yPVt",
        "colab_type": "code",
        "colab": {
          "base_uri": "https://localhost:8080/",
          "height": 1000
        },
        "outputId": "0431da6a-5cf4-4c7d-f4ce-e960c65289b3"
      },
      "source": [
        "maha = data.MAHARASHTRA\n",
        "print(maha[1:154])\n",
        "\n",
        "andhra = data['ANDHRA PRADESH']\n",
        "print(andhra[1:154])\n",
        "\n",
        "tamil = data['TAMIL NADU']\n",
        "print(tamil[1:154])\n",
        "\n",
        "karna = data.KARNATAKA\n",
        "print(karna[1:154])\n",
        "\n",
        "up = data['UTTAR PRADESH']\n",
        "print(up[1:154])\n",
        "\n",
        "delhi_up = data['DELHI INCREASING']\n",
        "print(delhi_up[1:87])\n",
        "\n",
        "delhi_down = data['DELHI RECEDING']\n",
        "print(delhi_down[1:66])\n",
        "\n",
        "wb = data['WEST BENGAL']\n",
        "print(wb[1:154])"
      ],
      "execution_count": null,
      "outputs": [
        {
          "output_type": "stream",
          "text": [
            "1         33.0\n",
            "2         62.0\n",
            "3         89.0\n",
            "4        107.0\n",
            "5        119.0\n",
            "        ...   \n",
            "149    14177.0\n",
            "150    15373.0\n",
            "151    14766.0\n",
            "152    14849.0\n",
            "153    11852.0\n",
            "Name: MAHARASHTRA, Length: 153, dtype: float64\n",
            "1         67.0\n",
            "2         40.0\n",
            "3         42.0\n",
            "4         38.0\n",
            "5         33.0\n",
            "        ...   \n",
            "149    10490.0\n",
            "150    10626.0\n",
            "151    10460.0\n",
            "152    10385.0\n",
            "153    10004.0\n",
            "Name: ANDHRA PRADESH, Length: 153, dtype: float64\n",
            "1       110.0\n",
            "2        96.0\n",
            "3        89.0\n",
            "4        77.0\n",
            "5        76.0\n",
            "        ...  \n",
            "149    6048.0\n",
            "150    6156.0\n",
            "151    6156.0\n",
            "152    6268.0\n",
            "153    5956.0\n",
            "Name: TAMIL NADU, Length: 153, dtype: float64\n",
            "1         9.0\n",
            "2         9.0\n",
            "3        10.0\n",
            "4        11.0\n",
            "5        10.0\n",
            "        ...  \n",
            "149    8682.0\n",
            "150    8820.0\n",
            "151    8403.0\n",
            "152    7890.0\n",
            "153    6495.0\n",
            "Name: KARNATAKA, Length: 153, dtype: float64\n",
            "1        13.0\n",
            "2        23.0\n",
            "3        35.0\n",
            "4        38.0\n",
            "5        41.0\n",
            "        ...  \n",
            "149    5415.0\n",
            "150    5649.0\n",
            "151    5477.0\n",
            "152    5530.0\n",
            "153    4782.0\n",
            "Name: UTTAR PRADESH, Length: 153, dtype: float64\n",
            "1       32.00\n",
            "2       88.67\n",
            "3       76.60\n",
            "4       74.60\n",
            "5       56.60\n",
            "       ...   \n",
            "82    3324.60\n",
            "83    3454.80\n",
            "84    3406.80\n",
            "85    3498.80\n",
            "86    3546.00\n",
            "Name: DELHI INCREASING, Length: 86, dtype: float64\n",
            "1     2954.0\n",
            "2     2716.0\n",
            "3     2512.0\n",
            "4     2397.0\n",
            "5     2324.0\n",
            "       ...  \n",
            "61    1589.0\n",
            "62    1768.0\n",
            "63    1864.0\n",
            "64    1797.0\n",
            "65    1779.0\n",
            "Name: DELHI RECEDING, Length: 65, dtype: float64\n",
            "1        37.0\n",
            "2        18.0\n",
            "3        16.0\n",
            "4         9.0\n",
            "5         8.0\n",
            "        ...  \n",
            "149    2926.0\n",
            "150    2937.0\n",
            "151    2861.0\n",
            "152    2775.0\n",
            "153    2293.0\n",
            "Name: WEST BENGAL, Length: 153, dtype: float64\n"
          ],
          "name": "stdout"
        }
      ]
    },
    {
      "cell_type": "code",
      "metadata": {
        "id": "LdPlsMqOfVtl",
        "colab_type": "code",
        "colab": {
          "base_uri": "https://localhost:8080/",
          "height": 34
        },
        "outputId": "9773cb91-8d88-47d2-8435-8214c4e9884e"
      },
      "source": [
        "import pandas\n",
        "print(pandas.__version__)"
      ],
      "execution_count": null,
      "outputs": [
        {
          "output_type": "stream",
          "text": [
            "1.0.5\n"
          ],
          "name": "stdout"
        }
      ]
    },
    {
      "cell_type": "code",
      "metadata": {
        "id": "3jlBlpea0S2F",
        "colab_type": "code",
        "colab": {
          "base_uri": "https://localhost:8080/",
          "height": 1000
        },
        "outputId": "df3015f7-a0f5-4874-c762-e17394c54ccc"
      },
      "source": [
        "# convert dataframe to np.array\n",
        "import numpy\n",
        "maha_np_array = data['MAHARASHTRA'].to_numpy()\n",
        "#maha_np_array = list(numpy.concatenate().flat)) \n",
        "print(maha_np_array[1:154])\n",
        "\n",
        "andhra_np_array = andhra.to_numpy()\n",
        "print(andhra_np_array[1:154])\n",
        "\n",
        "tamil_np_array = tamil.to_numpy()\n",
        "print(tamil_np_array[1:154])\n",
        "\n",
        "karna_np_array = karna.to_numpy()\n",
        "print(karna_np_array[1:154])\n",
        "\n",
        "up_np_array = up.to_numpy()\n",
        "print(up_np_array[1:154])\n",
        "\n",
        "delhi_up_np_array = delhi_up.to_numpy()\n",
        "print(delhi_up_np_array[1:87])\n",
        "\n",
        "delhi_down_np_array = delhi_down.to_numpy()\n",
        "print(delhi_down_np_array[1:66])\n",
        "\n",
        "wb_np_array = wb.to_numpy()\n",
        "print(wb_np_array[1:154])"
      ],
      "execution_count": null,
      "outputs": [
        {
          "output_type": "stream",
          "text": [
            "[   33.    62.    89.   107.   119.   130.   146.   165.   179.   193.\n",
            "   240.   263.   268.   288.   268.   263.   304.   350.   403.   466.\n",
            "   556.   523.   592.   570.   588.   578.   620.   574.   688.   741.\n",
            "   731.   925.  1005.  1050.  1136.  1218.  1137.  1329.  1329.  1291.\n",
            "  1372.  1459.  1386.  1461.  1725.  1827.  1922.  2039.  2187.  2306.\n",
            "  2426.  2619.  2674.  2623.  2473.  2471.  2399.  2500.  2579.  2613.\n",
            "  2551.  2526.  2525.  2515.  2591.  2735.  2734.  2599.  2762.  2936.\n",
            "  3033.  3208.  3434.  3341.  3159.  3122.  3187.  3275.  3492.  3726.\n",
            "  3809.  3701.  3714.  3907.  4138.  4667.  5123.  5397.  5404.  5507.\n",
            "  5499.  5673.  6036.  6372.  6338.  6099.  6147.  6107.  6368.  6923.\n",
            "  7461.  7080.  7053.  7076.  7176.  7272.  8003.  8558.  8611.  8550.\n",
            "  9004.  9313.  9332.  9535.  9754.  9223.  8788.  8707.  9086.  9264.\n",
            "  9599.  9958.  9909.  9232.  9229.  9612.  9807. 10578. 11475. 11250.\n",
            " 11164. 11610. 11408. 11480. 12048. 12053. 11209. 11070. 11182. 11707.\n",
            " 12317. 13517. 13381. 12951. 12107. 12252. 12325. 13122. 14177. 15373.\n",
            " 14766. 14849. 11852.]\n",
            "[   67.    40.    42.    38.    33.    37.    34.    25.    20.    21.\n",
            "    18.    24.    29.    26.    30.    33.    33.    39.    45.    48.\n",
            "    58.    62.    59.    68.    73.    73.    75.    77.    73.    70.\n",
            "    65.    64.    63.    63.    62.    61.    56.    53.    48.    51.\n",
            "    50.    55.    65.    67.    58.    59.    57.    51.    50.    57.\n",
            "    56.    58.    65.    76.    90.   106.   110.   115.   118.   112.\n",
            "   109.   128.   130.   136.   157.   174.   168.   154.   199.   194.\n",
            "   195.   209.   254.   242.   258.   287.   328.   362.   399.   442.\n",
            "   460.   468.   474.   486.   512.   583.   653.   712.   742.   753.\n",
            "   762.   767.   762.   820.   953.  1020.  1065.  1223.  1345.  1443.\n",
            "  1594.  1769.  1841.  2006.  2162.  2296.  2701.  3326.  3655.  4125.\n",
            "  4813.  5620.  6242.  6989.  7526.  7527.  7517.  7906.  8377.  8927.\n",
            "  9572.  9693.  9239.  9155.  9106.  9316.  9639. 10091. 10305.  9813.\n",
            "  9552.  9437.  9420.  9045.  9258.  9056.  8493.  8424.  8584.  8716.\n",
            "  9022.  9721.  9370.  9142.  9249.  9506.  9575. 10101. 10490. 10626.\n",
            " 10460. 10385. 10004.]\n",
            "[ 110.   96.   89.   77.   76.   65.   70.   68.   70.   77.   87.   74.\n",
            "   66.   60.   50.   40.   55.   56.   66.   61.   62.   56.   60.   58.\n",
            "   62.   75.   81.  100.  128.  164.  193.  278.  347.  461.  530.  597.\n",
            "  597.  629.  635.  662.  644.  628.  581.  511.  495.  501.  549.  611.\n",
            "  676.  706.  750.  766.  778.  752.  758.  772.  794.  820.  921.  990.\n",
            " 1043. 1125. 1214. 1272. 1331. 1416. 1471. 1532. 1629. 1713. 1806. 1892.\n",
            " 1949. 1933. 1861. 1899. 1929. 1958. 2068. 2272. 2379. 2454. 2544. 2766.\n",
            " 2989. 3190. 3474. 3751. 3838. 3885. 4011. 4089. 4155. 4203. 4192. 4046.\n",
            " 3932. 3922. 3822. 3850. 3975. 4090. 4149. 4312. 4429. 4487. 4583. 4674.\n",
            " 4772. 4855. 5117. 5450. 5811. 6212. 6616. 6845. 6945. 6873. 6648. 6427.\n",
            " 6204. 5985. 5822. 5661. 5520. 5481. 5482. 5537. 5723. 5871. 5901. 5899.\n",
            " 5890. 5869. 5858. 5881. 5885. 5860. 5841. 5866. 5875. 5893. 5946. 5981.\n",
            " 5974. 5966. 5966. 5971. 6048. 6156. 6156. 6268. 5956.]\n",
            "[   9.    9.   10.   11.   10.   11.   11.   11.   10.   11.   13.   13.\n",
            "   14.   20.   25.   27.   26.   26.   21.   14.   12.   17.   18.   17.\n",
            "   17.   16.   12.   13.   17.   18.   18.   23.   22.   21.   21.   28.\n",
            "   29.   35.   34.   44.   41.   39.   42.   46.   44.   57.   82.   81.\n",
            "  103.  119.  143.  139.  144.  136.  135.  115.  138.  148.  188.  198.\n",
            "  253.  256.  280.  323.  361.  331.  339.  320.  241.  206.  213.  213.\n",
            "  216.  234.  257.  244.  224.  256.  297.  324.  333.  355.  367.  373.\n",
            "  371.  505.  694.  835.  936. 1102. 1219. 1304. 1450. 1645. 1760. 1759.\n",
            " 1832. 1911. 1989. 2180. 2406. 2541. 2594. 2767. 3041. 3254. 3614. 3939.\n",
            " 4033. 3929. 4144. 4242. 4420. 4704. 4998. 5110. 5212. 5311. 5522. 5595.\n",
            " 5564. 5564. 5413. 5440. 5467. 5793. 6021. 6506. 6451. 6181. 6071. 6314.\n",
            " 6220. 6604. 7514. 7671. 7358. 7550. 7696. 7410. 7516. 7719. 7373. 6815.\n",
            " 6970. 7172. 7583. 8188. 8682. 8820. 8403. 7890. 6495.]\n",
            "[  13.   23.   35.   38.   41.   37.   35.   31.   29.   30.   39.   50.\n",
            "   60.   71.   73.   83.   88.   90.  106.  120.  107.  104.  122.  107.\n",
            "  107.  109.  103.   84.   91.  100.  118.  126.  134.  134.  117.  114.\n",
            "  121.  117.  115.  119.  109.  106.  118.  137.  160.  169.  205.  224.\n",
            "  251.  254.  282.  268.  264.  242.  251.  231.  235.  241.  270.  274.\n",
            "  312.  285.  307.  332.  348.  361.  415.  420.  375.  397.  416.  434.\n",
            "  456.  496.  502.  513.  533.  596.  609.  627.  628.  622.  593.  612.\n",
            "  642.  645.  651.  654.  660.  623.  655.  730.  745.  843.  916. 1029.\n",
            " 1072. 1162. 1199. 1291. 1302. 1395. 1472. 1537. 1670. 1737. 1781. 1905.\n",
            " 1955. 1969. 2085. 2214. 2305. 2516. 2740. 2981. 3169. 3313. 3459. 3695.\n",
            " 3711. 3794. 4006. 3854. 3785. 3985. 4091. 4135. 4460. 4467. 4558. 4572.\n",
            " 4547. 4536. 4668. 4531. 4396. 4332. 4445. 4455. 4564. 4848. 5069. 4974.\n",
            " 5011. 5158. 5193. 5209. 5415. 5649. 5477. 5530. 4782.]\n",
            "[  32.     88.67   76.6    74.6    56.6    56.6    55.     80.    108.8\n",
            "  109.6   162.2   162.2   129.    108.2   110.6    76.6    88.4   100.6\n",
            "  103.2   108.2    96.6   102.2   108.8   152.4   172.    187.6   185.\n",
            "  178.    164.    202.8   247.    291.8   317.8   358.8   371.6   357.8\n",
            "  332.8   367.8   344.2   335.8   336.    385.6   394.4   420.    423.2\n",
            "  411.2   416.8   438.6   465.2   512.8   571.2   572.8   593.    561.2\n",
            "  587.6   674.2   793.6   899.2  1075.8  1115.4  1170.2  1251.8  1291.\n",
            " 1298.   1364.   1360.8  1259.6  1261.   1295.2  1406.6  1577.6  1803.\n",
            " 1974.6  2003.8  2000.2  2055.6  2204.2  2386.8  2783.4  3011.6  3110.6\n",
            " 3324.6  3454.8  3406.8  3498.8  3546.  ]\n",
            "[2954. 2716. 2512. 2397. 2324. 2408. 2417. 2204. 2131. 2034. 1970. 2059.\n",
            " 2140. 2053. 1895. 1779. 1571. 1545. 1523. 1568. 1489. 1351. 1290. 1243.\n",
            " 1156. 1119. 1157. 1102.  979.  982.  984.  974.  998. 1099. 1080. 1034.\n",
            "  951.  927.  963. 1009. 1129. 1254. 1180. 1172. 1156. 1067. 1045. 1159.\n",
            " 1038.  973. 1056. 1097. 1085. 1205. 1330. 1345. 1278. 1343. 1432. 1518.\n",
            " 1589. 1768. 1864. 1797. 1779.]\n",
            "[  37.   18.   16.    9.    8.    9.   10.    7.    9.    9.   11.   17.\n",
            "   19.   21.   24.   27.   24.   25.   32.   34.   34.   41.   46.   44.\n",
            "   45.   48.   42.   37.   37.   55.  100.  107.  117.  132.  125.   96.\n",
            "  105.  119.  121.  125.  122.  118.  104.  103.  101.  107.  117.  128.\n",
            "  124.  131.  127.  141.  143.  162.  172.  215.  229.  263.  298.  316.\n",
            "  326.  339.  349.  360.  393.  404.  421.  422.  405.  406.  411.  417.\n",
            "  420.  433.  428.  411.  407.  401.  407.  407.  412.  399.  417.  423.\n",
            "  449.  471.  511.  547.  582.  596.  622.  641.  665.  713.  763.  804.\n",
            "  867.  936.  997. 1093. 1235. 1325. 1385. 1464. 1533. 1600. 1752. 1930.\n",
            " 2068. 2183. 2262. 2310. 2297. 2322. 2338. 2302. 2241. 2257. 2263. 2294.\n",
            " 2389. 2510. 2595. 2658. 2722. 2795. 2830. 2877. 2914. 2932. 2927. 2932.\n",
            " 2942. 2961. 2995. 3022. 3050. 3086. 3113. 3125. 3161. 3192. 3211. 3171.\n",
            " 3136. 3022. 2975. 2917. 2926. 2937. 2861. 2775. 2293.]\n"
          ],
          "name": "stdout"
        }
      ]
    },
    {
      "cell_type": "markdown",
      "metadata": {
        "id": "F7SgkNZyi1s-",
        "colab_type": "text"
      },
      "source": [
        "#MAHARASHTRA\n",
        "\n"
      ]
    },
    {
      "cell_type": "code",
      "metadata": {
        "id": "yYd5_UsaycFx",
        "colab_type": "code",
        "colab": {
          "base_uri": "https://localhost:8080/",
          "height": 425
        },
        "outputId": "08da2aba-22b2-4444-852e-648fac8011c8"
      },
      "source": [
        "# inputs to Higuchi Algorithm\n",
        "\n",
        "# k_value = int(input(\"Enter the bound og 'k' \"))\n",
        "data_list = maha_np_array[1:154]\n",
        "#data_list = data_list.reshape(-1)\n",
        "print(data_list.shape)\n",
        "#num_k =  int(input(\"Number of k values to generate: \"))  #number of k values to generate.\n",
        "k_max =  int(input(\"Max. k value: \"))  #the maximum k the k array is generated uniformly in log space from 2 to k_max\n",
        "\n",
        "k_interval_times, curve_length_list = curve_length(data_list, num_k, k_max)\n",
        "print(k_interval_times, curve_length_list)"
      ],
      "execution_count": null,
      "outputs": [
        {
          "output_type": "stream",
          "text": [
            "(153,)\n",
            "Max. k value: 76\n",
            "[ 2  3  4  5  6  7  8  9 10 11 12 13 14 15 16 17 18 19 20 21 22 23 24 25\n",
            " 26 27 28 29 30 31 32 33 34 35 36 37 38 39 40 41 42 43 44 45 46 47 48 49\n",
            " 50 51 52 53 54 55 56 57 58 59 60 61 62 63 64 65 66 67 68 69 70 71 72 73\n",
            " 74 75] [13612.54333333  7888.57481481  5054.38344595  3503.97108966\n",
            "  2598.36493827  2107.39675135  1800.515625    1623.8484225\n",
            "  1471.8232381   1333.35425456  1203.46061308  1101.10845368\n",
            "  1017.75066408   947.52771687   885.33794488   833.17687767\n",
            "   789.75614834   750.01385042   712.41811905   679.25197834\n",
            "   650.8401703    623.87003096   599.52806713   577.0639872\n",
            "   555.85464269   535.39090586   514.9976312    496.51785641\n",
            "   479.19463704   464.05214103   450.07177734   437.73577835\n",
            "   425.39683832   412.37319339   400.98812586   389.29925835\n",
            "   380.22645429   371.67855156   363.64614583   356.31191267\n",
            "   348.43317856   341.54929755   334.72927623   327.96554184\n",
            "   320.99047971   313.77532917   307.13505498   299.72850315\n",
            "   293.578272     287.18043588   280.83050751   275.33811133\n",
            "   270.65757252   266.10346506   261.94371811   258.12373038\n",
            "   254.16171225   249.84057766   245.88814815   242.22825699\n",
            "   238.33708167   234.31775626   230.80233765   227.83838325\n",
            "   224.77121073   221.58898535   218.59909933   214.89157375\n",
            "   211.19159184   208.05523161   204.98037766   201.50958956\n",
            "   198.31543048   195.89075437]\n"
          ],
          "name": "stdout"
        }
      ]
    },
    {
      "cell_type": "code",
      "metadata": {
        "id": "X3L0lfkiQuIl",
        "colab_type": "code",
        "colab": {
          "base_uri": "https://localhost:8080/",
          "height": 34
        },
        "outputId": "2921a5c6-16c3-4041-b00f-a20c2ed1fcb7"
      },
      "source": [
        "hfd(data_list)"
      ],
      "execution_count": null,
      "outputs": [
        {
          "output_type": "execute_result",
          "data": {
            "text/plain": [
              "1.07049676773535"
            ]
          },
          "metadata": {
            "tags": []
          },
          "execution_count": 19
        }
      ]
    },
    {
      "cell_type": "code",
      "metadata": {
        "id": "Pab_hsovUFuw",
        "colab_type": "code",
        "colab": {
          "base_uri": "https://localhost:8080/",
          "height": 295
        },
        "outputId": "20253ade-6cd7-485b-a27d-fbe26443ea0d"
      },
      "source": [
        "import math\n",
        "x = k_interval_times\n",
        "y = curve_length_list\n",
        "#x = np.logspace(curve_length[0], curve_length[len(curve_length) - 1], len(curve_length))\n",
        "#log_y = []\n",
        "#for i in curve_length_list:\n",
        "#  log_y.append(math.log10(i))\n",
        "#y = log_y\n",
        "#y = np.logspace(k_interval_times[0], k_interval_times[len(k_interval_times) - 1], len(k_interval_times)) \n",
        "\n",
        "plt.title(\"Maharastra\") \n",
        "plt.xlabel(\"k\") \n",
        "plt.ylabel(\"<L(k)>\") \n",
        "plt.plot(x,y) \n",
        "plt.show()"
      ],
      "execution_count": null,
      "outputs": [
        {
          "output_type": "display_data",
          "data": {
            "image/png": "[encoded data removed]",
            "text/plain": [
              "<Figure size 432x288 with 1 Axes>"
            ]
          },
          "metadata": {
            "tags": [],
            "needs_background": "light"
          }
        }
      ]
    },
    {
      "cell_type": "code",
      "metadata": {
        "id": "PM6F5FVPGlVm",
        "colab_type": "code",
        "colab": {
          "base_uri": "https://localhost:8080/",
          "height": 316
        },
        "outputId": "e4155c2e-e73f-4b3c-fe8b-3cef616ac079"
      },
      "source": [
        "import numpy as np \n",
        "import matplotlib.pyplot as plt \n",
        "  \n",
        "def estimate_coef(x, y): \n",
        "    # number of observations/points \n",
        "    n = np.size(x) \n",
        "  \n",
        "    # mean of x and y vector \n",
        "    m_x, m_y = np.mean(x), np.mean(y) \n",
        "  \n",
        "    # calculating cross-deviation and deviation about x \n",
        "    SS_xy = np.sum(y*x) - n*m_y*m_x \n",
        "    SS_xx = np.sum(x*x) - n*m_x*m_x \n",
        "  \n",
        "    # calculating regression coefficients \n",
        "    b_1 = SS_xy / SS_xx \n",
        "    b_0 = m_y - b_1*m_x \n",
        "  \n",
        "    return(b_0, b_1) \n",
        "  \n",
        "def plot_regression_line(x, y, b): \n",
        "    # plotting the actual points as scatter plot \n",
        "    #plt.scatter(x, y, color = \"m\", marker = \"o\", s = 30) \n",
        "    plt.plot(x, y)\n",
        "  \n",
        "    # predicted response vector \n",
        "    y_pred = b[0] + b[1]*x \n",
        "  \n",
        "    # plotting the regression line \n",
        "    #plt.plot(x, y_pred, color = \"g\") \n",
        "    plt.plot(x, y_pred)\n",
        "  \n",
        "    # putting labels \n",
        "    plt.xlabel('x') \n",
        "    plt.ylabel('y') \n",
        "  \n",
        "    # function to show plot \n",
        "    plt.show() \n",
        "  \n",
        "def main(): \n",
        "    # observations \n",
        "    x = k_interval_times #k  # np.array([0, 1, 2, 3, 4, 5, 6, 7, 8, 9]) \n",
        "    y = curve_length_list #l  # np.array([1, 3, 2, 5, 7, 8, 8, 9, 10, 12]) \n",
        "  \n",
        "    # estimating coefficients \n",
        "    b = estimate_coef(x, y) \n",
        "    print(\"Estimated coefficients:\\nb_0 = {}  nb_1 = {}\".format(b[0], b[1])) \n",
        "  \n",
        "    # plotting regression line \n",
        "    plot_regression_line(x, y, b) \n",
        "  \n",
        "if __name__ == \"__main__\": \n",
        "    main()"
      ],
      "execution_count": null,
      "outputs": [
        {
          "output_type": "error",
          "ename": "NameError",
          "evalue": "ignored",
          "traceback": [
            "\u001b[0;31m---------------------------------------------------------------------------\u001b[0m",
            "\u001b[0;31mNameError\u001b[0m                                 Traceback (most recent call last)",
            "\u001b[0;32m<ipython-input-1-18ac50458ac6>\u001b[0m in \u001b[0;36m<module>\u001b[0;34m()\u001b[0m\n\u001b[1;32m     51\u001b[0m \u001b[0;34m\u001b[0m\u001b[0m\n\u001b[1;32m     52\u001b[0m \u001b[0;32mif\u001b[0m \u001b[0m__name__\u001b[0m \u001b[0;34m==\u001b[0m \u001b[0;34m\"__main__\"\u001b[0m\u001b[0;34m:\u001b[0m\u001b[0;34m\u001b[0m\u001b[0;34m\u001b[0m\u001b[0m\n\u001b[0;32m---> 53\u001b[0;31m     \u001b[0mmain\u001b[0m\u001b[0;34m(\u001b[0m\u001b[0;34m)\u001b[0m\u001b[0;34m\u001b[0m\u001b[0;34m\u001b[0m\u001b[0m\n\u001b[0m",
            "\u001b[0;32m<ipython-input-1-18ac50458ac6>\u001b[0m in \u001b[0;36mmain\u001b[0;34m()\u001b[0m\n\u001b[1;32m     40\u001b[0m \u001b[0;32mdef\u001b[0m \u001b[0mmain\u001b[0m\u001b[0;34m(\u001b[0m\u001b[0;34m)\u001b[0m\u001b[0;34m:\u001b[0m\u001b[0;34m\u001b[0m\u001b[0;34m\u001b[0m\u001b[0m\n\u001b[1;32m     41\u001b[0m     \u001b[0;31m# observations\u001b[0m\u001b[0;34m\u001b[0m\u001b[0;34m\u001b[0m\u001b[0;34m\u001b[0m\u001b[0m\n\u001b[0;32m---> 42\u001b[0;31m     \u001b[0mx\u001b[0m \u001b[0;34m=\u001b[0m \u001b[0mk_interval_times\u001b[0m \u001b[0;31m#k  # np.array([0, 1, 2, 3, 4, 5, 6, 7, 8, 9])\u001b[0m\u001b[0;34m\u001b[0m\u001b[0;34m\u001b[0m\u001b[0m\n\u001b[0m\u001b[1;32m     43\u001b[0m     \u001b[0my\u001b[0m \u001b[0;34m=\u001b[0m \u001b[0mcurve_length_list\u001b[0m \u001b[0;31m#l  # np.array([1, 3, 2, 5, 7, 8, 8, 9, 10, 12])\u001b[0m\u001b[0;34m\u001b[0m\u001b[0;34m\u001b[0m\u001b[0m\n\u001b[1;32m     44\u001b[0m \u001b[0;34m\u001b[0m\u001b[0m\n",
            "\u001b[0;31mNameError\u001b[0m: name 'k_interval_times' is not defined"
          ]
        }
      ]
    },
    {
      "cell_type": "code",
      "metadata": {
        "id": "8D3JHfQXeWKz",
        "colab_type": "code",
        "colab": {}
      },
      "source": [
        ""
      ],
      "execution_count": null,
      "outputs": []
    },
    {
      "cell_type": "markdown",
      "metadata": {
        "id": "ZGMTruyfi5hr",
        "colab_type": "text"
      },
      "source": [
        "#ANDHRA PRADESH"
      ]
    },
    {
      "cell_type": "code",
      "metadata": {
        "id": "dBZo9GTwjxde",
        "colab_type": "code",
        "colab": {
          "base_uri": "https://localhost:8080/",
          "height": 374
        },
        "outputId": "8e8549f5-33af-4497-c525-89bd8a286ae4"
      },
      "source": [
        "# k_value = int(input(\"Enter the bound og 'k' \"))\n",
        "data_list = andhra_np_array[1:154]\n",
        "#data_list = data_list.reshape(-1)\n",
        "print(data_list.shape)\n",
        "num_k =  int(input(\"Number of k values to generate: \"))  #number of k values to generate.\n",
        "k_max =  int(input(\"Max. k value: \"))  #the maximum k the k array is generated uniformly in log space from 2 to k_max\n",
        "\n",
        "k_interval_times, curve_length_list = curve_length(data_list, num_k, k_max)\n",
        "print(k_interval_times, curve_length_list)"
      ],
      "execution_count": null,
      "outputs": [
        {
          "output_type": "stream",
          "text": [
            "(153,)\n",
            "Number of k values to generate: 76\n",
            "Max. k value: 76\n",
            "[ 2  3  4  5  6  7  8  9 10 11 12 13 14 15 16 17 18 19 20 21 22 23 24 25\n",
            " 26 27 28 29 30 31 32 33 34 35 36 37 38 39 40 41 42 43 44 45 46 47 48 49\n",
            " 50 51 52 53 54 55 56 57 58 59 60 61 62 63 64 65 66 67 68 69 70 71 72 73\n",
            " 74 75] [8185.28333333 5059.46074074 3575.2652027  2700.39496092 2167.25141975\n",
            " 1812.32936277 1560.53819444 1360.75445816 1207.6248     1086.39195515\n",
            "  990.17774972  909.48291472  832.86903142  770.00823045  718.59933811\n",
            "  669.66008549  625.96585342  583.17728532  545.05480952  520.20575789\n",
            "  501.82031054  485.6042081   468.50686728  451.9998464   440.08782431\n",
            "  429.32489966  415.79187318  402.70402231  390.64872593  381.3359292\n",
            "  376.21484375  370.13757409  361.64970486  351.42902235  341.56615798\n",
            "  331.66221152  322.72045245  316.6109341   311.59960417  306.57850776\n",
            "  300.24657164  293.81817115  286.37753569  278.37086786  269.89359196\n",
            "  261.37354279  253.37227527  245.61569867  238.66209067  231.78421572\n",
            "  222.52787893  213.95135582  206.45643449  200.04204959  194.9456086\n",
            "  191.03642146  187.85374554  184.74476943  182.20331481  180.23385217\n",
            "  177.88288409  175.48384104  173.42080688  171.39151934  168.99066422\n",
            "  166.4205504   163.79958783  160.82385566  157.97962682  155.48519045\n",
            "  152.963113    150.49843066  148.23117091  146.22264889]\n"
          ],
          "name": "stdout"
        }
      ]
    },
    {
      "cell_type": "code",
      "metadata": {
        "id": "G4YEOv5ZkPid",
        "colab_type": "code",
        "colab": {
          "base_uri": "https://localhost:8080/",
          "height": 34
        },
        "outputId": "10ea35b2-f4bc-4452-9902-0a35413d40b9"
      },
      "source": [
        "hfd(data_list)"
      ],
      "execution_count": null,
      "outputs": [
        {
          "output_type": "execute_result",
          "data": {
            "text/plain": [
              "1.063517123545483"
            ]
          },
          "metadata": {
            "tags": []
          },
          "execution_count": 23
        }
      ]
    },
    {
      "cell_type": "code",
      "metadata": {
        "id": "xYYXi7A6kWyk",
        "colab_type": "code",
        "colab": {
          "base_uri": "https://localhost:8080/",
          "height": 296
        },
        "outputId": "695b2db2-6dd5-4c0e-b8bd-6cf307b6a19b"
      },
      "source": [
        "import math\n",
        "x = k_interval_times\n",
        "#x = np.logspace(curve_length[0], curve_length[len(curve_length) - 1], len(curve_length))\n",
        "#log_y = []\n",
        "#for i in curve_length_list:\n",
        "  #log_y.append(math.log10(i))\n",
        "#y = log_y\n",
        "y = curve_length_list\n",
        "#y = curve_length_list\n",
        "#y = np.logspace(k_interval_times[0], k_interval_times[len(k_interval_times) - 1], len(k_interval_times)) \n",
        "\n",
        "plt.title(\"Andhra Pradesh\") \n",
        "plt.xlabel(\"k_interval_times\") \n",
        "plt.ylabel(\"curve_length\") \n",
        "plt.plot(x,y) \n",
        "plt.show()"
      ],
      "execution_count": null,
      "outputs": [
        {
          "output_type": "display_data",
          "data": {
            "image/png": "[encoded data removed]",
            "text/plain": [
              "<Figure size 432x288 with 1 Axes>"
            ]
          },
          "metadata": {
            "tags": [],
            "needs_background": "light"
          }
        }
      ]
    },
    {
      "cell_type": "code",
      "metadata": {
        "id": "jBq1xRH1-ICV",
        "colab_type": "code",
        "colab": {
          "base_uri": "https://localhost:8080/",
          "height": 352
        },
        "outputId": "0eb0faa4-80b8-4d09-f766-6224fe70b3b6"
      },
      "source": [
        "import numpy as np\n",
        "import pylab\n",
        "Polynomial = np.polynomial.Polynomial\n",
        "\n",
        "# The data: conc = [P] and absorbance, A\n",
        "conc = k_interval_times\n",
        "A = curve_length_list\n",
        "\n",
        "cmin, cmax = min(conc), max(conc)\n",
        "pfit, stats = Polynomial.fit(conc, A, 1, full=True, window=(cmin, cmax),\n",
        "                                                    domain=(cmin, cmax))\n",
        "\n",
        "print('Raw fit results:', pfit, stats, sep='\\n')\n",
        "\n",
        "A0, m = pfit\n",
        "resid, rank, sing_val, rcond = stats\n",
        "rms = np.sqrt(resid[0]/len(A))\n",
        "\n",
        "print('Fit: A = {:.3f}[P] + {:.3f}'.format(m, A0),\n",
        "      '(rms residual = {:.4f})'.format(rms))\n",
        "\n",
        "pylab.plot(conc, A)\n",
        "pylab.plot(conc, pfit(conc), color='k')\n",
        "pylab.xlabel('k')\n",
        "pylab.ylabel('l')\n",
        "pylab.show()"
      ],
      "execution_count": null,
      "outputs": [
        {
          "output_type": "stream",
          "text": [
            "Raw fit results:\n",
            "poly([5435.66842944 -107.40325518])\n",
            "[array([1.92442346e+08]), 2, array([1.31074049, 0.53099847]), 2.886579864025407e-15]\n",
            "Fit: A = -107.403[P] + 5435.668 (rms residual = 3847.5001)\n"
          ],
          "name": "stdout"
        },
        {
          "output_type": "display_data",
          "data": {
            "image/png": "[encoded data removed]",
            "text/plain": [
              "<Figure size 432x288 with 1 Axes>"
            ]
          },
          "metadata": {
            "tags": [],
            "needs_background": "light"
          }
        }
      ]
    },
    {
      "cell_type": "markdown",
      "metadata": {
        "id": "IuWx79dKjPBU",
        "colab_type": "text"
      },
      "source": [
        "#TAMIL NADU"
      ]
    },
    {
      "cell_type": "code",
      "metadata": {
        "id": "pKF7x8xCks-7",
        "colab_type": "code",
        "colab": {
          "base_uri": "https://localhost:8080/",
          "height": 374
        },
        "outputId": "27633029-494f-4d68-d144-57768bb2bec6"
      },
      "source": [
        "# k_value = int(input(\"Enter the bound og 'k' \"))\n",
        "data_list = tamil_np_array[1:154]\n",
        "#data_list = data_list.reshape(-1)\n",
        "print(data_list.shape)\n",
        "num_k =  int(input(\"Number of k values to generate: \"))  #number of k values to generate.\n",
        "k_max =  int(input(\"Max. k value: \"))  #the maximum k the k array is generated uniformly in log space from 2 to k_max\n",
        "\n",
        "k_interval_times, curve_length_list = curve_length(data_list, num_k, k_max)\n",
        "print(k_interval_times, curve_length_list)"
      ],
      "execution_count": null,
      "outputs": [
        {
          "output_type": "stream",
          "text": [
            "(153,)\n",
            "Number of k values to generate: 76\n",
            "Max. k value: 76\n",
            "[ 2  3  4  5  6  7  8  9 10 11 12 13 14 15 16 17 18 19 20 21 22 23 24 25\n",
            " 26 27 28 29 30 31 32 33 34 35 36 37 38 39 40 41 42 43 44 45 46 47 48 49\n",
            " 50 51 52 53 54 55 56 57 58 59 60 61 62 63 64 65 66 67 68 69 70 71 72 73\n",
            " 74 75] [5319.52666667 3438.69037037 2481.16891892 1923.28849655 1550.7412963\n",
            " 1281.62399    1087.453125    931.3388203   812.58114286  719.82141825\n",
            "  650.0316358   592.48300575  539.58953677  499.30110947  461.50146484\n",
            "  434.91553023  412.53605722  390.13296399  376.12128571  356.75384228\n",
            "  338.6277736   325.92404592  315.17716049  301.08581547  289.15457442\n",
            "  279.44315399  269.43232507  260.48876133  252.47453333  244.87514126\n",
            "  239.64190674  234.4265613   228.63745844  222.49225267  216.28355053\n",
            "  210.28522167  204.58679594  203.11807909  201.7146875   199.32949319\n",
            "  195.93771371  192.18405088  188.45532807  184.58096022  180.60931207\n",
            "  176.52470069  172.4113016   168.30477097  164.23883733  160.16714537\n",
            "  158.48287437  156.83892072  155.23761622  153.66046582  152.3509703\n",
            "  151.44598338  151.01100906  150.55422414  149.66405556  148.37948551\n",
            "  146.75333154  144.85004819  142.83021545  140.90185526  138.91697971\n",
            "  136.74178007  134.40672705  131.97171463  129.43243149  126.82266821\n",
            "  124.23546811  121.67322251  119.14751347  116.69042252]\n"
          ],
          "name": "stdout"
        }
      ]
    },
    {
      "cell_type": "code",
      "metadata": {
        "id": "Z0A4wLQAk0BK",
        "colab_type": "code",
        "colab": {
          "base_uri": "https://localhost:8080/",
          "height": 34
        },
        "outputId": "17c736d6-4100-4b49-cd6b-aa8b9edf2507"
      },
      "source": [
        "hfd(data_list)"
      ],
      "execution_count": null,
      "outputs": [
        {
          "output_type": "execute_result",
          "data": {
            "text/plain": [
              "1.0054068791382214"
            ]
          },
          "metadata": {
            "tags": []
          },
          "execution_count": 27
        }
      ]
    },
    {
      "cell_type": "code",
      "metadata": {
        "id": "g5vaUyRAk4Bj",
        "colab_type": "code",
        "colab": {
          "base_uri": "https://localhost:8080/",
          "height": 296
        },
        "outputId": "6cec3127-e9dc-4df9-b595-56e0a8cc7adf"
      },
      "source": [
        "import math\n",
        "x = k_interval_times\n",
        "y = curve_length_list\n",
        "#x = np.logspace(curve_length[0], curve_length[len(curve_length) - 1], len(curve_length))\n",
        "#log_y = []\n",
        "#for i in curve_length_list:\n",
        " # log_y.append(math.log10(i))\n",
        "#y = log_y\n",
        "#y = curve_length_list\n",
        "#y = np.logspace(k_interval_times[0], k_interval_times[len(k_interval_times) - 1], len(k_interval_times)) \n",
        "\n",
        "plt.title(\"Tamil Nadu\") \n",
        "plt.xlabel(\"k_interval_times\") \n",
        "plt.ylabel(\"curve_length\") \n",
        "plt.plot(x,y) \n",
        "plt.show()"
      ],
      "execution_count": null,
      "outputs": [
        {
          "output_type": "display_data",
          "data": {
            "image/png": "[encoded data removed]",
            "text/plain": [
              "<Figure size 432x288 with 1 Axes>"
            ]
          },
          "metadata": {
            "tags": [],
            "needs_background": "light"
          }
        }
      ]
    },
    {
      "cell_type": "code",
      "metadata": {
        "id": "hxUKoN2U-eok",
        "colab_type": "code",
        "colab": {
          "base_uri": "https://localhost:8080/",
          "height": 352
        },
        "outputId": "134561d3-43b7-41f4-dd0f-cb48c236ddb8"
      },
      "source": [
        "import numpy as np\n",
        "import pylab\n",
        "Polynomial = np.polynomial.Polynomial\n",
        "\n",
        "# The data: conc = [P] and absorbance, A\n",
        "conc = k_interval_times\n",
        "A = curve_length_list\n",
        "\n",
        "cmin, cmax = min(conc), max(conc)\n",
        "pfit, stats = Polynomial.fit(conc, A, 1, full=True, window=(cmin, cmax),\n",
        "                                                    domain=(cmin, cmax))\n",
        "\n",
        "print('Raw fit results:', pfit, stats, sep='\\n')\n",
        "\n",
        "A0, m = pfit\n",
        "resid, rank, sing_val, rcond = stats\n",
        "rms = np.sqrt(resid[0]/len(A))\n",
        "\n",
        "print('Fit: A = {:.3f}[P] + {:.3f}'.format(m, A0),\n",
        "      '(rms residual = {:.4f})'.format(rms))\n",
        "\n",
        "pylab.plot(conc, A)\n",
        "pylab.plot(conc, pfit(conc), color='k')\n",
        "pylab.xlabel('k')\n",
        "pylab.ylabel('l')\n",
        "pylab.show()"
      ],
      "execution_count": null,
      "outputs": [
        {
          "output_type": "stream",
          "text": [
            "Raw fit results:\n",
            "poly([2807.62269888  -54.06237644])\n",
            "[array([38228930.81228372]), 2, array([1.31074049, 0.53099847]), 2.886579864025407e-15]\n",
            "Fit: A = -54.062[P] + 2807.623 (rms residual = 1714.8431)\n"
          ],
          "name": "stdout"
        },
        {
          "output_type": "display_data",
          "data": {
            "image/png": "[encoded data removed]",
            "text/plain": [
              "<Figure size 432x288 with 1 Axes>"
            ]
          },
          "metadata": {
            "tags": [],
            "needs_background": "light"
          }
        }
      ]
    },
    {
      "cell_type": "markdown",
      "metadata": {
        "id": "n30k8rPnjTL8",
        "colab_type": "text"
      },
      "source": [
        "#KARNATAKA"
      ]
    },
    {
      "cell_type": "code",
      "metadata": {
        "id": "M1VQDiRrlAX8",
        "colab_type": "code",
        "colab": {
          "base_uri": "https://localhost:8080/",
          "height": 374
        },
        "outputId": "73b905ed-275b-41cc-9ec8-0bbe0492ac9a"
      },
      "source": [
        "# k_value = int(input(\"Enter the bound og 'k' \"))\n",
        "data_list = karna_np_array[1:154]\n",
        "#data_list = data_list.reshape(-1)\n",
        "print(data_list.shape)\n",
        "num_k =  int(input(\"Number of k values to generate: \"))  #number of k values to generate.\n",
        "k_max =  int(input(\"Max. k value: \"))  #the maximum k the k array is generated uniformly in log space from 2 to k_max\n",
        "\n",
        "k_interval_times, curve_length_list = curve_length(data_list, num_k, k_max)\n",
        "print(k_interval_times, curve_length_list)"
      ],
      "execution_count": null,
      "outputs": [
        {
          "output_type": "stream",
          "text": [
            "(153,)\n",
            "Number of k values to generate: 76\n",
            "Max. k value: 76\n",
            "[ 2  3  4  5  6  7  8  9 10 11 12 13 14 15 16 17 18 19 20 21 22 23 24 25\n",
            " 26 27 28 29 30 31 32 33 34 35 36 37 38 39 40 41 42 43 44 45 46 47 48 49\n",
            " 50 51 52 53 54 55 56 57 58 59 60 61 62 63 64 65 66 67 68 69 70 71 72 73\n",
            " 74 75] [6921.40666667 3984.87703704 2792.64864865 2074.67770115 1594.9162963\n",
            " 1329.04089963 1135.02864583  981.81001372  873.16255238  785.01123119\n",
            "  710.61745932  656.16425704  612.62905734  572.78504033  537.91379123\n",
            "  509.71280277  484.36921909  455.67708746  433.58995238  411.46668312\n",
            "  392.30360631  376.26923098  361.00842978  347.3051648   334.76149294\n",
            "  323.13070162  312.74076166  301.30421091  291.16725926  281.17610464\n",
            "  273.37123617  265.8717014   259.28412715  253.02756074  246.23358196\n",
            "  239.45734047  233.52400739  228.14306827  223.46533333  218.39538022\n",
            "  213.16956412  208.59414475  203.6629414   199.35283036  195.51921865\n",
            "  191.39387868  186.86952643  182.22950188  178.32295467  173.78860318\n",
            "  169.30658284  165.33191829  161.86729665  158.48746506  155.29635113\n",
            "  152.36524059  149.78480052  147.33333009  145.00377778  142.50121376\n",
            "  139.83441308  137.26485021  135.00593567  132.6748985   130.2663411\n",
            "  127.93348916  126.12033126  124.21275521  122.37617493  120.57255575\n",
            "  118.56002443  116.55858741  114.88430103  113.51350993]\n"
          ],
          "name": "stdout"
        }
      ]
    },
    {
      "cell_type": "code",
      "metadata": {
        "id": "5SpsRVlmlGIK",
        "colab_type": "code",
        "colab": {
          "base_uri": "https://localhost:8080/",
          "height": 34
        },
        "outputId": "1c4c64d8-5c0e-4179-c62a-14279d1c8f86"
      },
      "source": [
        "hfd(data_list)"
      ],
      "execution_count": null,
      "outputs": [
        {
          "output_type": "execute_result",
          "data": {
            "text/plain": [
              "1.060731949937118"
            ]
          },
          "metadata": {
            "tags": []
          },
          "execution_count": 33
        }
      ]
    },
    {
      "cell_type": "code",
      "metadata": {
        "id": "vpmCQbAWlSID",
        "colab_type": "code",
        "colab": {
          "base_uri": "https://localhost:8080/",
          "height": 296
        },
        "outputId": "6e76390f-3d84-49e1-a5d1-3682e50d033b"
      },
      "source": [
        "import math\n",
        "x = k_interval_times\n",
        "#x = np.logspace(curve_length[0], curve_length[len(curve_length) - 1], len(curve_length))\n",
        "#log_y = []\n",
        "#for i in curve_length_list:\n",
        "#  log_y.append(math.log10(i))\n",
        "#y = log_y\n",
        "y = curve_length_list\n",
        "#y = np.logspace(k_interval_times[0], k_interval_times[len(k_interval_times) - 1], len(k_interval_times)) \n",
        "\n",
        "plt.title(\"Karnataka\") \n",
        "plt.xlabel(\"k_interval_times\") \n",
        "plt.ylabel(\"curve_length\") \n",
        "plt.plot(x,y) \n",
        "plt.show()"
      ],
      "execution_count": null,
      "outputs": [
        {
          "output_type": "display_data",
          "data": {
            "image/png": "[encoded data removed]",
            "text/plain": [
              "<Figure size 432x288 with 1 Axes>"
            ]
          },
          "metadata": {
            "tags": [],
            "needs_background": "light"
          }
        }
      ]
    },
    {
      "cell_type": "code",
      "metadata": {
        "id": "tK-AdIBy-ndV",
        "colab_type": "code",
        "colab": {
          "base_uri": "https://localhost:8080/",
          "height": 347
        },
        "outputId": "ed58b455-b2ac-4588-ae30-0234c0ca7ce6"
      },
      "source": [
        "import numpy as np\n",
        "import pylab\n",
        "Polynomial = np.polynomial.Polynomial\n",
        "\n",
        "# The data: conc = [P] and absorbance, A\n",
        "conc = k_interval_times\n",
        "A = curve_length_list\n",
        "\n",
        "cmin, cmax = min(conc), max(conc)\n",
        "pfit, stats = Polynomial.fit(conc, A, 1, full=True, window=(cmin, cmax),\n",
        "                                                    domain=(cmin, cmax))\n",
        "\n",
        "print('Raw fit results:', pfit, stats, sep='\\n')\n",
        "\n",
        "A0, m = pfit\n",
        "resid, rank, sing_val, rcond = stats\n",
        "rms = np.sqrt(resid[0]/len(A))\n",
        "\n",
        "print('Fit: A = {:.3f}[P] + {:.3f}'.format(m, A0),\n",
        "      '(rms residual = {:.4f})'.format(rms))\n",
        "\n",
        "pylab.plot(conc, A)\n",
        "pylab.plot(conc, pfit(conc), color='k')\n",
        "pylab.xlabel('k')\n",
        "pylab.ylabel('l')\n",
        "pylab.show()"
      ],
      "execution_count": null,
      "outputs": [
        {
          "output_type": "stream",
          "text": [
            "Raw fit results:\n",
            "poly([1478.46623701  -24.76205577])\n",
            "[array([48260635.07671181]), 2, array([1.36910029, 0.35435068]), 1.6431300764452317e-14]\n",
            "Fit: A = -24.762[P] + 1478.466 (rms residual = 807.5709)\n"
          ],
          "name": "stdout"
        },
        {
          "output_type": "display_data",
          "data": {
            "image/png": "[encoded data removed]",
            "text/plain": [
              "<Figure size 432x288 with 1 Axes>"
            ]
          },
          "metadata": {
            "tags": [],
            "needs_background": "light"
          }
        }
      ]
    },
    {
      "cell_type": "markdown",
      "metadata": {
        "id": "32yO6HjBjZVM",
        "colab_type": "text"
      },
      "source": [
        "#UTTAR PRADESH"
      ]
    },
    {
      "cell_type": "code",
      "metadata": {
        "id": "BxX8LRf7lwJ7",
        "colab_type": "code",
        "colab": {
          "base_uri": "https://localhost:8080/",
          "height": 374
        },
        "outputId": "842d79be-87f4-4861-f652-f970665ec48b"
      },
      "source": [
        "# k_value = int(input(\"Enter the bound og 'k' \"))\n",
        "data_list = up_np_array[1:154]\n",
        "#data_list = data_list.reshape(-1)\n",
        "print(data_list.shape)\n",
        "num_k =  int(input(\"Number of k values to generate: \"))  #number of k values to generate.\n",
        "k_max =  int(input(\"Max. k value: \"))  #the maximum k the k array is generated uniformly in log space from 2 to k_max\n",
        "\n",
        "k_interval_times, curve_length_list = curve_length(data_list, num_k, k_max)\n",
        "print(k_interval_times, curve_length_list)"
      ],
      "execution_count": null,
      "outputs": [
        {
          "output_type": "stream",
          "text": [
            "(153,)\n",
            "Number of k values to generate: 76\n",
            "Max. k value: 76\n",
            "[ 2  3  4  5  6  7  8  9 10 11 12 13 14 15 16 17 18 19 20 21 22 23 24 25\n",
            " 26 27 28 29 30 31 32 33 34 35 36 37 38 39 40 41 42 43 44 45 46 47 48 49\n",
            " 50 51 52 53 54 55 56 57 58 59 60 61 62 63 64 65 66 67 68 69 70 71 72 73\n",
            " 74 75] [3595.00333333 2187.44888889 1571.8597973  1216.7323954   993.29771605\n",
            "  834.2907122   717.84114583  629.84087791  562.42026667  507.23327361\n",
            "  463.76872896  426.85539786  394.90702948  368.39395556  344.25490994\n",
            "  323.84306941  306.46110131  291.8199446   277.62347619  265.50741718\n",
            "  254.52196344  244.78158955  235.2943287   226.83231573  218.65609923\n",
            "  211.56789107  203.98411079  196.91631473  190.60011852  184.96199076\n",
            "  179.86334229  175.25517804  170.58781125  165.44394947  160.74362711\n",
            "  156.21938812  151.91574331  147.43334626  143.495125    139.76320715\n",
            "  136.05895692  132.6062527   129.34798397  126.14234659  122.83163475\n",
            "  119.54611213  116.6526331   113.85949732  111.21819733  108.48696203\n",
            "  104.90267979  101.63264977   98.70144287   95.93792337   93.45893313\n",
            "   91.19770186   89.31339948   87.63836614   86.15831481   84.70590931\n",
            "   83.39374308   82.005303     80.71318054   79.62890487   78.57266884\n",
            "   77.46383697   76.38116986   75.21133363   74.06920117   73.03377655\n",
            "   72.14021776   71.25811983   70.39467554   69.63374459]\n"
          ],
          "name": "stdout"
        }
      ]
    },
    {
      "cell_type": "code",
      "metadata": {
        "id": "6JRPwGGnlqUy",
        "colab_type": "code",
        "colab": {
          "base_uri": "https://localhost:8080/",
          "height": 34
        },
        "outputId": "6ff438d5-3a24-4fb6-eadf-1b7e225ad50d"
      },
      "source": [
        "hfd(data_list)"
      ],
      "execution_count": null,
      "outputs": [
        {
          "output_type": "execute_result",
          "data": {
            "text/plain": [
              "1.0553906811543339"
            ]
          },
          "metadata": {
            "tags": []
          },
          "execution_count": 36
        }
      ]
    },
    {
      "cell_type": "code",
      "metadata": {
        "id": "fHZg9rNnlVJj",
        "colab_type": "code",
        "colab": {
          "base_uri": "https://localhost:8080/",
          "height": 296
        },
        "outputId": "e63430ba-b2ea-489e-ac0c-66ce624d2630"
      },
      "source": [
        "import math\n",
        "x = k_interval_times\n",
        "#x = np.logspace(curve_length[0], curve_length[len(curve_length) - 1], len(curve_length))\n",
        "#log_y = []\n",
        "#for i in curve_length_list:\n",
        " # log_y.append(math.log10(i))\n",
        "#y = log_y\n",
        "y = curve_length_list\n",
        "#y = np.logspace(k_interval_times[0], k_interval_times[len(k_interval_times) - 1], len(k_interval_times)) \n",
        "\n",
        "plt.title(\"UP\") \n",
        "plt.xlabel(\"k_interval_times\") \n",
        "plt.ylabel(\"curve_length\") \n",
        "plt.plot(x,y) \n",
        "plt.show()"
      ],
      "execution_count": null,
      "outputs": [
        {
          "output_type": "display_data",
          "data": {
            "image/png": "[encoded data removed]",
            "text/plain": [
              "<Figure size 432x288 with 1 Axes>"
            ]
          },
          "metadata": {
            "tags": [],
            "needs_background": "light"
          }
        }
      ]
    },
    {
      "cell_type": "code",
      "metadata": {
        "id": "9gN39QY2-u0B",
        "colab_type": "code",
        "colab": {
          "base_uri": "https://localhost:8080/",
          "height": 352
        },
        "outputId": "d625f232-1d35-4284-dc76-681ec3528b80"
      },
      "source": [
        "import numpy as np\n",
        "import pylab\n",
        "Polynomial = np.polynomial.Polynomial\n",
        "\n",
        "# The data: conc = [P] and absorbance, A\n",
        "conc = k_interval_times\n",
        "A = curve_length_list\n",
        "\n",
        "cmin, cmax = min(conc), max(conc)\n",
        "pfit, stats = Polynomial.fit(conc, A, 1, full=True, window=(cmin, cmax),\n",
        "                                                    domain=(cmin, cmax))\n",
        "\n",
        "print('Raw fit results:', pfit, stats, sep='\\n')\n",
        "\n",
        "A0, m = pfit\n",
        "resid, rank, sing_val, rcond = stats\n",
        "rms = np.sqrt(resid[0]/len(A))\n",
        "\n",
        "print('Fit: A = {:.3f}[P] + {:.3f}'.format(m, A0),\n",
        "      '(rms residual = {:.4f})'.format(rms))\n",
        "\n",
        "pylab.plot(conc, A)\n",
        "pylab.plot(conc, pfit(conc), color='k')\n",
        "pylab.xlabel('k')\n",
        "pylab.ylabel('l')\n",
        "pylab.show()"
      ],
      "execution_count": null,
      "outputs": [
        {
          "output_type": "stream",
          "text": [
            "Raw fit results:\n",
            "poly([2324.55079541  -45.63767282])\n",
            "[array([36327575.87472971]), 2, array([1.31074049, 0.53099847]), 2.886579864025407e-15]\n",
            "Fit: A = -45.638[P] + 2324.551 (rms residual = 1671.6545)\n"
          ],
          "name": "stdout"
        },
        {
          "output_type": "display_data",
          "data": {
            "image/png": "[encoded data removed]",
            "text/plain": [
              "<Figure size 432x288 with 1 Axes>"
            ]
          },
          "metadata": {
            "tags": [],
            "needs_background": "light"
          }
        }
      ]
    },
    {
      "cell_type": "markdown",
      "metadata": {
        "id": "AKvAI_RTjdRE",
        "colab_type": "text"
      },
      "source": [
        "# DELHI INC"
      ]
    },
    {
      "cell_type": "code",
      "metadata": {
        "id": "0Lib-cbmlxQb",
        "colab_type": "code",
        "colab": {
          "base_uri": "https://localhost:8080/",
          "height": 258
        },
        "outputId": "a9bfe0d0-2d5c-46c3-a155-7084d616e085"
      },
      "source": [
        "# k_value = int(input(\"Enter the bound og 'k' \"))\n",
        "data_list = delhi_up_np_array[1:87]\n",
        "#data_list = data_list.reshape(-1)\n",
        "print(data_list.shape)\n",
        "num_k =  int(input(\"Number of k values to generate: \"))  #number of k values to generate.\n",
        "k_max =  int(input(\"Max. k value: \"))  #the maximum k the k array is generated uniformly in log space from 2 to k_max\n",
        "\n",
        "k_interval_times, curve_length_list = curve_length(data_list, num_k, k_max)\n",
        "print(k_interval_times, curve_length_list)"
      ],
      "execution_count": null,
      "outputs": [
        {
          "output_type": "stream",
          "text": [
            "(86,)\n",
            "Number of k values to generate: 45\n",
            "Max. k value: 45\n",
            "[ 2  3  4  5  6  7  8  9 10 11 12 13 14 15 16 17 18 19 20 21 22 23 24 25\n",
            " 26 27 28 29 30 31 32 33 34 35 36 37 38 39 40 41 42] [2041.38377976 1299.46098618  941.28582589  737.465475    605.65421118\n",
            "  513.75217665  441.9099273   383.3819997   337.13080982  299.47086509\n",
            "  269.69929867  242.66055606  225.06305576  206.38035259  190.21148926\n",
            "  178.5057526   164.22109554  152.13189666  143.39499115  137.70562169\n",
            "  131.09256981  122.95979699  116.34524619  110.9303584   106.04322277\n",
            "  102.97241359  100.50670478   97.04813748   92.4008713    87.90532459\n",
            "   83.70550613   79.88719217   76.04706964   72.60291603   70.01690083\n",
            "   67.93298571   65.7507112    64.08962601   63.26824258   62.7420456\n",
            "   62.25883443]\n"
          ],
          "name": "stdout"
        }
      ]
    },
    {
      "cell_type": "code",
      "metadata": {
        "id": "sf3yA3kklrbi",
        "colab_type": "code",
        "colab": {
          "base_uri": "https://localhost:8080/",
          "height": 34
        },
        "outputId": "8721a696-9034-4015-9097-8614462d39a6"
      },
      "source": [
        "hfd(data_list)"
      ],
      "execution_count": null,
      "outputs": [
        {
          "output_type": "execute_result",
          "data": {
            "text/plain": [
              "1.174729058327618"
            ]
          },
          "metadata": {
            "tags": []
          },
          "execution_count": 39
        }
      ]
    },
    {
      "cell_type": "code",
      "metadata": {
        "id": "BcmU8IK8lWPk",
        "colab_type": "code",
        "colab": {
          "base_uri": "https://localhost:8080/",
          "height": 296
        },
        "outputId": "0137f289-729b-4e55-9e46-c87a24b5bf96"
      },
      "source": [
        "import math\n",
        "x = k_interval_times\n",
        "#x = np.logspace(curve_length[0], curve_length[len(curve_length) - 1], len(curve_length))\n",
        "#log_y = []\n",
        "#for i in curve_length_list:\n",
        "#  log_y.append(math.log10(i))\n",
        "#y = log_y\n",
        "y = curve_length_list\n",
        "#y = np.logspace(k_interval_times[0], k_interval_times[len(k_interval_times) - 1], len(k_interval_times)) \n",
        "\n",
        "plt.title(\"Delhi increasing\") \n",
        "plt.xlabel(\"k_interval_times\") \n",
        "plt.ylabel(\"curve_length\") \n",
        "plt.plot(x,y) \n",
        "plt.show()"
      ],
      "execution_count": null,
      "outputs": [
        {
          "output_type": "display_data",
          "data": {
            "image/png": "[encoded data removed]",
            "text/plain": [
              "<Figure size 432x288 with 1 Axes>"
            ]
          },
          "metadata": {
            "tags": [],
            "needs_background": "light"
          }
        }
      ]
    },
    {
      "cell_type": "code",
      "metadata": {
        "id": "Xqxz-haX-16J",
        "colab_type": "code",
        "colab": {}
      },
      "source": [
        "import numpy as np\n",
        "import pylab\n",
        "Polynomial = np.polynomial.Polynomial\n",
        "\n",
        "# The data: conc = [P] and absorbance, A\n",
        "conc = k_interval_times\n",
        "A = curve_length_list\n",
        "\n",
        "cmin, cmax = min(conc), max(conc)\n",
        "pfit, stats = Polynomial.fit(conc, A, 1, full=True, window=(cmin, cmax),\n",
        "                                                    domain=(cmin, cmax))\n",
        "\n",
        "print('Raw fit results:', pfit, stats, sep='\\n')\n",
        "\n",
        "A0, m = pfit\n",
        "resid, rank, sing_val, rcond = stats\n",
        "rms = np.sqrt(resid[0]/len(A))\n",
        "\n",
        "print('Fit: A = {:.3f}[P] + {:.3f}'.format(m, A0),\n",
        "      '(rms residual = {:.4f})'.format(rms))\n",
        "\n",
        "pylab.plot(conc, A)\n",
        "pylab.plot(conc, pfit(conc), color='k')\n",
        "pylab.xlabel('k')\n",
        "pylab.ylabel('l')\n",
        "pylab.show()"
      ],
      "execution_count": null,
      "outputs": []
    },
    {
      "cell_type": "markdown",
      "metadata": {
        "id": "lfTMM2GybhcW",
        "colab_type": "text"
      },
      "source": [
        "# DELHI DEC."
      ]
    },
    {
      "cell_type": "code",
      "metadata": {
        "id": "qmwT_7FMbMov",
        "colab_type": "code",
        "colab": {
          "base_uri": "https://localhost:8080/",
          "height": 187
        },
        "outputId": "2342591b-0246-4c84-c204-2de6ec9d9f24"
      },
      "source": [
        "# k_value = int(input(\"Enter the bound og 'k' \"))\n",
        "data_list = delhi_down_np_array[1:66]\n",
        "#data_list = data_list.reshape(-1)\n",
        "print(data_list.shape)\n",
        "num_k =  int(input(\"Number of k values to generate: \"))  #number of k values to generate.\n",
        "k_max =  int(input(\"Max. k value: \"))  #the maximum k the k array is generated uniformly in log space from 2 to k_max\n",
        "\n",
        "k_interval_times, curve_length_list = curve_length(data_list, num_k, k_max)\n",
        "print(k_interval_times, curve_length_list)"
      ],
      "execution_count": null,
      "outputs": [
        {
          "output_type": "stream",
          "text": [
            "(65,)\n",
            "Number of k values to generate: 33\n",
            "Max. k value: 33\n",
            "[ 2  3  4  5  6  7  8  9 10 11 12 13 14 15 16 17 18 19 20 21 22 23 24 25\n",
            " 26 27 28 29 30 31] [2004.45967742 1144.07619048  783.32083333  591.18933333  458.75884774\n",
            "  373.33592485  319.44866071  273.24684826  237.24373333  210.82013524\n",
            "  188.03703704  171.4556213   154.82410107  141.45422222  130.69661458\n",
            "  117.51787774  106.99771376   99.99669534   94.04         88.9925494\n",
            "   84.41472577   77.10561354   70.52546296   65.429504     61.49658625\n",
            "   58.17324595   55.37172012   52.89860183   51.28533333   49.81692457]\n"
          ],
          "name": "stdout"
        }
      ]
    },
    {
      "cell_type": "code",
      "metadata": {
        "id": "pePr8_4gmM7w",
        "colab_type": "code",
        "colab": {
          "base_uri": "https://localhost:8080/",
          "height": 34
        },
        "outputId": "fbaef004-5447-4dd1-e70a-05c6d12a6a64"
      },
      "source": [
        "hfd(data_list)"
      ],
      "execution_count": null,
      "outputs": [
        {
          "output_type": "execute_result",
          "data": {
            "text/plain": [
              "1.3491015206414279"
            ]
          },
          "metadata": {
            "tags": []
          },
          "execution_count": 43
        }
      ]
    },
    {
      "cell_type": "code",
      "metadata": {
        "id": "ueepV6fqmPD_",
        "colab_type": "code",
        "colab": {
          "base_uri": "https://localhost:8080/",
          "height": 296
        },
        "outputId": "e3e90031-cce0-4a37-ab6c-1637226ac82d"
      },
      "source": [
        "import math\n",
        "x = k_interval_times\n",
        "#x = np.logspace(curve_length[0], curve_length[len(curve_length) - 1], len(curve_length))\n",
        "#log_y = []\n",
        "#for i in curve_length_list:\n",
        "#  log_y.append(math.log10(i))\n",
        "#y = log_y\n",
        "y = curve_length_list\n",
        "#y = np.logspace(k_interval_times[0], k_interval_times[len(k_interval_times) - 1], len(k_interval_times)) \n",
        "\n",
        "plt.title(\"Delhi decreasing\") \n",
        "plt.xlabel(\"k_interval_times\") \n",
        "plt.ylabel(\"curve_length\") \n",
        "plt.plot(x,y) \n",
        "plt.show()"
      ],
      "execution_count": null,
      "outputs": [
        {
          "output_type": "display_data",
          "data": {
            "image/png": "[encoded data removed]",
            "text/plain": [
              "<Figure size 432x288 with 1 Axes>"
            ]
          },
          "metadata": {
            "tags": [],
            "needs_background": "light"
          }
        }
      ]
    },
    {
      "cell_type": "markdown",
      "metadata": {
        "id": "5n8wHUOxjhHK",
        "colab_type": "text"
      },
      "source": [
        "#WEST BENGAL"
      ]
    },
    {
      "cell_type": "code",
      "metadata": {
        "id": "gYS4Z2zZlySW",
        "colab_type": "code",
        "colab": {
          "base_uri": "https://localhost:8080/",
          "height": 374
        },
        "outputId": "0f0b770e-94e3-46f7-a967-bb2c2d300b0a"
      },
      "source": [
        "# k_value = int(input(\"Enter the bound og 'k' \"))\n",
        "data_list = wb_np_array[1:154]\n",
        "#data_list = data_list.reshape(-1)\n",
        "print(data_list.shape)\n",
        "num_k =  int(input(\"Number of k values to generate: \"))  #number of k values to generate.\n",
        "k_max =  int(input(\"Max. k value: \"))  #the maximum k the k array is generated uniformly in log space from 2 to k_max\n",
        "\n",
        "k_interval_times, curve_length_list = curve_length(data_list, num_k, k_max)\n",
        "print(k_interval_times, curve_length_list)"
      ],
      "execution_count": null,
      "outputs": [
        {
          "output_type": "stream",
          "text": [
            "(153,)\n",
            "Number of k values to generate: 76\n",
            "Max. k value: 76\n",
            "[ 2  3  4  5  6  7  8  9 10 11 12 13 14 15 16 17 18 19 20 21 22 23 24 25\n",
            " 26 27 28 29 30 31 32 33 34 35 36 37 38 39 40 41 42 43 44 45 46 47 48 49\n",
            " 50 51 52 53 54 55 56 57 58 59 60 61 62 63 64 65 66 67 68 69 70 71 72 73\n",
            " 74 75] [2152.70666667 1364.17185185  986.94932432  770.72875402  628.74518519\n",
            "  529.44978481  457.69444444  402.16666667  357.81885714  322.79905219\n",
            "  293.84227694  269.61933215  249.17635245  231.89770535  217.80471463\n",
            "  204.386322    194.32135509  183.66838148  175.99564286  168.43909688\n",
            "  160.89854746  155.24688091  149.6458912   143.49837653  138.52530724\n",
            "  134.53502007  130.48963192  126.40013121  121.84573333  117.72248889\n",
            "  114.73754883  111.6856907   108.70438971  105.80440816  103.01901863\n",
            "  100.04448568   97.06048015   94.94266592   93.12533333   91.52912272\n",
            "   90.12228701   88.74648354   87.26325758   85.66044444   83.98160324\n",
            "   82.20895177   80.37340856   78.42353668   76.39621333   74.21130636\n",
            "   72.69208011   71.240205     69.92295382   68.7802855    67.66759293\n",
            "   66.48609829   65.24146131   63.91424634   62.56383333   61.32943286\n",
            "   60.22778692   59.22539363   58.25765991   57.30780519   56.34361522\n",
            "   55.37816819   54.43501934   53.53052732   52.64872303   51.79923501\n",
            "   50.95885845   50.09001663   49.17839022   48.28294637]\n"
          ],
          "name": "stdout"
        }
      ]
    },
    {
      "cell_type": "code",
      "metadata": {
        "id": "c2-C-lDFlsWT",
        "colab_type": "code",
        "colab": {
          "base_uri": "https://localhost:8080/",
          "height": 34
        },
        "outputId": "e845a53e-462f-4952-e2cc-61f3790f806c"
      },
      "source": [
        "hfd(data_list)"
      ],
      "execution_count": null,
      "outputs": [
        {
          "output_type": "execute_result",
          "data": {
            "text/plain": [
              "1.0024922751179584"
            ]
          },
          "metadata": {
            "tags": []
          },
          "execution_count": 49
        }
      ]
    },
    {
      "cell_type": "code",
      "metadata": {
        "id": "DxzYwlaflXMa",
        "colab_type": "code",
        "colab": {
          "base_uri": "https://localhost:8080/",
          "height": 296
        },
        "outputId": "bf4c6819-6779-4e35-9a96-ee69cf9bdb21"
      },
      "source": [
        "import math\n",
        "x = k_interval_times\n",
        "#x = np.logspace(curve_length[0], curve_length[len(curve_length) - 1], len(curve_length))\n",
        "#log_y = []\n",
        "#for i in curve_length_list:\n",
        "#  log_y.append(math.log10(i))\n",
        "#y = log_y\n",
        "y = curve_length_list\n",
        "#y = np.logspace(k_interval_times[0], k_interval_times[len(k_interval_times) - 1], len(k_interval_times)) \n",
        "\n",
        "plt.title(\"West Bengal\") \n",
        "plt.xlabel(\"k_interval_times\") \n",
        "plt.ylabel(\"curve_length\") \n",
        "plt.plot(x,y) \n",
        "plt.show()"
      ],
      "execution_count": null,
      "outputs": [
        {
          "output_type": "display_data",
          "data": {
            "image/png": "[encoded data removed]",
            "text/plain": [
              "<Figure size 432x288 with 1 Axes>"
            ]
          },
          "metadata": {
            "tags": [],
            "needs_background": "light"
          }
        }
      ]
    },
    {
      "cell_type": "code",
      "metadata": {
        "id": "wxMssWGN--CB",
        "colab_type": "code",
        "colab": {
          "base_uri": "https://localhost:8080/",
          "height": 347
        },
        "outputId": "1b2059a7-e762-4c67-c9a3-805927d63213"
      },
      "source": [
        "import numpy as np\n",
        "import pylab\n",
        "Polynomial = np.polynomial.Polynomial\n",
        "\n",
        "# The data: conc = [P] and absorbance, A\n",
        "conc = k_interval_times\n",
        "A = curve_length_list\n",
        "\n",
        "cmin, cmax = min(conc), max(conc)\n",
        "pfit, stats = Polynomial.fit(conc, A, 1, full=True, window=(cmin, cmax),\n",
        "                                                    domain=(cmin, cmax))\n",
        "\n",
        "print('Raw fit results:', pfit, stats, sep='\\n')\n",
        "\n",
        "A0, m = pfit\n",
        "resid, rank, sing_val, rcond = stats\n",
        "rms = np.sqrt(resid[0]/len(A))\n",
        "\n",
        "print('Fit: A = {:.3f}[P] + {:.3f}'.format(m, A0),\n",
        "      '(rms residual = {:.4f})'.format(rms))\n",
        "\n",
        "pylab.plot(conc, A)\n",
        "pylab.plot(conc, pfit(conc), color='k')\n",
        "pylab.xlabel('k')\n",
        "pylab.ylabel('l')\n",
        "pylab.show()"
      ],
      "execution_count": null,
      "outputs": [
        {
          "output_type": "stream",
          "text": [
            "Raw fit results:\n",
            "poly([538.22513803  -8.77919532])\n",
            "[array([4719971.28617701]), 2, array([1.36910029, 0.35435068]), 1.6431300764452317e-14]\n",
            "Fit: A = -8.779[P] + 538.225 (rms residual = 252.5537)\n"
          ],
          "name": "stdout"
        },
        {
          "output_type": "display_data",
          "data": {
            "image/png": "[encoded data removed]",
            "text/plain": [
              "<Figure size 432x288 with 1 Axes>"
            ]
          },
          "metadata": {
            "tags": [],
            "needs_background": "light"
          }
        }
      ]
    },
    {
      "cell_type": "markdown",
      "metadata": {
        "id": "kZYk4UPfjmQ6",
        "colab_type": "text"
      },
      "source": [
        "#Analysis"
      ]
    },
    {
      "cell_type": "code",
      "metadata": {
        "id": "LnYkBVftm0lV",
        "colab_type": "code",
        "colab": {}
      },
      "source": [
        ""
      ],
      "execution_count": null,
      "outputs": []
    }
  ]
}