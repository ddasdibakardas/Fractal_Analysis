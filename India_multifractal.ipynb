{
  "nbformat": 4,
  "nbformat_minor": 0,
  "metadata": {
    "colab": {
      "name": "India.ipynb",
      "provenance": [],
      "toc_visible": true,
      "authorship_tag": "ABX9TyNsPGxiKL+2GfQvwVGvaH1w",
      "include_colab_link": true
    },
    "kernelspec": {
      "name": "python3",
      "display_name": "Python 3"
    }
  },
  "cells": [
    {
      "cell_type": "markdown",
      "metadata": {
        "id": "view-in-github",
        "colab_type": "text"
      },
      "source": [
        "<a href=\"https://colab.research.google.com/github/ddasdibakardas/Fractal_Analysis/blob/master/India_multifractal.ipynb\" target=\"_parent\"><img src=\"https://colab.research.google.com/assets/colab-badge.svg\" alt=\"Open In Colab\"/></a>"
      ]
    },
    {
      "cell_type": "code",
      "metadata": {
        "colab": {
          "base_uri": "https://localhost:8080/"
        },
        "id": "NSF9-xfONLOp",
        "outputId": "50794067-4cc0-4ad8-b14f-cbf4f29810ae"
      },
      "source": [
        "pip install MFDFA"
      ],
      "execution_count": 32,
      "outputs": [
        {
          "output_type": "stream",
          "text": [
            "Requirement already satisfied: MFDFA in /usr/local/lib/python3.7/dist-packages (0.4)\n",
            "Requirement already satisfied: numpy in /usr/local/lib/python3.7/dist-packages (from MFDFA) (1.19.5)\n"
          ],
          "name": "stdout"
        }
      ]
    },
    {
      "cell_type": "code",
      "metadata": {
        "id": "uhwAIqGSz_jf"
      },
      "source": [
        "import pandas as pd\r\n",
        "import numpy as np\r\n",
        "import matplotlib.pyplot as plt\r\n",
        "import time\r\n",
        "from MFDFA import MFDFA\r\n",
        "from MFDFA import fgn"
      ],
      "execution_count": 33,
      "outputs": []
    },
    {
      "cell_type": "code",
      "metadata": {
        "id": "Bxi606fr0RMX"
      },
      "source": [
        "import os\r\n",
        "import ctypes\r\n",
        "import numpy as np\r\n",
        "from numpy.ctypeslib import ndpointer\r\n",
        "\r\n",
        "def curve_length(X,opt=False,num_k=50,k_max=None):\r\n",
        "    \"\"\"\r\n",
        "    Calculate curve length <Lk> for Higuchi Fractal Dimension (HFD)\r\n",
        "    \r\n",
        "    Input:\r\n",
        "    \r\n",
        "    X - input (time) series (must be 1D, to be converted into a NumPy array)\r\n",
        "    opt (=True) - optimized? (if libhfd.so was compiled uses the faster code).\r\n",
        "    num_k - number of k values to generate.\r\n",
        "    k_max - the maximum k (the k array is generated uniformly in log space \r\n",
        "            from 2 to k_max)\r\n",
        "    Output:\r\n",
        "    k - interval \"times\", window sizes\r\n",
        "    Lk - curve length\r\n",
        "    \"\"\"\r\n",
        "    ### Make sure X is a NumPy array with the correct dimension\r\n",
        "    X = np.array(X)\r\n",
        "    if X.ndim != 1:\r\n",
        "        raise ValueError(\"Input array must be 1D (time series).\")\r\n",
        "    N = X.size\r\n",
        "\r\n",
        "    ### Get interval \"time\"\r\n",
        "    k_arr = interval_t(N,num_val=num_k,kmax=k_max)\r\n",
        "\r\n",
        "    ### The average length\r\n",
        "    Lk = np.empty(k_arr.size,dtype=np.float)\r\n",
        "\r\n",
        "    ### C library\r\n",
        "    '''\r\n",
        "    if opt:\r\n",
        "        X = np.require(X, float, ('C', 'A'))\r\n",
        "        k_arr = np.require(k_arr, ctypes.c_size_t, ('C', 'A'))\r\n",
        "        Lk = np.require(Lk, float, ('C', 'A'))\r\n",
        "        ## Load library here\r\n",
        "        libhfd = init_lib()\r\n",
        "        ## Run the C code here\r\n",
        "        libhfd.curve_length(k_arr,k_arr.size,X,N,Lk)\r\n",
        "    '''\r\n",
        "    #else:\r\n",
        "        ### Native Python run\r\n",
        "    for i in range(k_arr.size):# over array of k's\r\n",
        "            Lmk = 0.0\r\n",
        "            for j in range(k_arr[i]):# over m's\r\n",
        "                ## Construct X_k^m, i.e. X_(k_arr[i])^j, as X[j::k_arr[i]]\r\n",
        "                ## Calculate L_m(k)\r\n",
        "                Lmk += (\r\n",
        "                    np.sum(\r\n",
        "                        np.abs(\r\n",
        "                            np.diff( X[j::k_arr[i]] )\r\n",
        "                        )\r\n",
        "                    )\r\n",
        "                    * (N - 1) /\r\n",
        "                    (\r\n",
        "                        ( (N-j-1)//k_arr[i] )\r\n",
        "                        *\r\n",
        "                        k_arr[i]\r\n",
        "                    )\r\n",
        "                ) / k_arr[i]\r\n",
        "\r\n",
        "            ### Calculate the average Lmk\r\n",
        "            Lk[i] = Lmk / k_arr[i]\r\n",
        "\r\n",
        "    return (k_arr, Lk);\r\n",
        "\r\n",
        "def lin_fit_hfd(k,L,log=True):\r\n",
        "    \"\"\"\r\n",
        "    Calculate Higuchi Fractal Dimension (HFD) by fitting a line to already computed\r\n",
        "    interval times k and curve lengths L\r\n",
        "    Input:\r\n",
        "    k - interval \"times\", window sizes\r\n",
        "    L - curve length\r\n",
        "    log (=True) - k and L values will be transformed to np.log2(k) and np.log2(L),\r\n",
        "                  respectively\r\n",
        "    Output:\r\n",
        "    HFD\r\n",
        "    \"\"\"\r\n",
        "    if log:\r\n",
        "        return (-np.polyfit(np.log2(k),np.log2(L),deg=1)[0]);\r\n",
        "    else:\r\n",
        "        return (-np.polyfit(k,L,deg=1)[0]);\r\n",
        "\r\n",
        "def hfd(X,**kwargs):\r\n",
        "    \"\"\"\r\n",
        "    Calculate Higuchi Fractal Dimension (HFD) for 1D data/series\r\n",
        "    Input:\r\n",
        "    X - input (time) series (must be 1D, to be converted into a NumPy array)\r\n",
        "    Output:\r\n",
        "    \r\n",
        "    HFD\r\n",
        "    \"\"\"\r\n",
        "    k, L = curve_length(X,**kwargs)\r\n",
        "    return lin_fit_hfd(k, L);\r\n",
        "\r\n",
        "# Generating th interval\r\n",
        "def interval_t(size,num_val=50,kmax=None):\r\n",
        "    list_space = []\r\n",
        "    ### Generate sequence of interval times, k\r\n",
        "    if kmax is None:\r\n",
        "        k_stop = size//2\r\n",
        "    else:\r\n",
        "        k_stop = kmax\r\n",
        "    if k_stop > size//2:   ## prohibit going larger than N/2\r\n",
        "        k_stop = size//2\r\n",
        "        print(\"Warning: k cannot be longer than N/2\")\r\n",
        "    for i in range(2, k_stop):\r\n",
        "      list_space.append(i)    \r\n",
        "    #k = np.logspace(start=np.log2(2),stop=np.log2(k_stop),base=2,num=num_val,dtype=np.int)\r\n",
        "    return np.unique(list_space);\r\n",
        "\r\n",
        "def init_lib():\r\n",
        "    libdir = os.path.dirname(__file__)\r\n",
        "    libfile = os.path.join(libdir, \"libhfd.so\")\r\n",
        "    lib = ctypes.CDLL(libfile)\r\n",
        "\r\n",
        "    rwptr = ndpointer(float, flags=('C','A','W'))\r\n",
        "    rwptr_sizet = ndpointer(ctypes.c_size_t, flags=('C','A','W'))\r\n",
        "\r\n",
        "    lib.curve_length.restype = ctypes.c_int\r\n",
        "    lib.curve_length.argtypes = [rwptr_sizet, ctypes.c_size_t, rwptr, ctypes.c_size_t, rwptr]\r\n",
        "\r\n",
        "    return lib;"
      ],
      "execution_count": 34,
      "outputs": []
    },
    {
      "cell_type": "code",
      "metadata": {
        "colab": {
          "base_uri": "https://localhost:8080/"
        },
        "id": "iQpKmonN0l5t",
        "outputId": "874475e9-dfe5-4841-d8c6-fdafa11e33f4"
      },
      "source": [
        "# Validation of the algorithm\r\n",
        "x = np.random.randn(1000)\r\n",
        "y = np.empty(990)\r\n",
        "for i in range(x.size-10):\r\n",
        "\ty[i] = np.sum(x[:(i+10)])\r\n",
        "\t\r\n",
        "## Note x is a Guassian noise, y is the original Brownian data used in Higuchi, Physica D, 1988.\r\n",
        "\r\n",
        "print(hfd(x)) # ~ 2.00\r\n",
        "print(hfd(y)) # ~ 1.50\r\n",
        "#print(a, b)"
      ],
      "execution_count": 5,
      "outputs": [
        {
          "output_type": "stream",
          "text": [
            "1.9993866220552714\n",
            "1.5447850420620135\n"
          ],
          "name": "stdout"
        }
      ]
    },
    {
      "cell_type": "code",
      "metadata": {
        "id": "NQTaZLH30rkM"
      },
      "source": [
        "\r\n",
        "k1, l1 = curve_length((x))\r\n",
        "k2, l2 = curve_length((y))\r\n",
        "#print(k, l)"
      ],
      "execution_count": 6,
      "outputs": []
    },
    {
      "cell_type": "code",
      "metadata": {
        "colab": {
          "base_uri": "https://localhost:8080/",
          "height": 295
        },
        "id": "2XrRt0Ag0zh8",
        "outputId": "ee0dd13f-3bde-4bd5-e1f6-b31504d9b8b6"
      },
      "source": [
        "import math\r\n",
        "x1 = k1 #k_interval_times\r\n",
        "y1 = l1 #curve_length_list\r\n",
        "x2 = k2\r\n",
        "y2 = l2\r\n",
        "#x = np.logspace(curve_length[0], curve_length[len(curve_length) - 1], len(curve_length))\r\n",
        "#log_y = []\r\n",
        "#for i in curve_length_list:\r\n",
        "#  log_y.append(math.log10(i))\r\n",
        "#y = log_y\r\n",
        "#y = np.logspace(k_interval_times[0], k_interval_times[len(k_interval_times) - 1], len(k_interval_times)) \r\n",
        "\r\n",
        "plt.title(\"TEST\") \r\n",
        "plt.xlabel(\"k\") \r\n",
        "plt.ylabel(\"<L(k)>\")\r\n",
        "plt.plot(x1,y1,label='Gaussian')\r\n",
        "plt.plot(x2,y2, label='Brownian')\r\n",
        "plt.legend() \r\n",
        "plt.show()"
      ],
      "execution_count": 7,
      "outputs": [
        {
          "output_type": "display_data",
          "data": {
            "image/png": "[encoded data removed]",
            "text/plain": [
              "<Figure size 432x288 with 1 Axes>"
            ]
          },
          "metadata": {
            "tags": [],
            "needs_background": "light"
          }
        }
      ]
    },
    {
      "cell_type": "markdown",
      "metadata": {
        "id": "5FdGjKda03Z9"
      },
      "source": [
        "#Data Preprocessing"
      ]
    },
    {
      "cell_type": "code",
      "metadata": {
        "colab": {
          "base_uri": "https://localhost:8080/",
          "height": 204
        },
        "id": "nFWqWDur1Cmg",
        "outputId": "8d75cec0-1f5e-4732-841d-0f25c45df18f"
      },
      "source": [
        "data = pd.read_csv('/content/India Data Analysis - Meta Data.csv')\r\n",
        "data.head()"
      ],
      "execution_count": 35,
      "outputs": [
        {
          "output_type": "execute_result",
          "data": {
            "text/html": [
              "<div>\n",
              "<style scoped>\n",
              "    .dataframe tbody tr th:only-of-type {\n",
              "        vertical-align: middle;\n",
              "    }\n",
              "\n",
              "    .dataframe tbody tr th {\n",
              "        vertical-align: top;\n",
              "    }\n",
              "\n",
              "    .dataframe thead th {\n",
              "        text-align: right;\n",
              "    }\n",
              "</style>\n",
              "<table border=\"1\" class=\"dataframe\">\n",
              "  <thead>\n",
              "    <tr style=\"text-align: right;\">\n",
              "      <th></th>\n",
              "      <th>Day</th>\n",
              "      <th>date</th>\n",
              "      <th>TS</th>\n",
              "      <th>DC</th>\n",
              "      <th>GR</th>\n",
              "      <th>Growing  Inverted</th>\n",
              "    </tr>\n",
              "  </thead>\n",
              "  <tbody>\n",
              "    <tr>\n",
              "      <th>0</th>\n",
              "      <td>1</td>\n",
              "      <td>02/03/2020</td>\n",
              "      <td>2.00</td>\n",
              "      <td>92609.29</td>\n",
              "      <td>2.00</td>\n",
              "      <td>93278.14</td>\n",
              "    </tr>\n",
              "    <tr>\n",
              "      <th>1</th>\n",
              "      <td>2</td>\n",
              "      <td>03/03/2020</td>\n",
              "      <td>8.33</td>\n",
              "      <td>92346.43</td>\n",
              "      <td>8.33</td>\n",
              "      <td>93274.57</td>\n",
              "    </tr>\n",
              "    <tr>\n",
              "      <th>2</th>\n",
              "      <td>3</td>\n",
              "      <td>04/03/2020</td>\n",
              "      <td>5.60</td>\n",
              "      <td>91514.29</td>\n",
              "      <td>5.60</td>\n",
              "      <td>92942.57</td>\n",
              "    </tr>\n",
              "    <tr>\n",
              "      <th>3</th>\n",
              "      <td>4</td>\n",
              "      <td>05/03/2020</td>\n",
              "      <td>5.14</td>\n",
              "      <td>90454.29</td>\n",
              "      <td>5.14</td>\n",
              "      <td>92765.00</td>\n",
              "    </tr>\n",
              "    <tr>\n",
              "      <th>4</th>\n",
              "      <td>5</td>\n",
              "      <td>06/03/2020</td>\n",
              "      <td>6.14</td>\n",
              "      <td>89349.14</td>\n",
              "      <td>6.14</td>\n",
              "      <td>91779.57</td>\n",
              "    </tr>\n",
              "  </tbody>\n",
              "</table>\n",
              "</div>"
            ],
            "text/plain": [
              "   Day        date    TS        DC    GR  Growing  Inverted\n",
              "0    1  02/03/2020  2.00  92609.29  2.00           93278.14\n",
              "1    2  03/03/2020  8.33  92346.43  8.33           93274.57\n",
              "2    3  04/03/2020  5.60  91514.29  5.60           92942.57\n",
              "3    4  05/03/2020  5.14  90454.29  5.14           92765.00\n",
              "4    5  06/03/2020  6.14  89349.14  6.14           91779.57"
            ]
          },
          "metadata": {
            "tags": []
          },
          "execution_count": 35
        }
      ]
    },
    {
      "cell_type": "code",
      "metadata": {
        "colab": {
          "base_uri": "https://localhost:8080/"
        },
        "id": "zFPGOFc11Icd",
        "outputId": "b6ac2c83-33ee-433a-b06c-6857ed374ba4"
      },
      "source": [
        "india=data.TS\r\n",
        "print(india[0::])"
      ],
      "execution_count": 36,
      "outputs": [
        {
          "output_type": "stream",
          "text": [
            "0          2.00\n",
            "1          8.33\n",
            "2          5.60\n",
            "3          5.14\n",
            "4          6.14\n",
            "         ...   \n",
            "346    11054.14\n",
            "347    11107.14\n",
            "348    10896.00\n",
            "349    10996.67\n",
            "350     9086.00\n",
            "Name: TS, Length: 351, dtype: float64\n"
          ],
          "name": "stdout"
        }
      ]
    },
    {
      "cell_type": "markdown",
      "metadata": {
        "id": "lF7Ywsvo1485"
      },
      "source": [
        "#Monofractal Analysis"
      ]
    },
    {
      "cell_type": "code",
      "metadata": {
        "colab": {
          "base_uri": "https://localhost:8080/"
        },
        "id": "ZqvghROL19KQ",
        "outputId": "0905fe9d-4395-4b9a-8c00-344f20e5e3d2"
      },
      "source": [
        "#Inputs to higuchi algorithm \r\n",
        "india= india[0:352:]\r\n",
        "grow= india[0:197:]\r\n",
        "decline= india[197:352:]\r\n",
        "print(india.shape)\r\n",
        "print(grow.shape)\r\n",
        "print(decline.shape)\r\n",
        "n=int(351/2)\r\n",
        "k_interval_times1, curve_length_list1 = curve_length(india, n-1, n)\r\n",
        "k_interval_times2, curve_length_list2 = curve_length(grow, n-1, n)\r\n",
        "k_interval_times3, curve_length_list3 = curve_length(decline, n-1, n)\r\n",
        "print(k_interval_times1, curve_length_list1)\r\n",
        "print(k_interval_times2, curve_length_list2)\r\n",
        "print(k_interval_times3, curve_length_list3)"
      ],
      "execution_count": 37,
      "outputs": [
        {
          "output_type": "stream",
          "text": [
            "(351,)\n",
            "(197,)\n",
            "(154,)\n",
            "[  2   3   4   5   6   7   8   9  10  11  12  13  14  15  16  17  18  19\n",
            "  20  21  22  23  24  25  26  27  28  29  30  31  32  33  34  35  36  37\n",
            "  38  39  40  41  42  43  44  45  46  47  48  49  50  51  52  53  54  55\n",
            "  56  57  58  59  60  61  62  63  64  65  66  67  68  69  70  71  72  73\n",
            "  74  75  76  77  78  79  80  81  82  83  84  85  86  87  88  89  90  91\n",
            "  92  93  94  95  96  97  98  99 100 101 102 103 104 105 106 107 108 109\n",
            " 110 111 112 113 114 115 116 117 118 119 120 121 122 123 124 125 126 127\n",
            " 128 129 130 131 132 133 134 135 136 137 138 139 140 141 142 143 144 145\n",
            " 146 147 148 149 150 151 152 153 154 155 156 157 158 159 160 161 162 163\n",
            " 164 165 166 167 168 169 170 171 172 173 174] [95658.04525862 62842.5        46788.90012906 37283.29756522\n",
            " 30970.84441168 26424.92827988 23012.33861737 20328.30840734\n",
            " 18176.32047059 16418.29223884 14976.88190952 13777.58732187\n",
            " 12748.70380952 11894.34308388 11136.11848958 10473.48471884\n",
            "  9890.14200915  9348.37302904  8888.46669118  8442.56362119\n",
            "  8056.51493395  7712.61653379  7380.04550336  7081.48148431\n",
            "  6818.12395782  6552.59907026  6329.25573013  6100.70092329\n",
            "  5894.33778771  5697.09254046  5515.00697327  5362.78276861\n",
            "  5198.25284393  5027.35523084  4881.60820658  4739.65228984\n",
            "  4610.4640746   4488.016681    4394.49530664  4292.21276625\n",
            "  4182.31772689  4067.0284857   3949.69337943  3850.92283951\n",
            "  3760.33046441  3676.75404053  3598.05039394  3521.5334597\n",
            "  3446.726814    3391.11706093  3335.88166581  3278.80066688\n",
            "  3217.93467311  3152.37111685  3083.75147747  3012.44646207\n",
            "  2941.25717912  2878.43547563  2825.08351806  2774.01842004\n",
            "  2724.67112268  2678.00208071  2635.33587074  2594.65445262\n",
            "  2553.96781494  2512.85145222  2471.36784384  2429.10544673\n",
            "  2387.32652908  2357.40734929  2329.1370359   2299.80924912\n",
            "  2269.36903478  2238.75982815  2206.76642857  2173.69195071\n",
            "  2139.76623918  2106.51021801  2073.65302881  2041.23639109\n",
            "  2008.52641407  1975.51949699  1942.5317913   1909.71989239\n",
            "  1877.1348003   1844.84169447  1814.83329041  1791.38202921\n",
            "  1769.59383459  1748.97155908  1729.51163474  1711.31353657\n",
            "  1693.96890632  1677.87715789  1662.23047826  1645.99776536\n",
            "  1629.4729013   1612.55093378  1595.5072595   1578.02973007\n",
            "  1559.75140178  1540.92148801  1521.61333659  1502.51438448\n",
            "  1483.62482669  1464.50631141  1445.17532162  1425.6054275\n",
            "  1406.05846888  1386.3633151   1366.51855469  1346.61825238\n",
            "  1326.14531119  1305.48542506  1284.45948385  1263.482581\n",
            "  1243.15371079  1222.84714855  1202.86373148  1183.34888158\n",
            "  1165.12238662  1147.67204104  1130.64403404  1113.85993152\n",
            "  1097.1547619   1080.5562634   1063.89961553  1047.02659887\n",
            "  1030.25852799  1013.89057838   998.19584772   982.81354306\n",
            "   967.50544989   952.13949428   936.64925256   921.0633015\n",
            "   905.47460534   890.21155169   875.46130102   861.14190988\n",
            "   847.31494448   833.92158447   821.03542325   808.42927902\n",
            "   796.1793474    784.04172975   772.21434549   760.70070631\n",
            "   749.488908     738.51787689   727.74234525   717.21619827\n",
            "   706.85835991   696.68448646   686.5630363    676.63686535\n",
            "   666.95401904   657.54000885   648.31902905   639.31717526\n",
            "   630.486908     621.8186426    613.32246561   604.95914506\n",
            "   596.74556407   588.80425416   580.9957793    573.36760684\n",
            "   565.84856055   558.45045334   551.09456189   543.87234741\n",
            "   536.71317765]\n",
            "[ 2  3  4  5  6  7  8  9 10 11 12 13 14 15 16 17 18 19 20 21 22 23 24 25\n",
            " 26 27 28 29 30 31 32 33 34 35 36 37 38 39 40 41 42 43 44 45 46 47 48 49\n",
            " 50 51 52 53 54 55 56 57 58 59 60 61 62 63 64 65 66 67 68 69 70 71 72 73\n",
            " 74 75 76 77 78 79 80 81 82 83 84 85 86 87 88 89 90 91 92 93 94 95 96 97] [47446.45969072 31533.48012001 23630.7052474  18949.43555152\n",
            " 15837.83385902 13613.84569917 11929.76536005 10603.19081847\n",
            "  9534.99519696  8655.12622299  7926.55797068  7305.16464209\n",
            "  6769.26482732  6304.26264608  5897.23308771  5536.96129541\n",
            "  5221.25955662  4934.07966629  4673.68609556  4437.40790417\n",
            "  4227.78559213  4027.59283348  3855.13151042  3692.78367061\n",
            "  3539.80701714  3406.05517519  3285.62358206  3164.26642689\n",
            "  3051.8293438   2952.33166173  2863.47072095  2779.02356435\n",
            "  2696.33050758  2618.07558629  2545.42126788  2479.7803413\n",
            "  2419.2295413   2361.88596952  2306.6002699   2253.64971291\n",
            "  2199.40322531  2146.82611556  2095.94053058  2048.61909765\n",
            "  2005.19069502  1965.03951995  1927.98901789  1891.66071081\n",
            "  1857.305996    1823.96115642  1790.99996368  1759.08136462\n",
            "  1728.22808104  1697.13419308  1665.21658668  1633.40092696\n",
            "  1601.88517224  1571.05208325  1541.96666599  1514.42129277\n",
            "  1488.16983549  1463.18706382  1439.68145187  1416.36605922\n",
            "  1390.80941022  1361.75464469  1334.70106261  1309.77288921\n",
            "  1286.88736286  1266.11116032  1247.10350711  1229.09676765\n",
            "  1211.90535388  1195.45694033  1179.17833162  1163.01507352\n",
            "  1147.23800612  1132.16200305  1117.62527789  1103.77513538\n",
            "  1089.86702242  1075.6257272   1061.5016121   1047.62780808\n",
            "  1034.0489361   1020.69940061  1007.69439199   995.23968123\n",
            "   983.63329959   972.55636517   961.8658154    951.8683357\n",
            "   942.3360268    933.47998208   925.08508387   916.77358798]\n",
            "[ 2  3  4  5  6  7  8  9 10 11 12 13 14 15 16 17 18 19 20 21 22 23 24 25\n",
            " 26 27 28 29 30 31 32 33 34 35 36 37 38 39 40 41 42 43 44 45 46 47 48 49\n",
            " 50 51 52 53 54 55 56 57 58 59 60 61 62 63 64 65 66 67 68 69 70 71 72 73\n",
            " 74 75 76] [48097.55560855 31347.94451111 23241.45471317 18400.75420552\n",
            " 15173.99101806 12849.34591837 11103.74598581  9703.20458333\n",
            "  8584.230291    7692.58533896  6981.11760022  6401.29129453\n",
            "  5915.5307777   5526.72796059  5184.81457092  4878.06432526\n",
            "  4609.08097277  4362.55709764  4143.01720741  3942.08953954\n",
            "  3758.87134908  3594.62654064  3446.7847895   3307.20437011\n",
            "  3179.32875742  3058.49673205  2948.78471679  2846.09878882\n",
            "  2747.11367117  2653.6998231   2563.54303459  2480.73644899\n",
            "  2401.32051903  2328.19452315  2259.37103556  2191.94075045\n",
            "  2128.50372581  2061.30110833  1992.73921242  1931.81325402\n",
            "  1877.43700782  1828.02045996  1782.51977596  1739.34964395\n",
            "  1700.0673688   1664.85720794  1630.9909455   1598.12177537\n",
            "  1567.35358116  1538.21598808  1508.1051938   1477.33137607\n",
            "  1446.73283208  1415.55668051  1384.03635252  1353.43991009\n",
            "  1324.52721921  1297.97777475  1273.48296604  1250.89237498\n",
            "  1230.19399374  1211.61808552  1194.74487539  1179.37901593\n",
            "  1165.06470026  1151.10859639  1138.47283845  1126.36183831\n",
            "  1114.75998052  1103.28935407  1091.07802807  1078.61607206\n",
            "  1066.08653857  1053.77600437  1041.45034666]\n"
          ],
          "name": "stdout"
        }
      ]
    },
    {
      "cell_type": "code",
      "metadata": {
        "colab": {
          "base_uri": "https://localhost:8080/"
        },
        "id": "AQh6cECM2de2",
        "outputId": "0a8abdc9-73c4-48b6-f9ee-fdd45cf4e091"
      },
      "source": [
        "hfd(india)"
      ],
      "execution_count": 11,
      "outputs": [
        {
          "output_type": "execute_result",
          "data": {
            "text/plain": [
              "1.160121360409287"
            ]
          },
          "metadata": {
            "tags": []
          },
          "execution_count": 11
        }
      ]
    },
    {
      "cell_type": "code",
      "metadata": {
        "colab": {
          "base_uri": "https://localhost:8080/"
        },
        "id": "nsUjeo1q2f2O",
        "outputId": "5de94019-191b-4e0e-ecbb-46eda1081c05"
      },
      "source": [
        "hfd(grow)"
      ],
      "execution_count": 12,
      "outputs": [
        {
          "output_type": "execute_result",
          "data": {
            "text/plain": [
              "1.021526900363605"
            ]
          },
          "metadata": {
            "tags": []
          },
          "execution_count": 12
        }
      ]
    },
    {
      "cell_type": "code",
      "metadata": {
        "colab": {
          "base_uri": "https://localhost:8080/"
        },
        "id": "uzaR86JS2hwS",
        "outputId": "83854d81-0bff-4838-9934-c7d5e906a4f5"
      },
      "source": [
        "hfd(decline)"
      ],
      "execution_count": 13,
      "outputs": [
        {
          "output_type": "execute_result",
          "data": {
            "text/plain": [
              "1.0608363610737706"
            ]
          },
          "metadata": {
            "tags": []
          },
          "execution_count": 13
        }
      ]
    },
    {
      "cell_type": "code",
      "metadata": {
        "colab": {
          "base_uri": "https://localhost:8080/",
          "height": 282
        },
        "id": "bnJQUTjKPEm5",
        "outputId": "30a427c6-f63a-4dde-fa50-95ba5e7cdeb7"
      },
      "source": [
        "#The Graphs\r\n",
        "x1 = k_interval_times1\r\n",
        "y1 = curve_length_list1\r\n",
        "plt.title(\"\") \r\n",
        "plt.xlabel(\"k\") \r\n",
        "plt.ylabel(\"<L(k)>\") \r\n",
        "plt.plot(x1,y1,label='complete time series')\r\n",
        "plt.legend()\r\n",
        "plt.show()"
      ],
      "execution_count": 15,
      "outputs": [
        {
          "output_type": "display_data",
          "data": {
            "image/png": "[encoded data removed]",
            "text/plain": [
              "<Figure size 432x288 with 1 Axes>"
            ]
          },
          "metadata": {
            "tags": [],
            "needs_background": "light"
          }
        }
      ]
    },
    {
      "cell_type": "code",
      "metadata": {
        "colab": {
          "base_uri": "https://localhost:8080/",
          "height": 281
        },
        "id": "DKnRd7cDPN4A",
        "outputId": "cb709bef-48d8-4055-9031-8268d28d1fff"
      },
      "source": [
        "#The Graphs\r\n",
        "x2 = k_interval_times2\r\n",
        "y2 = curve_length_list2\r\n",
        "x3 = k_interval_times3\r\n",
        "y3 = curve_length_list3\r\n",
        "plt.title(\"\") \r\n",
        "plt.xlabel(\"k\") \r\n",
        "plt.ylabel(\"<L(k)>\") \r\n",
        "plt.plot(x2,y2,label='growth phase',color='orange')  \r\n",
        "plt.plot(x3,y3,label='declining phase', color='g')\r\n",
        "plt.legend()\r\n",
        "plt.show()"
      ],
      "execution_count": 18,
      "outputs": [
        {
          "output_type": "display_data",
          "data": {
            "image/png": "[encoded data removed]",
            "text/plain": [
              "<Figure size 432x288 with 1 Axes>"
            ]
          },
          "metadata": {
            "tags": [],
            "needs_background": "light"
          }
        }
      ]
    },
    {
      "cell_type": "markdown",
      "metadata": {
        "id": "_TTM6TOf807n"
      },
      "source": [
        "#Multifractal Analysis"
      ]
    },
    {
      "cell_type": "code",
      "metadata": {
        "colab": {
          "base_uri": "https://localhost:8080/"
        },
        "id": "DbgCpa6a87TG",
        "outputId": "cf976b9b-68d5-463f-a56a-0256a20278eb"
      },
      "source": [
        "india= india[0:352:]\r\n",
        "india = np.array(india)\r\n",
        "if india.ndim != 1:\r\n",
        "   raise ValueError(\"Input array must be 1D (time series).\")\r\n",
        "print(india.size)\r\n",
        "\r\n",
        "# Select a band of lags, which usually ranges from\r\n",
        "# very small segments of data, to very long ones, as\r\n",
        "lag = np.unique(np.logspace(0.5, 3, 100).astype(int))\r\n",
        "# Notice these must be ints, since these will segment\r\n",
        "# the data into chucks of lag size\r\n",
        "\r\n",
        "# Select the power q\r\n",
        "q = 2\r\n",
        "\r\n",
        "# The order of the polynomial fitting\r\n",
        "order = 1\r\n",
        "\r\n",
        "# Obtain the (MF)DFA as\r\n",
        "lag, dfa = MFDFA(india , lag = lag, q = q, order = order)"
      ],
      "execution_count": 43,
      "outputs": [
        {
          "output_type": "stream",
          "text": [
            "351\n"
          ],
          "name": "stdout"
        },
        {
          "output_type": "stream",
          "text": [
            "/usr/local/lib/python3.7/dist-packages/numpy/core/fromnumeric.py:3373: RuntimeWarning: Mean of empty slice.\n",
            "  out=out, **kwargs)\n",
            "/usr/local/lib/python3.7/dist-packages/numpy/core/_methods.py:163: RuntimeWarning: invalid value encountered in true_divide\n",
            "  ret, rcount, out=ret, casting='unsafe', subok=False)\n"
          ],
          "name": "stderr"
        }
      ]
    },
    {
      "cell_type": "code",
      "metadata": {
        "colab": {
          "base_uri": "https://localhost:8080/",
          "height": 300
        },
        "id": "ZAQiv1nn9yVX",
        "outputId": "56149573-6a83-4db4-feee-a7cb85ae5235"
      },
      "source": [
        "# To uncover the Hurst index, lets get some log-log plots\r\n",
        "plt.xlabel(\"lag s\") \r\n",
        "plt.ylabel(\"<Fq(s)>\")\r\n",
        "plt.loglog(lag, dfa, 'o', label='complete time series', marker='^')\r\n",
        "legend = plt.legend(loc='upper left')\r\n",
        "\r\n",
        "\r\n",
        "# And now we need to fit the line to find the slope. We will\r\n",
        "# fit the first points, since the results are more accurate\r\n",
        "# there. Don't forget that if you are seeing in log-log\r\n",
        "# scales, you need to fit the logs of the results\r\n",
        "np.polyfit(np.log(lag[:15]), np.log(dfa[:15]),1)[0]\r\n",
        "# Now what you should obtain is: slope = H + 1"
      ],
      "execution_count": 70,
      "outputs": [
        {
          "output_type": "execute_result",
          "data": {
            "text/plain": [
              "array([2.10464622])"
            ]
          },
          "metadata": {
            "tags": []
          },
          "execution_count": 70
        },
        {
          "output_type": "display_data",
          "data": {
            "image/png": "[encoded data removed]",
            "text/plain": [
              "<Figure size 432x288 with 1 Axes>"
            ]
          },
          "metadata": {
            "tags": [],
            "needs_background": "light"
          }
        }
      ]
    },
    {
      "cell_type": "code",
      "metadata": {
        "colab": {
          "base_uri": "https://localhost:8080/"
        },
        "id": "u0zKzO-K9-Y7",
        "outputId": "86e932a3-0cfe-4a57-8c43-031178f3ac67"
      },
      "source": [
        "grow= india[0:197:]\r\n",
        "decline= india[197:352:]\r\n",
        "\r\n",
        "grow = np.array(grow)\r\n",
        "if grow.ndim != 1:\r\n",
        "   raise ValueError(\"Input array must be 1D (time series).\")\r\n",
        "print(grow.size)\r\n",
        "decline = np.array(decline)\r\n",
        "if decline.ndim != 1:\r\n",
        "   raise ValueError(\"Input array must be 1D (time series).\")\r\n",
        "print(decline.size)\r\n",
        "\r\n",
        "# Select a band of lags, which usually ranges from\r\n",
        "# very small segments of data, to very long ones, as\r\n",
        "lag = np.unique(np.logspace(0.5, 3, 100).astype(int))\r\n",
        "# Notice these must be ints, since these will segment\r\n",
        "# the data into chucks of lag size\r\n",
        "\r\n",
        "# Select the power q\r\n",
        "q = 2\r\n",
        "\r\n",
        "# The order of the polynomial fitting\r\n",
        "order = 1\r\n",
        "\r\n",
        "# Obtain the (MF)DFA as\r\n",
        "lag1, dfa1 = MFDFA(grow, lag = lag, q = q, order = order)\r\n",
        "lag2, dfa2 = MFDFA(decline, lag = lag, q = q, order = order)"
      ],
      "execution_count": 46,
      "outputs": [
        {
          "output_type": "stream",
          "text": [
            "197\n",
            "154\n"
          ],
          "name": "stdout"
        },
        {
          "output_type": "stream",
          "text": [
            "/usr/local/lib/python3.7/dist-packages/numpy/core/fromnumeric.py:3373: RuntimeWarning: Mean of empty slice.\n",
            "  out=out, **kwargs)\n",
            "/usr/local/lib/python3.7/dist-packages/numpy/core/_methods.py:163: RuntimeWarning: invalid value encountered in true_divide\n",
            "  ret, rcount, out=ret, casting='unsafe', subok=False)\n"
          ],
          "name": "stderr"
        }
      ]
    },
    {
      "cell_type": "code",
      "metadata": {
        "colab": {
          "base_uri": "https://localhost:8080/",
          "height": 288
        },
        "id": "lqp2xbu2_PDO",
        "outputId": "2dec8cf3-018b-40d3-b9c9-d1b3546837c0"
      },
      "source": [
        "# To uncover the Hurst index, lets get some log-log plots\r\n",
        "plt.xlabel(\"lag s\") \r\n",
        "plt.ylabel(\"<Fq(s)>\")\r\n",
        "plt.loglog(lag1, dfa1, 'o', marker='^', color='orange', label='growth phase')\r\n",
        "plt.loglog(lag2, dfa2, 'o', marker='^', color='g', label='declining phase')\r\n",
        "legend = plt.legend(loc='upper left')\r\n",
        "\r\n",
        "# And now we need to fit the line to find the slope. We will\r\n",
        "# fit the first points, since the results are more accurate\r\n",
        "# there. Don't forget that if you are seeing in log-log\r\n",
        "# scales, you need to fit the logs of the results\r\n",
        "# Now what you should obtain is: slope = H + 1"
      ],
      "execution_count": 72,
      "outputs": [
        {
          "output_type": "display_data",
          "data": {
            "image/png": "[encoded data removed]",
            "text/plain": [
              "<Figure size 432x288 with 1 Axes>"
            ]
          },
          "metadata": {
            "tags": [],
            "needs_background": "light"
          }
        }
      ]
    },
    {
      "cell_type": "code",
      "metadata": {
        "colab": {
          "base_uri": "https://localhost:8080/"
        },
        "id": "VY6o8kKWIG17",
        "outputId": "2d57b674-8a47-4bb4-d533-34bd02345a7a"
      },
      "source": [
        "np.polyfit(np.log(lag1[:15]), np.log(dfa1[:15]),1)[0]"
      ],
      "execution_count": 58,
      "outputs": [
        {
          "output_type": "execute_result",
          "data": {
            "text/plain": [
              "array([2.11770189])"
            ]
          },
          "metadata": {
            "tags": []
          },
          "execution_count": 58
        }
      ]
    },
    {
      "cell_type": "code",
      "metadata": {
        "colab": {
          "base_uri": "https://localhost:8080/"
        },
        "id": "QrdbVbgjIIMo",
        "outputId": "5d5bef81-252f-489a-d01b-d4f33646d25c"
      },
      "source": [
        "np.polyfit(np.log(lag2[:15]), np.log(dfa2[:15]),1)[0]\r\n"
      ],
      "execution_count": 59,
      "outputs": [
        {
          "output_type": "execute_result",
          "data": {
            "text/plain": [
              "array([2.04589788])"
            ]
          },
          "metadata": {
            "tags": []
          },
          "execution_count": 59
        }
      ]
    }
  ]
}