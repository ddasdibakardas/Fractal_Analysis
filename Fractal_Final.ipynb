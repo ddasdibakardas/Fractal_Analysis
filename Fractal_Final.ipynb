{
  "nbformat": 4,
  "nbformat_minor": 0,
  "metadata": {
    "colab": {
      "name": "Fractal_Final.ipynb",
      "provenance": [],
      "collapsed_sections": [],
      "authorship_tag": "ABX9TyPRlzv5wiOUimHfXwd3rRTZ",
      "include_colab_link": true
    },
    "kernelspec": {
      "name": "python3",
      "display_name": "Python 3"
    }
  },
  "cells": [
    {
      "cell_type": "markdown",
      "metadata": {
        "id": "view-in-github",
        "colab_type": "text"
      },
      "source": [
        "<a href=\"https://colab.research.google.com/github/ddasdibakardas/Fractal_Analysis/blob/master/Fractal_Final.ipynb\" target=\"_parent\"><img src=\"https://colab.research.google.com/assets/colab-badge.svg\" alt=\"Open In Colab\"/></a>"
      ]
    },
    {
      "cell_type": "code",
      "metadata": {
        "id": "bRgZZj2f-uW1"
      },
      "source": [
        "import pandas as pd\r\n",
        "import numpy as np\r\n",
        "import matplotlib.pyplot as plt\r\n",
        "import time"
      ],
      "execution_count": 4,
      "outputs": []
    },
    {
      "cell_type": "code",
      "metadata": {
        "id": "bEeRkUEXAPC1"
      },
      "source": [
        "import os\r\n",
        "import ctypes\r\n",
        "import numpy as np\r\n",
        "from numpy.ctypeslib import ndpointer\r\n",
        "\r\n",
        "def curve_length(X,opt=False,num_k=50,k_max=None):\r\n",
        "    \"\"\"\r\n",
        "    Calculate curve length <Lk> for Higuchi Fractal Dimension (HFD)\r\n",
        "    \r\n",
        "    Input:\r\n",
        "    \r\n",
        "    X - input (time) series (must be 1D, to be converted into a NumPy array)\r\n",
        "    opt (=True) - optimized? (if libhfd.so was compiled uses the faster code).\r\n",
        "    num_k - number of k values to generate.\r\n",
        "    k_max - the maximum k (the k array is generated uniformly in log space \r\n",
        "            from 2 to k_max)\r\n",
        "    Output:\r\n",
        "    k - interval \"times\", window sizes\r\n",
        "    Lk - curve length\r\n",
        "    \"\"\"\r\n",
        "    ### Make sure X is a NumPy array with the correct dimension\r\n",
        "    X = np.array(X)\r\n",
        "    if X.ndim != 1:\r\n",
        "        raise ValueError(\"Input array must be 1D (time series).\")\r\n",
        "    N = X.size\r\n",
        "\r\n",
        "    ### Get interval \"time\"\r\n",
        "    k_arr = interval_t(N,num_val=num_k,kmax=k_max)\r\n",
        "\r\n",
        "    ### The average length\r\n",
        "    Lk = np.empty(k_arr.size,dtype=np.float)\r\n",
        "\r\n",
        "    ### C library\r\n",
        "    '''\r\n",
        "    if opt:\r\n",
        "        X = np.require(X, float, ('C', 'A'))\r\n",
        "        k_arr = np.require(k_arr, ctypes.c_size_t, ('C', 'A'))\r\n",
        "        Lk = np.require(Lk, float, ('C', 'A'))\r\n",
        "        ## Load library here\r\n",
        "        libhfd = init_lib()\r\n",
        "        ## Run the C code here\r\n",
        "        libhfd.curve_length(k_arr,k_arr.size,X,N,Lk)\r\n",
        "    '''\r\n",
        "    #else:\r\n",
        "        ### Native Python run\r\n",
        "    for i in range(k_arr.size):# over array of k's\r\n",
        "            Lmk = 0.0\r\n",
        "            for j in range(k_arr[i]):# over m's\r\n",
        "                ## Construct X_k^m, i.e. X_(k_arr[i])^j, as X[j::k_arr[i]]\r\n",
        "                ## Calculate L_m(k)\r\n",
        "                Lmk += (\r\n",
        "                    np.sum(\r\n",
        "                        np.abs(\r\n",
        "                            np.diff( X[j::k_arr[i]] )\r\n",
        "                        )\r\n",
        "                    )\r\n",
        "                    * (N - 1) /\r\n",
        "                    (\r\n",
        "                        ( (N-j-1)//k_arr[i] )\r\n",
        "                        *\r\n",
        "                        k_arr[i]\r\n",
        "                    )\r\n",
        "                ) / k_arr[i]\r\n",
        "\r\n",
        "            ### Calculate the average Lmk\r\n",
        "            Lk[i] = Lmk / k_arr[i]\r\n",
        "\r\n",
        "    return (k_arr, Lk);\r\n",
        "\r\n",
        "def lin_fit_hfd(k,L,log=True):\r\n",
        "    \"\"\"\r\n",
        "    Calculate Higuchi Fractal Dimension (HFD) by fitting a line to already computed\r\n",
        "    interval times k and curve lengths L\r\n",
        "    Input:\r\n",
        "    k - interval \"times\", window sizes\r\n",
        "    L - curve length\r\n",
        "    log (=True) - k and L values will be transformed to np.log2(k) and np.log2(L),\r\n",
        "                  respectively\r\n",
        "    Output:\r\n",
        "    HFD\r\n",
        "    \"\"\"\r\n",
        "    if log:\r\n",
        "        return (-np.polyfit(np.log2(k),np.log2(L),deg=1)[0]);\r\n",
        "    else:\r\n",
        "        return (-np.polyfit(k,L,deg=1)[0]);\r\n",
        "\r\n",
        "def hfd(X,**kwargs):\r\n",
        "    \"\"\"\r\n",
        "    Calculate Higuchi Fractal Dimension (HFD) for 1D data/series\r\n",
        "    Input:\r\n",
        "    X - input (time) series (must be 1D, to be converted into a NumPy array)\r\n",
        "    Output:\r\n",
        "    \r\n",
        "    HFD\r\n",
        "    \"\"\"\r\n",
        "    k, L = curve_length(X,**kwargs)\r\n",
        "    return lin_fit_hfd(k, L);\r\n",
        "\r\n",
        "# Generating th interval\r\n",
        "def interval_t(size,num_val=50,kmax=None):\r\n",
        "    list_space = []\r\n",
        "    ### Generate sequence of interval times, k\r\n",
        "    if kmax is None:\r\n",
        "        k_stop = size//2\r\n",
        "    else:\r\n",
        "        k_stop = kmax\r\n",
        "    if k_stop > size//2:   ## prohibit going larger than N/2\r\n",
        "        k_stop = size//2\r\n",
        "        print(\"Warning: k cannot be longer than N/2\")\r\n",
        "    for i in range(2, k_stop):\r\n",
        "      list_space.append(i)    \r\n",
        "    #k = np.logspace(start=np.log2(2),stop=np.log2(k_stop),base=2,num=num_val,dtype=np.int)\r\n",
        "    return np.unique(list_space);\r\n",
        "\r\n",
        "def init_lib():\r\n",
        "    libdir = os.path.dirname(__file__)\r\n",
        "    libfile = os.path.join(libdir, \"libhfd.so\")\r\n",
        "    lib = ctypes.CDLL(libfile)\r\n",
        "\r\n",
        "    rwptr = ndpointer(float, flags=('C','A','W'))\r\n",
        "    rwptr_sizet = ndpointer(ctypes.c_size_t, flags=('C','A','W'))\r\n",
        "\r\n",
        "    lib.curve_length.restype = ctypes.c_int\r\n",
        "    lib.curve_length.argtypes = [rwptr_sizet, ctypes.c_size_t, rwptr, ctypes.c_size_t, rwptr]\r\n",
        "\r\n",
        "    return lib;"
      ],
      "execution_count": 5,
      "outputs": []
    },
    {
      "cell_type": "code",
      "metadata": {
        "colab": {
          "base_uri": "https://localhost:8080/"
        },
        "id": "CIDX8nLyEOCD",
        "outputId": "56bb2dd2-62bf-424c-8a8e-29b74870aa42"
      },
      "source": [
        "# Validation of the algorithm\r\n",
        "x = np.random.randn(1000)\r\n",
        "y = np.empty(990)\r\n",
        "for i in range(x.size-10):\r\n",
        "\ty[i] = np.sum(x[:(i+10)])\r\n",
        "\t\r\n",
        "## Note x is a Guassian noise, y is the original Brownian data used in Higuchi, Physica D, 1988.\r\n",
        "\r\n",
        "print(hfd(x)) # ~ 2.00\r\n",
        "print(hfd(y)) # ~ 1.50\r\n",
        "#print(a, b)"
      ],
      "execution_count": 143,
      "outputs": [
        {
          "output_type": "stream",
          "text": [
            "1.9993221285514418\n",
            "1.5776970502694252\n"
          ],
          "name": "stdout"
        }
      ]
    },
    {
      "cell_type": "code",
      "metadata": {
        "id": "hZ2LsR5jEXY1"
      },
      "source": [
        "k1, l1 = curve_length((x))\r\n",
        "k2, l2 = curve_length((y))\r\n",
        "#print(k, l)"
      ],
      "execution_count": 144,
      "outputs": []
    },
    {
      "cell_type": "code",
      "metadata": {
        "colab": {
          "base_uri": "https://localhost:8080/",
          "height": 295
        },
        "id": "yxYgZ2X9F3tc",
        "outputId": "fa02faf6-6dba-4719-ea32-510c29acb1b3"
      },
      "source": [
        "import math\r\n",
        "x1 = k1 #k_interval_times\r\n",
        "y1 = l1 #curve_length_list\r\n",
        "x2 = k2\r\n",
        "y2 = l2\r\n",
        "#x = np.logspace(curve_length[0], curve_length[len(curve_length) - 1], len(curve_length))\r\n",
        "#log_y = []\r\n",
        "#for i in curve_length_list:\r\n",
        "#  log_y.append(math.log10(i))\r\n",
        "#y = log_y\r\n",
        "#y = np.logspace(k_interval_times[0], k_interval_times[len(k_interval_times) - 1], len(k_interval_times)) \r\n",
        "\r\n",
        "plt.title(\"TEST\") \r\n",
        "plt.xlabel(\"k\") \r\n",
        "plt.ylabel(\"<L(k)>\")\r\n",
        "plt.plot(x1,y1,label='Gaussian')\r\n",
        "plt.plot(x2,y2, label='Brownian')\r\n",
        "plt.legend() \r\n",
        "plt.show()"
      ],
      "execution_count": 145,
      "outputs": [
        {
          "output_type": "display_data",
          "data": {
            "image/png": "[encoded data removed]",
            "text/plain": [
              "<Figure size 432x288 with 1 Axes>"
            ]
          },
          "metadata": {
            "tags": [],
            "needs_background": "light"
          }
        }
      ]
    },
    {
      "cell_type": "markdown",
      "metadata": {
        "id": "6dM-DzqML0HO"
      },
      "source": [
        "# **Data PreProcessing**"
      ]
    },
    {
      "cell_type": "code",
      "metadata": {
        "colab": {
          "base_uri": "https://localhost:8080/",
          "height": 0
        },
        "id": "41JTH3TEMmBl",
        "outputId": "17d0968b-3262-435d-e330-bbfde492e84b"
      },
      "source": [
        "data = pd.read_csv('/content/data/Data AND Reports - DATA_HFD.csv')\r\n",
        "data.head()"
      ],
      "execution_count": 6,
      "outputs": [
        {
          "output_type": "execute_result",
          "data": {
            "text/html": [
              "<div>\n",
              "<style scoped>\n",
              "    .dataframe tbody tr th:only-of-type {\n",
              "        vertical-align: middle;\n",
              "    }\n",
              "\n",
              "    .dataframe tbody tr th {\n",
              "        vertical-align: top;\n",
              "    }\n",
              "\n",
              "    .dataframe thead th {\n",
              "        text-align: right;\n",
              "    }\n",
              "</style>\n",
              "<table border=\"1\" class=\"dataframe\">\n",
              "  <thead>\n",
              "    <tr style=\"text-align: right;\">\n",
              "      <th></th>\n",
              "      <th>MH</th>\n",
              "      <th>KA</th>\n",
              "      <th>AP</th>\n",
              "      <th>TN</th>\n",
              "      <th>KL</th>\n",
              "      <th>DL</th>\n",
              "      <th>UP</th>\n",
              "      <th>WB</th>\n",
              "    </tr>\n",
              "  </thead>\n",
              "  <tbody>\n",
              "    <tr>\n",
              "      <th>0</th>\n",
              "      <td>NaN</td>\n",
              "      <td>NaN</td>\n",
              "      <td>NaN</td>\n",
              "      <td>NaN</td>\n",
              "      <td>NaN</td>\n",
              "      <td>NaN</td>\n",
              "      <td>NaN</td>\n",
              "      <td>NaN</td>\n",
              "    </tr>\n",
              "    <tr>\n",
              "      <th>1</th>\n",
              "      <td>12.000000</td>\n",
              "      <td>5.0</td>\n",
              "      <td>2.000000</td>\n",
              "      <td>3.0</td>\n",
              "      <td>12.000000</td>\n",
              "      <td>7.000000</td>\n",
              "      <td>4.000000</td>\n",
              "      <td>2.000000</td>\n",
              "    </tr>\n",
              "    <tr>\n",
              "      <th>2</th>\n",
              "      <td>15.000000</td>\n",
              "      <td>6.0</td>\n",
              "      <td>1.333333</td>\n",
              "      <td>3.0</td>\n",
              "      <td>18.333333</td>\n",
              "      <td>3.333333</td>\n",
              "      <td>2.666667</td>\n",
              "      <td>1.666667</td>\n",
              "    </tr>\n",
              "    <tr>\n",
              "      <th>3</th>\n",
              "      <td>14.000000</td>\n",
              "      <td>7.2</td>\n",
              "      <td>1.400000</td>\n",
              "      <td>4.6</td>\n",
              "      <td>15.600000</td>\n",
              "      <td>3.000000</td>\n",
              "      <td>2.800000</td>\n",
              "      <td>1.400000</td>\n",
              "    </tr>\n",
              "    <tr>\n",
              "      <th>4</th>\n",
              "      <td>14.857143</td>\n",
              "      <td>7.0</td>\n",
              "      <td>1.428571</td>\n",
              "      <td>5.0</td>\n",
              "      <td>19.428571</td>\n",
              "      <td>2.857143</td>\n",
              "      <td>3.571429</td>\n",
              "      <td>1.857143</td>\n",
              "    </tr>\n",
              "  </tbody>\n",
              "</table>\n",
              "</div>"
            ],
            "text/plain": [
              "          MH   KA        AP   TN         KL        DL        UP        WB\n",
              "0        NaN  NaN       NaN  NaN        NaN       NaN       NaN       NaN\n",
              "1  12.000000  5.0  2.000000  3.0  12.000000  7.000000  4.000000  2.000000\n",
              "2  15.000000  6.0  1.333333  3.0  18.333333  3.333333  2.666667  1.666667\n",
              "3  14.000000  7.2  1.400000  4.6  15.600000  3.000000  2.800000  1.400000\n",
              "4  14.857143  7.0  1.428571  5.0  19.428571  2.857143  3.571429  1.857143"
            ]
          },
          "metadata": {
            "tags": []
          },
          "execution_count": 6
        }
      ]
    },
    {
      "cell_type": "code",
      "metadata": {
        "colab": {
          "base_uri": "https://localhost:8080/"
        },
        "id": "GzEDKHIvOOGl",
        "outputId": "370ac2ad-7614-425f-b766-0093f9273342"
      },
      "source": [
        "mh_in=data.MH\r\n",
        "print(mh_in[1::])\r\n",
        "\r\n",
        "ka_in=data.KA\r\n",
        "print(ka_in[1::])\r\n",
        "\r\n",
        "ap_in=data.AP\r\n",
        "print(ap_in[1::])\r\n",
        "\r\n",
        "tn_in=data.TN\r\n",
        "print(tn_in[1::])\r\n",
        "\r\n",
        "kl_in=data.KL\r\n",
        "print(kl_in[1::])\r\n",
        "\r\n",
        "dl_in=data.DL\r\n",
        "print(dl_in[1::])\r\n",
        "\r\n",
        "up_in=data.UP\r\n",
        "print(up_in[1::])\r\n",
        "\r\n",
        "wb_in=data.WB\r\n",
        "print(wb_in[1::])"
      ],
      "execution_count": 7,
      "outputs": [
        {
          "output_type": "stream",
          "text": [
            "1        12.000000\n",
            "2        15.000000\n",
            "3        14.000000\n",
            "4        14.857143\n",
            "5        17.428571\n",
            "          ...     \n",
            "276    3596.857143\n",
            "277    3516.428571\n",
            "278    3372.800000\n",
            "279    3641.333333\n",
            "280    3431.000000\n",
            "Name: MH, Length: 280, dtype: float64\n",
            "1         5.000000\n",
            "2         6.000000\n",
            "3         7.200000\n",
            "4         7.000000\n",
            "5         8.714286\n",
            "          ...     \n",
            "276    1083.142857\n",
            "277    1052.142857\n",
            "278    1003.800000\n",
            "279    1035.333333\n",
            "280    1005.000000\n",
            "Name: KA, Length: 280, dtype: float64\n",
            "1        2.000000\n",
            "2        1.333333\n",
            "3        1.400000\n",
            "4        1.428571\n",
            "5        2.000000\n",
            "          ...    \n",
            "276    389.571429\n",
            "277    374.857143\n",
            "278    341.400000\n",
            "279    363.666667\n",
            "280    355.000000\n",
            "Name: AP, Length: 280, dtype: float64\n",
            "1         3.000000\n",
            "2         3.000000\n",
            "3         4.600000\n",
            "4         5.000000\n",
            "5         5.142857\n",
            "          ...     \n",
            "276    1085.571429\n",
            "277    1070.285714\n",
            "278    1050.200000\n",
            "279    1042.666667\n",
            "280    1027.000000\n",
            "Name: TN, Length: 280, dtype: float64\n",
            "1        12.000000\n",
            "2        18.333333\n",
            "3        15.600000\n",
            "4        19.428571\n",
            "5        18.571429\n",
            "          ...     \n",
            "276    5468.285714\n",
            "277    5459.857143\n",
            "278    5243.000000\n",
            "279    5581.000000\n",
            "280    5397.000000\n",
            "Name: KL, Length: 280, dtype: float64\n",
            "1         7.000000\n",
            "2         3.333333\n",
            "3         3.000000\n",
            "4         2.857143\n",
            "5         3.142857\n",
            "          ...     \n",
            "276    1046.285714\n",
            "277     952.000000\n",
            "278     886.800000\n",
            "279     897.333333\n",
            "280     758.000000\n",
            "Name: DL, Length: 280, dtype: float64\n",
            "1         4.000000\n",
            "2         2.666667\n",
            "3         2.800000\n",
            "4         3.571429\n",
            "5         5.285714\n",
            "          ...     \n",
            "276    1139.571429\n",
            "277    1112.285714\n",
            "278    1070.200000\n",
            "279    1052.666667\n",
            "280    1214.000000\n",
            "Name: UP, Length: 280, dtype: float64\n",
            "1         2.000000\n",
            "2         1.666667\n",
            "3         1.400000\n",
            "4         1.857143\n",
            "5         2.000000\n",
            "          ...     \n",
            "276    1822.571429\n",
            "277    1722.857143\n",
            "278    1585.400000\n",
            "279    1586.333333\n",
            "280    1541.000000\n",
            "Name: WB, Length: 280, dtype: float64\n"
          ],
          "name": "stdout"
        }
      ]
    },
    {
      "cell_type": "code",
      "metadata": {
        "id": "UJtGOPN9U3j2"
      },
      "source": [
        "import pandas"
      ],
      "execution_count": 8,
      "outputs": []
    },
    {
      "cell_type": "code",
      "metadata": {
        "colab": {
          "base_uri": "https://localhost:8080/"
        },
        "id": "a9wJFrMUU75O",
        "outputId": "a626baed-05d2-410a-bf52-c8a409972f74"
      },
      "source": [
        "#converting a data frame into a numbpy array \"np.array\"\r\n",
        "import numpy\r\n",
        "#aa_np = list(numpy.concatenate().flat))\r\n",
        "\r\n",
        "mh=mh_in.to_numpy()\r\n",
        "print(mh[1::])\r\n",
        "\r\n",
        "ka=ka_in.to_numpy()\r\n",
        "print(ka[1::])\r\n",
        "\r\n",
        "ap=ap_in.to_numpy()\r\n",
        "print(ap[1::])\r\n",
        "\r\n",
        "tn=tn_in.to_numpy()\r\n",
        "print(tn[1::])\r\n",
        "\r\n",
        "kl=kl_in.to_numpy()\r\n",
        "print(kl[1::])\r\n",
        "\r\n",
        "dl=dl_in.to_numpy()\r\n",
        "print(dl[1::])\r\n",
        "\r\n",
        "up=up_in.to_numpy()\r\n",
        "print(up[1::])\r\n",
        "\r\n",
        "wb=wb_in.to_numpy()\r\n",
        "print(wb[1::])"
      ],
      "execution_count": 9,
      "outputs": [
        {
          "output_type": "stream",
          "text": [
            "[1.20000000e+01 1.50000000e+01 1.40000000e+01 1.48571429e+01\n",
            " 1.74285714e+01 1.84285714e+01 1.75714286e+01 2.78571429e+01\n",
            " 3.04285714e+01 4.25714286e+01 4.72857143e+01 6.41428571e+01\n",
            " 7.77142857e+01 9.25714286e+01 1.02285714e+02 1.14285714e+02\n",
            " 1.34428571e+02 1.55285714e+02 1.60857143e+02 1.76428571e+02\n",
            " 2.09428571e+02 2.37428571e+02 2.54428571e+02 2.62428571e+02\n",
            " 2.49571429e+02 2.69571429e+02 3.16857143e+02 3.33142857e+02\n",
            " 3.62571429e+02 3.90428571e+02 4.60857143e+02 4.99428571e+02\n",
            " 5.68571429e+02 5.52571429e+02 5.60571429e+02 5.85714286e+02\n",
            " 6.09428571e+02 5.81571429e+02 6.69857143e+02 6.66857143e+02\n",
            " 7.00857143e+02 8.50142857e+02 8.86714286e+02 9.77571429e+02\n",
            " 1.06800000e+03 1.07957143e+03 1.13314286e+03 1.31385714e+03\n",
            " 1.26571429e+03 1.27171429e+03 1.30914286e+03 1.36428571e+03\n",
            " 1.43385714e+03 1.49685714e+03 1.55457143e+03 1.66528571e+03\n",
            " 1.81557143e+03 1.91071429e+03 2.01685714e+03 2.21171429e+03\n",
            " 2.35485714e+03 2.45400000e+03 2.51557143e+03 2.51742857e+03\n",
            " 2.52157143e+03 2.55771429e+03 2.52085714e+03 2.56828571e+03\n",
            " 2.48914286e+03 2.47800000e+03 2.50600000e+03 2.55885714e+03\n",
            " 2.60671429e+03 2.57157143e+03 2.54285714e+03 2.61714286e+03\n",
            " 2.64514286e+03 2.64100000e+03 2.74014286e+03 2.83642857e+03\n",
            " 2.98742857e+03 3.08571429e+03 3.14042857e+03 3.17357143e+03\n",
            " 3.23685714e+03 3.24442857e+03 3.26514286e+03 3.31285714e+03\n",
            " 3.37671429e+03 3.44528571e+03 3.57885714e+03 3.65214286e+03\n",
            " 3.73528571e+03 3.89100000e+03 4.06200000e+03 4.41828571e+03\n",
            " 4.65014286e+03 4.86957143e+03 5.10728571e+03 5.34271429e+03\n",
            " 5.55500000e+03 5.74642857e+03 5.84728571e+03 5.99900000e+03\n",
            " 6.01485714e+03 6.05142857e+03 6.20371429e+03 6.28185714e+03\n",
            " 6.49585714e+03 6.64800000e+03 6.82971429e+03 6.99100000e+03\n",
            " 7.22057143e+03 7.41657143e+03 7.66885714e+03 7.73257143e+03\n",
            " 7.76242857e+03 8.00400000e+03 8.25300000e+03 8.48085714e+03\n",
            " 8.85242857e+03 9.03157143e+03 9.21828571e+03 9.34728571e+03\n",
            " 9.33485714e+03 9.28971429e+03 9.20128571e+03 9.00628571e+03\n",
            " 9.18514286e+03 9.28585714e+03 9.33585714e+03 9.34700000e+03\n",
            " 9.49614286e+03 9.50228571e+03 9.65914286e+03 9.71157143e+03\n",
            " 9.73485714e+03 1.01950000e+04 1.05862857e+04 1.06167143e+04\n",
            " 1.10921429e+04 1.14354286e+04 1.14781429e+04 1.17817143e+04\n",
            " 1.16671429e+04 1.15047143e+04 1.14064286e+04 1.14108571e+04\n",
            " 1.14755714e+04 1.18804286e+04 1.21022857e+04 1.24554286e+04\n",
            " 1.23597143e+04 1.27200000e+04 1.26208571e+04 1.28670000e+04\n",
            " 1.28970000e+04 1.29350000e+04 1.31912857e+04 1.40437143e+04\n",
            " 1.41632857e+04 1.49261429e+04 1.52897143e+04 1.57537143e+04\n",
            " 1.64381429e+04 1.70830000e+04 1.80747143e+04 1.87285714e+04\n",
            " 1.93522857e+04 2.02300000e+04 2.09930000e+04 2.18027143e+04\n",
            " 2.19861429e+04 2.18708571e+04 2.19618571e+04 2.20120000e+04\n",
            " 2.19817143e+04 2.21492857e+04 2.16878571e+04 2.14642857e+04\n",
            " 2.11905714e+04 2.10008571e+04 2.07020000e+04 2.03682857e+04\n",
            " 1.95890000e+04 1.90372857e+04 1.90230000e+04 1.86557143e+04\n",
            " 1.81104286e+04 1.76227143e+04 1.72352857e+04 1.68512857e+04\n",
            " 1.65365714e+04 1.56692857e+04 1.48824286e+04 1.46428571e+04\n",
            " 1.42545714e+04 1.37204286e+04 1.32802857e+04 1.27864286e+04\n",
            " 1.23675714e+04 1.21167143e+04 1.16660000e+04 1.11322857e+04\n",
            " 1.05571429e+04 1.01044286e+04 1.00062857e+04 9.84100000e+03\n",
            " 9.59357143e+03 9.43571429e+03 9.38271429e+03 9.03842857e+03\n",
            " 8.65457143e+03 8.06885714e+03 7.52000000e+03 7.09128571e+03\n",
            " 6.75714286e+03 6.35885714e+03 6.15828571e+03 5.92442857e+03\n",
            " 5.75914286e+03 5.63500000e+03 5.53642857e+03 5.58842857e+03\n",
            " 5.52357143e+03 5.34742857e+03 5.25371429e+03 5.35085714e+03\n",
            " 5.12385714e+03 5.15471429e+03 5.05014286e+03 4.89042857e+03\n",
            " 4.80500000e+03 4.69785714e+03 4.30671429e+03 4.34642857e+03\n",
            " 3.91200000e+03 3.80600000e+03 3.65471429e+03 3.66957143e+03\n",
            " 3.81800000e+03 4.03342857e+03 4.25100000e+03 4.70942857e+03\n",
            " 4.94057143e+03 5.32728571e+03 5.49128571e+03 5.61571429e+03\n",
            " 5.69357143e+03 5.72285714e+03 5.69300000e+03 5.64785714e+03\n",
            " 5.57514286e+03 5.17385714e+03 4.99900000e+03 4.86242857e+03\n",
            " 4.71342857e+03 4.60100000e+03 4.49214286e+03 4.36300000e+03\n",
            " 4.59600000e+03 4.40200000e+03 4.26471429e+03 4.17000000e+03\n",
            " 4.02142857e+03 4.00342857e+03 3.92000000e+03 2.36357143e+03\n",
            " 2.37157143e+03 2.33242857e+03 2.28685714e+03 2.30028571e+03\n",
            " 2.28385714e+03 2.23585714e+03 3.63971429e+03 3.59685714e+03\n",
            " 3.51642857e+03 3.37280000e+03 3.64133333e+03 3.43100000e+03]\n",
            "[5.00000000e+00 6.00000000e+00 7.20000000e+00 7.00000000e+00\n",
            " 8.71428571e+00 8.14285714e+00 7.85714286e+00 8.57142857e+00\n",
            " 8.42857143e+00 9.85714286e+00 9.14285714e+00 9.00000000e+00\n",
            " 9.71428571e+00 1.07142857e+01 1.05714286e+01 1.01428571e+01\n",
            " 1.04285714e+01 1.12857143e+01 1.01428571e+01 1.15714286e+01\n",
            " 1.20000000e+01 1.21428571e+01 1.40000000e+01 1.68571429e+01\n",
            " 2.17142857e+01 2.41428571e+01 2.25714286e+01 2.30000000e+01\n",
            " 2.25714286e+01 2.11428571e+01 1.85714286e+01 1.64285714e+01\n",
            " 1.65714286e+01 1.61428571e+01 1.48571429e+01 1.50000000e+01\n",
            " 1.54285714e+01 1.71428571e+01 1.64285714e+01 1.44285714e+01\n",
            " 1.58571429e+01 1.98571429e+01 2.14285714e+01 2.25714286e+01\n",
            " 2.00000000e+01 2.34285714e+01 2.75714286e+01 3.34285714e+01\n",
            " 3.01428571e+01 3.60000000e+01 3.80000000e+01 4.02857143e+01\n",
            " 4.32857143e+01 4.25714286e+01 4.27142857e+01 5.48571429e+01\n",
            " 6.71428571e+01 7.18571429e+01 8.82857143e+01 9.81428571e+01\n",
            " 1.23857143e+02 1.34571429e+02 1.33714286e+02 1.26857143e+02\n",
            " 1.36571429e+02 1.32571429e+02 1.48285714e+02 1.37571429e+02\n",
            " 1.61714286e+02 1.75142857e+02 2.16142857e+02 2.35000000e+02\n",
            " 2.55285714e+02 2.93428571e+02 3.27285714e+02 3.18714286e+02\n",
            " 3.36000000e+02 3.03571429e+02 2.82571429e+02 2.75000000e+02\n",
            " 2.40142857e+02 2.30142857e+02 2.21142857e+02 2.07571429e+02\n",
            " 2.29857143e+02 2.41857143e+02 2.42714286e+02 2.52142857e+02\n",
            " 2.67571429e+02 3.07142857e+02 3.12285714e+02 3.13000000e+02\n",
            " 3.40571429e+02 3.73714286e+02 3.89142857e+02 4.60857143e+02\n",
            " 5.77142857e+02 6.99428571e+02 7.88714286e+02 9.13714286e+02\n",
            " 1.06514286e+03 1.24357143e+03 1.37514286e+03 1.46914286e+03\n",
            " 1.57457143e+03 1.65328571e+03 1.76614286e+03 1.86985714e+03\n",
            " 1.95828571e+03 2.09528571e+03 2.19557143e+03 2.32342857e+03\n",
            " 2.46600000e+03 2.62514286e+03 2.90242857e+03 3.09957143e+03\n",
            " 3.34800000e+03 3.56128571e+03 3.69128571e+03 3.85600000e+03\n",
            " 4.08285714e+03 4.20585714e+03 4.39357143e+03 4.47000000e+03\n",
            " 4.62414286e+03 4.86357143e+03 5.13314286e+03 5.23871429e+03\n",
            " 5.39557143e+03 5.46357143e+03 5.47785714e+03 5.52542857e+03\n",
            " 5.44371429e+03 5.54700000e+03 5.56357143e+03 5.66028571e+03\n",
            " 5.82985714e+03 6.11642857e+03 6.18114286e+03 6.11185714e+03\n",
            " 6.11157143e+03 6.43500000e+03 6.42085714e+03 6.59771429e+03\n",
            " 6.83200000e+03 6.98271429e+03 7.27557143e+03 7.47671429e+03\n",
            " 7.58514286e+03 7.68214286e+03 7.63400000e+03 7.42142857e+03\n",
            " 7.26400000e+03 7.19742857e+03 7.26828571e+03 7.25942857e+03\n",
            " 7.54528571e+03 7.74371429e+03 7.88571429e+03 8.30200000e+03\n",
            " 8.39400000e+03 8.52214286e+03 8.70500000e+03 8.63057143e+03\n",
            " 8.67628571e+03 8.87942857e+03 8.94614286e+03 8.84300000e+03\n",
            " 8.67271429e+03 8.62700000e+03 8.67728571e+03 8.70357143e+03\n",
            " 8.61700000e+03 8.69914286e+03 9.05214286e+03 9.01071429e+03\n",
            " 9.03714286e+03 9.05842857e+03 8.93871429e+03 8.82785714e+03\n",
            " 8.58457143e+03 8.45528571e+03 8.36928571e+03 7.97957143e+03\n",
            " 7.74300000e+03 7.74714286e+03 7.81100000e+03 8.00414286e+03\n",
            " 7.94028571e+03 8.43728571e+03 8.70285714e+03 9.04000000e+03\n",
            " 9.05971429e+03 9.21328571e+03 9.29928571e+03 9.32200000e+03\n",
            " 9.25628571e+03 9.55500000e+03 9.64557143e+03 9.94842857e+03\n",
            " 1.00385714e+04 9.94971429e+03 1.00290000e+04 9.77157143e+03\n",
            " 9.53128571e+03 9.21314286e+03 8.73157143e+03 8.25542857e+03\n",
            " 7.89671429e+03 7.52700000e+03 7.25642857e+03 6.77171429e+03\n",
            " 6.38614286e+03 6.07385714e+03 5.68628571e+03 5.31871429e+03\n",
            " 5.04900000e+03 4.67671429e+03 4.28728571e+03 4.03685714e+03\n",
            " 3.78442857e+03 3.57628571e+03 3.46385714e+03 3.38471429e+03\n",
            " 3.25114286e+03 3.28414286e+03 3.16000000e+03 3.07014286e+03\n",
            " 2.96214286e+03 2.83185714e+03 2.74428571e+03 2.68800000e+03\n",
            " 2.57471429e+03 2.42614286e+03 2.29128571e+03 2.27642857e+03\n",
            " 2.10857143e+03 1.99342857e+03 1.84685714e+03 1.73357143e+03\n",
            " 1.69542857e+03 1.66185714e+03 1.60857143e+03 1.62842857e+03\n",
            " 1.67871429e+03 1.75500000e+03 1.73200000e+03 1.68285714e+03\n",
            " 1.64642857e+03 1.60942857e+03 1.55042857e+03 1.47742857e+03\n",
            " 1.40028571e+03 1.37314286e+03 1.36471429e+03 1.32485714e+03\n",
            " 1.29671429e+03 1.30100000e+03 1.30100000e+03 1.29385714e+03\n",
            " 1.27085714e+03 1.24114286e+03 1.23585714e+03 1.21842857e+03\n",
            " 1.20057143e+03 1.17657143e+03 1.16300000e+03 1.15742857e+03\n",
            " 1.15714286e+03 1.15885714e+03 1.15157143e+03 1.15128571e+03\n",
            " 1.14300000e+03 1.13671429e+03 1.09642857e+03 1.08314286e+03\n",
            " 1.05214286e+03 1.00380000e+03 1.03533333e+03 1.00500000e+03]\n",
            "[2.00000000e+00 1.33333333e+00 1.40000000e+00 1.42857143e+00\n",
            " 2.00000000e+00 2.14285714e+00 2.28571429e+00 5.14285714e+00\n",
            " 1.44285714e+01 1.97142857e+01 2.15714286e+01 2.47142857e+01\n",
            " 3.35714286e+01 4.00000000e+01 3.85714286e+01 3.38571429e+01\n",
            " 3.05714286e+01 3.10000000e+01 3.04285714e+01 2.34285714e+01\n",
            " 1.94285714e+01 2.42857143e+01 2.52857143e+01 2.44285714e+01\n",
            " 2.72857143e+01 2.82857143e+01 3.24285714e+01 4.04285714e+01\n",
            " 3.90000000e+01 4.11428571e+01 5.12857143e+01 5.47142857e+01\n",
            " 5.90000000e+01 6.42857143e+01 6.50000000e+01 7.17142857e+01\n",
            " 7.41428571e+01 7.28571429e+01 7.25714286e+01 7.27142857e+01\n",
            " 6.94285714e+01 6.75714286e+01 6.54285714e+01 6.35714286e+01\n",
            " 6.14285714e+01 6.05714286e+01 5.78571429e+01 5.67142857e+01\n",
            " 5.25714286e+01 5.31428571e+01 5.14285714e+01 5.31428571e+01\n",
            " 6.00000000e+01 6.07142857e+01 5.71428571e+01 5.91428571e+01\n",
            " 5.71428571e+01 6.04285714e+01 5.71428571e+01 5.14285714e+01\n",
            " 5.12857143e+01 5.71428571e+01 6.48571429e+01 7.05714286e+01\n",
            " 7.95714286e+01 9.14285714e+01 9.47142857e+01 1.06714286e+02\n",
            " 1.13000000e+02 1.12857143e+02 1.15428571e+02 1.22000000e+02\n",
            " 1.23857143e+02 1.31428571e+02 1.42714286e+02 1.55428571e+02\n",
            " 1.62428571e+02 1.55857143e+02 1.82285714e+02 1.88142857e+02\n",
            " 1.98000000e+02 1.99714286e+02 2.13285714e+02 2.34714286e+02\n",
            " 2.62571429e+02 2.60571429e+02 2.95285714e+02 3.32142857e+02\n",
            " 3.70571429e+02 3.96714286e+02 4.16571429e+02 4.44857143e+02\n",
            " 4.65714286e+02 4.84000000e+02 5.04000000e+02 5.47571429e+02\n",
            " 5.95571429e+02 6.45571429e+02 6.80142857e+02 7.03000000e+02\n",
            " 7.44714286e+02 7.77857143e+02 7.73428571e+02 7.99857143e+02\n",
            " 8.75428571e+02 9.43142857e+02 1.00100000e+03 1.10242857e+03\n",
            " 1.21257143e+03 1.36228571e+03 1.49585714e+03 1.58342857e+03\n",
            " 1.68885714e+03 1.88457143e+03 2.03285714e+03 2.17485714e+03\n",
            " 2.48200000e+03 2.92600000e+03 3.23157143e+03 3.66414286e+03\n",
            " 4.18028571e+03 4.95242857e+03 5.74457143e+03 6.29457143e+03\n",
            " 6.66400000e+03 6.94642857e+03 7.37557143e+03 7.95385714e+03\n",
            " 8.26371429e+03 8.58214286e+03 8.79114286e+03 8.92371429e+03\n",
            " 9.17671429e+03 9.43371429e+03 9.43871429e+03 9.46171429e+03\n",
            " 9.43242857e+03 9.54728571e+03 9.87085714e+03 9.84842857e+03\n",
            " 9.74514286e+03 9.66928571e+03 9.62185714e+03 9.44642857e+03\n",
            " 9.25385714e+03 8.85271429e+03 8.72628571e+03 8.81600000e+03\n",
            " 8.83671429e+03 8.75057143e+03 8.83642857e+03 9.05700000e+03\n",
            " 9.04028571e+03 9.30042857e+03 9.33971429e+03 9.49514286e+03\n",
            " 9.67057143e+03 9.81085714e+03 9.84971429e+03 1.02365714e+04\n",
            " 1.04370000e+04 1.05000000e+04 1.04374286e+04 1.03771429e+04\n",
            " 1.04128571e+04 1.04524286e+04 1.04797143e+04 1.02460000e+04\n",
            " 1.02792857e+04 1.02830000e+04 1.02795714e+04 1.01685714e+04\n",
            " 1.00365714e+04 9.85685714e+03 9.79800000e+03 9.54728571e+03\n",
            " 9.32114286e+03 9.11071429e+03 8.83885714e+03 8.59842857e+03\n",
            " 8.34157143e+03 8.09571429e+03 7.91100000e+03 7.68142857e+03\n",
            " 7.56042857e+03 7.41428571e+03 7.28214286e+03 7.16571429e+03\n",
            " 7.05885714e+03 6.86414286e+03 6.70771429e+03 6.55000000e+03\n",
            " 6.47600000e+03 6.32328571e+03 6.22600000e+03 6.05014286e+03\n",
            " 5.99371429e+03 5.84900000e+03 5.64057143e+03 5.43914286e+03\n",
            " 5.35757143e+03 5.21014286e+03 5.06271429e+03 4.89514286e+03\n",
            " 4.71971429e+03 4.54057143e+03 4.37228571e+03 4.08985714e+03\n",
            " 3.91500000e+03 3.87128571e+03 3.71142857e+03 3.69057143e+03\n",
            " 3.63085714e+03 3.60200000e+03 3.55428571e+03 3.41300000e+03\n",
            " 3.26771429e+03 3.18171429e+03 3.06785714e+03 2.96571429e+03\n",
            " 2.84014286e+03 2.76028571e+03 2.70614286e+03 2.70828571e+03\n",
            " 2.70085714e+03 2.63342857e+03 2.61057143e+03 2.54257143e+03\n",
            " 2.48314286e+03 2.42871429e+03 2.35385714e+03 2.21628571e+03\n",
            " 2.10985714e+03 1.96457143e+03 1.84785714e+03 1.74642857e+03\n",
            " 1.57771429e+03 1.48642857e+03 1.41628571e+03 1.34542857e+03\n",
            " 1.28657143e+03 1.23342857e+03 1.16242857e+03 1.17171429e+03\n",
            " 1.14200000e+03 1.09771429e+03 1.03985714e+03 9.99142857e+02\n",
            " 9.29428571e+02 8.53000000e+02 7.81428571e+02 7.58000000e+02\n",
            " 7.00857143e+02 6.76857143e+02 6.24428571e+02 6.05285714e+02\n",
            " 6.06000000e+02 6.12714286e+02 6.03428571e+02 5.84285714e+02\n",
            " 5.77857143e+02 5.59857143e+02 5.48571429e+02 5.31428571e+02\n",
            " 5.08428571e+02 5.06857143e+02 4.99571429e+02 4.79571429e+02\n",
            " 4.79000000e+02 4.70142857e+02 4.65714286e+02 4.56000000e+02\n",
            " 4.43000000e+02 4.29000000e+02 4.14857143e+02 3.89571429e+02\n",
            " 3.74857143e+02 3.41400000e+02 3.63666667e+02 3.55000000e+02]\n",
            "[3.00000000e+00 3.00000000e+00 4.60000000e+00 5.00000000e+00\n",
            " 5.14285714e+00 5.85714286e+00 7.85714286e+00 1.51428571e+01\n",
            " 2.97142857e+01 4.00000000e+01 5.32857143e+01 6.32857143e+01\n",
            " 7.44285714e+01 7.91428571e+01 8.08571429e+01 7.20000000e+01\n",
            " 7.50000000e+01 7.14285714e+01 6.91428571e+01 7.20000000e+01\n",
            " 7.88571429e+01 7.34285714e+01 7.20000000e+01 6.18571429e+01\n",
            " 5.88571429e+01 5.75714286e+01 5.74285714e+01 4.95714286e+01\n",
            " 5.60000000e+01 5.52857143e+01 5.94285714e+01 6.17142857e+01\n",
            " 6.41428571e+01 5.82857143e+01 5.95714286e+01 6.60000000e+01\n",
            " 7.61428571e+01 9.14285714e+01 1.10142857e+02 1.33714286e+02\n",
            " 1.62571429e+02 2.30428571e+02 2.85714286e+02 3.81000000e+02\n",
            " 4.40857143e+02 4.97571429e+02 5.39714286e+02 5.97285714e+02\n",
            " 6.36000000e+02 6.65714286e+02 6.28285714e+02 6.09285714e+02\n",
            " 5.85571429e+02 5.78571429e+02 5.74285714e+02 5.36857143e+02\n",
            " 5.32857143e+02 5.66285714e+02 6.13285714e+02 6.63571429e+02\n",
            " 7.03857143e+02 7.21857143e+02 7.60285714e+02 7.54285714e+02\n",
            " 7.64857143e+02 7.72142857e+02 7.84714286e+02 8.10285714e+02\n",
            " 8.65142857e+02 9.16142857e+02 9.79714286e+02 1.04671429e+03\n",
            " 1.12628571e+03 1.20685714e+03 1.28114286e+03 1.33342857e+03\n",
            " 1.39057143e+03 1.47542857e+03 1.56700000e+03 1.63714286e+03\n",
            " 1.71485714e+03 1.79071429e+03 1.85628571e+03 1.89642857e+03\n",
            " 1.87214286e+03 1.90742857e+03 1.94542857e+03 1.96442857e+03\n",
            " 2.02257143e+03 2.10228571e+03 2.22614286e+03 2.36914286e+03\n",
            " 2.46785714e+03 2.66328571e+03 2.88185714e+03 3.07000000e+03\n",
            " 3.27114286e+03 3.44814286e+03 3.65200000e+03 3.79728571e+03\n",
            " 3.91642857e+03 4.01414286e+03 4.09514286e+03 4.12514286e+03\n",
            " 4.10771429e+03 4.06100000e+03 4.04300000e+03 4.02700000e+03\n",
            " 3.93428571e+03 3.88928571e+03 3.90271429e+03 3.97428571e+03\n",
            " 4.10428571e+03 4.21000000e+03 4.25542857e+03 4.37800000e+03\n",
            " 4.49828571e+03 4.60328571e+03 4.69714286e+03 4.75985714e+03\n",
            " 4.95314286e+03 5.22785714e+03 5.54885714e+03 5.86042857e+03\n",
            " 6.14714286e+03 6.43400000e+03 6.72071429e+03 6.80314286e+03\n",
            " 6.71628571e+03 6.58714286e+03 6.42871429e+03 6.27000000e+03\n",
            " 6.07228571e+03 5.79957143e+03 5.62085714e+03 5.59514286e+03\n",
            " 5.59500000e+03 5.59557143e+03 5.61257143e+03 5.65614286e+03\n",
            " 5.76628571e+03 5.86571429e+03 5.88728571e+03 5.88871429e+03\n",
            " 5.88542857e+03 5.87914286e+03 5.87571429e+03 5.85785714e+03\n",
            " 5.84700000e+03 5.86857143e+03 5.88357143e+03 5.90071429e+03\n",
            " 5.90428571e+03 5.91528571e+03 5.94985714e+03 5.97314286e+03\n",
            " 5.97242857e+03 5.97257143e+03 6.02571429e+03 6.10000000e+03\n",
            " 6.09842857e+03 6.09514286e+03 6.09971429e+03 6.08700000e+03\n",
            " 6.08414286e+03 6.01528571e+03 5.91357143e+03 5.88785714e+03\n",
            " 5.85300000e+03 5.79500000e+03 5.74300000e+03 5.67771429e+03\n",
            " 5.62414286e+03 5.61128571e+03 5.60785714e+03 5.60971429e+03\n",
            " 5.61942857e+03 5.62400000e+03 5.61957143e+03 5.63014286e+03\n",
            " 5.60485714e+03 5.54657143e+03 5.49514286e+03 5.44842857e+03\n",
            " 5.46728571e+03 5.49457143e+03 5.50571429e+03 5.54500000e+03\n",
            " 5.58000000e+03 5.60985714e+03 5.65757143e+03 5.65700000e+03\n",
            " 5.64500000e+03 5.64142857e+03 5.59828571e+03 5.57057143e+03\n",
            " 5.49500000e+03 5.46471429e+03 5.37900000e+03 5.32042857e+03\n",
            " 5.26614286e+03 5.19842857e+03 5.12471429e+03 5.07457143e+03\n",
            " 4.93385714e+03 4.83700000e+03 4.72328571e+03 4.58800000e+03\n",
            " 4.43071429e+03 4.23885714e+03 4.01428571e+03 3.81771429e+03\n",
            " 3.62728571e+03 3.43700000e+03 3.23571429e+03 3.08642857e+03\n",
            " 2.96814286e+03 2.88642857e+03 2.80500000e+03 2.74428571e+03\n",
            " 2.68014286e+03 2.62657143e+03 2.57442857e+03 2.54200000e+03\n",
            " 2.52957143e+03 2.52542857e+03 2.48200000e+03 2.44800000e+03\n",
            " 2.42371429e+03 2.39942857e+03 2.36742857e+03 2.32614286e+03\n",
            " 2.28285714e+03 2.24914286e+03 2.18757143e+03 2.12628571e+03\n",
            " 2.05271429e+03 1.97671429e+03 1.90614286e+03 1.83900000e+03\n",
            " 1.78114286e+03 1.74528571e+03 1.70971429e+03 1.68628571e+03\n",
            " 1.67185714e+03 1.65828571e+03 1.63257143e+03 1.59785714e+03\n",
            " 1.56271429e+03 1.52942857e+03 1.50142857e+03 1.47085714e+03\n",
            " 1.44900000e+03 1.43385714e+03 1.42700000e+03 1.41971429e+03\n",
            " 1.41057143e+03 1.39071429e+03 1.37671429e+03 1.35271429e+03\n",
            " 1.32471429e+03 1.29671429e+03 1.27442857e+03 1.25328571e+03\n",
            " 1.23542857e+03 1.21100000e+03 1.19614286e+03 1.18885714e+03\n",
            " 1.18228571e+03 1.16785714e+03 1.15485714e+03 1.14328571e+03\n",
            " 1.13328571e+03 1.12185714e+03 1.10542857e+03 1.08557143e+03\n",
            " 1.07028571e+03 1.05020000e+03 1.04266667e+03 1.02700000e+03]\n",
            "[1.20000000e+01 1.83333333e+01 1.56000000e+01 1.94285714e+01\n",
            " 1.85714286e+01 1.92857143e+01 1.98571429e+01 1.88571429e+01\n",
            " 2.10000000e+01 2.12857143e+01 1.70000000e+01 1.77142857e+01\n",
            " 1.60000000e+01 1.32857143e+01 1.35714286e+01 1.14285714e+01\n",
            " 1.01428571e+01 9.85714286e+00 9.71428571e+00 8.85714286e+00\n",
            " 7.42857143e+00 7.28571429e+00 6.14285714e+00 5.42857143e+00\n",
            " 4.57142857e+00 3.71428571e+00 3.71428571e+00 4.14285714e+00\n",
            " 5.71428571e+00 7.14285714e+00 7.57142857e+00 7.85714286e+00\n",
            " 8.28571429e+00 9.57142857e+00 1.05714286e+01 8.42857143e+00\n",
            " 8.28571429e+00 7.14285714e+00 6.71428571e+00 6.00000000e+00\n",
            " 4.42857143e+00 2.57142857e+00 2.42857143e+00 1.00000000e+00\n",
            " 7.14285714e-01 8.57142857e-01 8.57142857e-01 1.85714286e+00\n",
            " 2.85714286e+00 3.14285714e+00 4.57142857e+00 8.28571429e+00\n",
            " 1.04285714e+01 1.17142857e+01 1.27142857e+01 1.58571429e+01\n",
            " 1.68571429e+01 1.88571429e+01 1.85714286e+01 2.22857143e+01\n",
            " 2.95714286e+01 3.51428571e+01 3.80000000e+01 4.58571429e+01\n",
            " 4.81428571e+01 5.68571429e+01 5.97142857e+01 5.91428571e+01\n",
            " 6.02857143e+01 6.14285714e+01 6.41428571e+01 7.01428571e+01\n",
            " 7.14285714e+01 7.84285714e+01 8.55714286e+01 9.21428571e+01\n",
            " 9.70000000e+01 9.77142857e+01 9.52857143e+01 9.37142857e+01\n",
            " 8.90000000e+01 8.57142857e+01 7.81428571e+01 7.68571429e+01\n",
            " 7.51428571e+01 7.65714286e+01 7.85714286e+01 8.42857143e+01\n",
            " 9.02857143e+01 1.01571429e+02 1.09571429e+02 1.18428571e+02\n",
            " 1.29428571e+02 1.33142857e+02 1.37714286e+02 1.47428571e+02\n",
            " 1.45285714e+02 1.43000000e+02 1.41571429e+02 1.41428571e+02\n",
            " 1.46714286e+02 1.55428571e+02 1.61857143e+02 1.77142857e+02\n",
            " 1.87285714e+02 2.07428571e+02 2.28857143e+02 2.54428571e+02\n",
            " 2.83714286e+02 3.19142857e+02 3.49142857e+02 3.85714286e+02\n",
            " 4.33714286e+02 4.79714286e+02 5.34428571e+02 5.88000000e+02\n",
            " 6.03000000e+02 6.58142857e+02 7.07428571e+02 7.23428571e+02\n",
            " 7.82714286e+02 8.33571429e+02 8.47000000e+02 9.19857143e+02\n",
            " 9.35000000e+02 9.21857143e+02 9.85714286e+02 9.66428571e+02\n",
            " 8.84714286e+02 9.45428571e+02 9.49142857e+02 9.83714286e+02\n",
            " 1.02071429e+03 1.00871429e+03 1.05042857e+03 1.16357143e+03\n",
            " 1.15514286e+03 1.19671429e+03 1.20271429e+03 1.23457143e+03\n",
            " 1.28228571e+03 1.28471429e+03 1.32271429e+03 1.36814286e+03\n",
            " 1.39500000e+03 1.44057143e+03 1.51785714e+03 1.56657143e+03\n",
            " 1.72671429e+03 1.78442857e+03 1.84357143e+03 1.92414286e+03\n",
            " 1.97814286e+03 1.90914286e+03 1.99728571e+03 2.01771429e+03\n",
            " 2.08028571e+03 2.16028571e+03 2.19242857e+03 2.22757143e+03\n",
            " 2.26871429e+03 2.09228571e+03 1.95957143e+03 1.83771429e+03\n",
            " 1.82857143e+03 1.86542857e+03 1.99800000e+03 2.01485714e+03\n",
            " 2.28428571e+03 2.54928571e+03 2.80585714e+03 2.87857143e+03\n",
            " 2.91142857e+03 2.91957143e+03 3.04700000e+03 3.07414286e+03\n",
            " 3.13528571e+03 3.27842857e+03 3.44685714e+03 3.69814286e+03\n",
            " 3.92057143e+03 3.97342857e+03 4.10328571e+03 4.32414286e+03\n",
            " 4.60600000e+03 4.93600000e+03 5.27342857e+03 5.66614286e+03\n",
            " 5.89871429e+03 6.36000000e+03 6.85342857e+03 7.11214286e+03\n",
            " 7.50942857e+03 7.62771429e+03 7.78600000e+03 7.85800000e+03\n",
            " 7.93185714e+03 8.18557143e+03 7.80128571e+03 7.80014286e+03\n",
            " 8.36028571e+03 8.47371429e+03 8.60057143e+03 8.72814286e+03\n",
            " 8.10500000e+03 8.43985714e+03 8.15885714e+03 7.76757143e+03\n",
            " 7.52242857e+03 7.39271429e+03 7.08228571e+03 7.38585714e+03\n",
            " 7.34200000e+03 7.51742857e+03 7.40842857e+03 7.29585714e+03\n",
            " 7.19085714e+03 7.02885714e+03 7.08900000e+03 7.02300000e+03\n",
            " 6.75542857e+03 6.71685714e+03 6.74285714e+03 6.72157143e+03\n",
            " 6.92228571e+03 6.88314286e+03 6.85457143e+03 6.90657143e+03\n",
            " 6.79485714e+03 6.56842857e+03 6.49057143e+03 6.36885714e+03\n",
            " 6.15328571e+03 5.97000000e+03 5.79885714e+03 5.67828571e+03\n",
            " 5.55557143e+03 5.42942857e+03 5.39828571e+03 5.31428571e+03\n",
            " 5.34071429e+03 5.37271429e+03 5.28914286e+03 5.38528571e+03\n",
            " 5.53485714e+03 5.48171429e+03 5.49200000e+03 5.44285714e+03\n",
            " 5.14828571e+03 5.21657143e+03 5.27214286e+03 5.21857143e+03\n",
            " 5.21214286e+03 5.18714286e+03 5.18685714e+03 5.43714286e+03\n",
            " 5.37971429e+03 5.25600000e+03 5.24028571e+03 5.19128571e+03\n",
            " 4.98542857e+03 4.85600000e+03 4.70228571e+03 4.71671429e+03\n",
            " 4.70542857e+03 4.62471429e+03 4.65128571e+03 4.83842857e+03\n",
            " 4.90971429e+03 5.02600000e+03 5.07514286e+03 5.21985714e+03\n",
            " 5.32214286e+03 5.44085714e+03 5.43857143e+03 5.46828571e+03\n",
            " 5.45985714e+03 5.24300000e+03 5.58100000e+03 5.39700000e+03]\n",
            "[7.00000000e+00 3.33333333e+00 3.00000000e+00 2.85714286e+00\n",
            " 3.14285714e+00 6.42857143e+00 9.57142857e+00 1.28571429e+01\n",
            " 1.67142857e+01 3.67142857e+01 4.94285714e+01 5.65714286e+01\n",
            " 6.15714286e+01 6.11428571e+01 6.51428571e+01 7.38571429e+01\n",
            " 6.10000000e+01 7.38571429e+01 8.91428571e+01 9.30000000e+01\n",
            " 1.40714286e+02 1.40714286e+02 1.29857143e+02 1.31428571e+02\n",
            " 1.14857143e+02 1.17714286e+02 1.21285714e+02 8.15714286e+01\n",
            " 8.50000000e+01 9.57142857e+01 1.05142857e+02 1.15285714e+02\n",
            " 1.04571429e+02 1.30714286e+02 1.46714286e+02 1.65428571e+02\n",
            " 1.70142857e+02 1.62714286e+02 1.74857143e+02 2.13857143e+02\n",
            " 2.33000000e+02 2.55714286e+02 2.55714286e+02 2.99000000e+02\n",
            " 3.52142857e+02 3.68571429e+02 3.45714286e+02 3.39142857e+02\n",
            " 3.33571429e+02 3.62142857e+02 3.52285714e+02 3.55714286e+02\n",
            " 3.68142857e+02 3.98714286e+02 4.04571429e+02 4.03000000e+02\n",
            " 4.16428571e+02 4.41428571e+02 4.55571429e+02 4.89142857e+02\n",
            " 5.11000000e+02 5.23285714e+02 5.71285714e+02 5.58714286e+02\n",
            " 5.95571429e+02 6.60285714e+02 7.23857143e+02 8.05571429e+02\n",
            " 9.18000000e+02 9.68714286e+02 1.09528571e+03 1.19828571e+03\n",
            " 1.24614286e+03 1.27828571e+03 1.30071429e+03 1.29885714e+03\n",
            " 1.30128571e+03 1.31100000e+03 1.30928571e+03 1.38328571e+03\n",
            " 1.49857143e+03 1.61485714e+03 1.74942857e+03 1.84085714e+03\n",
            " 1.91128571e+03 2.04171429e+03 2.18457143e+03 2.32742857e+03\n",
            " 2.54114286e+03 2.65200000e+03 2.83228571e+03 3.13057143e+03\n",
            " 3.32685714e+03 3.40014286e+03 3.44628571e+03 3.34885714e+03\n",
            " 3.33300000e+03 3.21514286e+03 2.96542857e+03 2.77314286e+03\n",
            " 2.62785714e+03 2.49357143e+03 2.43028571e+03 2.33814286e+03\n",
            " 2.23742857e+03 2.21014286e+03 2.15171429e+03 2.12514286e+03\n",
            " 2.06357143e+03 1.96014286e+03 1.86428571e+03 1.84528571e+03\n",
            " 1.78785714e+03 1.73271429e+03 1.65628571e+03 1.56671429e+03\n",
            " 1.52300000e+03 1.47128571e+03 1.42957143e+03 1.39285714e+03\n",
            " 1.33285714e+03 1.24557143e+03 1.18314286e+03 1.13557143e+03\n",
            " 1.11614286e+03 1.06742857e+03 1.02557143e+03 9.98142857e+02\n",
            " 1.00557143e+03 1.02985714e+03 1.02642857e+03 1.01014286e+03\n",
            " 1.03757143e+03 9.83000000e+02 9.88857143e+02 1.01828571e+03\n",
            " 1.01785714e+03 1.05871429e+03 1.10714286e+03 1.09314286e+03\n",
            " 1.17642857e+03 1.18171429e+03 1.13271429e+03 1.13271429e+03\n",
            " 1.11442857e+03 1.02185714e+03 1.03328571e+03 1.05000000e+03\n",
            " 1.09071429e+03 1.12771429e+03 1.13600000e+03 1.15542857e+03\n",
            " 1.26942857e+03 1.30857143e+03 1.33285714e+03 1.37500000e+03\n",
            " 1.46428571e+03 1.54400000e+03 1.62142857e+03 1.70342857e+03\n",
            " 1.74585714e+03 1.85557143e+03 1.97214286e+03 2.10028571e+03\n",
            " 2.25828571e+03 2.40385714e+03 2.57985714e+03 2.68257143e+03\n",
            " 2.86785714e+03 3.08642857e+03 3.31085714e+03 3.50400000e+03\n",
            " 3.69657143e+03 3.83642857e+03 4.00100000e+03 4.09442857e+03\n",
            " 4.15642857e+03 4.17414286e+03 4.15428571e+03 4.11857143e+03\n",
            " 4.05814286e+03 3.96085714e+03 3.89700000e+03 3.78857143e+03\n",
            " 3.70314286e+03 3.66028571e+03 3.56042857e+03 3.48614286e+03\n",
            " 3.40557143e+03 3.32142857e+03 3.27514286e+03 3.16128571e+03\n",
            " 3.03171429e+03 2.87257143e+03 2.78557143e+03 2.78028571e+03\n",
            " 2.70157143e+03 2.62742857e+03 2.58300000e+03 2.57442857e+03\n",
            " 2.66128571e+03 2.67514286e+03 2.66114286e+03 2.71257143e+03\n",
            " 2.77728571e+03 2.88542857e+03 2.96657143e+03 3.02271429e+03\n",
            " 3.09685714e+03 3.14042857e+03 3.21800000e+03 3.26971429e+03\n",
            " 3.32671429e+03 3.42071429e+03 3.54314286e+03 3.66271429e+03\n",
            " 3.75957143e+03 3.94157143e+03 4.22542857e+03 4.49071429e+03\n",
            " 4.74857143e+03 4.88371429e+03 5.10200000e+03 5.26900000e+03\n",
            " 5.53642857e+03 5.70342857e+03 5.84285714e+03 6.02671429e+03\n",
            " 6.29685714e+03 6.59414286e+03 6.74014286e+03 6.89800000e+03\n",
            " 7.14814286e+03 7.19642857e+03 7.28557143e+03 7.34085714e+03\n",
            " 6.69657143e+03 6.52142857e+03 6.31657143e+03 6.15842857e+03\n",
            " 6.22885714e+03 6.05828571e+03 5.84957143e+03 6.35114286e+03\n",
            " 6.44500000e+03 6.42042857e+03 6.10042857e+03 5.80457143e+03\n",
            " 5.64371429e+03 5.51785714e+03 5.25500000e+03 5.15100000e+03\n",
            " 4.83414286e+03 4.64814286e+03 4.39942857e+03 4.19728571e+03\n",
            " 3.97171429e+03 3.65742857e+03 3.36428571e+03 3.24742857e+03\n",
            " 3.03585714e+03 2.72742857e+03 2.48714286e+03 2.27514286e+03\n",
            " 2.17200000e+03 2.12942857e+03 1.90500000e+03 1.77414286e+03\n",
            " 1.74385714e+03 1.60571429e+03 1.49200000e+03 1.36442857e+03\n",
            " 1.28257143e+03 1.18571429e+03 1.08914286e+03 1.04628571e+03\n",
            " 9.52000000e+02 8.86800000e+02 8.97333333e+02 7.58000000e+02]\n",
            "[4.00000000e+00 2.66666667e+00 2.80000000e+00 3.57142857e+00\n",
            " 5.28571429e+00 6.00000000e+00 9.14285714e+00 9.85714286e+00\n",
            " 1.12857143e+01 1.22857143e+01 1.78571429e+01 2.41428571e+01\n",
            " 2.94285714e+01 2.98571429e+01 3.25714286e+01 3.48571429e+01\n",
            " 4.02857143e+01 3.70000000e+01 3.11428571e+01 2.92857143e+01\n",
            " 3.61428571e+01 4.68571429e+01 5.34285714e+01 5.64285714e+01\n",
            " 5.94285714e+01 7.47142857e+01 8.81428571e+01 8.94285714e+01\n",
            " 9.67142857e+01 1.02000000e+02 1.00714286e+02 1.10285714e+02\n",
            " 1.16857143e+02 1.10428571e+02 1.14571429e+02 1.02285714e+02\n",
            " 9.78571429e+01 1.00142857e+02 1.01000000e+02 9.91428571e+01\n",
            " 1.10285714e+02 1.11428571e+02 1.18142857e+02 1.23428571e+02\n",
            " 1.22857143e+02 1.26571429e+02 1.26571429e+02 1.17428571e+02\n",
            " 1.15285714e+02 1.12000000e+02 1.08571429e+02 1.18714286e+02\n",
            " 1.20428571e+02 1.26428571e+02 1.42428571e+02 1.47428571e+02\n",
            " 1.80285714e+02 2.02428571e+02 2.30428571e+02 2.39714286e+02\n",
            " 2.51285714e+02 2.57714286e+02 2.70285714e+02 2.56857143e+02\n",
            " 2.59428571e+02 2.36428571e+02 2.44285714e+02 2.40571429e+02\n",
            " 2.58142857e+02 2.66285714e+02 2.86428571e+02 2.68428571e+02\n",
            " 2.95285714e+02 3.26857143e+02 3.43142857e+02 3.51571429e+02\n",
            " 3.69428571e+02 3.72285714e+02 3.91428571e+02 4.07285714e+02\n",
            " 4.11857143e+02 4.30714286e+02 4.39857143e+02 4.49142857e+02\n",
            " 4.66142857e+02 5.10142857e+02 5.28142857e+02 5.68285714e+02\n",
            " 5.73857143e+02 5.88000000e+02 6.04428571e+02 6.13571429e+02\n",
            " 6.25142857e+02 6.29714286e+02 6.21285714e+02 6.30571429e+02\n",
            " 6.30857143e+02 6.43714286e+02 6.57000000e+02 6.42714286e+02\n",
            " 6.61714286e+02 6.93428571e+02 7.15000000e+02 7.94285714e+02\n",
            " 8.29714286e+02 9.25142857e+02 1.01428571e+03 1.07671429e+03\n",
            " 1.12900000e+03 1.21971429e+03 1.25271429e+03 1.35628571e+03\n",
            " 1.39371429e+03 1.46100000e+03 1.58271429e+03 1.63757143e+03\n",
            " 1.70628571e+03 1.82442857e+03 1.86142857e+03 1.93771429e+03\n",
            " 2.02928571e+03 2.09471429e+03 2.22971429e+03 2.38657143e+03\n",
            " 2.53442857e+03 2.76185714e+03 2.95185714e+03 3.10657143e+03\n",
            " 3.27642857e+03 3.52714286e+03 3.61514286e+03 3.70471429e+03\n",
            " 3.83842857e+03 3.76557143e+03 3.86485714e+03 3.99071429e+03\n",
            " 3.98814286e+03 4.14142857e+03 4.24114286e+03 4.19428571e+03\n",
            " 4.49328571e+03 4.55000000e+03 4.54300000e+03 4.55842857e+03\n",
            " 4.57471429e+03 4.54414286e+03 4.49914286e+03 4.38157143e+03\n",
            " 4.46742857e+03 4.50842857e+03 4.56457143e+03 4.62785714e+03\n",
            " 4.76614286e+03 4.88085714e+03 4.99342857e+03 5.07400000e+03\n",
            " 5.15500000e+03 5.22642857e+03 5.28585714e+03 5.40728571e+03\n",
            " 5.43314286e+03 5.48128571e+03 5.48728571e+03 5.52600000e+03\n",
            " 5.62157143e+03 5.75828571e+03 5.80728571e+03 5.91957143e+03\n",
            " 6.10228571e+03 6.22885714e+03 6.41828571e+03 6.55285714e+03\n",
            " 6.58085714e+03 6.53614286e+03 6.47771429e+03 6.50900000e+03\n",
            " 6.46057143e+03 6.32357143e+03 6.24900000e+03 6.09800000e+03\n",
            " 6.03414286e+03 5.95685714e+03 5.78671429e+03 5.63157143e+03\n",
            " 5.42614286e+03 5.10642857e+03 4.90257143e+03 4.68714286e+03\n",
            " 4.56885714e+03 4.33042857e+03 4.19942857e+03 4.11771429e+03\n",
            " 4.06600000e+03 3.97014286e+03 3.91157143e+03 3.79457143e+03\n",
            " 3.72585714e+03 3.60628571e+03 3.47971429e+03 3.38157143e+03\n",
            " 3.29800000e+03 3.21614286e+03 3.10342857e+03 3.02585714e+03\n",
            " 2.91214286e+03 2.84628571e+03 2.75271429e+03 2.70685714e+03\n",
            " 2.59528571e+03 2.52914286e+03 2.43371429e+03 2.39485714e+03\n",
            " 2.35357143e+03 2.30357143e+03 2.22542857e+03 2.16057143e+03\n",
            " 2.17185714e+03 2.12857143e+03 2.07985714e+03 2.00528571e+03\n",
            " 2.00314286e+03 1.94642857e+03 1.93742857e+03 1.93442857e+03\n",
            " 1.89728571e+03 1.92400000e+03 1.92271429e+03 1.92071429e+03\n",
            " 1.93685714e+03 1.96157143e+03 1.94014286e+03 1.99657143e+03\n",
            " 1.95100000e+03 2.01000000e+03 2.01071429e+03 2.06885714e+03\n",
            " 1.96300000e+03 1.95142857e+03 1.85128571e+03 1.92242857e+03\n",
            " 1.96057143e+03 2.05514286e+03 2.04571429e+03 2.21085714e+03\n",
            " 2.28328571e+03 2.39714286e+03 2.39128571e+03 2.32871429e+03\n",
            " 2.25128571e+03 2.23942857e+03 2.15614286e+03 2.15071429e+03\n",
            " 2.07071429e+03 1.99328571e+03 1.96842857e+03 1.91885714e+03\n",
            " 1.87328571e+03 1.86728571e+03 1.78700000e+03 1.80400000e+03\n",
            " 1.74157143e+03 1.70471429e+03 1.64900000e+03 1.58857143e+03\n",
            " 1.51600000e+03 1.47585714e+03 1.41300000e+03 1.39485714e+03\n",
            " 1.37571429e+03 1.35342857e+03 1.32414286e+03 1.29642857e+03\n",
            " 1.27042857e+03 1.25142857e+03 1.19700000e+03 1.13957143e+03\n",
            " 1.11228571e+03 1.07020000e+03 1.05266667e+03 1.21400000e+03]\n",
            "[2.00000000e+00 1.66666667e+00 1.40000000e+00 1.85714286e+00\n",
            " 2.00000000e+00 2.00000000e+00 2.14285714e+00 4.00000000e+00\n",
            " 4.00000000e+00 6.14285714e+00 5.42857143e+00 5.00000000e+00\n",
            " 8.42857143e+00 8.28571429e+00 7.71428571e+00 8.85714286e+00\n",
            " 7.14285714e+00 9.00000000e+00 1.04285714e+01 7.71428571e+00\n",
            " 1.02857143e+01 1.41428571e+01 1.62857143e+01 1.82857143e+01\n",
            " 1.98571429e+01 2.30000000e+01 2.51428571e+01 2.67142857e+01\n",
            " 2.88571429e+01 3.00000000e+01 3.21428571e+01 3.70000000e+01\n",
            " 4.05714286e+01 4.30000000e+01 4.42857143e+01 4.35714286e+01\n",
            " 4.31428571e+01 4.31428571e+01 4.01428571e+01 5.01428571e+01\n",
            " 8.38571429e+01 8.71428571e+01 9.24285714e+01 1.04428571e+02\n",
            " 1.12857143e+02 1.26142857e+02 1.23428571e+02 1.05857143e+02\n",
            " 1.14857143e+02 1.18428571e+02 1.19142857e+02 1.18428571e+02\n",
            " 1.11857143e+02 1.12857143e+02 1.05428571e+02 1.08714286e+02\n",
            " 1.12571429e+02 1.16142857e+02 1.17142857e+02 1.24428571e+02\n",
            " 1.26142857e+02 1.41428571e+02 1.41714286e+02 1.49714286e+02\n",
            " 1.55571429e+02 1.91285714e+02 2.11571429e+02 2.38714286e+02\n",
            " 2.62000000e+02 2.79428571e+02 3.08428571e+02 3.30857143e+02\n",
            " 3.34285714e+02 3.55714286e+02 3.72571429e+02 3.83714286e+02\n",
            " 4.05857143e+02 4.02428571e+02 4.02857143e+02 4.13142857e+02\n",
            " 4.20142857e+02 4.22857143e+02 4.14285714e+02 4.11571429e+02\n",
            " 4.17714286e+02 4.24571429e+02 4.23857143e+02 4.06571429e+02\n",
            " 4.04714286e+02 4.08285714e+02 4.09142857e+02 4.02714286e+02\n",
            " 4.10428571e+02 4.16142857e+02 4.42857143e+02 4.54285714e+02\n",
            " 4.76857143e+02 5.07000000e+02 5.47285714e+02 5.71000000e+02\n",
            " 5.95857143e+02 6.14000000e+02 6.45714286e+02 6.91857143e+02\n",
            " 7.25714286e+02 7.54000000e+02 8.07571429e+02 8.70285714e+02\n",
            " 9.45857143e+02 1.03171429e+03 1.12671429e+03 1.20871429e+03\n",
            " 1.28585714e+03 1.37200000e+03 1.45800000e+03 1.55742857e+03\n",
            " 1.67942857e+03 1.78200000e+03 1.90300000e+03 2.02742857e+03\n",
            " 2.12771429e+03 2.23428571e+03 2.28028571e+03 2.30971429e+03\n",
            " 2.31871429e+03 2.29442857e+03 2.27628571e+03 2.27671429e+03\n",
            " 2.27642857e+03 2.31642857e+03 2.34285714e+03 2.39971429e+03\n",
            " 2.48600000e+03 2.57428571e+03 2.64885714e+03 2.72314286e+03\n",
            " 2.78257143e+03 2.83400000e+03 2.86257143e+03 2.88957143e+03\n",
            " 2.91514286e+03 2.93228571e+03 2.93842857e+03 2.95600000e+03\n",
            " 2.97385714e+03 2.99200000e+03 3.01700000e+03 3.05185714e+03\n",
            " 3.08514286e+03 3.11371429e+03 3.14371429e+03 3.16628571e+03\n",
            " 3.19600000e+03 3.17985714e+03 3.14971429e+03 3.12185714e+03\n",
            " 3.09328571e+03 3.05571429e+03 3.02428571e+03 2.98785714e+03\n",
            " 2.99157143e+03 2.98857143e+03 2.98885714e+03 2.98700000e+03\n",
            " 2.98642857e+03 2.99071429e+03 3.00042857e+03 3.01242857e+03\n",
            " 3.03357143e+03 3.05228571e+03 3.07057143e+03 3.09614286e+03\n",
            " 3.11314286e+03 3.13142857e+03 3.15057143e+03 3.17000000e+03\n",
            " 3.18857143e+03 3.20071429e+03 3.20571429e+03 3.20957143e+03\n",
            " 3.20414286e+03 3.19757143e+03 3.19114286e+03 3.18428571e+03\n",
            " 3.18414286e+03 3.18385714e+03 3.18285714e+03 3.18400000e+03\n",
            " 3.18257143e+03 3.18342857e+03 3.19657143e+03 3.20785714e+03\n",
            " 3.22500000e+03 3.24771429e+03 3.27228571e+03 3.29985714e+03\n",
            " 3.32585714e+03 3.35071429e+03 3.38657143e+03 3.42414286e+03\n",
            " 3.46000000e+03 3.49642857e+03 3.53000000e+03 3.56728571e+03\n",
            " 3.59900000e+03 3.62671429e+03 3.65500000e+03 3.69414286e+03\n",
            " 3.74714286e+03 3.80557143e+03 3.86242857e+03 3.91842857e+03\n",
            " 3.98085714e+03 4.03400000e+03 4.07442857e+03 4.09500000e+03\n",
            " 4.11342857e+03 4.10314286e+03 4.08242857e+03 4.05842857e+03\n",
            " 4.03500000e+03 4.01285714e+03 3.99285714e+03 3.96942857e+03\n",
            " 3.97285714e+03 3.98185714e+03 3.97600000e+03 3.97071429e+03\n",
            " 3.96142857e+03 3.95185714e+03 3.94471429e+03 3.93185714e+03\n",
            " 3.91542857e+03 3.90228571e+03 3.88700000e+03 3.87200000e+03\n",
            " 3.74814286e+03 3.62028571e+03 3.58642857e+03 3.55728571e+03\n",
            " 3.52357143e+03 3.49371429e+03 3.46742857e+03 3.54428571e+03\n",
            " 3.62214286e+03 3.60657143e+03 3.58657143e+03 3.57042857e+03\n",
            " 3.55085714e+03 3.52514286e+03 3.49314286e+03 3.36657143e+03\n",
            " 3.33371429e+03 3.29700000e+03 3.25971429e+03 3.21928571e+03\n",
            " 3.17871429e+03 3.14671429e+03 3.08142857e+03 3.02800000e+03\n",
            " 2.98300000e+03 2.91942857e+03 2.85471429e+03 2.78828571e+03\n",
            " 2.70785714e+03 2.65357143e+03 2.56042857e+03 2.46571429e+03\n",
            " 2.38628571e+03 2.31285714e+03 2.23357143e+03 2.14757143e+03\n",
            " 2.10200000e+03 2.01114286e+03 1.91614286e+03 1.82257143e+03\n",
            " 1.72285714e+03 1.58540000e+03 1.58633333e+03 1.54100000e+03]\n"
          ],
          "name": "stdout"
        }
      ]
    },
    {
      "cell_type": "markdown",
      "metadata": {
        "id": "Gn_9oilIu6e_"
      },
      "source": [
        "# Maharashtra"
      ]
    },
    {
      "cell_type": "code",
      "metadata": {
        "colab": {
          "base_uri": "https://localhost:8080/"
        },
        "id": "stiGPz1yvDbH",
        "outputId": "9c76e007-08df-4b06-980e-ce4a88a27586"
      },
      "source": [
        "#Inputs to higuchi algorithm \r\n",
        "mh1= mh[1:174:]\r\n",
        "mh2= mh[178:268:]\r\n",
        "print(mh1.shape)\r\n",
        "print(mh2.shape)\r\n",
        "n1=int(280/2)\r\n",
        "n2=int(280/2)\r\n",
        "k_interval_times1, curve_length_list1 = curve_length(mh1, n1-1, n1)\r\n",
        "k_interval_times2, curve_length_list2 = curve_length(mh2, n2-1, n2)\r\n",
        "print(k_interval_times1, curve_length_list1)\r\n",
        "print(k_interval_times2, curve_length_list2)"
      ],
      "execution_count": 167,
      "outputs": [
        {
          "output_type": "stream",
          "text": [
            "(173,)\n",
            "(90,)\n",
            "[ 2  3  4  5  6  7  8  9 10 11 12 13 14 15 16 17 18 19 20 21 22 23 24 25\n",
            " 26 27 28 29 30 31 32 33 34 35 36 37 38 39 40 41 42 43 44 45 46 47 48 49\n",
            " 50 51 52 53 54 55 56 57 58 59 60 61 62 63 64 65 66 67 68 69 70 71 72 73\n",
            " 74 75 76 77 78 79 80 81 82 83 84 85] [11693.60883132  7600.22961938  5566.44451753  4347.48549103\n",
            "  3530.74437338  2984.33585055  2572.72261122  2257.77799796\n",
            "  2004.05646445  1799.3234918   1630.01258085  1486.74614413\n",
            "  1365.80206493  1259.23544636  1170.37258967  1091.39687328\n",
            "  1020.90633103   963.42461421   907.47841713   859.30959548\n",
            "   819.8501728    776.33571238   741.75063483   712.56581976\n",
            "   679.39091295   649.80590745   626.57396573   608.41291217\n",
            "   585.63433654   564.34359086   544.57062206   527.40239549\n",
            "   513.66326368   500.63796199   485.35154569   470.03244205\n",
            "   455.68561815   442.26144761   429.6146957    418.71398587\n",
            "   409.67460062   402.68482322   393.63639719   384.00772358\n",
            "   374.71428573   366.43744598   358.85449565   351.40630019\n",
            "   344.09075049   337.19856007   330.49530814   323.87062443\n",
            "   317.83311803   312.4329325    307.88235806   304.09174522\n",
            "   300.19439385   295.06537531   290.14887038   285.51483416\n",
            "   280.9635964    276.28163735   271.48975591   266.78406763\n",
            "   262.13750155   257.72178094   253.37922077   249.27214606\n",
            "   245.54368264   242.07612348   238.7611102    235.35516517\n",
            "   231.83634379   228.38830528   225.08838232   221.83923053\n",
            "   218.62175273   215.34789743   212.26904409   209.4303472\n",
            "   206.86602415   204.64354984   202.83521431   201.3378356 ]\n",
            "[ 2  3  4  5  6  7  8  9 10 11 12 13 14 15 16 17 18 19 20 21 22 23 24 25\n",
            " 26 27 28 29 30 31 32 33 34 35 36 37 38 39 40 41 42 43 44] [11223.75243366  7424.03867784  5562.70812016  4445.33909195\n",
            "  3694.26941577  3147.00334736  2731.33491502  2404.29061309\n",
            "  2138.96401763  1930.05640981  1738.48446542  1588.08180195\n",
            "  1450.4168939   1341.0945692   1243.89978367  1149.16258604\n",
            "  1068.22781932   994.0451144    930.7976264    876.07631714\n",
            "   824.90615264   774.93677659   729.25006537   694.55179575\n",
            "   664.50143182   637.44167066   613.27759479   592.63920595\n",
            "   574.04740999   556.69780177   539.65950224   523.96464046\n",
            "   507.24093145   490.57674798   474.77621615   459.42728673\n",
            "   445.91443589   433.95551048   423.07709483   412.99937088\n",
            "   403.78900281   395.20676523   387.05062483]\n"
          ],
          "name": "stdout"
        }
      ]
    },
    {
      "cell_type": "code",
      "metadata": {
        "colab": {
          "base_uri": "https://localhost:8080/"
        },
        "id": "8vAFLcRX0LNv",
        "outputId": "6b9edf18-d78e-442e-8598-f823181af893"
      },
      "source": [
        "hfd(mh1)"
      ],
      "execution_count": 168,
      "outputs": [
        {
          "output_type": "execute_result",
          "data": {
            "text/plain": [
              "1.0815188243929645"
            ]
          },
          "metadata": {
            "tags": []
          },
          "execution_count": 168
        }
      ]
    },
    {
      "cell_type": "code",
      "metadata": {
        "colab": {
          "base_uri": "https://localhost:8080/"
        },
        "id": "pbRvq-oU0coE",
        "outputId": "06b1bbb7-2a47-4b96-a85b-b709f7d24c95"
      },
      "source": [
        "hfd(mh2)"
      ],
      "execution_count": 170,
      "outputs": [
        {
          "output_type": "execute_result",
          "data": {
            "text/plain": [
              "1.1285586080561414"
            ]
          },
          "metadata": {
            "tags": []
          },
          "execution_count": 170
        }
      ]
    },
    {
      "cell_type": "code",
      "metadata": {
        "colab": {
          "base_uri": "https://localhost:8080/",
          "height": 295
        },
        "id": "vj59penU1TAA",
        "outputId": "f7725315-e810-4fd2-b730-d08dee776e18"
      },
      "source": [
        "#The Graphs\r\n",
        "\r\n",
        "x1 = k_interval_times1\r\n",
        "y1 = curve_length_list1\r\n",
        "x2 = k_interval_times2\r\n",
        "y2 = curve_length_list2\r\n",
        "plt.title(\"Maharastra\") \r\n",
        "plt.xlabel(\"k\") \r\n",
        "plt.ylabel(\"<L(k)>\") \r\n",
        "plt.plot(x1,y1,label='Window 1') \r\n",
        "plt.plot(x2,y2,label='Window 2') \r\n",
        "plt.legend()\r\n",
        "plt.show()"
      ],
      "execution_count": 171,
      "outputs": [
        {
          "output_type": "display_data",
          "data": {
            "image/png": "[encoded data removed]",
            "text/plain": [
              "<Figure size 432x288 with 1 Axes>"
            ]
          },
          "metadata": {
            "tags": [],
            "needs_background": "light"
          }
        }
      ]
    },
    {
      "cell_type": "code",
      "metadata": {
        "colab": {
          "base_uri": "https://localhost:8080/",
          "height": 1000
        },
        "id": "Bswk2oe5CvXm",
        "outputId": "98a17f24-6472-40dc-9e76-5f2c8be1bc60"
      },
      "source": [
        "a= mh[1:281:]\r\n",
        "n=int(280/2)\r\n",
        "k_interval_times, curve_length_list = curve_length(a, n1-1, n1)\r\n",
        "b=hfd(a)\r\n",
        "print(b)\r\n",
        "x = k_interval_times\r\n",
        "y = curve_length_list\r\n",
        "plt.title(\"Maharastra\") \r\n",
        "plt.xlabel(\"k\") \r\n",
        "plt.ylabel(\"<L(k)>\") \r\n",
        "plt.plot(x,y) \r\n",
        "plt.show()\r\n",
        "print(k_interval_times, curve_length_list)"
      ],
      "execution_count": 172,
      "outputs": [
        {
          "output_type": "stream",
          "text": [
            "1.2576473516316702\n"
          ],
          "name": "stdout"
        },
        {
          "output_type": "display_data",
          "data": {
            "image/png": "[encoded data removed]",
            "text/plain": [
              "<Figure size 432x288 with 1 Axes>"
            ]
          },
          "metadata": {
            "tags": [],
            "needs_background": "light"
          }
        },
        {
          "output_type": "stream",
          "text": [
            "[  2   3   4   5   6   7   8   9  10  11  12  13  14  15  16  17  18  19\n",
            "  20  21  22  23  24  25  26  27  28  29  30  31  32  33  34  35  36  37\n",
            "  38  39  40  41  42  43  44  45  46  47  48  49  50  51  52  53  54  55\n",
            "  56  57  58  59  60  61  62  63  64  65  66  67  68  69  70  71  72  73\n",
            "  74  75  76  77  78  79  80  81  82  83  84  85  86  87  88  89  90  91\n",
            "  92  93  94  95  96  97  98  99 100 101 102 103 104 105 106 107 108 109\n",
            " 110 111 112 113 114 115 116 117 118 119 120 121 122 123 124 125 126 127\n",
            " 128 129 130 131 132 133 134 135 136 137 138 139] [24644.40740912 16181.10528293 12030.89963237  9573.21573848\n",
            "  7919.98342253  6742.26292892  5824.704113    5124.89858498\n",
            "  4560.53685387  4112.82690919  3737.52244406  3419.55061346\n",
            "  3153.07571832  2927.88225465  2722.39101722  2538.63208167\n",
            "  2382.54080248  2233.59787261  2107.90596089  1995.21311608\n",
            "  1893.14032236  1796.63649119  1702.08178913  1625.40739271\n",
            "  1558.20650364  1492.26915361  1422.70581958  1367.57102331\n",
            "  1314.92151621  1263.37627469  1216.04643265  1169.21196626\n",
            "  1130.04976067  1095.29023077  1069.17668466  1040.95669175\n",
            "  1009.46895393   975.71665308   938.92281717   909.15723611\n",
            "   881.91437439   859.09597967   838.71950264   819.16432888\n",
            "   799.4386248    781.06013291   766.22238376   749.85002016\n",
            "   731.34326223   712.37650656   694.7841463    677.62172306\n",
            "   662.06490145   647.39190263   632.98350063   626.10601363\n",
            "   619.56002771   612.51162617   604.82953184   595.7138841\n",
            "   584.92827225   573.26365437   561.11140913   548.25931823\n",
            "   534.80107792   521.16643795   507.60351995   493.70179818\n",
            "   480.03257525   467.35991676   455.45397418   444.18663753\n",
            "   433.53205165   423.53033962   414.15825652   405.23793248\n",
            "   396.69963782   388.60918585   381.12981744   374.04944123\n",
            "   367.15392836   360.59647291   354.60085429   349.28591357\n",
            "   344.68277932   340.29018226   335.93546673   331.62061264\n",
            "   327.43158734   323.12594343   318.47561956   313.44258791\n",
            "   309.53010064   305.85926467   301.85050024   297.55324897\n",
            "   292.81014027   287.89551031   282.78282283   277.55838728\n",
            "   272.21581231   266.69352334   261.16427132   255.69132365\n",
            "   250.28097293   244.78000583   239.1799876    233.55747403\n",
            "   228.1409242    222.99982799   218.06912233   213.34999293\n",
            "   208.78933703   204.40869619   200.19708989   196.13081493\n",
            "   192.25538436   188.56299111   185.02721431   181.52895124\n",
            "   178.02876458   174.53632284   171.07869592   167.69963456\n",
            "   164.38665572   161.21311049   158.1736667    155.27353598\n",
            "   152.42852752   149.66455236   146.99871512   144.41694203\n",
            "   141.96775672   139.66759372   137.41673715   135.20132118\n",
            "   132.88471501   130.59593681]\n"
          ],
          "name": "stdout"
        }
      ]
    },
    {
      "cell_type": "markdown",
      "metadata": {
        "id": "urgcSCEvykZ-"
      },
      "source": [
        "#Karnataka"
      ]
    },
    {
      "cell_type": "code",
      "metadata": {
        "colab": {
          "base_uri": "https://localhost:8080/"
        },
        "id": "J1kwvwv42SJy",
        "outputId": "e3b39215-288a-439d-8a80-5bc720477960"
      },
      "source": [
        "#Inputs to higuchi algorithm \r\n",
        "ka1= ka[1:96:]\r\n",
        "ka2= ka[96:204:]\r\n",
        "ka3= ka[204:281:]\r\n",
        "print(ka1.shape)\r\n",
        "print(ka2.shape)\r\n",
        "print(ka3.shape)\r\n",
        "n1=int(280/2)\r\n",
        "n2=int(280/2)\r\n",
        "k_interval_times1, curve_length_list1 = curve_length(ka1, n1-1, n1)\r\n",
        "k_interval_times2, curve_length_list2 = curve_length(ka2, n2-1, n2)\r\n",
        "k_interval_times3, curve_length_list3 = curve_length(ka3, n2-1, n2)\r\n",
        "print(k_interval_times1, curve_length_list1)\r\n",
        "print(k_interval_times2, curve_length_list2)\r\n",
        "print(k_interval_times3, curve_length_list3)"
      ],
      "execution_count": 11,
      "outputs": [
        {
          "output_type": "stream",
          "text": [
            "(95,)\n",
            "(108,)\n",
            "(77,)\n",
            "[ 2  3  4  5  6  7  8  9 10 11 12 13 14 15 16 17 18 19 20 21 22 23 24 25\n",
            " 26 27 28 29 30 31 32 33 34 35 36 37 38 39 40 41 42 43 44 45 46] [320.68478258 203.1182932  145.47143563 111.50846984  89.83980726\n",
            "  74.17867769  61.2475903   51.08145884  43.84704603  38.00741885\n",
            "  32.24433579  27.95059187  24.53307997  22.00747231  20.42028041\n",
            "  19.25336803  18.30303694  17.83832712  17.61811786  17.00017122\n",
            "  16.29805418  15.6368487   15.11915578  14.80139398  14.38694378\n",
            "  13.78927283  13.05849863  12.43723537  11.89400071  11.46174316\n",
            "  11.09668492  10.72462206  10.37646187  10.06925181   9.83636525\n",
            "   9.68027334   9.56284027   9.4160729    9.18111429   8.86839839\n",
            "   8.53881909   8.25029458   7.98366595   7.76990037   7.58058419]\n",
            "[ 2  3  4  5  6  7  8  9 10 11 12 13 14 15 16 17 18 19 20 21 22 23 24 25\n",
            " 26 27 28 29 30 31 32 33 34 35 36 37 38 39 40 41 42 43 44 45 46 47 48 49\n",
            " 50 51 52 53] [6927.56502688 4494.56613763 3305.98583449 2580.33891985 2088.38573776\n",
            " 1717.22320273 1436.5032857  1246.64826402 1107.83689843  986.81095491\n",
            "  893.63266783  811.98275362  743.22302711  682.1504762   630.27149833\n",
            "  580.55565992  547.04719773  514.64385896  482.98682233  456.37669644\n",
            "  431.29972653  410.39416631  390.68265164  370.04553905  351.9743136\n",
            "  336.79774909  322.22634341  309.6304052   297.02124339  285.85848954\n",
            "  276.14322989  267.98695203  260.22232924  253.52621297  247.6486549\n",
            "  242.27659481  236.85126814  231.34514598  226.78888839  222.6573064\n",
            "  218.28038375  213.3046093   208.27045907  202.76044993  197.53545964\n",
            "  192.34252663  187.82097517  183.8404382   179.96262743  176.24641406\n",
            "  172.93633008  170.09175311]\n",
            "[ 2  3  4  5  6  7  8  9 10 11 12 13 14 15 16 17 18 19 20 21 22 23 24 25\n",
            " 26 27 28 29 30 31 32 33 34 35 36 37] [4503.21904787 2967.67869492 2192.00410058 1720.39445626 1406.69750948\n",
            " 1185.77430514 1023.23874836  896.6832657   795.94422586  717.53270128\n",
            "  643.94278366  588.96250819  535.0409628   495.52927549  454.83021531\n",
            "  418.01440106  390.28176889  369.60800246  341.98216111  316.86032603\n",
            "  297.50660561  282.97551561  271.86670203  263.46962367  253.571693\n",
            "  239.02677824  225.7822947   213.66857736  202.76258483  193.38241431\n",
            "  185.87457508  179.92836883  175.05569238  171.29786767  168.43314145\n",
            "  166.44172404]\n"
          ],
          "name": "stdout"
        }
      ]
    },
    {
      "cell_type": "markdown",
      "metadata": {
        "id": "byNILxaKFudB"
      },
      "source": [
        ""
      ]
    },
    {
      "cell_type": "code",
      "metadata": {
        "colab": {
          "base_uri": "https://localhost:8080/"
        },
        "id": "_Pz6Wxr_7iJ5",
        "outputId": "494d7acf-08c4-4d75-9589-f9c6ccbfe58e"
      },
      "source": [
        "hfd(ka1)"
      ],
      "execution_count": 12,
      "outputs": [
        {
          "output_type": "execute_result",
          "data": {
            "text/plain": [
              "1.1944316895961669"
            ]
          },
          "metadata": {
            "tags": []
          },
          "execution_count": 12
        }
      ]
    },
    {
      "cell_type": "code",
      "metadata": {
        "colab": {
          "base_uri": "https://localhost:8080/"
        },
        "id": "n5E5zhyf7h6u",
        "outputId": "6cbd343e-3a24-4d24-df14-4de8cb30b34d"
      },
      "source": [
        "hfd(ka2)"
      ],
      "execution_count": 13,
      "outputs": [
        {
          "output_type": "execute_result",
          "data": {
            "text/plain": [
              "1.151049470469037"
            ]
          },
          "metadata": {
            "tags": []
          },
          "execution_count": 13
        }
      ]
    },
    {
      "cell_type": "code",
      "metadata": {
        "colab": {
          "base_uri": "https://localhost:8080/"
        },
        "id": "pFv7WLmB_HSw",
        "outputId": "11e8076c-745a-4792-cddd-ba9c98d01469"
      },
      "source": [
        "hfd(ka3)"
      ],
      "execution_count": 14,
      "outputs": [
        {
          "output_type": "execute_result",
          "data": {
            "text/plain": [
              "1.1710453553119928"
            ]
          },
          "metadata": {
            "tags": []
          },
          "execution_count": 14
        }
      ]
    },
    {
      "cell_type": "code",
      "metadata": {
        "colab": {
          "base_uri": "https://localhost:8080/",
          "height": 295
        },
        "id": "r3yeYu0K73UC",
        "outputId": "536b6e31-1709-4853-a66c-604088d7258b"
      },
      "source": [
        "#The Graphs\r\n",
        "\r\n",
        "x1 = k_interval_times1\r\n",
        "y1 = curve_length_list1\r\n",
        "x2 = k_interval_times2\r\n",
        "y2 = curve_length_list2\r\n",
        "x3 = k_interval_times3\r\n",
        "y3 = curve_length_list3\r\n",
        "plt.title(\"Karnataka\") \r\n",
        "plt.xlabel(\"k\") \r\n",
        "plt.ylabel(\"<L(k)>\") \r\n",
        "plt.plot(x1,y1,label='Window 1') \r\n",
        "plt.plot(x2,y2,label='Window 2') \r\n",
        "plt.plot(x3,y3,label='Window 3') \r\n",
        "plt.legend()\r\n",
        "plt.show()"
      ],
      "execution_count": 15,
      "outputs": [
        {
          "output_type": "display_data",
          "data": {
            "image/png": "[encoded data removed]",
            "text/plain": [
              "<Figure size 432x288 with 1 Axes>"
            ]
          },
          "metadata": {
            "tags": [],
            "needs_background": "light"
          }
        }
      ]
    },
    {
      "cell_type": "code",
      "metadata": {
        "colab": {
          "base_uri": "https://localhost:8080/",
          "height": 1000
        },
        "id": "f7wAW1rBE7Qj",
        "outputId": "64eefae0-33f4-49d2-8879-abff4ea5516b"
      },
      "source": [
        "a= ka[1:281:]\r\n",
        "n=int(280/2)\r\n",
        "k_interval_times, curve_length_list = curve_length(a, n1-1, n1)\r\n",
        "b=hfd(a)\r\n",
        "print(b)\r\n",
        "x = k_interval_times\r\n",
        "y = curve_length_list\r\n",
        "plt.title(\"Karnataka\") \r\n",
        "plt.xlabel(\"k\") \r\n",
        "plt.ylabel(\"<L(k)>\") \r\n",
        "plt.plot(x,y) \r\n",
        "plt.show()\r\n",
        "print(k_interval_times, curve_length_list)"
      ],
      "execution_count": 16,
      "outputs": [
        {
          "output_type": "stream",
          "text": [
            "1.1370000495673447\n"
          ],
          "name": "stdout"
        },
        {
          "output_type": "display_data",
          "data": {
            "image/png": "[encoded data removed]",
            "text/plain": [
              "<Figure size 432x288 with 1 Axes>"
            ]
          },
          "metadata": {
            "tags": [],
            "needs_background": "light"
          }
        },
        {
          "output_type": "stream",
          "text": [
            "[  2   3   4   5   6   7   8   9  10  11  12  13  14  15  16  17  18  19\n",
            "  20  21  22  23  24  25  26  27  28  29  30  31  32  33  34  35  36  37\n",
            "  38  39  40  41  42  43  44  45  46  47  48  49  50  51  52  53  54  55\n",
            "  56  57  58  59  60  61  62  63  64  65  66  67  68  69  70  71  72  73\n",
            "  74  75  76  77  78  79  80  81  82  83  84  85  86  87  88  89  90  91\n",
            "  92  93  94  95  96  97  98  99 100 101 102 103 104 105 106 107 108 109\n",
            " 110 111 112 113 114 115 116 117 118 119 120 121 122 123 124 125 126 127\n",
            " 128 129 130 131 132 133 134 135 136 137 138 139] [11904.57826332  7793.19444472  5761.14120742  4528.94636905\n",
            "  3699.58694232  3092.69221172  2643.66710721  2310.75929856\n",
            "  2060.92969846  1855.6241489   1688.3680443   1547.22968799\n",
            "  1427.57976393  1323.33634901  1234.29808392  1155.01089858\n",
            "  1082.45934256  1021.35139981   962.81354259   914.04920849\n",
            "   866.00137122   824.03686494   783.21517998   746.41680574\n",
            "   716.86429141   688.30136014   662.07499263   644.06693909\n",
            "   624.29691028   602.76750409   585.31530949   569.66422724\n",
            "   555.07297961   539.02695972   527.16452967   514.1049399\n",
            "   500.97414707   489.54505422   478.77943081   472.39197653\n",
            "   463.69270231   454.36530153   444.87763178   435.34780686\n",
            "   424.87121268   414.87713698   407.4633979    400.87793965\n",
            "   394.22772806   387.95476562   380.68354392   372.36185293\n",
            "   364.32252706   356.29848969   348.5814661    343.65119921\n",
            "   338.67707229   334.16624092   329.6055625    324.45642807\n",
            "   318.5770217    312.55602304   306.88467407   301.54970921\n",
            "   296.1699451    290.84628096   285.37580724   279.44962923\n",
            "   273.02490171   266.53564973   260.34953953   254.68134646\n",
            "   249.6426109    244.98454569   240.38543191   235.81944726\n",
            "   231.30552726   227.07991573   223.197137     219.54106974\n",
            "   216.03507523   212.58530399   209.3314614    206.06161065\n",
            "   202.87104089   199.70966821   196.69687561   193.7165157\n",
            "   190.72460533   187.68534902   184.59687706   181.41742233\n",
            "   179.22181183   177.51249145   175.96995666   174.43502367\n",
            "   172.87896109   171.28300628   169.73484472   168.12958398\n",
            "   166.41971898   164.52130476   162.38221287   160.06986071\n",
            "   157.60993663   154.98707445   152.23788022   149.3842834\n",
            "   146.44165096   143.4478495    140.46004844   137.50314259\n",
            "   134.55828702   131.6157175    128.7620699    126.00383627\n",
            "   123.34880379   120.79126925   118.33607242   115.93623658\n",
            "   113.60300957   111.29172727   109.03917283   106.85843273\n",
            "   104.73257081   102.66041723   100.64860848    98.67338865\n",
            "    96.74485705    94.85309005    93.01152119    91.20596548\n",
            "    89.44555692    87.72473647    86.04374927    84.40750331\n",
            "    82.81077076    81.27241254]\n"
          ],
          "name": "stdout"
        }
      ]
    },
    {
      "cell_type": "markdown",
      "metadata": {
        "id": "VIgQRFw2FctD"
      },
      "source": [
        "#Andhra Pradesh"
      ]
    },
    {
      "cell_type": "code",
      "metadata": {
        "colab": {
          "base_uri": "https://localhost:8080/"
        },
        "id": "b7fWA0nYFmDU",
        "outputId": "a3a28f02-de11-4652-8325-45f6ca2ef542"
      },
      "source": [
        "#Inputs to higuchi algorithm \r\n",
        "ap1= ap[1:140:]\r\n",
        "ap2= ap[175:281:]\r\n",
        "print(ap1.shape)\r\n",
        "print(ap2.shape)\r\n",
        "n1=int(280/2)\r\n",
        "n2=int(280/2)\r\n",
        "k_interval_times1, curve_length_list1 = curve_length(ap1, n1-1, n1)\r\n",
        "k_interval_times2, curve_length_list2 = curve_length(ap2, n2-1, n2)\r\n",
        "print(k_interval_times1, curve_length_list1)\r\n",
        "print(k_interval_times2, curve_length_list2)"
      ],
      "execution_count": 181,
      "outputs": [
        {
          "output_type": "stream",
          "text": [
            "(139,)\n",
            "(106,)\n",
            "[ 2  3  4  5  6  7  8  9 10 11 12 13 14 15 16 17 18 19 20 21 22 23 24 25\n",
            " 26 27 28 29 30 31 32 33 34 35 36 37 38 39 40 41 42 43 44 45 46 47 48 49\n",
            " 50 51 52 53 54 55 56 57 58 59 60 61 62 63 64 65 66 67 68] [4941.29947511 3281.4736744  2467.39863205 1981.33705755 1658.97365321\n",
            " 1424.29699468 1245.83584683 1106.74216885  994.48175935  901.55979914\n",
            "  823.11350259  754.01791795  694.08857624  642.52426267  594.84584837\n",
            "  555.0198314   513.54056298  478.76621689  446.53574524  412.53672596\n",
            "  387.78447641  366.24246287  337.04265791  314.79181367  298.7740305\n",
            "  285.69320603  271.37614145  250.58341231  233.78949947  221.80405588\n",
            "  213.23223834  206.67485719  200.97156197  193.27423862  180.10228011\n",
            "  168.6317941   158.67168493  150.12227079  143.32730997  138.63914765\n",
            "  135.65300505  133.66930291  132.24277676  131.03416793  129.69263435\n",
            "  124.59904673  118.03515599  112.03187302  106.50783749  101.41306328\n",
            "   96.64840428   92.28133944   88.29598856   84.76679944   81.62294584\n",
            "   78.82706289   76.38794993   74.46416402   73.07911693   72.38088638\n",
            "   72.45881235   72.85081136   73.55326069   74.46436091   75.39677014\n",
            "   76.35282779   77.18714371]\n",
            "[ 2  3  4  5  6  7  8  9 10 11 12 13 14 15 16 17 18 19 20 21 22 23 24 25\n",
            " 26 27 28 29 30 31 32 33 34 35 36 37 38 39 40 41 42 43 44 45 46 47 48 49\n",
            " 50 51 52] [4712.04567298 3126.73093677 2337.9438221  1862.3572     1544.53598174\n",
            " 1317.59725114 1146.85745944 1014.85771293  908.99163333  823.74972869\n",
            "  753.77832547  694.43030268  643.58342877  601.00632098  562.65523274\n",
            "  528.87824818  499.92105624  473.2067138   449.06316875  428.58695065\n",
            "  409.53777704  391.92822799  375.62722439  360.542128    347.20839497\n",
            "  335.08675845  323.71937257  312.71793295  302.20333951  292.20352344\n",
            "  282.56569417  273.44693955  265.02474727  257.38020991  249.37653249\n",
            "  241.62036799  235.0349723   229.10933259  223.68955469  218.58630171\n",
            "  213.69994466  208.80902311  204.05746971  199.29230727  194.74337861\n",
            "  190.27175096  185.90152543  181.73438788  177.882092    174.42055846\n",
            "  171.27695793]\n"
          ],
          "name": "stdout"
        }
      ]
    },
    {
      "cell_type": "code",
      "metadata": {
        "colab": {
          "base_uri": "https://localhost:8080/"
        },
        "id": "FUJXx4yEFp1k",
        "outputId": "6ee3d075-a86b-41d5-bfe5-168559750a45"
      },
      "source": [
        "hfd(ap1)"
      ],
      "execution_count": 182,
      "outputs": [
        {
          "output_type": "execute_result",
          "data": {
            "text/plain": [
              "1.3125343300672765"
            ]
          },
          "metadata": {
            "tags": []
          },
          "execution_count": 182
        }
      ]
    },
    {
      "cell_type": "code",
      "metadata": {
        "colab": {
          "base_uri": "https://localhost:8080/"
        },
        "id": "Kl8vLIzsFpky",
        "outputId": "5bba0dd7-3c06-4695-db8e-117b8aff55ec"
      },
      "source": [
        "hfd(ap2)"
      ],
      "execution_count": 183,
      "outputs": [
        {
          "output_type": "execute_result",
          "data": {
            "text/plain": [
              "1.0154582774507206"
            ]
          },
          "metadata": {
            "tags": []
          },
          "execution_count": 183
        }
      ]
    },
    {
      "cell_type": "code",
      "metadata": {
        "colab": {
          "base_uri": "https://localhost:8080/",
          "height": 295
        },
        "id": "9SHkyRu6FpcY",
        "outputId": "a0600eba-96be-41b8-92d7-7a86afa7a657"
      },
      "source": [
        "#The Graphs\r\n",
        "\r\n",
        "x1 = k_interval_times1\r\n",
        "y1 = curve_length_list1\r\n",
        "x2 = k_interval_times2\r\n",
        "y2 = curve_length_list2\r\n",
        "plt.title(\"Andhra Pradesh\") \r\n",
        "plt.xlabel(\"k\") \r\n",
        "plt.ylabel(\"<L(k)>\") \r\n",
        "plt.plot(x1,y1,label='Window 1') \r\n",
        "plt.plot(x2,y2,label='Window 2') \r\n",
        "plt.legend()\r\n",
        "plt.show()"
      ],
      "execution_count": 184,
      "outputs": [
        {
          "output_type": "display_data",
          "data": {
            "image/png": "[encoded data removed]",
            "text/plain": [
              "<Figure size 432x288 with 1 Axes>"
            ]
          },
          "metadata": {
            "tags": [],
            "needs_background": "light"
          }
        }
      ]
    },
    {
      "cell_type": "code",
      "metadata": {
        "colab": {
          "base_uri": "https://localhost:8080/",
          "height": 1000
        },
        "id": "bPhjB1MPFGls",
        "outputId": "32602604-ae17-49a2-93e6-faa45ae4b2b3"
      },
      "source": [
        "a= ap[1:281:]\r\n",
        "n=int(280/2)\r\n",
        "k_interval_times, curve_length_list = curve_length(a, n1-1, n1)\r\n",
        "b=hfd(a)\r\n",
        "print(b)\r\n",
        "x = k_interval_times\r\n",
        "y = curve_length_list\r\n",
        "plt.title(\"Andhra Pradesh\") \r\n",
        "plt.xlabel(\"k\") \r\n",
        "plt.ylabel(\"<L(k)>\") \r\n",
        "plt.plot(x,y) \r\n",
        "plt.show()\r\n",
        "print(k_interval_times, curve_length_list)"
      ],
      "execution_count": 185,
      "outputs": [
        {
          "output_type": "stream",
          "text": [
            "1.131938837451091\n"
          ],
          "name": "stdout"
        },
        {
          "output_type": "display_data",
          "data": {
            "image/png": "[encoded data removed]",
            "text/plain": [
              "<Figure size 432x288 with 1 Axes>"
            ]
          },
          "metadata": {
            "tags": [],
            "needs_background": "light"
          }
        },
        {
          "output_type": "stream",
          "text": [
            "[  2   3   4   5   6   7   8   9  10  11  12  13  14  15  16  17  18  19\n",
            "  20  21  22  23  24  25  26  27  28  29  30  31  32  33  34  35  36  37\n",
            "  38  39  40  41  42  43  44  45  46  47  48  49  50  51  52  53  54  55\n",
            "  56  57  58  59  60  61  62  63  64  65  66  67  68  69  70  71  72  73\n",
            "  74  75  76  77  78  79  80  81  82  83  84  85  86  87  88  89  90  91\n",
            "  92  93  94  95  96  97  98  99 100 101 102 103 104 105 106 107 108 109\n",
            " 110 111 112 113 114 115 116 117 118 119 120 121 122 123 124 125 126 127\n",
            " 128 129 130 131 132 133 134 135 136 137 138 139] [11603.54692081  7657.27022122  5715.58649143  4563.58430309\n",
            "  3802.23949852  3246.52741485  2828.93306527  2504.06516156\n",
            "  2245.51511421  2037.70594114  1860.05031555  1709.71471953\n",
            "  1575.62343435  1461.24941404  1360.05038809  1273.60492937\n",
            "  1195.13076092  1127.9697162   1067.13836211  1016.50688621\n",
            "   969.37048701   926.7425347    890.82378671   854.57642607\n",
            "   819.47583849   789.67799523   760.56001667   737.49299246\n",
            "   712.37186456   686.92778357   666.82885246   648.11378382\n",
            "   630.26857455   612.89939126   600.12686301   586.42008496\n",
            "   572.07626659   558.07055715   544.42038081   535.4913348\n",
            "   525.76205864   515.4081125    504.10882326   492.19679389\n",
            "   480.73593327   470.82301585   463.09013533   454.63487416\n",
            "   445.545871     436.50986334   427.75474422   419.3727573\n",
            "   411.31037527   403.29858274   395.3390841    390.89378178\n",
            "   386.09082945   380.85828893   375.21614544   368.87897423\n",
            "   362.06984726   355.00719488   348.09918276   341.4157076\n",
            "   334.81222765   328.44539395   322.26486486   316.31150393\n",
            "   310.54769938   308.01916546   305.08658728   301.78787714\n",
            "   298.21437216   294.3424893    290.27681051   285.96903641\n",
            "   281.4340961    276.81717621   272.11131563   267.60960139\n",
            "   263.12302108   258.7253462    254.34495385   249.97292145\n",
            "   245.61030817   241.18015011   236.73758396   232.21523788\n",
            "   227.66653139   223.05857998   218.47298876   213.94561882\n",
            "   210.16768689   206.73375041   203.2579632    199.75793518\n",
            "   196.22435734   192.70988277   189.16790683   185.61428655\n",
            "   182.0507548    178.49335082   174.91767898   171.33142491\n",
            "   167.78153248   164.31072761   160.89530791   157.49374899\n",
            "   154.12006116   150.76577583   147.46797033   144.24527771\n",
            "   141.05886704   137.91080363   134.78120248   131.74758485\n",
            "   128.82738927   126.01565425   123.2918253    120.64391665\n",
            "   118.07873923   115.56765628   113.13021406   110.75425209\n",
            "   108.46527501   106.23192369   104.07152001   101.95568057\n",
            "    99.88871603    97.87861525    95.9138091     93.99461485\n",
            "    92.12609675    90.30117066    88.53075437    86.80635174\n",
            "    85.12405003    83.49075   ]\n"
          ],
          "name": "stdout"
        }
      ]
    },
    {
      "cell_type": "markdown",
      "metadata": {
        "id": "RQS1yTk2F_Ss"
      },
      "source": [
        "#Tamil Nadu"
      ]
    },
    {
      "cell_type": "code",
      "metadata": {
        "colab": {
          "base_uri": "https://localhost:8080/"
        },
        "id": "wPU-RFL1GExd",
        "outputId": "147ce91d-0dc9-436b-b93b-868028e44107"
      },
      "source": [
        "#Inputs to higuchi algorithm \r\n",
        "tn1= tn[1:129]\r\n",
        "tn2= tn[134:205:]\r\n",
        "tn3= tn[205:281:]\r\n",
        "print(tn1.shape)\r\n",
        "print(tn2.shape)\r\n",
        "print(tn3.shape)\r\n",
        "n1=int(280/2)\r\n",
        "n2=int(280/2)\r\n",
        "k_interval_times1, curve_length_list1 = curve_length(tn1, n1-1, n1)\r\n",
        "k_interval_times2, curve_length_list2 = curve_length(tn2, n2-1, n2)\r\n",
        "k_interval_times3, curve_length_list3 = curve_length(tn2, n2-1, n2)\r\n",
        "print(k_interval_times1, curve_length_list1)\r\n",
        "print(k_interval_times2, curve_length_list2)\r\n",
        "print(k_interval_times3, curve_length_list3)"
      ],
      "execution_count": 186,
      "outputs": [
        {
          "output_type": "stream",
          "text": [
            "(128,)\n",
            "(71,)\n",
            "(76,)\n",
            "[ 2  3  4  5  6  7  8  9 10 11 12 13 14 15 16 17 18 19 20 21 22 23 24 25\n",
            " 26 27 28 29 30 31 32 33 34 35 36 37 38 39 40 41 42 43 44 45 46 47 48 49\n",
            " 50 51 52 53 54 55 56 57 58 59 60 61 62 63] [3782.74971661 2473.80186758 1812.76588428 1415.30570745 1149.34816013\n",
            "  960.5756613   817.39666295  705.57910278  618.75331881  553.78218213\n",
            "  502.94914149  461.00116392  424.15725898  392.16185048  367.28326091\n",
            "  341.60121529  321.71785282  303.41607481  286.54790773  273.90795738\n",
            "  262.31424372  250.35735208  239.99842323  231.85457892  225.49792858\n",
            "  218.44657209  210.75536386  203.41150177  196.5816313   190.6380106\n",
            "  185.890979    180.81472219  176.11502476  171.30098525  166.08953026\n",
            "  160.66936955  155.43856707  150.52665419  146.00060796  142.05822131\n",
            "  138.88526764  135.60840429  131.41567631  127.58094971  124.10136654\n",
            "  120.93911175  118.16733295  115.72124625  113.55932148  111.56568072\n",
            "  109.61764144  107.59424635  105.48639716  103.25157522  101.03993681\n",
            "   98.96562026   96.96336704   95.08141937   93.28434742   91.67273239\n",
            "   90.37856429   89.34136902]\n",
            "[ 2  3  4  5  6  7  8  9 10 11 12 13 14 15 16 17 18 19 20 21 22 23 24 25\n",
            " 26 27 28 29 30 31 32 33 34] [1076.06197512  685.75537968  496.10753654  380.2158241   302.47095951\n",
            "  241.55976672  197.17773432  163.76902473  137.66690474  117.22238916\n",
            "  100.70341434   85.10400545   76.67000729   70.35580245   64.2207845\n",
            "   59.97574462   55.72788065   50.66676386   46.73041666   43.68066803\n",
            "   42.07628976   40.98737021   39.41550926   38.00096      36.64883932\n",
            "   34.97942387   33.05029154   30.94858338   28.96611111   27.19193716\n",
            "   25.440979     23.69632969   22.3070171 ]\n",
            "[ 2  3  4  5  6  7  8  9 10 11 12 13 14 15 16 17 18 19 20 21 22 23 24 25\n",
            " 26 27 28 29 30 31 32 33 34] [1076.06197512  685.75537968  496.10753654  380.2158241   302.47095951\n",
            "  241.55976672  197.17773432  163.76902473  137.66690474  117.22238916\n",
            "  100.70341434   85.10400545   76.67000729   70.35580245   64.2207845\n",
            "   59.97574462   55.72788065   50.66676386   46.73041666   43.68066803\n",
            "   42.07628976   40.98737021   39.41550926   38.00096      36.64883932\n",
            "   34.97942387   33.05029154   30.94858338   28.96611111   27.19193716\n",
            "   25.440979     23.69632969   22.3070171 ]\n"
          ],
          "name": "stdout"
        }
      ]
    },
    {
      "cell_type": "code",
      "metadata": {
        "colab": {
          "base_uri": "https://localhost:8080/"
        },
        "id": "NbMbzWfXGGIb",
        "outputId": "5daef725-a305-47cc-a9f9-e3134255a580"
      },
      "source": [
        "hfd(tn1)"
      ],
      "execution_count": 187,
      "outputs": [
        {
          "output_type": "execute_result",
          "data": {
            "text/plain": [
              "1.0760353537255416"
            ]
          },
          "metadata": {
            "tags": []
          },
          "execution_count": 187
        }
      ]
    },
    {
      "cell_type": "code",
      "metadata": {
        "colab": {
          "base_uri": "https://localhost:8080/"
        },
        "id": "_-BUqpGUHROI",
        "outputId": "66aafe8d-b986-4324-81a8-9af1c07dec95"
      },
      "source": [
        "hfd(tn2)"
      ],
      "execution_count": 188,
      "outputs": [
        {
          "output_type": "execute_result",
          "data": {
            "text/plain": [
              "1.4043072611248546"
            ]
          },
          "metadata": {
            "tags": []
          },
          "execution_count": 188
        }
      ]
    },
    {
      "cell_type": "code",
      "metadata": {
        "colab": {
          "base_uri": "https://localhost:8080/"
        },
        "id": "1lWXnMXxGF80",
        "outputId": "e85c70fa-52f4-4071-8103-fbc7bbd75510"
      },
      "source": [
        "hfd(tn3)"
      ],
      "execution_count": 189,
      "outputs": [
        {
          "output_type": "execute_result",
          "data": {
            "text/plain": [
              "1.120326192450034"
            ]
          },
          "metadata": {
            "tags": []
          },
          "execution_count": 189
        }
      ]
    },
    {
      "cell_type": "code",
      "metadata": {
        "colab": {
          "base_uri": "https://localhost:8080/",
          "height": 295
        },
        "id": "A-c21c1BGFvN",
        "outputId": "601a2b7d-3c70-4ced-d4e8-1e153fb3780b"
      },
      "source": [
        "#The Graphs\r\n",
        "\r\n",
        "x1 = k_interval_times1\r\n",
        "y1 = curve_length_list1\r\n",
        "x2 = k_interval_times2\r\n",
        "y2 = curve_length_list2\r\n",
        "x3 = k_interval_times3\r\n",
        "y3 = curve_length_list3\r\n",
        "plt.title(\"Tamil Nadu\") \r\n",
        "plt.xlabel(\"k\") \r\n",
        "plt.ylabel(\"<L(k)>\") \r\n",
        "plt.plot(x1,y1,label='Window 1') \r\n",
        "plt.plot(x2,y2,label='Window 2')\r\n",
        "plt.plot(x3,y3,label='Window 3')\r\n",
        "plt.legend()\r\n",
        "plt.show()"
      ],
      "execution_count": 190,
      "outputs": [
        {
          "output_type": "display_data",
          "data": {
            "image/png": "[encoded data removed]",
            "text/plain": [
              "<Figure size 432x288 with 1 Axes>"
            ]
          },
          "metadata": {
            "tags": [],
            "needs_background": "light"
          }
        }
      ]
    },
    {
      "cell_type": "code",
      "metadata": {
        "colab": {
          "base_uri": "https://localhost:8080/",
          "height": 907
        },
        "id": "0BXyzVSLFSwj",
        "outputId": "e3ef4079-eeb9-4c80-a566-32bf2440646c"
      },
      "source": [
        "a= tn[1:281:]\r\n",
        "n=int(280/2)\r\n",
        "k_interval_times, curve_length_list = curve_length(a, n1-1, n1)\r\n",
        "b=hfd(a)\r\n",
        "print(b)\r\n",
        "x = k_interval_times\r\n",
        "y = curve_length_list\r\n",
        "plt.title(\"Tamil Nadu\") \r\n",
        "plt.xlabel(\"k\") \r\n",
        "plt.ylabel(\"<L(k)>\") \r\n",
        "plt.plot(x,y) \r\n",
        "plt.show()\r\n",
        "print(k_interval_times, curve_length_list)"
      ],
      "execution_count": 191,
      "outputs": [
        {
          "output_type": "stream",
          "text": [
            "1.111560327530472\n"
          ],
          "name": "stdout"
        },
        {
          "output_type": "display_data",
          "data": {
            "image/png": "[encoded data removed]",
            "text/plain": [
              "<Figure size 432x288 with 1 Axes>"
            ]
          },
          "metadata": {
            "tags": [],
            "needs_background": "light"
          }
        },
        {
          "output_type": "stream",
          "text": [
            "[  2   3   4   5   6   7   8   9  10  11  12  13  14  15  16  17  18  19\n",
            "  20  21  22  23  24  25  26  27  28  29  30  31  32  33  34  35  36  37\n",
            "  38  39  40  41  42  43  44  45  46  47  48  49  50  51  52  53  54  55\n",
            "  56  57  58  59  60  61  62  63  64  65  66  67  68  69  70  71  72  73\n",
            "  74  75  76  77  78  79  80  81  82  83  84  85  86  87  88  89  90  91\n",
            "  92  93  94  95  96  97  98  99 100 101 102 103 104 105 106 107 108 109\n",
            " 110 111 112 113 114 115 116 117 118 119 120 121 122 123 124 125 126 127\n",
            " 128 129 130 131 132 133 134 135 136 137 138 139] [7399.17510314 4890.73295351 3622.21401376 2853.52059416 2345.63511032\n",
            " 1975.59892347 1695.71154964 1478.46888492 1303.37541582 1169.12611771\n",
            " 1057.49123483  964.67238254  885.25785472  820.80919944  765.681444\n",
            "  718.04489147  675.54372561  639.72063676  605.97141841  576.34188461\n",
            "  551.41859492  526.26905095  504.08026442  483.3809664   466.7049748\n",
            "  449.29081339  431.97932979  417.55023918  403.5341937   390.45337075\n",
            "  379.72221283  369.08731104  358.03241428  347.01334853  338.63174918\n",
            "  330.55862159  323.20662804  315.94397916  308.31853371  302.9291802\n",
            "  297.21299613  291.49060784  285.30008788  278.6698096   271.96762731\n",
            "  265.76488821  260.72860976  255.86167209  251.33128197  247.11985836\n",
            "  242.78569383  238.07821967  233.43605883  228.87214676  224.32850196\n",
            "  221.17058065  217.87100625  214.58237916  211.46490387  208.34216734\n",
            "  205.19115876  202.25641545  199.46852311  196.58336493  193.60269057\n",
            "  190.47891655  187.27361499  184.0597848   180.82750862  178.31682186\n",
            "  175.94967199  173.62319833  171.4509466   169.44247237  167.50650742\n",
            "  165.51709881  163.33391199  160.96233656  158.54704958  156.20691511\n",
            "  153.86338543  151.51078029  149.10312235  146.72187379  144.30423718\n",
            "  141.87605864  139.49575451  137.15954282  134.83398485  132.53720916\n",
            "  130.22427591  127.94060585  125.55229217  123.14902369  120.84279432\n",
            "  118.55828246  116.25557011  113.90846199  111.57819283  109.27602354\n",
            "  107.02459324  104.81330153  102.66383991  100.54770997   98.52730272\n",
            "   96.68350689   94.9663039    93.3123263    91.74233496   90.2114728\n",
            "   88.71573427   87.25357916   85.77916733   84.33577149   82.87027952\n",
            "   81.4671886    80.07848428   78.75929146   77.46926218   76.23445661\n",
            "   75.01348994   73.8051944    72.6320467    71.4746573    70.33682331\n",
            "   69.21485284   68.11679978   67.03693797   65.97268517   64.93289045\n",
            "   63.91980434   62.93367542   61.96362194   61.01666464   60.09230302\n",
            "   59.18836341   58.30353125   57.43581377]\n"
          ],
          "name": "stdout"
        }
      ]
    },
    {
      "cell_type": "markdown",
      "metadata": {
        "id": "hWygZNFpGRfK"
      },
      "source": [
        "#Kerala"
      ]
    },
    {
      "cell_type": "code",
      "metadata": {
        "colab": {
          "base_uri": "https://localhost:8080/"
        },
        "id": "6-v9i9dNGWb8",
        "outputId": "f293d529-5d23-48ab-d2ea-9ea5d08be9bf"
      },
      "source": [
        "#Inputs to higuchi algorithm \r\n",
        "kl1= kl[1:205:]\r\n",
        "kl2= kl[206:281:]\r\n",
        "print(kl1.shape)\r\n",
        "print(kl2.shape)\r\n",
        "n=int(280/2)\r\n",
        "k_interval_times1, curve_length_list1 = curve_length(kl1, n-1, n)\r\n",
        "k_interval_times2, curve_length_list2 = curve_length(kl2, n-1, n)\r\n",
        "print(k_interval_times1, curve_length_list1)\r\n",
        "print(k_interval_times2, curve_length_list2)"
      ],
      "execution_count": 192,
      "outputs": [
        {
          "output_type": "stream",
          "text": [
            "(204,)\n",
            "(75,)\n",
            "[  2   3   4   5   6   7   8   9  10  11  12  13  14  15  16  17  18  19\n",
            "  20  21  22  23  24  25  26  27  28  29  30  31  32  33  34  35  36  37\n",
            "  38  39  40  41  42  43  44  45  46  47  48  49  50  51  52  53  54  55\n",
            "  56  57  58  59  60  61  62  63  64  65  66  67  68  69  70  71  72  73\n",
            "  74  75  76  77  78  79  80  81  82  83  84  85  86  87  88  89  90  91\n",
            "  92  93  94  95  96  97  98  99 100 101] [5144.79620519 3246.48454047 2376.74454162 1847.26865019 1513.95812749\n",
            " 1287.45153405 1110.39425387  975.39081048  869.87915646  785.33104975\n",
            "  715.75869743  656.48983144  604.64001992  558.77306856  518.03445182\n",
            "  483.42287561  450.52807031  420.28685134  394.90084611  369.31818128\n",
            "  348.78294533  328.76670541  309.83241266  295.48533287  279.54924843\n",
            "  263.80804175  252.62386202  242.96584942  229.76587819  218.07821751\n",
            "  209.54569939  203.15207755  197.20494843  187.22424124  178.13789316\n",
            "  170.27456899  164.21266207  159.80152132  155.83698583  151.53428853\n",
            "  144.49207856  138.63541302  133.54765997  128.99055729  125.0976963\n",
            "  122.00398386  119.79567796  118.17153879  116.57179493  115.15908528\n",
            "  111.4769678   108.04302851  104.74138399  101.35315576   98.13513771\n",
            "   95.3000222    92.74117948   90.32983254   88.16404866   86.28285926\n",
            "   84.68797768   83.49906155   82.74238273   82.23764531   81.77493314\n",
            "   81.24050557   80.83404446   78.74191199   76.6907311    74.73564033\n",
            "   72.89584209   71.14620895   69.5005337    68.00904597   66.59221408\n",
            "   65.27925093   64.03789209   62.84948304   61.73144095   60.62282599\n",
            "   59.40988644   58.20998513   57.08201862   56.10099209   55.27224453\n",
            "   54.46319344   53.69181165   52.96785641   52.33599899   51.79093777\n",
            "   51.29916252   50.92850099   50.70755127   50.61429686   50.67910853\n",
            "   50.8316607    50.99245135   51.15850451   51.22805727   51.38239201]\n",
            "[ 2  3  4  5  6  7  8  9 10 11 12 13 14 15 16 17 18 19 20 21 22 23 24 25\n",
            " 26 27 28 29 30 31 32 33 34 35 36] [3320.44146826 1957.36199316 1385.34782034  995.2607348   756.54566517\n",
            "  619.12271751  509.79412369  439.25937828  384.71693881  341.24269617\n",
            "  304.45693896  276.21935108  247.25508124  227.75868784  208.98250908\n",
            "  190.47130065  173.94504459  164.80655241  158.29128572  153.36162402\n",
            "  147.10183894  140.45495819  134.42221947  129.10133029  124.55080792\n",
            "  120.96237508  116.87226677  112.64234462  109.01922752  105.68589747\n",
            "  101.59627425   97.63164506   93.17470051   88.58006498   84.58717605]\n"
          ],
          "name": "stdout"
        }
      ]
    },
    {
      "cell_type": "code",
      "metadata": {
        "colab": {
          "base_uri": "https://localhost:8080/"
        },
        "id": "K02qiwTRGXvg",
        "outputId": "549b1ed0-1056-4920-9334-b56f1c80ee7f"
      },
      "source": [
        "hfd(kl1)"
      ],
      "execution_count": 193,
      "outputs": [
        {
          "output_type": "execute_result",
          "data": {
            "text/plain": [
              "1.2455508571786043"
            ]
          },
          "metadata": {
            "tags": []
          },
          "execution_count": 193
        }
      ]
    },
    {
      "cell_type": "code",
      "metadata": {
        "colab": {
          "base_uri": "https://localhost:8080/"
        },
        "id": "D76J76veGXgv",
        "outputId": "d132e747-d961-4c1c-a7b3-a66b50214387"
      },
      "source": [
        "hfd(kl2)"
      ],
      "execution_count": 194,
      "outputs": [
        {
          "output_type": "execute_result",
          "data": {
            "text/plain": [
              "1.2499323196081578"
            ]
          },
          "metadata": {
            "tags": []
          },
          "execution_count": 194
        }
      ]
    },
    {
      "cell_type": "code",
      "metadata": {
        "colab": {
          "base_uri": "https://localhost:8080/",
          "height": 295
        },
        "id": "sXDoZAk1GXS3",
        "outputId": "4061ebf9-39e0-4c86-bf3b-e1eb685a8e74"
      },
      "source": [
        "#The Graphs\r\n",
        "\r\n",
        "x1 = k_interval_times1\r\n",
        "y1 = curve_length_list1\r\n",
        "x2 = k_interval_times2\r\n",
        "y2 = curve_length_list2\r\n",
        "plt.title(\"Kerala\") \r\n",
        "plt.xlabel(\"k\") \r\n",
        "plt.ylabel(\"<L(k)>\") \r\n",
        "plt.plot(x1,y1,label='Window 1') \r\n",
        "plt.plot(x2,y2,label='Window 2') \r\n",
        "plt.legend()\r\n",
        "plt.show()"
      ],
      "execution_count": 195,
      "outputs": [
        {
          "output_type": "display_data",
          "data": {
            "image/png": "[encoded data removed]",
            "text/plain": [
              "<Figure size 432x288 with 1 Axes>"
            ]
          },
          "metadata": {
            "tags": [],
            "needs_background": "light"
          }
        }
      ]
    },
    {
      "cell_type": "code",
      "metadata": {
        "colab": {
          "base_uri": "https://localhost:8080/",
          "height": 907
        },
        "id": "o29VdyBaFefc",
        "outputId": "4e21cb3d-d248-489b-a61c-c4fab2717e07"
      },
      "source": [
        "a= kl[1:281:]\r\n",
        "n=int(280/2)\r\n",
        "k_interval_times, curve_length_list = curve_length(a, n1-1, n1)\r\n",
        "b=hfd(a)\r\n",
        "print(b)\r\n",
        "x = k_interval_times\r\n",
        "y = curve_length_list\r\n",
        "plt.title(\"Kerala\") \r\n",
        "plt.xlabel(\"k\") \r\n",
        "plt.ylabel(\"<L(k)>\") \r\n",
        "plt.plot(x,y) \r\n",
        "plt.show()\r\n",
        "print(k_interval_times, curve_length_list)"
      ],
      "execution_count": 196,
      "outputs": [
        {
          "output_type": "stream",
          "text": [
            "1.1096244784619382\n"
          ],
          "name": "stdout"
        },
        {
          "output_type": "display_data",
          "data": {
            "image/png": "[encoded data removed]",
            "text/plain": [
              "<Figure size 432x288 with 1 Axes>"
            ]
          },
          "metadata": {
            "tags": [],
            "needs_background": "light"
          }
        },
        {
          "output_type": "stream",
          "text": [
            "[  2   3   4   5   6   7   8   9  10  11  12  13  14  15  16  17  18  19\n",
            "  20  21  22  23  24  25  26  27  28  29  30  31  32  33  34  35  36  37\n",
            "  38  39  40  41  42  43  44  45  46  47  48  49  50  51  52  53  54  55\n",
            "  56  57  58  59  60  61  62  63  64  65  66  67  68  69  70  71  72  73\n",
            "  74  75  76  77  78  79  80  81  82  83  84  85  86  87  88  89  90  91\n",
            "  92  93  94  95  96  97  98  99 100 101 102 103 104 105 106 107 108 109\n",
            " 110 111 112 113 114 115 116 117 118 119 120 121 122 123 124 125 126 127\n",
            " 128 129 130 131 132 133 134 135 136 137 138 139] [8634.5792658  5316.62066983 3855.62319478 2932.5956198  2372.07202392\n",
            " 1988.46670949 1676.1326747  1452.60594554 1289.02005398 1156.66735185\n",
            " 1047.14548447  957.39664201  878.83832891  811.02684605  755.05091691\n",
            "  704.08241838  657.74102469  619.13189943  584.92677034  558.23842844\n",
            "  531.43579875  508.02653937  484.94658697  464.66259117  447.18776969\n",
            "  429.20985753  410.97988815  397.73373481  384.52689634  368.78818195\n",
            "  355.32895712  344.65630717  334.78634864  324.1370152   315.61089472\n",
            "  306.78108951  298.24245324  290.52311656  282.64200179  277.98572921\n",
            "  272.26543088  265.83761753  259.01986138  251.549938    243.57940433\n",
            "  235.48602837  229.04960538  223.84978254  218.7805943   214.22352899\n",
            "  209.23194531  203.89342635  198.7752811   193.41756341  187.90002827\n",
            "  183.99789201  180.10771912  175.96943094  171.73419365  167.50810911\n",
            "  163.36061394  159.40220956  156.19529482  153.51131142  151.11540412\n",
            "  148.73775973  146.55117382  144.19591029  141.6454479   140.30945957\n",
            "  138.94779779  137.39976949  135.66781209  133.79398346  131.96856951\n",
            "  129.97378281  127.82163806  125.58824842  123.32705522  121.12675386\n",
            "  119.01953502  116.96427363  114.99582239  113.08902687  111.31827923\n",
            "  109.59221726  107.82517496  106.10677266  104.48464284  102.92658705\n",
            "  101.53177064  100.12792891   99.92428745  100.32077064  100.79605136\n",
            "  101.27691879  101.67830036  102.02489109  102.2010573   102.41073567\n",
            "  102.54576383  102.47310152  102.23571771  101.81936386  101.31031682\n",
            "  100.78766811  100.21904265   99.56769143   98.87035125   98.04103713\n",
            "   97.14872842   96.23000059   95.29934404   94.30354576   93.25610282\n",
            "   92.15608444   91.02824757   89.8910002    88.77615159   87.6633967\n",
            "   86.55300795   85.4804101    84.39752954   83.28201111   82.19548904\n",
            "   81.10256941   80.05728      79.0353672    78.00094984   76.94146727\n",
            "   75.8662197    74.78426938   73.72998831   72.70926552   71.71140396\n",
            "   70.75743635   69.82066158   68.88719726]\n"
          ],
          "name": "stdout"
        }
      ]
    },
    {
      "cell_type": "markdown",
      "metadata": {
        "id": "ETB_Scb8GdSg"
      },
      "source": [
        "#Delhi"
      ]
    },
    {
      "cell_type": "code",
      "metadata": {
        "colab": {
          "base_uri": "https://localhost:8080/"
        },
        "id": "UujGz9NtGik_",
        "outputId": "dc422134-384c-4a2c-9f1a-f5de0314c049"
      },
      "source": [
        "#Inputs to higuchi algorithm \r\n",
        "dl1= dl[1:96:]\r\n",
        "dl2= dl[96:134:]\r\n",
        "dl3= dl[134:179:]\r\n",
        "dl4= dl[179:237:]\r\n",
        "print(dl1.shape)\r\n",
        "print(dl2.shape)\r\n",
        "print(dl3.shape)\r\n",
        "print(dl4.shape)\r\n",
        "n2=int(280/2)\r\n",
        "k_interval_times1, curve_length_list1 = curve_length(dl1, n2-1, n2)\r\n",
        "k_interval_times2, curve_length_list2 = curve_length(dl2, n2-1, n2)\r\n",
        "k_interval_times3, curve_length_list3 = curve_length(dl3, n2-1, n2)\r\n",
        "k_interval_times4, curve_length_list4 = curve_length(dl4, n2-1, n2)\r\n",
        "print(k_interval_times1, curve_length_list1)\r\n",
        "print(k_interval_times2, curve_length_list2)\r\n",
        "print(k_interval_times3, curve_length_list3)\r\n",
        "print(k_interval_times4, curve_length_list4)"
      ],
      "execution_count": 17,
      "outputs": [
        {
          "output_type": "stream",
          "text": [
            "(95,)\n",
            "(38,)\n",
            "(45,)\n",
            "(58,)\n",
            "[ 2  3  4  5  6  7  8  9 10 11 12 13 14 15 16 17 18 19 20 21 22 23 24 25\n",
            " 26 27 28 29 30 31 32 33 34 35 36 37 38 39 40 41 42 43 44 45 46] [1822.36154225 1199.15324569  884.04678973  689.34328042  561.62582304\n",
            "  471.17852604  403.40188378  349.83444596  307.30452646  273.46097124\n",
            "  247.25660588  222.75007044  203.67960803  186.14166255  173.21753395\n",
            "  158.34380312  147.77768306  140.84761766  130.38485416  122.01957003\n",
            "  115.61512781  111.22406235  107.276602    101.28356165   95.57445127\n",
            "   90.4227014    86.2133956    82.70640875   80.03820929   78.19407374\n",
            "   75.63051641   71.56181386   68.00002302   64.94130223   62.39304494\n",
            "   60.09064569   57.9743021    55.95155089   54.01534449   52.42967276\n",
            "   51.15724801   50.08928474   49.28688542   48.74395819   48.50375185]\n",
            "[ 2  3  4  5  6  7  8  9 10 11 12 13 14 15 16 17 18] [1223.45932546  812.70823292  601.50006184  474.53229931  390.67056876\n",
            "  330.60370677  287.80129277  254.61880265  227.82573807  206.1097635\n",
            "  189.48429231  175.38490797  162.50007808  150.6733968   140.4869559\n",
            "  132.34458141  125.97573729]\n",
            "[ 2  3  4  5  6  7  8  9 10 11 12 13 14 15 16 17 18 19 20 21] [1782.2959182  1188.03325773  890.60535712  706.25028567  581.3939279\n",
            "  494.76329303  426.29481024  371.10288063  327.81047618  294.92404564\n",
            "  266.17950838  244.72562152  228.07857837  212.78306878  197.01708983\n",
            "  183.52353813  171.59719772  162.37469019  154.90278571  148.61462045]\n",
            "[ 2  3  4  5  6  7  8  9 10 11 12 13 14 15 16 17 18 19 20 21 22 23 24 25\n",
            " 26 27 28] [3202.36033196 2140.44709016 1608.03602106 1282.8180157  1065.90795865\n",
            "  910.72693674  792.50554052  694.82288852  619.1726786   558.38342815\n",
            "  505.76583168  462.0487678   423.74436432  382.66241269  348.03822544\n",
            "  320.71802215  298.78737997  280.38148002  256.07860715  233.32393911\n",
            "  214.3441961   197.26568353  183.24962798  171.78353829  163.37093602\n",
            "  156.56724803  151.01843308]\n"
          ],
          "name": "stdout"
        }
      ]
    },
    {
      "cell_type": "code",
      "metadata": {
        "colab": {
          "base_uri": "https://localhost:8080/"
        },
        "id": "lN8eDtFZGi-f",
        "outputId": "ddc0ffd9-6cfd-43c3-ca5f-b9cb2b07b063"
      },
      "source": [
        "hfd(dl1)"
      ],
      "execution_count": 18,
      "outputs": [
        {
          "output_type": "execute_result",
          "data": {
            "text/plain": [
              "1.2002487024506796"
            ]
          },
          "metadata": {
            "tags": []
          },
          "execution_count": 18
        }
      ]
    },
    {
      "cell_type": "code",
      "metadata": {
        "colab": {
          "base_uri": "https://localhost:8080/"
        },
        "id": "2qgsW_dvGssF",
        "outputId": "36f44e60-a383-44bf-d8d9-a3cb8b204c95"
      },
      "source": [
        "hfd(dl2)"
      ],
      "execution_count": 19,
      "outputs": [
        {
          "output_type": "execute_result",
          "data": {
            "text/plain": [
              "1.0420678189719943"
            ]
          },
          "metadata": {
            "tags": []
          },
          "execution_count": 19
        }
      ]
    },
    {
      "cell_type": "code",
      "metadata": {
        "colab": {
          "base_uri": "https://localhost:8080/"
        },
        "id": "vhNshGsVGsdm",
        "outputId": "97df8896-c3a4-418d-ae9b-ef718ceb9cd9"
      },
      "source": [
        "hfd(dl3)"
      ],
      "execution_count": 20,
      "outputs": [
        {
          "output_type": "execute_result",
          "data": {
            "text/plain": [
              "1.0768556794243753"
            ]
          },
          "metadata": {
            "tags": []
          },
          "execution_count": 20
        }
      ]
    },
    {
      "cell_type": "code",
      "metadata": {
        "colab": {
          "base_uri": "https://localhost:8080/"
        },
        "id": "Dhh45XvwGrc7",
        "outputId": "07f83a86-8570-492b-d411-6861043ae4e5"
      },
      "source": [
        "hfd(dl4)"
      ],
      "execution_count": 21,
      "outputs": [
        {
          "output_type": "execute_result",
          "data": {
            "text/plain": [
              "1.1814590154612137"
            ]
          },
          "metadata": {
            "tags": []
          },
          "execution_count": 21
        }
      ]
    },
    {
      "cell_type": "code",
      "metadata": {
        "colab": {
          "base_uri": "https://localhost:8080/",
          "height": 295
        },
        "id": "lwVXzSP4GjyM",
        "outputId": "963cbd99-e847-4d47-eeb9-67abf7778f38"
      },
      "source": [
        "#The Graphs\r\n",
        "\r\n",
        "x1 = k_interval_times1\r\n",
        "y1 = curve_length_list1\r\n",
        "x2 = k_interval_times2\r\n",
        "y2 = curve_length_list2\r\n",
        "x3 = k_interval_times3\r\n",
        "y3 = curve_length_list3\r\n",
        "x4 = k_interval_times4\r\n",
        "y4 = curve_length_list4\r\n",
        "plt.title(\"Delhi\") \r\n",
        "plt.xlabel(\"k\") \r\n",
        "plt.ylabel(\"<L(k)>\") \r\n",
        "plt.plot(x1,y1,label='Window 1') \r\n",
        "plt.plot(x2,y2,label='Window 2')\r\n",
        "plt.plot(x3,y3,label='Window 3')\r\n",
        "plt.plot(x4,y4,label='Window 4')\r\n",
        "plt.legend()\r\n",
        "plt.show()"
      ],
      "execution_count": 22,
      "outputs": [
        {
          "output_type": "display_data",
          "data": {
            "image/png": "[encoded data removed]",
            "text/plain": [
              "<Figure size 432x288 with 1 Axes>"
            ]
          },
          "metadata": {
            "tags": [],
            "needs_background": "light"
          }
        }
      ]
    },
    {
      "cell_type": "code",
      "metadata": {
        "colab": {
          "base_uri": "https://localhost:8080/",
          "height": 1000
        },
        "id": "rpbp-fBSFlDL",
        "outputId": "21c87ca4-b9e8-44ad-df6c-13e2490f1142"
      },
      "source": [
        "a= dl[1:281:]\r\n",
        "n=int(280/2)\r\n",
        "k_interval_times, curve_length_list = curve_length(a, n1-1, n1)\r\n",
        "b=hfd(a)\r\n",
        "print(b)\r\n",
        "x = k_interval_times\r\n",
        "y = curve_length_list\r\n",
        "plt.title(\"Delhi\") \r\n",
        "plt.xlabel(\"k\") \r\n",
        "plt.ylabel(\"<L(k)>\") \r\n",
        "plt.plot(x,y) \r\n",
        "plt.show()\r\n",
        "print(k_interval_times, curve_length_list)"
      ],
      "execution_count": 23,
      "outputs": [
        {
          "output_type": "stream",
          "text": [
            "1.5364305715775382\n"
          ],
          "name": "stdout"
        },
        {
          "output_type": "display_data",
          "data": {
            "image/png": "[encoded data removed]",
            "text/plain": [
              "<Figure size 432x288 with 1 Axes>"
            ]
          },
          "metadata": {
            "tags": [],
            "needs_background": "light"
          }
        },
        {
          "output_type": "stream",
          "text": [
            "[  2   3   4   5   6   7   8   9  10  11  12  13  14  15  16  17  18  19\n",
            "  20  21  22  23  24  25  26  27  28  29  30  31  32  33  34  35  36  37\n",
            "  38  39  40  41  42  43  44  45  46  47  48  49  50  51  52  53  54  55\n",
            "  56  57  58  59  60  61  62  63  64  65  66  67  68  69  70  71  72  73\n",
            "  74  75  76  77  78  79  80  81  82  83  84  85  86  87  88  89  90  91\n",
            "  92  93  94  95  96  97  98  99 100 101 102 103 104 105 106 107 108 109\n",
            " 110 111 112 113 114 115 116 117 118 119 120 121 122 123 124 125 126 127\n",
            " 128 129 130 131 132 133 134 135 136 137 138 139] [11718.68101197  7646.96035165  5635.68567533  4398.80086445\n",
            "  3607.94805035  3042.78829969  2624.9750656   2301.07729175\n",
            "  2040.75174919  1829.14682825  1654.71972948  1507.62632624\n",
            "  1381.46307623  1271.36750258  1179.8336958   1101.41126891\n",
            "  1024.55739612   957.73755799   898.60830987   844.52755065\n",
            "   792.95157165   747.32098351   706.47882197   665.76048074\n",
            "   631.41883054   598.5262907    563.24475305   529.70949862\n",
            "   504.06676314   478.89323992   451.19937711   427.11061202\n",
            "   407.0989557    387.72241499   367.09743506   346.87416487\n",
            "   330.82361086   316.41035002   302.1632       285.7695181\n",
            "   270.49728392   256.08208298   243.88129964   234.37311683\n",
            "   227.16604105   221.38265843   214.58799871   207.29352671\n",
            "   199.56691334   191.18721755   182.52787219   174.09846587\n",
            "   166.59657388   159.96867534   154.35892182   148.81172588\n",
            "   143.93944698   139.69057634   135.54970198   131.87460838\n",
            "   128.64376115   125.19380522   121.25586409   116.95271209\n",
            "   112.54849305   108.34559789   104.47636641   101.09655352\n",
            "    98.06107214    94.95085877    92.11127558    89.63021161\n",
            "    87.52036852    85.70296557    84.13981246    82.85064394\n",
            "    82.00978132    81.67704039    81.13644704    80.4989107\n",
            "    79.89286613    79.08994363    78.08437546    76.86247825\n",
            "    75.46747652    74.07009681    72.84606384    71.69340824\n",
            "    70.57441107    69.41685677    68.21974319    66.95558694\n",
            "    65.05450043    63.09000992    61.38481702    59.88012469\n",
            "    58.57090663    57.3289856     56.13335983    54.97117365\n",
            "    53.8249292     52.68714056    51.58018675    50.52156864\n",
            "    49.56240636    48.61020818    47.70844955    46.90021523\n",
            "    46.19967997    45.58948971    45.09143029    44.65207751\n",
            "    44.29702317    44.07254243    43.93620636    43.87326904\n",
            "    43.84218195    43.70730755    43.52316657    43.37987025\n",
            "    43.22440659    43.11560328    42.9347622     42.69566254\n",
            "    42.40347313    42.05029366    41.63569105    41.15898862\n",
            "    40.62204563    40.05533665    39.44740342    38.82819159\n",
            "    38.19399683    37.54724482    36.8903738     36.22886391\n",
            "    35.56113476    34.92070927]\n"
          ],
          "name": "stdout"
        }
      ]
    },
    {
      "cell_type": "markdown",
      "metadata": {
        "id": "a5iglEvRGuav"
      },
      "source": [
        "#Uttar Pradesh"
      ]
    },
    {
      "cell_type": "code",
      "metadata": {
        "colab": {
          "base_uri": "https://localhost:8080/"
        },
        "id": "o8dzVA3aGxAd",
        "outputId": "756b0203-3c48-4b82-9969-0ed24c61a2c3"
      },
      "source": [
        "#Inputs to higuchi algorithm \r\n",
        "up1= up[1:174:]\r\n",
        "up2= up[174:280:]\r\n",
        "print(up1.shape)\r\n",
        "print(up2.shape)\r\n",
        "n1=int(280/2)\r\n",
        "n2=int(280/2)\r\n",
        "k_interval_times1, curve_length_list1 = curve_length(up1, n1-1, n1)\r\n",
        "k_interval_times2, curve_length_list2 = curve_length(up2, n2-1, n2)\r\n",
        "print(k_interval_times1, curve_length_list1)\r\n",
        "print(k_interval_times2, curve_length_list2)"
      ],
      "execution_count": 206,
      "outputs": [
        {
          "output_type": "stream",
          "text": [
            "(173,)\n",
            "(106,)\n",
            "[ 2  3  4  5  6  7  8  9 10 11 12 13 14 15 16 17 18 19 20 21 22 23 24 25\n",
            " 26 27 28 29 30 31 32 33 34 35 36 37 38 39 40 41 42 43 44 45 46 47 48 49\n",
            " 50 51 52 53 54 55 56 57 58 59 60 61 62 63 64 65 66 67 68 69 70 71 72 73\n",
            " 74 75 76 77 78 79 80 81 82 83 84 85] [3510.99607843 2307.68191025 1708.47056415 1348.1347211  1105.25727304\n",
            "  934.10437762  806.42844301  711.43377374  637.56467969  578.10294437\n",
            "  529.07361426  487.97991667  453.0287315   422.63865371  396.30004309\n",
            "  372.5574492   351.86546621  333.0804232   316.26407491  300.64646535\n",
            "  286.6940503   273.76170203  261.88428898  251.38831563  241.26594129\n",
            "  232.41052169  224.2628893   217.23992682  210.34707845  203.87563371\n",
            "  197.99631097  192.34316731  186.85047696  182.09124931  177.74032901\n",
            "  173.11289285  168.55702067  164.28992846  160.24718497  156.44961664\n",
            "  152.78257233  149.44986822  146.41896652  143.3595099   140.3258336\n",
            "  137.37373365  134.47936824  131.43255265  128.28777148  125.25065384\n",
            "  122.39904596  119.69940162  117.11728339  114.59214543  112.23359086\n",
            "  110.03871496  107.63844873  104.73127317  101.95958272   99.36455164\n",
            "   97.01273459   94.8833454    93.04108378   91.41066809   89.94194159\n",
            "   88.52924589   87.14872762   85.78939958   84.48834613   83.2927887\n",
            "   82.11643391   80.92457108   79.67222329   78.46172548   77.30083944\n",
            "   76.23149729   75.24266649   74.29926206   73.40807228   72.5492611\n",
            "   71.69740279   70.89494741   70.13264657   69.44212266]\n",
            "[ 2  3  4  5  6  7  8  9 10 11 12 13 14 15 16 17 18 19 20 21 22 23 24 25\n",
            " 26 27 28 29 30 31 32 33 34 35 36 37 38 39 40 41 42 43 44 45 46 47 48 49\n",
            " 50 51 52] [3393.20673108 2241.11546884 1660.69014429 1315.09236197 1080.0551301\n",
            "  916.3643621   791.75240392  699.12015217  621.52823339  559.80097467\n",
            "  507.04993388  461.6767833   419.49586111  387.26510054  355.76375325\n",
            "  329.3607436   306.67036179  286.29330806  269.1056      253.47629846\n",
            "  235.32175057  219.27383497  207.63932292  198.638384    190.20630405\n",
            "  179.38866874  167.56182429  157.20969153  148.00137655  140.22589597\n",
            "  133.8876241   128.49089147  123.62150587  119.98970652  113.63280179\n",
            "  106.50834107  100.34283424   95.29193008   91.04600782   87.61421773\n",
            "   84.53412834   81.82486448   79.35723845   77.30139369   75.76204591\n",
            "   74.68366355   74.05279767   73.66209658   73.327316     73.10293176\n",
            "   72.95030866]\n"
          ],
          "name": "stdout"
        }
      ]
    },
    {
      "cell_type": "code",
      "metadata": {
        "colab": {
          "base_uri": "https://localhost:8080/"
        },
        "id": "Qh3hOtzgG0Nq",
        "outputId": "173b79af-f82d-4a45-dc30-6a55856d31cd"
      },
      "source": [
        "hfd(up1)"
      ],
      "execution_count": 207,
      "outputs": [
        {
          "output_type": "execute_result",
          "data": {
            "text/plain": [
              "1.03863108576431"
            ]
          },
          "metadata": {
            "tags": []
          },
          "execution_count": 207
        }
      ]
    },
    {
      "cell_type": "code",
      "metadata": {
        "colab": {
          "base_uri": "https://localhost:8080/"
        },
        "id": "lHDyoOIuG0CM",
        "outputId": "c294a591-ea4c-4f04-d08e-c869e95b2617"
      },
      "source": [
        "hfd(up2)"
      ],
      "execution_count": 208,
      "outputs": [
        {
          "output_type": "execute_result",
          "data": {
            "text/plain": [
              "1.2628605340538936"
            ]
          },
          "metadata": {
            "tags": []
          },
          "execution_count": 208
        }
      ]
    },
    {
      "cell_type": "code",
      "metadata": {
        "colab": {
          "base_uri": "https://localhost:8080/",
          "height": 295
        },
        "id": "PWzHISS6Gz0q",
        "outputId": "140424c5-f179-4093-9b66-051ae2441c9c"
      },
      "source": [
        "#The Graphs\r\n",
        "\r\n",
        "x1 = k_interval_times1\r\n",
        "y1 = curve_length_list1\r\n",
        "x2 = k_interval_times2\r\n",
        "y2 = curve_length_list2\r\n",
        "plt.title(\"Uttar Pradesh\") \r\n",
        "plt.xlabel(\"k\") \r\n",
        "plt.ylabel(\"<L(k)>\") \r\n",
        "plt.plot(x1,y1,label='Window 1') \r\n",
        "plt.plot(x2,y2,label='Window 2') \r\n",
        "plt.legend()\r\n",
        "plt.show()"
      ],
      "execution_count": 209,
      "outputs": [
        {
          "output_type": "display_data",
          "data": {
            "image/png": "[encoded data removed]",
            "text/plain": [
              "<Figure size 432x288 with 1 Axes>"
            ]
          },
          "metadata": {
            "tags": [],
            "needs_background": "light"
          }
        }
      ]
    },
    {
      "cell_type": "code",
      "metadata": {
        "colab": {
          "base_uri": "https://localhost:8080/",
          "height": 907
        },
        "id": "JGfeNfqwFuGy",
        "outputId": "72ad54c8-e65d-4435-fabe-91e1975ddb68"
      },
      "source": [
        "a= up[1:281:]\r\n",
        "n=int(280/2)\r\n",
        "k_interval_times, curve_length_list = curve_length(a, n1-1, n1)\r\n",
        "b=hfd(a)\r\n",
        "print(b)\r\n",
        "x = k_interval_times\r\n",
        "y = curve_length_list\r\n",
        "plt.title(\"Uttar Pradesh\") \r\n",
        "plt.xlabel(\"k\") \r\n",
        "plt.ylabel(\"<L(k)>\") \r\n",
        "plt.plot(x,y) \r\n",
        "plt.show()\r\n",
        "print(k_interval_times, curve_length_list)"
      ],
      "execution_count": 210,
      "outputs": [
        {
          "output_type": "stream",
          "text": [
            "1.1881738071708319\n"
          ],
          "name": "stdout"
        },
        {
          "output_type": "display_data",
          "data": {
            "image/png": "[encoded data removed]",
            "text/plain": [
              "<Figure size 432x288 with 1 Axes>"
            ]
          },
          "metadata": {
            "tags": [],
            "needs_background": "light"
          }
        },
        {
          "output_type": "stream",
          "text": [
            "[  2   3   4   5   6   7   8   9  10  11  12  13  14  15  16  17  18  19\n",
            "  20  21  22  23  24  25  26  27  28  29  30  31  32  33  34  35  36  37\n",
            "  38  39  40  41  42  43  44  45  46  47  48  49  50  51  52  53  54  55\n",
            "  56  57  58  59  60  61  62  63  64  65  66  67  68  69  70  71  72  73\n",
            "  74  75  76  77  78  79  80  81  82  83  84  85  86  87  88  89  90  91\n",
            "  92  93  94  95  96  97  98  99 100 101 102 103 104 105 106 107 108 109\n",
            " 110 111 112 113 114 115 116 117 118 119 120 121 122 123 124 125 126 127\n",
            " 128 129 130 131 132 133 134 135 136 137 138 139] [6942.0485615  4552.68581828 3366.09336193 2665.56841569 2195.05227175\n",
            " 1863.97369689 1612.29026895 1423.4773467  1273.61679371 1150.11339223\n",
            " 1049.62406286  962.6012861   888.5833096   825.47326156  770.16788874\n",
            "  719.52016553  678.96060756  639.23032019  604.18165385  572.65767647\n",
            "  545.09070938  519.15641522  493.03128101  472.06759805  452.64666428\n",
            "  433.15068986  415.19403807  399.78232966  384.5384817   368.64950944\n",
            "  353.71228315  340.33188926  328.56899068  318.36453668  310.38765865\n",
            "  301.82877357  292.1234753   282.82079511  274.13189286  267.32441947\n",
            "  260.54850371  254.44219647  248.59639419  242.69185718  236.70772523\n",
            "  230.86088941  225.96657172  221.11439615  216.09939686  211.36104052\n",
            "  207.14305851  203.2017905   199.46475385  195.79684778  192.20312947\n",
            "  190.82841337  189.37256623  187.54716124  185.37735516  182.80429876\n",
            "  179.62863739  176.09207498  172.34554359  168.52843306  164.70045086\n",
            "  160.97371162  157.45170918  154.04373788  150.75771262  148.64609857\n",
            "  146.47905663  144.23296264  141.89758733  139.51001972  137.08968128\n",
            "  134.59807615  132.16323049  129.79462824  127.51990988  125.25431233\n",
            "  122.96787173  120.75331398  118.61844035  116.63067326  114.79126231\n",
            "  112.98518761  111.1913791   109.43419326  107.65465618  105.85589831\n",
            "  104.00582647  102.10950894  100.56244591   99.1744655    97.7080301\n",
            "   96.22539288   94.73286739   93.21199246   91.66327114   90.10457332\n",
            "   88.51797689   86.92336754   85.32344247   83.72567912   82.1102278\n",
            "   80.51181813   78.91418685   77.33912506   75.77912901   74.2445832\n",
            "   72.74719325   71.28207053   69.86466715   68.48041771   67.12613067\n",
            "   65.78808591   64.4764019    63.18124216   61.89337599   60.65717164\n",
            "   59.50976022   58.42890745   57.36385438   56.32759548   55.31086413\n",
            "   54.33575023   53.39795034   52.47598105   51.58724937   50.71718662\n",
            "   49.87455773   49.05791155   48.2638094    47.48851438   46.73186103\n",
            "   45.99454565   45.27500779   44.57913805]\n"
          ],
          "name": "stdout"
        }
      ]
    },
    {
      "cell_type": "markdown",
      "metadata": {
        "id": "aLLCBkPkG2Vx"
      },
      "source": [
        "#West Bengal"
      ]
    },
    {
      "cell_type": "code",
      "metadata": {
        "colab": {
          "base_uri": "https://localhost:8080/"
        },
        "id": "yprKycV3G5dl",
        "outputId": "e64928fc-1fee-4c87-9cf5-77088e6b1a4a"
      },
      "source": [
        "#Inputs to higuchi algorithm\r\n",
        "wb1= wb[1:70:] \r\n",
        "wb2= wb[70:218:]\r\n",
        "wb3= wb[218:280:]\r\n",
        "print(wb1.shape)\r\n",
        "print(wb2.shape)\r\n",
        "print(wb3.shape)\r\n",
        "n1=int(280/2)\r\n",
        "n2=int(280/2)\r\n",
        "k_interval_times1, curve_length_list1 = curve_length(wb1, n1-1, n1)\r\n",
        "k_interval_times2, curve_length_list2 = curve_length(wb2, n2-1, n2)\r\n",
        "k_interval_times3, curve_length_list3 = curve_length(wb3, n2-1, n2)\r\n",
        "print(k_interval_times1, curve_length_list1)\r\n",
        "print(k_interval_times2, curve_length_list2)\r\n",
        "print(k_interval_times3, curve_length_list3)"
      ],
      "execution_count": 211,
      "outputs": [
        {
          "output_type": "stream",
          "text": [
            "(69,)\n",
            "(148,)\n",
            "(62,)\n",
            "[ 2  3  4  5  6  7  8  9 10 11 12 13 14 15 16 17 18 19 20 21 22 23 24 25\n",
            " 26 27 28 29 30 31 32 33] [157.21269832  94.33868844  65.21041666  48.43562783  38.57599006\n",
            "  31.74342943  26.93204852  23.14676521  20.51840635  17.89021263\n",
            "  16.25066578  14.55509808  13.5039428   12.36582998  11.52120768\n",
            "  10.9998572   10.56269406  10.01951046   9.54429921   9.11709764\n",
            "   8.74466149   8.61109246   8.59856702   8.4806595    8.27630318\n",
            "   7.98333684   7.65224212   7.34108546   6.9715351    6.63290511\n",
            "   6.34113479   6.11133823]\n",
            "[ 2  3  4  5  6  7  8  9 10 11 12 13 14 15 16 17 18 19 20 21 22 23 24 25\n",
            " 26 27 28 29 30 31 32 33 34 35 36 37 38 39 40 41 42 43 44 45 46 47 48 49\n",
            " 50 51 52 53 54 55 56 57 58 59 60 61 62 63 64 65 66 67 68 69 70 71 72 73] [2215.64383655 1461.86805562 1084.17057305  858.68772427  709.18943743\n",
            "  604.07711375  524.02969902  461.42302814  411.75196156  371.79100447\n",
            "  337.57976906  309.05774818  285.56386054  264.55125926  246.47022502\n",
            "  231.6370344   217.42444702  205.04541479  193.9186875   184.21709319\n",
            "  175.7653456   167.97290211  161.0047092   155.083824    149.75744481\n",
            "  144.59187624  139.62206633  135.05133667  131.09723148  127.66065255\n",
            "  124.23771668  120.87286084  117.58963464  114.38787755  111.40575167\n",
            "  108.62637948  106.78284918  104.85025034  102.80446094  100.68417464\n",
            "   98.50543273   96.28431459   94.05300878   91.83938546   89.63866915\n",
            "   87.47734606   85.39481608   83.39302077   81.28092      79.27016758\n",
            "   77.45295787   75.76352627   74.25217193   72.90316454   71.65842235\n",
            "   70.47903809   69.35665669   68.28545518   67.26577084   66.27909605\n",
            "   65.32294569   64.37986059   63.42657852   62.46281293   61.47402747\n",
            "   60.48234324   59.48733272   58.49337005   57.52527551   56.59358332\n",
            "   55.71049945   54.87427285]\n",
            "[ 2  3  4  5  6  7  8  9 10 11 12 13 14 15 16 17 18 19 20 21 22 23 24 25\n",
            " 26 27 28 29 30] [1418.28146863  921.0154619   674.85667663  528.94950247  430.61293213\n",
            "  360.15345592  309.03951555  271.02836454  242.88699204  220.29775391\n",
            "  201.40753333  185.37742267  171.15166249  159.51975519  149.09376007\n",
            "  139.45007284  131.24491611  123.9575557   117.46797837  110.52673937\n",
            "  103.25784765   97.31604143   92.18139191   87.70611138   83.90694642\n",
            "   80.86378697   78.34637216   75.90187281   73.83821922]\n"
          ],
          "name": "stdout"
        }
      ]
    },
    {
      "cell_type": "code",
      "metadata": {
        "colab": {
          "base_uri": "https://localhost:8080/"
        },
        "id": "k_6Tx1yxll_u",
        "outputId": "a947747c-c56a-48a3-a328-1ccd014cef53"
      },
      "source": [
        "hfd(wb1)"
      ],
      "execution_count": 212,
      "outputs": [
        {
          "output_type": "execute_result",
          "data": {
            "text/plain": [
              "1.121139589321594"
            ]
          },
          "metadata": {
            "tags": []
          },
          "execution_count": 212
        }
      ]
    },
    {
      "cell_type": "code",
      "metadata": {
        "colab": {
          "base_uri": "https://localhost:8080/"
        },
        "id": "mbhE5UBWG6Ee",
        "outputId": "f82df683-f4ca-4d56-b35b-c61767f5886b"
      },
      "source": [
        "hfd(wb2)"
      ],
      "execution_count": 213,
      "outputs": [
        {
          "output_type": "execute_result",
          "data": {
            "text/plain": [
              "1.015165157270153"
            ]
          },
          "metadata": {
            "tags": []
          },
          "execution_count": 213
        }
      ]
    },
    {
      "cell_type": "code",
      "metadata": {
        "colab": {
          "base_uri": "https://localhost:8080/"
        },
        "id": "fcAOOTKGG58W",
        "outputId": "bf14bd94-0ef8-48ee-9df4-af6c08d97c70"
      },
      "source": [
        "hfd(wb3)"
      ],
      "execution_count": 214,
      "outputs": [
        {
          "output_type": "execute_result",
          "data": {
            "text/plain": [
              "1.0977320347276127"
            ]
          },
          "metadata": {
            "tags": []
          },
          "execution_count": 214
        }
      ]
    },
    {
      "cell_type": "code",
      "metadata": {
        "colab": {
          "base_uri": "https://localhost:8080/",
          "height": 295
        },
        "id": "Tfg3LsDhG5j9",
        "outputId": "fc7bd011-4c04-4c40-984c-ffe3a8383e71"
      },
      "source": [
        "#The Graphs\r\n",
        "\r\n",
        "x1 = k_interval_times1\r\n",
        "y1 = curve_length_list1\r\n",
        "x2 = k_interval_times2\r\n",
        "y2 = curve_length_list2\r\n",
        "x3 = k_interval_times3\r\n",
        "y3 = curve_length_list3\r\n",
        "plt.title(\"West Bengal\") \r\n",
        "plt.xlabel(\"k\") \r\n",
        "plt.ylabel(\"<L(k)>\") \r\n",
        "plt.plot(x1,y1,label='Window 1') \r\n",
        "plt.plot(x2,y2,label='Window 2') \r\n",
        "plt.plot(x3,y3,label='Window 3') \r\n",
        "plt.legend()\r\n",
        "plt.show()"
      ],
      "execution_count": 89,
      "outputs": [
        {
          "output_type": "display_data",
          "data": {
            "image/png": "[encoded data removed]",
            "text/plain": [
              "<Figure size 432x288 with 1 Axes>"
            ]
          },
          "metadata": {
            "tags": [],
            "needs_background": "light"
          }
        }
      ]
    },
    {
      "cell_type": "code",
      "metadata": {
        "colab": {
          "base_uri": "https://localhost:8080/",
          "height": 907
        },
        "id": "EsNr2XnTF0Cl",
        "outputId": "2b0be7a5-7e8d-439c-c76e-acbcf9e9c2c7"
      },
      "source": [
        "a= wb[1:281:]\r\n",
        "n=int(280/2)\r\n",
        "k_interval_times, curve_length_list = curve_length(a, n1-1, n1)\r\n",
        "b=hfd(a)\r\n",
        "print(b)\r\n",
        "x = k_interval_times\r\n",
        "y = curve_length_list\r\n",
        "plt.title(\"West Bengal\") \r\n",
        "plt.xlabel(\"k\") \r\n",
        "plt.ylabel(\"<L(k)>\") \r\n",
        "plt.plot(x,y) \r\n",
        "plt.show()\r\n",
        "print(k_interval_times, curve_length_list)"
      ],
      "execution_count": 215,
      "outputs": [
        {
          "output_type": "stream",
          "text": [
            "1.0654088520100284\n"
          ],
          "name": "stdout"
        },
        {
          "output_type": "display_data",
          "data": {
            "image/png": "[encoded data removed]",
            "text/plain": [
              "<Figure size 432x288 with 1 Axes>"
            ]
          },
          "metadata": {
            "tags": [],
            "needs_background": "light"
          }
        },
        {
          "output_type": "stream",
          "text": [
            "[  2   3   4   5   6   7   8   9  10  11  12  13  14  15  16  17  18  19\n",
            "  20  21  22  23  24  25  26  27  28  29  30  31  32  33  34  35  36  37\n",
            "  38  39  40  41  42  43  44  45  46  47  48  49  50  51  52  53  54  55\n",
            "  56  57  58  59  60  61  62  63  64  65  66  67  68  69  70  71  72  73\n",
            "  74  75  76  77  78  79  80  81  82  83  84  85  86  87  88  89  90  91\n",
            "  92  93  94  95  96  97  98  99 100 101 102 103 104 105 106 107 108 109\n",
            " 110 111 112 113 114 115 116 117 118 119 120 121 122 123 124 125 126 127\n",
            " 128 129 130 131 132 133 134 135 136 137 138 139] [3806.83743693 2496.87287808 1837.98109491 1446.82530087 1187.91704049\n",
            " 1003.51210076  865.30021993  759.31407405  676.95054285  609.62995266\n",
            "  553.19512398  506.0299123   465.61698961  430.55276911  400.58098539\n",
            "  374.31600854  350.34759868  329.67278354  311.11198022  293.80512998\n",
            "  279.04543966  265.3437783   252.83229588  241.91589393  231.62117952\n",
            "  221.87119457  213.52694449  204.90368915  196.71308743  189.8854913\n",
            "  183.02397966  176.53145095  170.48821582  164.84906317  159.35547786\n",
            "  154.44149472  149.80841706  145.59978273  141.55693995  137.08896313\n",
            "  133.01674071  129.5861872   126.45437808  123.46374556  120.71974691\n",
            "  118.05541907  115.09677304  112.1096371   109.21750899  106.4346043\n",
            "  103.90192314  101.66958872   99.76885476   98.05755021   96.44274045\n",
            "   94.84863139   93.20457107   91.53341185   89.74620248   87.94361919\n",
            "   86.19248736   84.42022665   82.60923639   80.87374336   79.277413\n",
            "   77.84236421   76.57542417   75.45174274   74.47868396   73.84250342\n",
            "   73.25529032   72.6652894    72.02892569   71.35117145   70.65464015\n",
            "   69.92926851   69.18388342   68.40638025   67.5582827    66.69523769\n",
            "   65.85908626   65.01950319   64.16220122   63.27107446   62.36133683\n",
            "   61.46582795   60.62889759   59.85035354   59.12375038   58.43604815\n",
            "   57.79158776   57.18999059   56.98804022   56.94008978   56.85931353\n",
            "   56.74859487   56.61402088   56.45884093   56.28979247   56.11345641\n",
            "   55.94998898   55.79532756   55.64820919   55.49765898   55.35476053\n",
            "   55.21135507   55.06164848   54.8807856    54.65322226   54.38439241\n",
            "   54.07455118   53.73683542   53.37195022   52.97716167   52.55674532\n",
            "   52.10706013   51.63133213   51.1057115    50.5476843    49.97491097\n",
            "   49.39271331   48.82444579   48.25114464   47.67938098   47.10267018\n",
            "   46.51652037   45.93020707   45.33718367   44.73504758   44.1220781\n",
            "   43.49838959   42.85197563   42.2011617    41.56707281   40.96031534\n",
            "   40.3671807    39.80397416   39.26583332]\n"
          ],
          "name": "stdout"
        }
      ]
    }
  ]
}